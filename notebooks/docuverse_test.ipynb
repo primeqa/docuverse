{
 "cells": [
  {
   "cell_type": "code",
   "id": "b0154d1a22d6c696",
   "metadata": {},
   "source": [
    "!pip install -r ../requirements-milvus.txt\n",
    "!pip install ipywidgets"
   ],
   "outputs": [],
   "execution_count": null
  },
  {
   "metadata": {},
   "cell_type": "code",
   "source": [
    "from docuverse import SearchEngine\n",
    "import os\n",
    "os.environ['DOCUVERSE_CONFIG_PATH'] = os.getcwd().replace(\"notebooks\", \"config\")"
   ],
   "id": "47054e43304f47c2",
   "outputs": [],
   "execution_count": null
  },
  {
   "metadata": {},
   "cell_type": "code",
   "source": [
    "os.environ['DOCUVERSE_CONFIG_PATH']\n",
    "os.environ['TOKENIZERS_PARALLELISM']=\"false\"\n",
    "os.environ[\"GRPC_VERBOSITY\"] = \"None\" # to fix a weird log isue with grpc"
   ],
   "id": "97ef27650841481",
   "outputs": [],
   "execution_count": null
  },
  {
   "metadata": {},
   "cell_type": "markdown",
   "source": [
    "### Create the search engine\n",
    "This section initializes a SearchEngine instance and configures it using the provided configuration file or path.\n"
   ],
   "id": "d889db98b1f1454a"
  },
  {
   "metadata": {},
   "cell_type": "code",
   "source": [
    "# Test an existing engine\n",
    "engine = None\n",
    "engine = SearchEngine(config_or_path=\"data/clapnq_small/milvus-test.yaml\")\n",
    "# try:\n",
    "#     engine = SearchEngine(config_or_path=\"data/clapnq_small/milvus-test.yaml\")\n",
    "# except Exception as e:\n",
    "#     print(f\"Error: {e}\")"
   ],
   "id": "9b124f8d32ed979c",
   "outputs": [],
   "execution_count": null
  },
  {
   "metadata": {},
   "cell_type": "markdown",
   "source": [
    "## Data Ingestion\n",
    "This cell reads and ingests the data into the SearchEngine. If the data has already been ingested, you can skip this step by typing `<enter>` or `'skip'`."
   ],
   "id": "d2d544349a4f7d9b"
  },
  {
   "metadata": {},
   "cell_type": "code",
   "source": [
    "data = engine.read_data()\n",
    "engine.ingest(data)"
   ],
   "id": "f70fefc1a907e2b7",
   "outputs": [],
   "execution_count": null
  },
  {
   "metadata": {},
   "cell_type": "markdown",
   "source": [
    "## Search\n",
    "This cell searches the corpus using a SearchEngine instance. It retrieves results for the given queries and evaluates the performance based on specific scoring metrics."
   ],
   "id": "6e05dae1728ce826"
  },
  {
   "metadata": {},
   "cell_type": "code",
   "source": [
    "queries = engine.read_questions()\n",
    "results = engine.search(queries)"
   ],
   "id": "b543187ce49bd8",
   "outputs": [],
   "execution_count": null
  },
  {
   "metadata": {},
   "cell_type": "markdown",
   "source": [
    "### Evaluation\n",
    "Compute the evaluation scores for the search engine results and print them.\n",
    "The compute_score() method calculates various metrics such as precision, recall, and NDCG (Normalized Discounted Cumulative Gain) \n",
    "to evaluate the performance of the search engine based on the queries and their corresponding results."
   ],
   "id": "e4f6c5ae3aec48b1"
  },
  {
   "metadata": {
    "collapsed": true
   },
   "cell_type": "code",
   "source": [
    "\n",
    "scores = engine.compute_score(queries, results)\n",
    "\n",
    "# Print the evaluation results in a human-readable format.\n",
    "print(f\"Results:\\n{scores}\")"
   ],
   "id": "initial_id",
   "outputs": [],
   "execution_count": null
  },
  {
   "metadata": {},
   "cell_type": "code",
   "source": "",
   "id": "5cb7d509849d9c6d",
   "outputs": [],
   "execution_count": null
  }
 ],
 "metadata": {
  "kernelspec": {
   "display_name": "Python 3",
   "language": "python",
   "name": "python3"
  },
  "language_info": {
   "codemirror_mode": {
    "name": "ipython",
    "version": 2
   },
   "file_extension": ".py",
   "mimetype": "text/x-python",
   "name": "python",
   "nbconvert_exporter": "python",
   "pygments_lexer": "ipython2",
   "version": "2.7.6"
  }
 },
 "nbformat": 4,
 "nbformat_minor": 5
}
