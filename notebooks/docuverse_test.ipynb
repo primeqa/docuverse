{
 "cells": [
  {
   "cell_type": "code",
   "id": "b0154d1a22d6c696",
   "metadata": {
    "ExecuteTime": {
     "end_time": "2025-07-03T15:50:47.952390Z",
     "start_time": "2025-07-03T15:50:47.655292Z"
    }
   },
   "source": [
    "!pip install -r ../requirements-milvus.txt\n",
    "!pip install ipywidgets"
   ],
   "outputs": [
    {
     "name": "stdout",
     "output_type": "stream",
     "text": [
      "/bin/bash: warning: setlocale: LC_ALL: cannot change locale (en_US.UTF-8)\r\n",
      "/bin/bash: line 1: pip: command not found\r\n",
      "/bin/bash: warning: setlocale: LC_ALL: cannot change locale (en_US.UTF-8)\r\n",
      "/bin/bash: line 1: pip: command not found\r\n"
     ]
    }
   ],
   "execution_count": 1
  },
  {
   "metadata": {
    "ExecuteTime": {
     "end_time": "2025-07-03T15:50:57.555200Z",
     "start_time": "2025-07-03T15:50:52.091007Z"
    }
   },
   "cell_type": "code",
   "source": [
    "from docuverse import SearchEngine\n",
    "import os\n",
    "os.environ['DOCUVERSE_CONFIG_PATH'] = os.getcwd().replace(\"notebooks\", \"config\")"
   ],
   "id": "47054e43304f47c2",
   "outputs": [],
   "execution_count": 2
  },
  {
   "metadata": {
    "ExecuteTime": {
     "end_time": "2025-07-03T15:51:02.081380Z",
     "start_time": "2025-07-03T15:51:02.079020Z"
    }
   },
   "cell_type": "code",
   "source": [
    "os.environ['DOCUVERSE_CONFIG_PATH']\n",
    "os.environ['TOKENIZERS_PARALLELISM']=\"false\"\n",
    "os.environ[\"GRPC_VERBOSITY\"] = \"None\" # to fix a weird log isue with grpc"
   ],
   "id": "97ef27650841481",
   "outputs": [],
   "execution_count": 3
  },
  {
   "metadata": {},
   "cell_type": "markdown",
   "source": [
    "### Create the search engine\n",
    "This section initializes a SearchEngine instance and configures it using the provided configuration file or path.\n"
   ],
   "id": "d889db98b1f1454a"
  },
  {
   "metadata": {
    "ExecuteTime": {
     "end_time": "2025-07-03T15:51:42.641110Z",
     "start_time": "2025-07-03T15:51:40.555900Z"
    }
   },
   "cell_type": "code",
   "source": [
    "# Test an existing engine\n",
    "engine = None\n",
    "engine = SearchEngine(config_or_path=\"data/clapnq_small/milvus-test.yaml\")\n",
    "# try:\n",
    "#     engine = SearchEngine(config_or_path=\"data/clapnq_small/milvus-test.yaml\")\n",
    "# except Exception as e:\n",
    "#     print(f\"Error: {e}\")"
   ],
   "id": "9b124f8d32ed979c",
   "outputs": [
    {
     "name": "stdout",
     "output_type": "stream",
     "text": [
      "Retrieval engine: milvus-dense\n",
      "Running on the gpus:\u001B[1;31m['NVIDIA GeForce RTX 5090']\u001B[0m, attention: \u001B[34m\u001B[34msdpa\u001B[0m\u001B[0m\n",
      "=== done initializing model\n"
     ]
    }
   ],
   "execution_count": 6
  },
  {
   "metadata": {},
   "cell_type": "markdown",
   "source": [
    "## Data Ingestion\n",
    "This cell reads and ingests the data into the SearchEngine. If the data has already been ingested, you can skip this step by typing `<enter>` or `'skip'`."
   ],
   "id": "d2d544349a4f7d9b"
  },
  {
   "metadata": {
    "ExecuteTime": {
     "end_time": "2025-07-03T15:51:51.419699Z",
     "start_time": "2025-07-03T15:51:46.510112Z"
    }
   },
   "cell_type": "code",
   "source": [
    "data = engine.read_data()\n",
    "engine.ingest(data)"
   ],
   "id": "f70fefc1a907e2b7",
   "outputs": [
    {
     "name": "stdout",
     "output_type": "stream",
     "text": [
      "Cache filename is /home/raduf/.local/share/elastic_ingestion/data__clapnq_small__passages.tsv_512_100_unaligned_all_granite-embedding-30m-english.pickle.xz\n",
      "Created dictionary: {}\n"
     ]
    },
    {
     "data": {
      "text/plain": [
       "Adding docs:: 0it [00:00, ?it/s]"
      ],
      "application/vnd.jupyter.widget-view+json": {
       "version_major": 2,
       "version_minor": 0,
       "model_id": "ad286113c9334990a0dd0a9d2beae601"
      }
     },
     "metadata": {},
     "output_type": "display_data"
    },
    {
     "data": {
      "text/plain": [
       "Tokenizing::   0%|          | 0/1292 [00:00<?, ?it/s]"
      ],
      "application/vnd.jupyter.widget-view+json": {
       "version_major": 2,
       "version_minor": 0,
       "model_id": "5afd7a6c5c454c3791c6f10b4c7b37e6"
      }
     },
     "metadata": {},
     "output_type": "display_data"
    },
    {
     "name": "stdout",
     "output_type": "stream",
     "text": [
      "starting processes\n",
      "Are you sure you want to recreate the index clapnq_granite30m_512_100_20250328? It might take a long time!!\n",
      "\n",
      "=== Collection clapnq_granite30m_512_100_20250328 exists, dropping ===\n",
      "Index params: {\n",
      "  \"index_type\": \"FLAT\",\n",
      "  \"metric_type\": \"IP\"\n",
      "}\n"
     ]
    },
    {
     "name": "stderr",
     "output_type": "stream",
     "text": [
      "Creating data:   0%|          | 0/1319 [00:00<?, ?it/s]\n",
      "  * Encoding data:   0%|          | 0/1319 [00:00<?, ?it/s]\u001B[A\n",
      "\n",
      "  * Milvusing data:   0%|          | 0/1319 [00:00<?, ?it/s]\u001B[A\u001B[A\n",
      "  * Encoding data:  49%|████▊     | 640/1319 [00:00<00:00, 3337.23it/s]\u001B[A\n",
      "\n",
      "Creating data:  49%|████▊     | 640/1319 [00:00<00:00, 2485.07it/s]t/s]\u001B[A\u001B[A\n",
      "  * Encoding data:  97%|█████████▋| 1280/1319 [00:00<00:00, 2374.78it/s]\u001B[A\n",
      "\n",
      "Creating data: 100%|██████████| 1319/1319 [00:00<00:00, 2215.57it/s]t/s]\u001B[A\u001B[A\n",
      "\n",
      "                                                                        \u001B[A\n",
      "\n",
      "                                                                        \u001B[A\u001B[A"
     ]
    }
   ],
   "execution_count": 7
  },
  {
   "metadata": {},
   "cell_type": "markdown",
   "source": [
    "## Search\n",
    "This cell searches the corpus using a SearchEngine instance. It retrieves results for the given queries and evaluates the performance based on specific scoring metrics."
   ],
   "id": "6e05dae1728ce826"
  },
  {
   "metadata": {
    "ExecuteTime": {
     "end_time": "2025-07-03T15:51:57.229704Z",
     "start_time": "2025-07-03T15:51:56.089527Z"
    }
   },
   "cell_type": "code",
   "source": [
    "queries = engine.read_questions()\n",
    "results = engine.search(queries)"
   ],
   "id": "b543187ce49bd8",
   "outputs": [
    {
     "data": {
      "text/plain": [
       "Searching documents::   0%|          | 0/300 [00:00<?, ?it/s]"
      ],
      "application/vnd.jupyter.widget-view+json": {
       "version_major": 2,
       "version_minor": 0,
       "model_id": "da9bf3cde73d419e8b3d05cc99673653"
      }
     },
     "metadata": {},
     "output_type": "display_data"
    }
   ],
   "execution_count": 8
  },
  {
   "metadata": {},
   "cell_type": "markdown",
   "source": [
    "### Evaluation\n",
    "Compute the evaluation scores for the search engine results and print them.\n",
    "The compute_score() method calculates various metrics such as precision, recall, and NDCG (Normalized Discounted Cumulative Gain) \n",
    "to evaluate the performance of the search engine based on the queries and their corresponding results."
   ],
   "id": "e4f6c5ae3aec48b1"
  },
  {
   "metadata": {
    "collapsed": true,
    "ExecuteTime": {
     "end_time": "2025-07-03T15:51:59.320478Z",
     "start_time": "2025-07-03T15:51:58.966988Z"
    }
   },
   "cell_type": "code",
   "source": [
    "\n",
    "scores = engine.compute_score(queries, results)\n",
    "\n",
    "# Print the evaluation results in a human-readable format.\n",
    "print(f\"Results:\\n{scores}\")"
   ],
   "id": "initial_id",
   "outputs": [
    {
     "name": "stderr",
     "output_type": "stream",
     "text": [
      "Evaluating questions: 100%|██████████| 300/300 [00:00<00:00, 29952.90it/s]"
     ]
    },
    {
     "name": "stdout",
     "output_type": "stream",
     "text": [
      "Results:\n",
      "Model                                 M@1       M@3       M@5       M@10      M@40      MRR@1     MRR@3     MRR@5     MRR@10    MRR@40    NDCG@1    NDCG@3    NDCG@5    NDCG@10   NDCG@40   \n",
      "clapnq-granite30m-512-100-20250328    0.98      0.993     0.993     1.0       1.0       0.98      0.986     0.986     0.987     0.987     0.98      0.988     0.988     0.99      0.99      \n",
      "\n"
     ]
    },
    {
     "name": "stderr",
     "output_type": "stream",
     "text": [
      "\n"
     ]
    }
   ],
   "execution_count": 9
  },
  {
   "metadata": {},
   "cell_type": "code",
   "outputs": [],
   "execution_count": null,
   "source": "",
   "id": "5cb7d509849d9c6d"
  }
 ],
 "metadata": {
  "kernelspec": {
   "display_name": "Python 3",
   "language": "python",
   "name": "python3"
  },
  "language_info": {
   "codemirror_mode": {
    "name": "ipython",
    "version": 2
   },
   "file_extension": ".py",
   "mimetype": "text/x-python",
   "name": "python",
   "nbconvert_exporter": "python",
   "pygments_lexer": "ipython2",
   "version": "2.7.6"
  }
 },
 "nbformat": 4,
 "nbformat_minor": 5
}
