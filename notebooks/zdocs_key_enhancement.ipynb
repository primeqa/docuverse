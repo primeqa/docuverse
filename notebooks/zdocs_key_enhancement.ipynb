{
 "cells": [
  {
   "cell_type": "code",
   "id": "initial_id",
   "metadata": {
    "collapsed": true,
    "ExecuteTime": {
     "end_time": "2025-04-25T22:32:24.872909Z",
     "start_time": "2025-04-25T22:32:20.460619Z"
    }
   },
   "source": [
    "from docuverse.engines import SearchResult\n",
    "from docuverse.engines import SearchEngine\n",
    "from docuverse.engines.search_engine_config_params import DocUVerseConfig\n",
    "from docuverse.utils import get_param\n",
    "import pickle"
   ],
   "outputs": [],
   "execution_count": 5
  },
  {
   "metadata": {
    "ExecuteTime": {
     "end_time": "2025-04-25T22:32:32.014589Z",
     "start_time": "2025-04-25T22:32:24.890868Z"
    }
   },
   "cell_type": "code",
   "source": [
    "config=\"experiments/zdocs/milvus_dense.granite-125m.test.yaml\"\n",
    "engine=SearchEngine(DocUVerseConfig(config))"
   ],
   "id": "97f4f6c73d128a93",
   "outputs": [
    {
     "name": "stdout",
     "output_type": "stream",
     "text": [
      "Retrieval engine: milvus-dense\n",
      "Running on the gpus:  \u001B[1;31m['NVIDIA GeForce RTX 5090']\u001B[0m\n",
      "=== done initializing model\n"
     ]
    }
   ],
   "execution_count": 6
  },
  {
   "metadata": {
    "ExecuteTime": {
     "end_time": "2025-04-25T22:32:42.835786Z",
     "start_time": "2025-04-25T22:32:42.196907Z"
    }
   },
   "cell_type": "code",
   "source": "results=engine.read_output()",
   "id": "85012379ea858170",
   "outputs": [],
   "execution_count": 7
  },
  {
   "metadata": {
    "ExecuteTime": {
     "end_time": "2025-04-25T22:32:44.287963Z",
     "start_time": "2025-04-25T22:32:44.285532Z"
    }
   },
   "cell_type": "code",
   "source": "res=results[0]",
   "id": "5e7f914733ff491b",
   "outputs": [],
   "execution_count": 8
  },
  {
   "metadata": {
    "ExecuteTime": {
     "end_time": "2025-04-25T22:32:46.857222Z",
     "start_time": "2025-04-25T22:32:46.852347Z"
    }
   },
   "cell_type": "code",
   "source": "len(res)",
   "id": "3b8bc865576c25bf",
   "outputs": [
    {
     "data": {
      "text/plain": [
       "46"
      ]
     },
     "execution_count": 9,
     "metadata": {},
     "output_type": "execute_result"
    }
   ],
   "execution_count": 9
  },
  {
   "metadata": {
    "ExecuteTime": {
     "end_time": "2025-04-25T22:32:52.421250Z",
     "start_time": "2025-04-25T22:32:52.396034Z"
    }
   },
   "cell_type": "code",
   "source": [
    "urls=[[get_param(d, 'metadata.url') for d in res] for res in results]\n",
    "qurls = [d.question.get('metadata')['gold-urls'] for d in results]\n",
    "qtext = [d.question.text for d in results]"
   ],
   "id": "a5b2a617f4103d6c",
   "outputs": [],
   "execution_count": 10
  },
  {
   "metadata": {
    "ExecuteTime": {
     "end_time": "2025-04-25T22:33:18.464676Z",
     "start_time": "2025-04-25T22:33:01.026837Z"
    }
   },
   "cell_type": "code",
   "source": "data=engine.read_data()",
   "id": "2cd50410c4d0ed7f",
   "outputs": [
    {
     "name": "stdout",
     "output_type": "stream",
     "text": [
      "Cache filename is /home/raduf/.local/share/elastic_ingestion/benchmark__zdocs__corpus_fixed.jsonl.bz2_512_100_True_all_granite-embedding-125m-english.pickle.xz\n",
      "Skipped 0 passages.\n"
     ]
    },
    {
     "name": "stderr",
     "output_type": "stream",
     "text": [
      "Computing statistics: 100%|██████████| 903792/903792 [00:01<00:00, 803989.86it/s]\n"
     ]
    },
    {
     "name": "stdout",
     "output_type": "stream",
     "text": [
      "============================================================\n",
      "Statistics:\n",
      "============================================================\n",
      "Number of documents:903792    \n",
      "Number of tiles:    903792    \n",
      "#tiles per document:1.00      \n",
      "                    Character-based:    Token-based:        \n",
      "  Minimum length:   15                  6                   \n",
      "  Maximum length:   2492                512                 \n",
      "  Average length:   1070.9              244.9               \n",
      "============================================================\n",
      "Char histogram:\n",
      "\n",
      "# NumSamples = 903792; Min = 15.00; Max = 2492.00\n",
      "# Mean = 1070.853898; Variance = 487834.385996; SD = 698.451420; Median 859.000000\n",
      "# each ∎ represents a count of 2843\n",
      "   15.0000 -   262.7000 [ 75287]: ∎∎∎∎∎∎∎∎∎∎∎∎∎∎∎∎∎∎∎∎∎∎∎∎∎∎\n",
      "  262.7000 -   510.4000 [213235]: ∎∎∎∎∎∎∎∎∎∎∎∎∎∎∎∎∎∎∎∎∎∎∎∎∎∎∎∎∎∎∎∎∎∎∎∎∎∎∎∎∎∎∎∎∎∎∎∎∎∎∎∎∎∎∎∎∎∎∎∎∎∎∎∎∎∎∎∎∎∎∎∎∎∎∎\n",
      "  510.4000 -   758.1000 [127280]: ∎∎∎∎∎∎∎∎∎∎∎∎∎∎∎∎∎∎∎∎∎∎∎∎∎∎∎∎∎∎∎∎∎∎∎∎∎∎∎∎∎∎∎∎\n",
      "  758.1000 -  1005.8000 [ 80451]: ∎∎∎∎∎∎∎∎∎∎∎∎∎∎∎∎∎∎∎∎∎∎∎∎∎∎∎∎\n",
      " 1005.8000 -  1253.5000 [ 59336]: ∎∎∎∎∎∎∎∎∎∎∎∎∎∎∎∎∎∎∎∎\n",
      " 1253.5000 -  1501.2000 [ 45657]: ∎∎∎∎∎∎∎∎∎∎∎∎∎∎∎∎\n",
      " 1501.2000 -  1748.9000 [ 35869]: ∎∎∎∎∎∎∎∎∎∎∎∎\n",
      " 1748.9000 -  1996.6000 [ 58609]: ∎∎∎∎∎∎∎∎∎∎∎∎∎∎∎∎∎∎∎∎\n",
      " 1996.6000 -  2244.3000 [208067]: ∎∎∎∎∎∎∎∎∎∎∎∎∎∎∎∎∎∎∎∎∎∎∎∎∎∎∎∎∎∎∎∎∎∎∎∎∎∎∎∎∎∎∎∎∎∎∎∎∎∎∎∎∎∎∎∎∎∎∎∎∎∎∎∎∎∎∎∎∎∎∎∎∎\n",
      " 2244.3000 -  2492.0000 [     1]: \n",
      "Token histogram:\n",
      "\n",
      "# NumSamples = 903792; Min = 6.00; Max = 512.00\n",
      "# Mean = 244.891801; Variance = 24351.186059; SD = 156.048666; Median 201.000000\n",
      "# each ∎ represents a count of 2510\n",
      "    6.0000 -    56.6000 [ 59248]: ∎∎∎∎∎∎∎∎∎∎∎∎∎∎∎∎∎∎∎∎∎∎∎\n",
      "   56.6000 -   107.2000 [188270]: ∎∎∎∎∎∎∎∎∎∎∎∎∎∎∎∎∎∎∎∎∎∎∎∎∎∎∎∎∎∎∎∎∎∎∎∎∎∎∎∎∎∎∎∎∎∎∎∎∎∎∎∎∎∎∎∎∎∎∎∎∎∎∎∎∎∎∎∎∎∎∎∎∎∎∎\n",
      "  107.2000 -   157.8000 [131889]: ∎∎∎∎∎∎∎∎∎∎∎∎∎∎∎∎∎∎∎∎∎∎∎∎∎∎∎∎∎∎∎∎∎∎∎∎∎∎∎∎∎∎∎∎∎∎∎∎∎∎∎∎\n",
      "  157.8000 -   208.4000 [ 83288]: ∎∎∎∎∎∎∎∎∎∎∎∎∎∎∎∎∎∎∎∎∎∎∎∎∎∎∎∎∎∎∎∎∎\n",
      "  208.4000 -   259.0000 [ 60175]: ∎∎∎∎∎∎∎∎∎∎∎∎∎∎∎∎∎∎∎∎∎∎∎\n",
      "  259.0000 -   309.6000 [ 45790]: ∎∎∎∎∎∎∎∎∎∎∎∎∎∎∎∎∎∎\n",
      "  309.6000 -   360.2000 [ 40637]: ∎∎∎∎∎∎∎∎∎∎∎∎∎∎∎∎\n",
      "  360.2000 -   410.8000 [ 67275]: ∎∎∎∎∎∎∎∎∎∎∎∎∎∎∎∎∎∎∎∎∎∎∎∎∎∎\n",
      "  410.8000 -   461.4000 [122945]: ∎∎∎∎∎∎∎∎∎∎∎∎∎∎∎∎∎∎∎∎∎∎∎∎∎∎∎∎∎∎∎∎∎∎∎∎∎∎∎∎∎∎∎∎∎∎∎∎\n",
      "  461.4000 -   512.0000 [104275]: ∎∎∎∎∎∎∎∎∎∎∎∎∎∎∎∎∎∎∎∎∎∎∎∎∎∎∎∎∎∎∎∎∎∎∎∎∎∎∎∎∎\n"
     ]
    }
   ],
   "execution_count": 11
  },
  {
   "metadata": {
    "ExecuteTime": {
     "end_time": "2025-04-25T22:34:29.803265Z",
     "start_time": "2025-04-25T22:34:29.446421Z"
    }
   },
   "cell_type": "code",
   "source": [
    "url2id = {}\n",
    "for d in data:\n",
    "    url2id[d['metadata']['url']] = d['id']"
   ],
   "id": "2ea7bcbfd46bed51",
   "outputs": [],
   "execution_count": 12
  },
  {
   "metadata": {
    "ExecuteTime": {
     "end_time": "2025-04-25T22:34:36.169492Z",
     "start_time": "2025-04-25T22:34:36.166359Z"
    }
   },
   "cell_type": "code",
   "source": [
    "from rouge_score.rouge_scorer import RougeScorer\n",
    "rouge_scorer = RougeScorer(['rouge1', 'rougeL'], use_stemmer=True)\n",
    "def compute_rouge_matches(result, thr=0.9):\n",
    "    gold = result.question.get('metadata.answer')\n",
    "\n",
    "    scores = []\n",
    "    for answer in result:\n",
    "        score = rouge_scorer.score(gold, answer.text)\n",
    "        scores.append(score['rouge1'].recall)\n",
    "\n",
    "    inds = sorted(range(len(scores)), key=lambda i: scores[i], reverse=True)\n",
    "    # print(f\"Best answer for {res.question.text}: {res[inds[0]]['id']}, recall: {scores[inds[0]]}\")\n",
    "    # return {result.question.id: {\"best\": result[inds[0]]['id'], \"score\": scores[inds[0]]}}\n",
    "    res = []\n",
    "    for ansid in inds:\n",
    "        if scores[ansid] >= thr:\n",
    "            res.append({'id': result[ansid][\"id\"], 'score': scores[ansid]})\n",
    "    return res"
   ],
   "id": "8a1a5af036bfeb9c",
   "outputs": [],
   "execution_count": 14
  },
  {
   "metadata": {
    "ExecuteTime": {
     "end_time": "2025-04-25T22:34:37.645312Z",
     "start_time": "2025-04-25T22:34:37.568030Z"
    }
   },
   "cell_type": "code",
   "source": "compute_rouge_matches(res, 0.9)",
   "id": "4517a823bb949587",
   "outputs": [
    {
     "data": {
      "text/plain": [
       "[{'id': '451813522832071401-0-1261', 'score': 1.0}]"
      ]
     },
     "execution_count": 15,
     "metadata": {},
     "output_type": "execute_result"
    }
   ],
   "execution_count": 15
  },
  {
   "metadata": {
    "ExecuteTime": {
     "end_time": "2025-04-25T22:34:40.307072Z",
     "start_time": "2025-04-25T22:34:40.206572Z"
    }
   },
   "cell_type": "code",
   "source": "compute_rouge_matches(results[3])",
   "id": "ec786127dd3e3d20",
   "outputs": [
    {
     "data": {
      "text/plain": [
       "[{'id': '451813522833601023-0-823', 'score': 1.0}]"
      ]
     },
     "execution_count": 16,
     "metadata": {},
     "output_type": "execute_result"
    }
   ],
   "execution_count": 16
  },
  {
   "metadata": {},
   "cell_type": "markdown",
   "source": "",
   "id": "fe1e60f47ec966fc"
  },
  {
   "metadata": {
    "ExecuteTime": {
     "end_time": "2025-04-25T22:38:35.297403Z",
     "start_time": "2025-04-25T22:38:35.286169Z"
    }
   },
   "cell_type": "code",
   "source": [
    "import json\n",
    "\n",
    "questions = [json.loads(s) for s in open(\"benchmark/zdocs/questions_all_fixed.jsonl\").readlines()]"
   ],
   "id": "6bf7eb06a2449bcb",
   "outputs": [],
   "execution_count": 24
  },
  {
   "metadata": {
    "ExecuteTime": {
     "end_time": "2025-04-25T22:39:53.938169Z",
     "start_time": "2025-04-25T22:38:36.209518Z"
    }
   },
   "cell_type": "code",
   "source": [
    "from tqdm.notebook import tqdm\n",
    "from docuverse.utils import get_orig_docid\n",
    "outq = questions.copy()\n",
    "for i, q in tqdm(enumerate(outq), total=len(outq)):\n",
    "    matches = compute_rouge_matches(results[i])\n",
    "    if len(matches) > 0:\n",
    "        q['metadata']['relevant'] = [get_orig_docid(m['id']) for m in matches]\n",
    "        q['metadata']['rouge_scores'] = [m['score'] for m in matches]\n",
    "    else:\n",
    "        q['metadata']['rouge_scores'] = []\n",
    "        q['metadata']['relevant'] = [url2id[q['metadata']['gold-urls']]] if q['metadata']['gold-urls'] in url2id else []"
   ],
   "id": "f5710a8f7f9f32f2",
   "outputs": [
    {
     "data": {
      "text/plain": [
       "  0%|          | 0/510 [00:00<?, ?it/s]"
      ],
      "application/vnd.jupyter.widget-view+json": {
       "version_major": 2,
       "version_minor": 0,
       "model_id": "c2b9bb0cc2fd482589a471a2995431b9"
      }
     },
     "metadata": {},
     "output_type": "display_data"
    }
   ],
   "execution_count": 25
  },
  {
   "metadata": {
    "ExecuteTime": {
     "end_time": "2025-04-25T22:37:06.784545Z",
     "start_time": "2025-04-25T22:37:06.781717Z"
    }
   },
   "cell_type": "code",
   "source": "outq[199]",
   "id": "ec371ef0d74db910",
   "outputs": [
    {
     "data": {
      "text/plain": [
       "{'metadata': {'gold-urls': 'https://www.ibm.com/docs/en/ztpf/2023?topic=zbxxx-zbevf-set-set-business-event-processing-control-values',\n",
       "  'answer': 'Use the ZBEVF SET command with the MAXECBs parameter.',\n",
       "  'fname': '/Users/vineet/data/systemz/data/predicted_ans_with_analysis_20250121/tpf_gds_2023-09-23.res.csv',\n",
       "  'relevant': ['451813522831592632', '451813522833418860'],\n",
       "  'rouge_scores': [1.0, 1.0]},\n",
       " '_id': 'tpf_gds_77',\n",
       " 'text': 'How do I set the number of concurrent dispatch ECBs for a dispatch queue?'}"
      ]
     },
     "execution_count": 21,
     "metadata": {},
     "output_type": "execute_result"
    }
   ],
   "execution_count": 21
  },
  {
   "metadata": {
    "ExecuteTime": {
     "end_time": "2025-04-25T22:40:15.766473Z",
     "start_time": "2025-04-25T22:40:15.759952Z"
    }
   },
   "cell_type": "code",
   "source": "open(\"benchmark/zdocs/missing_urls.new.txt\", \"w\").writelines([q['metadata']['gold-urls']+\"\\n\" for q in outq if q['metadata']['relevant']==[] and q['metadata']['answer']!=\"\"])",
   "id": "f23710aed3258864",
   "outputs": [],
   "execution_count": 26
  },
  {
   "metadata": {
    "ExecuteTime": {
     "end_time": "2025-04-25T22:37:51.572293Z",
     "start_time": "2025-04-25T22:37:51.504902Z"
    }
   },
   "cell_type": "code",
   "source": [
    "# Fix the questions' urls: remove tags\n",
    "import json\n",
    "qfile = \"benchmark/zdocs/questions_all_fixed.jsonl\"\n",
    "qfile_fixed = \"benchmark/zdocs/questions_all_fixed_new.jsonl\"\n",
    "qs = open(qfile).readlines()\n",
    "with open(qfile_fixed, \"w\") as out:\n",
    "    for line in qs:\n",
    "        q = json.loads(line)\n",
    "        url = q['metadata']['gold-urls']\n",
    "        pos = url.find('#')\n",
    "        if pos >= 0:\n",
    "            q['metadata']['gold_urls'] = url[:pos]\n",
    "        out.write(json.dumps(q)+\"\\n\")"
   ],
   "id": "4f618589b35dd4b1",
   "outputs": [],
   "execution_count": 23
  },
  {
   "metadata": {},
   "cell_type": "code",
   "outputs": [],
   "execution_count": null,
   "source": "",
   "id": "864234559426d383"
  }
 ],
 "metadata": {
  "kernelspec": {
   "display_name": "Python 3",
   "language": "python",
   "name": "python3"
  },
  "language_info": {
   "codemirror_mode": {
    "name": "ipython",
    "version": 2
   },
   "file_extension": ".py",
   "mimetype": "text/x-python",
   "name": "python",
   "nbconvert_exporter": "python",
   "pygments_lexer": "ipython2",
   "version": "2.7.6"
  }
 },
 "nbformat": 4,
 "nbformat_minor": 5
}
