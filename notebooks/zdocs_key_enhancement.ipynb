{
 "cells": [
  {
   "cell_type": "code",
   "id": "initial_id",
   "metadata": {
    "collapsed": true,
    "ExecuteTime": {
     "end_time": "2025-04-21T18:02:18.039017Z",
     "start_time": "2025-04-21T18:02:18.036858Z"
    }
   },
   "source": [
    "from docuverse.engines import SearchResult\n",
    "from docuverse.engines import SearchEngine\n",
    "from docuverse.engines.search_engine_config_params import DocUVerseConfig\n",
    "from docuverse.utils import get_param\n",
    "import pickle"
   ],
   "outputs": [],
   "execution_count": 6
  },
  {
   "metadata": {
    "ExecuteTime": {
     "end_time": "2025-04-21T18:03:02.733307Z",
     "start_time": "2025-04-21T18:03:00.397044Z"
    }
   },
   "cell_type": "code",
   "source": [
    "config=\"experiments/zdocs/milvus_dense.granite-125m.test.yaml\"\n",
    "engine=SearchEngine(DocUVerseConfig(config))"
   ],
   "id": "97f4f6c73d128a93",
   "outputs": [
    {
     "name": "stdout",
     "output_type": "stream",
     "text": [
      "Retrieval engine: milvus-dense\n",
      "Running on the gpus:  \u001B[1;31m['NVIDIA GeForce RTX 3090', 'NVIDIA GeForce RTX 3090']\u001B[0m\n",
      "=== done initializing model\n"
     ]
    }
   ],
   "execution_count": 8
  },
  {
   "metadata": {
    "ExecuteTime": {
     "end_time": "2025-04-21T18:04:28.341339Z",
     "start_time": "2025-04-21T18:04:27.521535Z"
    }
   },
   "cell_type": "code",
   "source": "results=engine.read_output()",
   "id": "85012379ea858170",
   "outputs": [],
   "execution_count": 14
  },
  {
   "metadata": {
    "ExecuteTime": {
     "end_time": "2025-04-21T18:04:42.835723Z",
     "start_time": "2025-04-21T18:04:42.833583Z"
    }
   },
   "cell_type": "code",
   "source": "res=results[0]",
   "id": "5e7f914733ff491b",
   "outputs": [],
   "execution_count": 16
  },
  {
   "metadata": {
    "ExecuteTime": {
     "end_time": "2025-04-21T18:04:45.872848Z",
     "start_time": "2025-04-21T18:04:45.869952Z"
    }
   },
   "cell_type": "code",
   "source": "len(res)",
   "id": "3b8bc865576c25bf",
   "outputs": [
    {
     "data": {
      "text/plain": [
       "35"
      ]
     },
     "execution_count": 17,
     "metadata": {},
     "output_type": "execute_result"
    }
   ],
   "execution_count": 17
  },
  {
   "metadata": {
    "ExecuteTime": {
     "end_time": "2025-04-21T18:45:27.731841Z",
     "start_time": "2025-04-21T18:45:27.699267Z"
    }
   },
   "cell_type": "code",
   "source": [
    "urls=[[get_param(d, 'metadata.url') for d in res] for res in results]\n",
    "qurls = [d.question.get('metadata')['gold-urls'] for d in results]\n",
    "qtext = [d.question.text for d in results]"
   ],
   "id": "a5b2a617f4103d6c",
   "outputs": [],
   "execution_count": 71
  },
  {
   "metadata": {
    "ExecuteTime": {
     "end_time": "2025-04-21T18:32:49.199047Z",
     "start_time": "2025-04-21T18:32:23.768029Z"
    }
   },
   "cell_type": "code",
   "source": "data=engine.read_data()",
   "id": "2cd50410c4d0ed7f",
   "outputs": [
    {
     "name": "stdout",
     "output_type": "stream",
     "text": [
      "Cache filename is /home/raduf/.local/share/elastic_ingestion/benchmark__zdocs__corpus.jsonl.bz2_512_100_True_all_granite-embedding-125m-english.pickle.xz\n",
      "Skipped 0 passages.\n"
     ]
    },
    {
     "name": "stderr",
     "output_type": "stream",
     "text": [
      "Computing statistics: 100%|██████████| 1167439/1167439 [00:02<00:00, 443468.68it/s]\n"
     ]
    },
    {
     "name": "stdout",
     "output_type": "stream",
     "text": [
      "============================================================\n",
      "Statistics:\n",
      "============================================================\n",
      "Number of documents:1026632   \n",
      "Number of tiles:    1167439   \n",
      "#tiles per document:1.14      \n",
      "                    Character-based:    Token-based:        \n",
      "  Minimum length:   9                   6                   \n",
      "  Maximum length:   2240                512                 \n",
      "  Average length:   1084.2              269.6               \n",
      "============================================================\n",
      "Char histogram:\n",
      "\n",
      "# NumSamples = 1167439; Min = 9.00; Max = 2240.00\n",
      "# Mean = 1084.212026; Variance = 406224.673368; SD = 637.357571; Median 977.000000\n",
      "# each ∎ represents a count of 2632\n",
      "    9.0000 -   232.1000 [ 55241]: ∎∎∎∎∎∎∎∎∎∎∎∎∎∎∎∎∎∎∎∎\n",
      "  232.1000 -   455.2000 [197448]: ∎∎∎∎∎∎∎∎∎∎∎∎∎∎∎∎∎∎∎∎∎∎∎∎∎∎∎∎∎∎∎∎∎∎∎∎∎∎∎∎∎∎∎∎∎∎∎∎∎∎∎∎∎∎∎∎∎∎∎∎∎∎∎∎∎∎∎∎∎∎∎∎∎∎∎\n",
      "  455.2000 -   678.3000 [153778]: ∎∎∎∎∎∎∎∎∎∎∎∎∎∎∎∎∎∎∎∎∎∎∎∎∎∎∎∎∎∎∎∎∎∎∎∎∎∎∎∎∎∎∎∎∎∎∎∎∎∎∎∎∎∎∎∎∎∎\n",
      "  678.3000 -   901.4000 [133010]: ∎∎∎∎∎∎∎∎∎∎∎∎∎∎∎∎∎∎∎∎∎∎∎∎∎∎∎∎∎∎∎∎∎∎∎∎∎∎∎∎∎∎∎∎∎∎∎∎∎∎\n",
      "  901.4000 -  1124.5000 [128056]: ∎∎∎∎∎∎∎∎∎∎∎∎∎∎∎∎∎∎∎∎∎∎∎∎∎∎∎∎∎∎∎∎∎∎∎∎∎∎∎∎∎∎∎∎∎∎∎∎\n",
      " 1124.5000 -  1347.6000 [ 91542]: ∎∎∎∎∎∎∎∎∎∎∎∎∎∎∎∎∎∎∎∎∎∎∎∎∎∎∎∎∎∎∎∎∎∎\n",
      " 1347.6000 -  1570.7000 [ 78208]: ∎∎∎∎∎∎∎∎∎∎∎∎∎∎∎∎∎∎∎∎∎∎∎∎∎∎∎∎∎\n",
      " 1570.7000 -  1793.8000 [ 66689]: ∎∎∎∎∎∎∎∎∎∎∎∎∎∎∎∎∎∎∎∎∎∎∎∎∎\n",
      " 1793.8000 -  2016.9000 [146832]: ∎∎∎∎∎∎∎∎∎∎∎∎∎∎∎∎∎∎∎∎∎∎∎∎∎∎∎∎∎∎∎∎∎∎∎∎∎∎∎∎∎∎∎∎∎∎∎∎∎∎∎∎∎∎∎\n",
      " 2016.9000 -  2240.0000 [116635]: ∎∎∎∎∎∎∎∎∎∎∎∎∎∎∎∎∎∎∎∎∎∎∎∎∎∎∎∎∎∎∎∎∎∎∎∎∎∎∎∎∎∎∎∎\n",
      "Token histogram:\n",
      "\n",
      "# NumSamples = 1167439; Min = 6.00; Max = 512.00\n",
      "# Mean = 269.595169; Variance = 23172.435542; SD = 152.224950; Median 262.000000\n",
      "# each ∎ represents a count of 2653\n",
      "    6.0000 -    56.6000 [ 59751]: ∎∎∎∎∎∎∎∎∎∎∎∎∎∎∎∎∎∎∎∎∎∎\n",
      "   56.6000 -   107.2000 [189914]: ∎∎∎∎∎∎∎∎∎∎∎∎∎∎∎∎∎∎∎∎∎∎∎∎∎∎∎∎∎∎∎∎∎∎∎∎∎∎∎∎∎∎∎∎∎∎∎∎∎∎∎∎∎∎∎∎∎∎∎∎∎∎∎∎∎∎∎∎∎∎∎\n",
      "  107.2000 -   157.8000 [135735]: ∎∎∎∎∎∎∎∎∎∎∎∎∎∎∎∎∎∎∎∎∎∎∎∎∎∎∎∎∎∎∎∎∎∎∎∎∎∎∎∎∎∎∎∎∎∎∎∎∎∎∎\n",
      "  157.8000 -   208.4000 [102345]: ∎∎∎∎∎∎∎∎∎∎∎∎∎∎∎∎∎∎∎∎∎∎∎∎∎∎∎∎∎∎∎∎∎∎∎∎∎∎\n",
      "  208.4000 -   259.0000 [ 91995]: ∎∎∎∎∎∎∎∎∎∎∎∎∎∎∎∎∎∎∎∎∎∎∎∎∎∎∎∎∎∎∎∎∎∎\n",
      "  259.0000 -   309.6000 [ 79330]: ∎∎∎∎∎∎∎∎∎∎∎∎∎∎∎∎∎∎∎∎∎∎∎∎∎∎∎∎∎\n",
      "  309.6000 -   360.2000 [ 70413]: ∎∎∎∎∎∎∎∎∎∎∎∎∎∎∎∎∎∎∎∎∎∎∎∎∎∎\n",
      "  360.2000 -   410.8000 [104024]: ∎∎∎∎∎∎∎∎∎∎∎∎∎∎∎∎∎∎∎∎∎∎∎∎∎∎∎∎∎∎∎∎∎∎∎∎∎∎∎\n",
      "  410.8000 -   461.4000 [198995]: ∎∎∎∎∎∎∎∎∎∎∎∎∎∎∎∎∎∎∎∎∎∎∎∎∎∎∎∎∎∎∎∎∎∎∎∎∎∎∎∎∎∎∎∎∎∎∎∎∎∎∎∎∎∎∎∎∎∎∎∎∎∎∎∎∎∎∎∎∎∎∎∎∎∎∎\n",
      "  461.4000 -   512.0000 [134937]: ∎∎∎∎∎∎∎∎∎∎∎∎∎∎∎∎∎∎∎∎∎∎∎∎∎∎∎∎∎∎∎∎∎∎∎∎∎∎∎∎∎∎∎∎∎∎∎∎∎∎\n"
     ]
    }
   ],
   "execution_count": 47
  },
  {
   "metadata": {
    "ExecuteTime": {
     "end_time": "2025-04-21T18:34:52.633446Z",
     "start_time": "2025-04-21T18:34:52.017104Z"
    }
   },
   "cell_type": "code",
   "source": [
    "url2id = {}\n",
    "for d in data:\n",
    "    url2id[d['metadata']['url']] = d['id']"
   ],
   "id": "2ea7bcbfd46bed51",
   "outputs": [],
   "execution_count": 52
  },
  {
   "metadata": {
    "ExecuteTime": {
     "end_time": "2025-04-21T18:52:50.143546Z",
     "start_time": "2025-04-21T18:52:50.139861Z"
    }
   },
   "cell_type": "code",
   "source": [
    "from rouge_score.rouge_scorer import RougeScorer\n",
    "rouge_scorer = RougeScorer(['rouge1', 'rougeL'], use_stemmer=True)\n",
    "def compute_rouge_matches(result, thr=0.9):\n",
    "    gold = result.question.get('metadata.answer')\n",
    "\n",
    "    scores = []\n",
    "    for answer in result:\n",
    "        score = rouge_scorer.score(gold, answer.text)\n",
    "        scores.append(score['rouge1'].recall)\n",
    "\n",
    "    inds = sorted(range(len(scores)), key=lambda i: scores[i], reverse=True)\n",
    "    # print(f\"Best answer for {res.question.text}: {res[inds[0]]['id']}, recall: {scores[inds[0]]}\")\n",
    "    # return {result.question.id: {\"best\": result[inds[0]]['id'], \"score\": scores[inds[0]]}}\n",
    "    res = []\n",
    "    for ansid in inds:\n",
    "        if scores[ansid] >= thr:\n",
    "            res.append({'id': result[ansid][\"id\"], 'score': scores[ansid]})\n",
    "    return res"
   ],
   "id": "8a1a5af036bfeb9c",
   "outputs": [],
   "execution_count": 80
  },
  {
   "metadata": {
    "ExecuteTime": {
     "end_time": "2025-04-21T18:53:13.758945Z",
     "start_time": "2025-04-21T18:53:13.637136Z"
    }
   },
   "cell_type": "code",
   "source": "compute_rouge_matches(res, 0.9)",
   "id": "4517a823bb949587",
   "outputs": [
    {
     "data": {
      "text/plain": [
       "[{'id': '451813522832071401-0-1261', 'score': 1.0}]"
      ]
     },
     "execution_count": 83,
     "metadata": {},
     "output_type": "execute_result"
    }
   ],
   "execution_count": 83
  },
  {
   "metadata": {
    "ExecuteTime": {
     "end_time": "2025-04-21T18:53:35.628295Z",
     "start_time": "2025-04-21T18:53:35.451266Z"
    }
   },
   "cell_type": "code",
   "source": "compute_rouge_matches(results[3])",
   "id": "ec786127dd3e3d20",
   "outputs": [
    {
     "data": {
      "text/plain": [
       "[{'id': '451813522833601023-0-823', 'score': 1.0}]"
      ]
     },
     "execution_count": 86,
     "metadata": {},
     "output_type": "execute_result"
    }
   ],
   "execution_count": 86
  },
  {
   "metadata": {
    "ExecuteTime": {
     "end_time": "2025-04-21T19:05:37.766600Z",
     "start_time": "2025-04-21T19:05:37.761460Z"
    }
   },
   "cell_type": "code",
   "source": [
    "import json\n",
    "\n",
    "questions = [json.loads(s) for s in open(\"../benchmark/zdocs/questions_all.jsonl\").readlines()]"
   ],
   "id": "6bf7eb06a2449bcb",
   "outputs": [],
   "execution_count": 90
  },
  {
   "metadata": {
    "ExecuteTime": {
     "end_time": "2025-04-21T19:13:58.645535Z",
     "start_time": "2025-04-21T19:12:11.643399Z"
    }
   },
   "cell_type": "code",
   "source": [
    "from tqdm.notebook import tqdm\n",
    "from docuverse.utils import get_orig_docid\n",
    "outq = questions.copy()\n",
    "for i, q in tqdm(enumerate(outq)):\n",
    "    matches = compute_rouge_matches(results[i])\n",
    "    if len(matches) > 0:\n",
    "        q['metadata']['relevant'] = [get_orig_docid(m['id']) for m in matches]\n",
    "        q['metadata']['rouge_scores'] = [m['score'] for m in matches]\n",
    "    else:\n",
    "        q['metadata']['rouge_scores'] = []\n",
    "        q['metadata']['relevant'] = [url2id[q['metadata']['gold-urls']]] if q['metadata']['gold-urls'] in url2id else []"
   ],
   "id": "f5710a8f7f9f32f2",
   "outputs": [
    {
     "data": {
      "text/plain": [
       "0it [00:00, ?it/s]"
      ],
      "application/vnd.jupyter.widget-view+json": {
       "version_major": 2,
       "version_minor": 0,
       "model_id": "f36db21e1488420d85d2ae07cc447b73"
      }
     },
     "metadata": {},
     "output_type": "display_data"
    }
   ],
   "execution_count": 100
  },
  {
   "metadata": {
    "ExecuteTime": {
     "end_time": "2025-04-21T19:14:43.804071Z",
     "start_time": "2025-04-21T19:14:43.800990Z"
    }
   },
   "cell_type": "code",
   "source": "outq[199]",
   "id": "ec371ef0d74db910",
   "outputs": [
    {
     "data": {
      "text/plain": [
       "{'metadata': {'gold-urls': 'https://www.ibm.com/docs/en/ztpf/2023?topic=zbxxx-zbevf-set-set-business-event-processing-control-values',\n",
       "  'answer': 'Use the ZBEVF SET command with the MAXECBs parameter.',\n",
       "  'fname': '/Users/vineet/data/systemz/data/predicted_ans_with_analysis_20250121/tpf_gds_2023-09-23.res.csv',\n",
       "  'rouge_scores': [],\n",
       "  'relevant': []},\n",
       " '_id': 'tpf_gds_77',\n",
       " 'text': 'How do I set the number of concurrent dispatch ECBs for a dispatch queue?'}"
      ]
     },
     "execution_count": 101,
     "metadata": {},
     "output_type": "execute_result"
    }
   ],
   "execution_count": 101
  },
  {
   "metadata": {
    "ExecuteTime": {
     "end_time": "2025-04-21T19:46:29.469539Z",
     "start_time": "2025-04-21T19:46:29.466271Z"
    }
   },
   "cell_type": "code",
   "source": "open(\"../benchmark/zdocs/missing_urls.txt\", \"w\").writelines([q['metadata']['gold-urls']+\"\\n\" for q in outq if q['metadata']['relevant']==[] and q['metadata']['answer']!=\"\"])",
   "id": "f23710aed3258864",
   "outputs": [],
   "execution_count": 129
  },
  {
   "metadata": {
    "ExecuteTime": {
     "end_time": "2025-04-21T19:35:03.649044Z",
     "start_time": "2025-04-21T19:35:03.645783Z"
    }
   },
   "cell_type": "code",
   "source": "",
   "id": "4f618589b35dd4b1",
   "outputs": [
    {
     "data": {
      "text/plain": [
       "'../benchmark/zdocs/latest?topic=scenarios-overview-ims-queue-structures\\n'"
      ]
     },
     "execution_count": 127,
     "metadata": {},
     "output_type": "execute_result"
    }
   ],
   "execution_count": 127
  }
 ],
 "metadata": {
  "kernelspec": {
   "display_name": "Python 3",
   "language": "python",
   "name": "python3"
  },
  "language_info": {
   "codemirror_mode": {
    "name": "ipython",
    "version": 2
   },
   "file_extension": ".py",
   "mimetype": "text/x-python",
   "name": "python",
   "nbconvert_exporter": "python",
   "pygments_lexer": "ipython2",
   "version": "2.7.6"
  }
 },
 "nbformat": 4,
 "nbformat_minor": 5
}
