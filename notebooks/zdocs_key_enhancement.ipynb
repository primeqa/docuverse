{
 "cells": [
  {
   "metadata": {},
   "cell_type": "code",
   "outputs": [],
   "execution_count": null,
   "source": [
    "from docuverse.engines import SearchResult\n",
    "from docuverse.engines import SearchEngine\n",
    "from docuverse.engines.search_engine_config_params import DocUVerseConfig\n",
    "from docuverse.utils import get_param\n",
    "import pickle\n",
    "\n",
    "from docuverse.utils.elastic.elastic_ingestion import normalize_text"
   ],
   "id": "d54dbb336036b826"
  },
  {
   "metadata": {},
   "cell_type": "code",
   "outputs": [],
   "execution_count": null,
   "source": [
    "config=\"experiments/zdocs/milvus_dense.granite-125m.test.yaml\"\n",
    "engine=SearchEngine(DocUVerseConfig(config))"
   ],
   "id": "5ce762a446fbed4f"
  },
  {
   "metadata": {},
   "cell_type": "code",
   "outputs": [],
   "execution_count": null,
   "source": "results=engine.read_output()",
   "id": "bbc5771aa5bb47f4"
  },
  {
   "metadata": {},
   "cell_type": "code",
   "outputs": [],
   "execution_count": null,
   "source": "res=results[0]",
   "id": "eb542e54b1432c45"
  },
  {
   "metadata": {},
   "cell_type": "code",
   "outputs": [],
   "execution_count": null,
   "source": "len(res)",
   "id": "2cf73b2874f40b6c"
  },
  {
   "metadata": {},
   "cell_type": "code",
   "outputs": [],
   "execution_count": null,
   "source": [
    "urls=[[get_param(d, 'metadata.url') for d in res] for res in results]\n",
    "qurls = [d.question.get('metadata')['gold-urls'] for d in results]\n",
    "qtext = [d.question.text for d in results]"
   ],
   "id": "66656d2b3a70c463"
  },
  {
   "metadata": {},
   "cell_type": "code",
   "outputs": [],
   "execution_count": null,
   "source": "data=engine.read_data()",
   "id": "1b6c51e7f1cf3e7"
  },
  {
   "metadata": {},
   "cell_type": "code",
   "outputs": [],
   "execution_count": null,
   "source": [
    "import re\n",
    "VERSION_PATTERN = re.compile(r'(\\d+(\\.\\d+)?(\\.\\d+)?)\\?')\n",
    "\n",
    "def normalize_url(url):\n",
    "    url = VERSION_PATTERN.sub('latest?', url)\n",
    "    return re.sub(r'#.*', '', url)"
   ],
   "id": "d6599d6395fc2adc"
  },
  {
   "metadata": {},
   "cell_type": "code",
   "outputs": [],
   "execution_count": null,
   "source": [
    "url2id = {}\n",
    "id2pos = {}\n",
    "reverse_norm_map = {}\n",
    "def add_key(ddict, key1, key2):\n",
    "    if key1 in ddict:\n",
    "        # ddict[key1][key2] = 1\n",
    "        if key2 in ddict[key1]:\n",
    "            ddict[key1][key2] += 1\n",
    "        else:\n",
    "            ddict[key1][key2] = 1\n",
    "    else:\n",
    "        ddict[key1] = {key2: 1}\n",
    "\n",
    "for pos, d in enumerate(data):\n",
    "    url = d['metadata']['url']\n",
    "    add_key(url2id, url, d['id'])\n",
    "    norm_url = normalize_url(url)\n",
    "    d['metadata']['norm_url'] = norm_url\n",
    "    add_key(url2id, norm_url, d['id'])\n",
    "    if norm_url in reverse_norm_map:\n",
    "        if url in reverse_norm_map[norm_url]:\n",
    "            pass\n",
    "            # ids = url2id[norm_url].keys()\n",
    "            # print(ids)\n",
    "            # print(f\"{norm_url} (position {pos} already seen in documents {ids}, at positions \"\n",
    "            #       f\"{[id2pos[p] for p in list(ids) if p in id2pos]}.\")\n",
    "        else:\n",
    "            reverse_norm_map[norm_url][url] = 1\n",
    "        reverse_norm_map[norm_url][url] += 1\n",
    "    else:\n",
    "        reverse_norm_map[norm_url] = {url: 1}\n",
    "\n",
    "    id2pos[d['id']] = pos"
   ],
   "id": "5e6928311decb30a"
  },
  {
   "metadata": {},
   "cell_type": "code",
   "outputs": [],
   "execution_count": null,
   "source": [
    "num_errors = 0\n",
    "for url in reverse_norm_map:\n",
    "    ids = [id2pos[p] for p in url2id[url].keys()]\n",
    "    for i, id in enumerate(ids):\n",
    "        if ids[0]+i != id:\n",
    "            print(f\"Error with url {url}, id list {ids}, urls: {list(reverse_norm_map[url].keys())}\")\n",
    "            num_errors += 1\n",
    "            break\n",
    "print(f\"Number of errors: {num_errors}\")"
   ],
   "id": "69d103bc7f7e155c"
  },
  {
   "metadata": {},
   "cell_type": "code",
   "outputs": [],
   "execution_count": null,
   "source": [
    "from rouge_score.rouge_scorer import RougeScorer\n",
    "rouge_scorer = RougeScorer(['rouge1', 'rougeL'], use_stemmer=True)\n",
    "def compute_rouge_matches(result, thr=0.9):\n",
    "    gold = result.question.get('metadata.answer')\n",
    "\n",
    "    scores = []\n",
    "    for answer in result:\n",
    "        score = rouge_scorer.score(gold, answer.text)\n",
    "        scores.append(score['rouge1'].recall)\n",
    "\n",
    "    inds = sorted(range(len(scores)), key=lambda i: scores[i], reverse=True)\n",
    "    # print(f\"Best answer for {res.question.text}: {res[inds[0]]['id']}, recall: {scores[inds[0]]}\")\n",
    "    # return {result.question.id: {\"best\": result[inds[0]]['id'], \"score\": scores[inds[0]]}}\n",
    "    res = []\n",
    "    for ansid in inds:\n",
    "        if scores[ansid] >= thr:\n",
    "            res.append({'id': result[ansid][\"id\"], 'score': scores[ansid]})\n",
    "    return res"
   ],
   "id": "6956e9f894e6defe"
  },
  {
   "metadata": {},
   "cell_type": "code",
   "outputs": [],
   "execution_count": null,
   "source": "compute_rouge_matches(res, 0.9)",
   "id": "e649e10bdb936560"
  },
  {
   "metadata": {},
   "cell_type": "code",
   "outputs": [],
   "execution_count": null,
   "source": "compute_rouge_matches(results[3])",
   "id": "45a0faca7ec7987c"
  },
  {
   "metadata": {},
   "cell_type": "markdown",
   "source": "",
   "id": "1583931461f6cf57"
  },
  {
   "metadata": {},
   "cell_type": "code",
   "outputs": [],
   "execution_count": null,
   "source": [
    "import json\n",
    "\n",
    "questions = [json.loads(s) for s in open(\"../benchmark/zdocs/questions_all.jsonl\").readlines()]"
   ],
   "id": "3240b107940ea191"
  },
  {
   "metadata": {},
   "cell_type": "code",
   "outputs": [],
   "execution_count": null,
   "source": "questions[0]['metadata']['gold-urls']",
   "id": "9633d18063c3cb7b"
  },
  {
   "metadata": {},
   "cell_type": "code",
   "outputs": [],
   "execution_count": null,
   "source": [
    "from tqdm.notebook import tqdm\n",
    "from docuverse.utils import get_orig_docid\n",
    "from docuverse.utils import parallel_process\n",
    "import copy\n",
    "outq = copy.deepcopy(questions)\n",
    "not_found = []\n",
    "\n",
    "def append(ll, vals):\n",
    "    for v in vals:\n",
    "        if v not in ll:\n",
    "            ll.append(int(v))\n",
    "\n",
    "def process_query(data):\n",
    "    q=data[0]\n",
    "    result=data[1]\n",
    "    gold_urls = q['metadata']['gold-urls'].split(\";\")\n",
    "    relevant = []\n",
    "    q['metadata']['norm-gold-urls'] = []\n",
    "    for gold_url in gold_urls:\n",
    "        gold_url = normalize_url(gold_url)\n",
    "        q['metadata']['norm-gold-urls'].append(gold_url)\n",
    "        rels = [get_orig_docid(p) for p in url2id[gold_url]] if gold_url in url2id else []\n",
    "        append(relevant, rels)\n",
    "    q['metadata']['gold-urls'] = gold_urls\n",
    "    matches = compute_rouge_matches(result)\n",
    "    if len(matches) > 0:\n",
    "        # q['metadata']['relevant'] = [get_orig_docid(m['id']) for m in matches]\n",
    "        append(relevant, [get_orig_docid(m['id']) for m in matches])\n",
    "        # relevant += [get_orig_docid(m['id']) for m in matches if get_orig_docid(m['id']) not in relevant]\n",
    "        q['metadata']['rouge_scores'] = [m['score'] for m in matches]\n",
    "    else:\n",
    "        q['metadata']['rouge_scores'] = []\n",
    "        # gurl = q['metadata']['gold-urls']\n",
    "        # relevant = [url2id[gurl].keys()] if gurl in url2id else []\n",
    "        # if not relevant:\n",
    "        #     gurl = normalize_url(gurl)\n",
    "        #     relevant = [url2id[gurl].keys()] if gurl in url2id else []\n",
    "    if not relevant:\n",
    "        not_found.append(i)\n",
    "    q['relevant'] = relevant\n",
    "\n",
    "# outq = parallel_process(process_query, list(zip(questions, results)), num_threads=5)\n",
    "\n",
    "for i, q in tqdm(enumerate(zip(outq, results)), total=len(outq)):\n",
    "    process_query(q)"
   ],
   "id": "22b5eac999e5db6c"
  },
  {
   "metadata": {},
   "cell_type": "code",
   "outputs": [],
   "execution_count": null,
   "source": "[q for q in outq if len(q['metadata']['gold-urls']) > 1]",
   "id": "85cad6f80cb848c1"
  },
  {
   "metadata": {},
   "cell_type": "code",
   "outputs": [],
   "execution_count": null,
   "source": [
    "with open(\"../benchmark/zdocs/questions_all_fixed_new.jsonl\", \"w\") as f:\n",
    "    for q in outq:\n",
    "        f.write(json.dumps(q) + '\\n')"
   ],
   "id": "ce9c0ca98c369be7"
  },
  {
   "metadata": {},
   "cell_type": "code",
   "outputs": [],
   "execution_count": null,
   "source": "open(\"benchmark/zdocs/missing_urls.new.txt\", \"w\").writelines([q['metadata']['gold-urls']+\"\\n\" for q in outq if q['metadata']['relevant']==[] and q['metadata']['answer']!=\"\"])",
   "id": "f6e890b34f4ea5bd"
  },
  {
   "metadata": {},
   "cell_type": "code",
   "outputs": [],
   "execution_count": null,
   "source": [
    "# Fix the questions' urls: remove tags\n",
    "import json\n",
    "qfile = \"benchmark/zdocs/questions_all_fixed.jsonl\"\n",
    "qfile_fixed = \"benchmark/zdocs/questions_all_fixed_new.jsonl\"\n",
    "qs = open(qfile).readlines()\n",
    "with open(qfile_fixed, \"w\") as out:\n",
    "    for line in qs:\n",
    "        q = json.loads(line)\n",
    "        url = q['metadata']['gold-urls']\n",
    "        pos = url.find('#')\n",
    "        if pos >= 0:\n",
    "            q['metadata']['gold_urls'] = url[:pos]\n",
    "        out.write(json.dumps(q)+\"\\n\")"
   ],
   "id": "f5e0e3c7a5b1754e"
  },
  {
   "metadata": {},
   "cell_type": "markdown",
   "source": "Fix the questions to have the 'latest' tag (according to Jaydeep, this was agreed with the Z team).",
   "id": "822190473834849"
  },
  {
   "metadata": {},
   "cell_type": "code",
   "outputs": [],
   "execution_count": null,
   "source": "questions=engine.read_questions()",
   "id": "de1816a8949cc4f3"
  },
  {
   "metadata": {},
   "cell_type": "code",
   "outputs": [],
   "execution_count": null,
   "source": [
    "qid=0\n",
    "url=questions[qid]['metadata']['gold-urls']\n",
    "norm_url = normalize_url(url)\n",
    "print(f\"Url in url2id: {norm_url in url2id}\")\n",
    "print(f\"Normalized url in url2id: {norm_url in url2id}\")\n",
    "found=compute_rouge_matches(results[qid], 0.9)\n",
    "found_id=found[0]['id']\n",
    "print(found_id)\n",
    "print(f\"Id for results[{qid}]: {found_id}, \\nurl:{data[id2pos[found_id]]['metadata']['url']}\")"
   ],
   "id": "4bed66c2875b0000"
  }
 ],
 "metadata": {
  "kernelspec": {
   "display_name": "Python 3",
   "language": "python",
   "name": "python3"
  },
  "language_info": {
   "codemirror_mode": {
    "name": "ipython",
    "version": 2
   },
   "file_extension": ".py",
   "mimetype": "text/x-python",
   "name": "python",
   "nbconvert_exporter": "python",
   "pygments_lexer": "ipython2",
   "version": "2.7.6"
  }
 },
 "nbformat": 4,
 "nbformat_minor": 5
}
