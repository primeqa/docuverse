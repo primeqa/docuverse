{
 "cells": [
  {
   "cell_type": "code",
   "id": "initial_id",
   "metadata": {
    "collapsed": true,
    "ExecuteTime": {
     "end_time": "2025-05-05T20:29:03.796674Z",
     "start_time": "2025-05-05T20:28:57.765189Z"
    }
   },
   "source": [
    "from docuverse.engines import SearchResult\n",
    "from docuverse.engines import SearchEngine\n",
    "from docuverse.engines.search_engine_config_params import DocUVerseConfig\n",
    "from docuverse.utils import get_param\n",
    "import pickle\n",
    "\n",
    "from docuverse.utils.elastic.elastic_ingestion import normalize_text"
   ],
   "outputs": [],
   "execution_count": 1
  },
  {
   "metadata": {
    "ExecuteTime": {
     "end_time": "2025-05-05T20:29:11.762570Z",
     "start_time": "2025-05-05T20:29:03.891555Z"
    }
   },
   "cell_type": "code",
   "source": [
    "config=\"experiments/zdocs/milvus_dense.granite-125m.test.yaml\"\n",
    "engine=SearchEngine(DocUVerseConfig(config))"
   ],
   "id": "97f4f6c73d128a93",
   "outputs": [
    {
     "name": "stdout",
     "output_type": "stream",
     "text": [
      "Retrieval engine: milvus-dense\n",
      "Running on the gpus:  \u001B[1;31m['NVIDIA GeForce RTX 4090', 'NVIDIA GeForce RTX 5090', 'NVIDIA GeForce RTX 3090', 'NVIDIA GeForce RTX 3090']\u001B[0m\n",
      "=== done initializing model\n"
     ]
    }
   ],
   "execution_count": 2
  },
  {
   "metadata": {
    "ExecuteTime": {
     "end_time": "2025-05-05T20:29:12.435840Z",
     "start_time": "2025-05-05T20:29:11.777552Z"
    }
   },
   "cell_type": "code",
   "source": "results=engine.read_output()",
   "id": "85012379ea858170",
   "outputs": [],
   "execution_count": 3
  },
  {
   "metadata": {
    "ExecuteTime": {
     "end_time": "2025-05-05T20:29:12.447019Z",
     "start_time": "2025-05-05T20:29:12.445084Z"
    }
   },
   "cell_type": "code",
   "source": "res=results[0]",
   "id": "5e7f914733ff491b",
   "outputs": [],
   "execution_count": 4
  },
  {
   "metadata": {
    "ExecuteTime": {
     "end_time": "2025-05-05T20:29:16.742056Z",
     "start_time": "2025-05-05T20:29:16.737137Z"
    }
   },
   "cell_type": "code",
   "source": "len(res)",
   "id": "3b8bc865576c25bf",
   "outputs": [
    {
     "data": {
      "text/plain": [
       "35"
      ]
     },
     "execution_count": 5,
     "metadata": {},
     "output_type": "execute_result"
    }
   ],
   "execution_count": 5
  },
  {
   "metadata": {
    "ExecuteTime": {
     "end_time": "2025-05-05T20:29:27.056742Z",
     "start_time": "2025-05-05T20:29:27.019134Z"
    }
   },
   "cell_type": "code",
   "source": [
    "urls=[[get_param(d, 'metadata.url') for d in res] for res in results]\n",
    "qurls = [d.question.get('metadata')['gold-urls'] for d in results]\n",
    "qtext = [d.question.text for d in results]"
   ],
   "id": "a5b2a617f4103d6c",
   "outputs": [],
   "execution_count": 6
  },
  {
   "metadata": {
    "ExecuteTime": {
     "end_time": "2025-05-05T20:33:20.687830Z",
     "start_time": "2025-05-05T20:32:55.074119Z"
    }
   },
   "cell_type": "code",
   "source": "data=engine.read_data()",
   "id": "2cd50410c4d0ed7f",
   "outputs": [
    {
     "name": "stdout",
     "output_type": "stream",
     "text": [
      "Cache filename is /home/raduf/.local/share/elastic_ingestion/benchmark__zdocs__corpus.jsonl.bz2_512_100_True_all_granite-embedding-125m-english.pickle.xz\n",
      "Skipped 0 passages.\n"
     ]
    },
    {
     "name": "stderr",
     "output_type": "stream",
     "text": [
      "Computing statistics: 100%|██████████| 1167439/1167439 [00:02<00:00, 442971.14it/s]\n"
     ]
    },
    {
     "name": "stdout",
     "output_type": "stream",
     "text": [
      "============================================================\n",
      "Statistics:\n",
      "============================================================\n",
      "Number of documents:1026632   \n",
      "Number of tiles:    1167439   \n",
      "#tiles per document:1.14      \n",
      "                    Character-based:    Token-based:        \n",
      "  Minimum length:   9                   6                   \n",
      "  Maximum length:   2240                512                 \n",
      "  Average length:   1084.2              269.6               \n",
      "============================================================\n",
      "Char histogram:\n",
      "\n",
      "# NumSamples = 1167439; Min = 9.00; Max = 2240.00\n",
      "# Mean = 1084.212026; Variance = 406224.673368; SD = 637.357571; Median 977.000000\n",
      "# each ∎ represents a count of 2632\n",
      "    9.0000 -   232.1000 [ 55241]: ∎∎∎∎∎∎∎∎∎∎∎∎∎∎∎∎∎∎∎∎\n",
      "  232.1000 -   455.2000 [197448]: ∎∎∎∎∎∎∎∎∎∎∎∎∎∎∎∎∎∎∎∎∎∎∎∎∎∎∎∎∎∎∎∎∎∎∎∎∎∎∎∎∎∎∎∎∎∎∎∎∎∎∎∎∎∎∎∎∎∎∎∎∎∎∎∎∎∎∎∎∎∎∎∎∎∎∎\n",
      "  455.2000 -   678.3000 [153778]: ∎∎∎∎∎∎∎∎∎∎∎∎∎∎∎∎∎∎∎∎∎∎∎∎∎∎∎∎∎∎∎∎∎∎∎∎∎∎∎∎∎∎∎∎∎∎∎∎∎∎∎∎∎∎∎∎∎∎\n",
      "  678.3000 -   901.4000 [133010]: ∎∎∎∎∎∎∎∎∎∎∎∎∎∎∎∎∎∎∎∎∎∎∎∎∎∎∎∎∎∎∎∎∎∎∎∎∎∎∎∎∎∎∎∎∎∎∎∎∎∎\n",
      "  901.4000 -  1124.5000 [128056]: ∎∎∎∎∎∎∎∎∎∎∎∎∎∎∎∎∎∎∎∎∎∎∎∎∎∎∎∎∎∎∎∎∎∎∎∎∎∎∎∎∎∎∎∎∎∎∎∎\n",
      " 1124.5000 -  1347.6000 [ 91542]: ∎∎∎∎∎∎∎∎∎∎∎∎∎∎∎∎∎∎∎∎∎∎∎∎∎∎∎∎∎∎∎∎∎∎\n",
      " 1347.6000 -  1570.7000 [ 78208]: ∎∎∎∎∎∎∎∎∎∎∎∎∎∎∎∎∎∎∎∎∎∎∎∎∎∎∎∎∎\n",
      " 1570.7000 -  1793.8000 [ 66689]: ∎∎∎∎∎∎∎∎∎∎∎∎∎∎∎∎∎∎∎∎∎∎∎∎∎\n",
      " 1793.8000 -  2016.9000 [146832]: ∎∎∎∎∎∎∎∎∎∎∎∎∎∎∎∎∎∎∎∎∎∎∎∎∎∎∎∎∎∎∎∎∎∎∎∎∎∎∎∎∎∎∎∎∎∎∎∎∎∎∎∎∎∎∎\n",
      " 2016.9000 -  2240.0000 [116635]: ∎∎∎∎∎∎∎∎∎∎∎∎∎∎∎∎∎∎∎∎∎∎∎∎∎∎∎∎∎∎∎∎∎∎∎∎∎∎∎∎∎∎∎∎\n",
      "Token histogram:\n",
      "\n",
      "# NumSamples = 1167439; Min = 6.00; Max = 512.00\n",
      "# Mean = 269.595169; Variance = 23172.435542; SD = 152.224950; Median 262.000000\n",
      "# each ∎ represents a count of 2653\n",
      "    6.0000 -    56.6000 [ 59751]: ∎∎∎∎∎∎∎∎∎∎∎∎∎∎∎∎∎∎∎∎∎∎\n",
      "   56.6000 -   107.2000 [189914]: ∎∎∎∎∎∎∎∎∎∎∎∎∎∎∎∎∎∎∎∎∎∎∎∎∎∎∎∎∎∎∎∎∎∎∎∎∎∎∎∎∎∎∎∎∎∎∎∎∎∎∎∎∎∎∎∎∎∎∎∎∎∎∎∎∎∎∎∎∎∎∎\n",
      "  107.2000 -   157.8000 [135735]: ∎∎∎∎∎∎∎∎∎∎∎∎∎∎∎∎∎∎∎∎∎∎∎∎∎∎∎∎∎∎∎∎∎∎∎∎∎∎∎∎∎∎∎∎∎∎∎∎∎∎∎\n",
      "  157.8000 -   208.4000 [102345]: ∎∎∎∎∎∎∎∎∎∎∎∎∎∎∎∎∎∎∎∎∎∎∎∎∎∎∎∎∎∎∎∎∎∎∎∎∎∎\n",
      "  208.4000 -   259.0000 [ 91995]: ∎∎∎∎∎∎∎∎∎∎∎∎∎∎∎∎∎∎∎∎∎∎∎∎∎∎∎∎∎∎∎∎∎∎\n",
      "  259.0000 -   309.6000 [ 79330]: ∎∎∎∎∎∎∎∎∎∎∎∎∎∎∎∎∎∎∎∎∎∎∎∎∎∎∎∎∎\n",
      "  309.6000 -   360.2000 [ 70413]: ∎∎∎∎∎∎∎∎∎∎∎∎∎∎∎∎∎∎∎∎∎∎∎∎∎∎\n",
      "  360.2000 -   410.8000 [104024]: ∎∎∎∎∎∎∎∎∎∎∎∎∎∎∎∎∎∎∎∎∎∎∎∎∎∎∎∎∎∎∎∎∎∎∎∎∎∎∎\n",
      "  410.8000 -   461.4000 [198995]: ∎∎∎∎∎∎∎∎∎∎∎∎∎∎∎∎∎∎∎∎∎∎∎∎∎∎∎∎∎∎∎∎∎∎∎∎∎∎∎∎∎∎∎∎∎∎∎∎∎∎∎∎∎∎∎∎∎∎∎∎∎∎∎∎∎∎∎∎∎∎∎∎∎∎∎\n",
      "  461.4000 -   512.0000 [134937]: ∎∎∎∎∎∎∎∎∎∎∎∎∎∎∎∎∎∎∎∎∎∎∎∎∎∎∎∎∎∎∎∎∎∎∎∎∎∎∎∎∎∎∎∎∎∎∎∎∎∎\n"
     ]
    }
   ],
   "execution_count": 18
  },
  {
   "metadata": {},
   "cell_type": "code",
   "source": [
    "import re\n",
    "VERSION_PATTERN = re.compile(r'(\\d+(\\.\\d+)?(\\.\\d+)?)\\?')\n",
    "\n",
    "def normalize_url(url):\n",
    "    url = VERSION_PATTERN.sub('latest?', url)\n",
    "    return re.sub(r'#.*', '', url)"
   ],
   "id": "21afda47d9953f3d",
   "execution_count": null,
   "outputs": []
  },
  {
   "metadata": {
    "ExecuteTime": {
     "end_time": "2025-05-05T21:50:11.716637Z",
     "start_time": "2025-05-05T21:50:06.828782Z"
    }
   },
   "cell_type": "code",
   "source": [
    "url2id = {}\n",
    "id2pos = {}\n",
    "reverse_norm_map = {}\n",
    "def add_key(ddict, key1, key2):\n",
    "    if key1 in ddict:\n",
    "        # ddict[key1][key2] = 1\n",
    "        if key2 in ddict[key1]:\n",
    "            ddict[key1][key2] += 1\n",
    "        else:\n",
    "            ddict[key1][key2] = 1\n",
    "    else:\n",
    "        ddict[key1] = {key2: 1}\n",
    "\n",
    "for pos, d in enumerate(data):\n",
    "    url = d['metadata']['url']\n",
    "    add_key(url2id, url, d['id'])\n",
    "    norm_url = normalize_url(url)\n",
    "    d['metadata']['norm_url'] = norm_url\n",
    "    add_key(url2id, norm_url, d['id'])\n",
    "    if norm_url in reverse_norm_map:\n",
    "        if url in reverse_norm_map[norm_url]:\n",
    "            pass\n",
    "            # ids = url2id[norm_url].keys()\n",
    "            # print(ids)\n",
    "            # print(f\"{norm_url} (position {pos} already seen in documents {ids}, at positions \"\n",
    "            #       f\"{[id2pos[p] for p in list(ids) if p in id2pos]}.\")\n",
    "        else:\n",
    "            reverse_norm_map[norm_url][url] = 1\n",
    "        reverse_norm_map[norm_url][url] += 1\n",
    "    else:\n",
    "        reverse_norm_map[norm_url] = {url: 1}\n",
    "\n",
    "    id2pos[d['id']] = pos"
   ],
   "id": "80daf303f3ee5e92",
   "outputs": [],
   "execution_count": 84
  },
  {
   "metadata": {},
   "cell_type": "code",
   "source": [
    "num_errors = 0\n",
    "for url in reverse_norm_map:\n",
    "    ids = [id2pos[p] for p in url2id[url].keys()]\n",
    "    for i, id in enumerate(ids):\n",
    "        if ids[0]+i != id:\n",
    "            print(f\"Error with url {url}, id list {ids}, urls: {list(reverse_norm_map[url].keys())}\")\n",
    "            num_errors += 1\n",
    "            break\n",
    "print(f\"Number of errors: {num_errors}\")"
   ],
   "id": "468643d265357215",
   "outputs": [],
   "execution_count": null
  },
  {
   "metadata": {},
   "cell_type": "code",
   "outputs": [],
   "execution_count": 30,
   "source": [
    "from rouge_score.rouge_scorer import RougeScorer\n",
    "rouge_scorer = RougeScorer(['rouge1', 'rougeL'], use_stemmer=True)\n",
    "def compute_rouge_matches(result, thr=0.9):\n",
    "    gold = result.question.get('metadata.answer')\n",
    "\n",
    "    scores = []\n",
    "    for answer in result:\n",
    "        score = rouge_scorer.score(gold, answer.text)\n",
    "        scores.append(score['rouge1'].recall)\n",
    "\n",
    "    inds = sorted(range(len(scores)), key=lambda i: scores[i], reverse=True)\n",
    "    # print(f\"Best answer for {res.question.text}: {res[inds[0]]['id']}, recall: {scores[inds[0]]}\")\n",
    "    # return {result.question.id: {\"best\": result[inds[0]]['id'], \"score\": scores[inds[0]]}}\n",
    "    res = []\n",
    "    for ansid in inds:\n",
    "        if scores[ansid] >= thr:\n",
    "            res.append({'id': result[ansid][\"id\"], 'score': scores[ansid]})\n",
    "    return res"
   ],
   "id": "8a1a5af036bfeb9c"
  },
  {
   "metadata": {},
   "cell_type": "code",
   "outputs": [
    {
     "data": {
      "text/plain": [
       "[{'id': '451813522832071401-0-1261', 'score': 1.0}]"
      ]
     },
     "execution_count": 31,
     "metadata": {},
     "output_type": "execute_result"
    }
   ],
   "execution_count": 31,
   "source": "compute_rouge_matches(res, 0.9)",
   "id": "4517a823bb949587"
  },
  {
   "metadata": {},
   "cell_type": "code",
   "outputs": [
    {
     "data": {
      "text/plain": [
       "[{'id': '451813522833601023-0-823', 'score': 1.0}]"
      ]
     },
     "execution_count": 16,
     "metadata": {},
     "output_type": "execute_result"
    }
   ],
   "execution_count": 16,
   "source": "compute_rouge_matches(results[3])",
   "id": "ec786127dd3e3d20"
  },
  {
   "metadata": {},
   "cell_type": "markdown",
   "source": "",
   "id": "fe1e60f47ec966fc"
  },
  {
   "metadata": {},
   "cell_type": "code",
   "outputs": [
    {
     "ename": "FileNotFoundError",
     "evalue": "[Errno 2] No such file or directory: 'benchmark/zdocs/questions_all_fixed.jsonl'",
     "output_type": "error",
     "traceback": [
      "\u001B[31m---------------------------------------------------------------------------\u001B[39m",
      "\u001B[31mFileNotFoundError\u001B[39m                         Traceback (most recent call last)",
      "\u001B[36mCell\u001B[39m\u001B[36m \u001B[39m\u001B[32mIn[69]\u001B[39m\u001B[32m, line 3\u001B[39m\n\u001B[32m      1\u001B[39m \u001B[38;5;28;01mimport\u001B[39;00m\u001B[38;5;250m \u001B[39m\u001B[34;01mjson\u001B[39;00m\n\u001B[32m----> \u001B[39m\u001B[32m3\u001B[39m questions = [json.loads(s) \u001B[38;5;28;01mfor\u001B[39;00m s \u001B[38;5;129;01min\u001B[39;00m \u001B[38;5;28;43mopen\u001B[39;49m\u001B[43m(\u001B[49m\u001B[33;43m\"\u001B[39;49m\u001B[33;43mbenchmark/zdocs/questions_all_fixed.jsonl\u001B[39;49m\u001B[33;43m\"\u001B[39;49m\u001B[43m)\u001B[49m.readlines()]\n",
      "\u001B[36mFile \u001B[39m\u001B[32m~/miniforge3/envs/docu/lib/python3.12/site-packages/IPython/core/interactiveshell.py:326\u001B[39m, in \u001B[36m_modified_open\u001B[39m\u001B[34m(file, *args, **kwargs)\u001B[39m\n\u001B[32m    319\u001B[39m \u001B[38;5;28;01mif\u001B[39;00m file \u001B[38;5;129;01min\u001B[39;00m {\u001B[32m0\u001B[39m, \u001B[32m1\u001B[39m, \u001B[32m2\u001B[39m}:\n\u001B[32m    320\u001B[39m     \u001B[38;5;28;01mraise\u001B[39;00m \u001B[38;5;167;01mValueError\u001B[39;00m(\n\u001B[32m    321\u001B[39m         \u001B[33mf\u001B[39m\u001B[33m\"\u001B[39m\u001B[33mIPython won\u001B[39m\u001B[33m'\u001B[39m\u001B[33mt let you open fd=\u001B[39m\u001B[38;5;132;01m{\u001B[39;00mfile\u001B[38;5;132;01m}\u001B[39;00m\u001B[33m by default \u001B[39m\u001B[33m\"\u001B[39m\n\u001B[32m    322\u001B[39m         \u001B[33m\"\u001B[39m\u001B[33mas it is likely to crash IPython. If you know what you are doing, \u001B[39m\u001B[33m\"\u001B[39m\n\u001B[32m    323\u001B[39m         \u001B[33m\"\u001B[39m\u001B[33myou can use builtins\u001B[39m\u001B[33m'\u001B[39m\u001B[33m open.\u001B[39m\u001B[33m\"\u001B[39m\n\u001B[32m    324\u001B[39m     )\n\u001B[32m--> \u001B[39m\u001B[32m326\u001B[39m \u001B[38;5;28;01mreturn\u001B[39;00m \u001B[43mio_open\u001B[49m\u001B[43m(\u001B[49m\u001B[43mfile\u001B[49m\u001B[43m,\u001B[49m\u001B[43m \u001B[49m\u001B[43m*\u001B[49m\u001B[43margs\u001B[49m\u001B[43m,\u001B[49m\u001B[43m \u001B[49m\u001B[43m*\u001B[49m\u001B[43m*\u001B[49m\u001B[43mkwargs\u001B[49m\u001B[43m)\u001B[49m\n",
      "\u001B[31mFileNotFoundError\u001B[39m: [Errno 2] No such file or directory: 'benchmark/zdocs/questions_all_fixed.jsonl'"
     ]
    }
   ],
   "execution_count": 69,
   "source": [
    "import json\n",
    "\n",
    "questions = [json.loads(s) for s in open(\"benchmark/zdocs/questions_all_fixed.jsonl\").readlines()]"
   ],
   "id": "6bf7eb06a2449bcb"
  },
  {
   "metadata": {
    "ExecuteTime": {
     "end_time": "2025-05-05T22:08:03.841755Z",
     "start_time": "2025-05-05T22:08:03.838258Z"
    }
   },
   "cell_type": "code",
   "source": "questions[0]['metadata']['gold-urls']",
   "id": "4fa15e22840d50dc",
   "outputs": [
    {
     "data": {
      "text/plain": [
       "'https://www.ibm.com/docs/en/zos/2.5.0?topic=considerations-data-set-encryption'"
      ]
     },
     "execution_count": 95,
     "metadata": {},
     "output_type": "execute_result"
    }
   ],
   "execution_count": 95
  },
  {
   "metadata": {
    "ExecuteTime": {
     "end_time": "2025-05-05T22:25:59.786184Z",
     "start_time": "2025-05-05T22:23:18.966242Z"
    }
   },
   "cell_type": "code",
   "source": [
    "from tqdm.notebook import tqdm\n",
    "from docuverse.utils import get_orig_docid\n",
    "outq = questions.copy()\n",
    "not_found = []\n",
    "\n",
    "def append(ll, vals):\n",
    "    for v in vals:\n",
    "        if v not in ll:\n",
    "            ll.append(v)\n",
    "for i, q in tqdm(enumerate(outq), total=len(outq)):\n",
    "    gold_urls = q['metadata']['gold-urls'].split(\";\")\n",
    "    relevant = []\n",
    "    for gold_url in gold_urls:\n",
    "        gold_url = normalize_url(q['metadata']['gold-urls'])\n",
    "        rels = [get_orig_docid(p) for p in url2id[gold_url]] if gold_url in url2id else []\n",
    "        append(relevant, rels)\n",
    "    matches = compute_rouge_matches(results[i])\n",
    "    if len(matches) > 0:\n",
    "        # q['metadata']['relevant'] = [get_orig_docid(m['id']) for m in matches]\n",
    "        append(relevant, [get_orig_docid(m['id']) for m in matches])\n",
    "        # relevant += [get_orig_docid(m['id']) for m in matches if get_orig_docid(m['id']) not in relevant]\n",
    "        q['metadata']['rouge_scores'] = [m['score'] for m in matches]\n",
    "    else:\n",
    "        q['metadata']['rouge_scores'] = []\n",
    "        # gurl = q['metadata']['gold-urls']\n",
    "        # relevant = [url2id[gurl].keys()] if gurl in url2id else []\n",
    "        # if not relevant:\n",
    "        #     gurl = normalize_url(gurl)\n",
    "        #     relevant = [url2id[gurl].keys()] if gurl in url2id else []\n",
    "    if not relevant:\n",
    "        not_found.append(i)\n",
    "    q['metadata']['relevant'] = relevant"
   ],
   "id": "f5710a8f7f9f32f2",
   "outputs": [
    {
     "data": {
      "text/plain": [
       "  0%|          | 0/510 [00:00<?, ?it/s]"
      ],
      "application/vnd.jupyter.widget-view+json": {
       "version_major": 2,
       "version_minor": 0,
       "model_id": "fedcd8e750a7483e874ce277a7d05263"
      }
     },
     "metadata": {},
     "output_type": "display_data"
    }
   ],
   "execution_count": 118
  },
  {
   "metadata": {
    "ExecuteTime": {
     "end_time": "2025-05-05T23:18:58.994685Z",
     "start_time": "2025-05-05T23:18:58.991294Z"
    }
   },
   "cell_type": "code",
   "source": "not_found[0]",
   "id": "4d86c8c6def9a751",
   "outputs": [
    {
     "data": {
      "text/plain": [
       "13"
      ]
     },
     "execution_count": 120,
     "metadata": {},
     "output_type": "execute_result"
    }
   ],
   "execution_count": 120
  },
  {
   "metadata": {
    "ExecuteTime": {
     "end_time": "2025-05-05T23:19:06.933856Z",
     "start_time": "2025-05-05T23:19:06.930285Z"
    }
   },
   "cell_type": "code",
   "source": "questions[not_found[0]].as_dict()",
   "id": "ec371ef0d74db910",
   "outputs": [
    {
     "data": {
      "text/plain": [
       "{'metadata.answer': 'You can use the DEVSERV MVS command with Query Host Access (QHA) parameter to request host access information to be returned for a volume, depending on the type of device: \\r\\n1.ﾂ For DASD, issue DEVSERV QDASD,device,QHA\\r\\n2. For TAPE, issue DEVSERV QTAPE,device,QHA',\n",
       " '_id': 'dfsms_32',\n",
       " 'relevant': [''],\n",
       " 'metadata': {'gold-urls': 'https://www.ibm.com/docs/en/zos/2.5.0?topic=command-using-devserv-qdasd-option;https://www.ibm.com/docs/en/zos/2.5.0?topic=command-using-devserv-qtape-option',\n",
       "  'answer': 'You can use the DEVSERV MVS command with Query Host Access (QHA) parameter to request host access information to be returned for a volume, depending on the type of device: \\r\\n1.ﾂ For DASD, issue DEVSERV QDASD,device,QHA\\r\\n2. For TAPE, issue DEVSERV QTAPE,device,QHA',\n",
       "  'fname': '/Users/vineet/data/systemz/data/predicted_ans_with_analysis_20250121/DFSMS_QA-Ceci_v0_1.res.csv',\n",
       "  'rouge_scores': [],\n",
       "  'relevant': []},\n",
       " 'answers': [''],\n",
       " 'passages': ''}"
      ]
     },
     "execution_count": 121,
     "metadata": {},
     "output_type": "execute_result"
    }
   ],
   "execution_count": 121
  },
  {
   "metadata": {},
   "cell_type": "code",
   "outputs": [],
   "execution_count": 26,
   "source": "open(\"benchmark/zdocs/missing_urls.new.txt\", \"w\").writelines([q['metadata']['gold-urls']+\"\\n\" for q in outq if q['metadata']['relevant']==[] and q['metadata']['answer']!=\"\"])",
   "id": "f23710aed3258864"
  },
  {
   "metadata": {},
   "cell_type": "code",
   "outputs": [],
   "execution_count": 23,
   "source": [
    "# Fix the questions' urls: remove tags\n",
    "import json\n",
    "qfile = \"benchmark/zdocs/questions_all_fixed.jsonl\"\n",
    "qfile_fixed = \"benchmark/zdocs/questions_all_fixed_new.jsonl\"\n",
    "qs = open(qfile).readlines()\n",
    "with open(qfile_fixed, \"w\") as out:\n",
    "    for line in qs:\n",
    "        q = json.loads(line)\n",
    "        url = q['metadata']['gold-urls']\n",
    "        pos = url.find('#')\n",
    "        if pos >= 0:\n",
    "            q['metadata']['gold_urls'] = url[:pos]\n",
    "        out.write(json.dumps(q)+\"\\n\")"
   ],
   "id": "4f618589b35dd4b1"
  },
  {
   "metadata": {},
   "cell_type": "markdown",
   "source": "Fix the questions to have the 'latest' tag (according to Jaydeep, this was agreed with the Z team).",
   "id": "cff62979706477dd"
  },
  {
   "metadata": {},
   "cell_type": "code",
   "outputs": [
    {
     "name": "stderr",
     "output_type": "stream",
     "text": [
      "Reading benchmark/zdocs/questions_all.jsonl:: 510it [00:00, 295536.76it/s]\n"
     ]
    }
   ],
   "execution_count": 9,
   "source": "questions=engine.read_questions()",
   "id": "84e1a4088f8358ff"
  },
  {
   "metadata": {
    "ExecuteTime": {
     "end_time": "2025-05-05T20:46:34.419187Z",
     "start_time": "2025-05-05T20:46:34.274789Z"
    }
   },
   "cell_type": "code",
   "source": [
    "qid=0\n",
    "url=questions[qid]['metadata']['gold-urls']\n",
    "norm_url = normalize_url(url)\n",
    "print(f\"Url in url2id: {norm_url in url2id}\")\n",
    "print(f\"Normalized url in url2id: {norm_url in url2id}\")\n",
    "found=compute_rouge_matches(results[qid], 0.9)\n",
    "found_id=found[0]['id']\n",
    "print(found_id)\n",
    "print(f\"Id for results[{qid}]: {found_id}, \\nurl:{data[id2pos[found_id]]['metadata']['url']}\")"
   ],
   "id": "9447c27c1963d21b",
   "outputs": [
    {
     "name": "stdout",
     "output_type": "stream",
     "text": [
      "Url in url2id: False\n",
      "Normalized url in url2id: False\n",
      "451813522832071401-0-1261\n",
      "Id for results[0]: 451813522832071401-0-1261, \n",
      "url:https://www.ibm.com/docs/en/zos/3.1.0?topic=considerations-data-set-encryption\n"
     ]
    }
   ],
   "execution_count": 52
  }
 ],
 "metadata": {
  "kernelspec": {
   "display_name": "Python 3",
   "language": "python",
   "name": "python3"
  },
  "language_info": {
   "codemirror_mode": {
    "name": "ipython",
    "version": 2
   },
   "file_extension": ".py",
   "mimetype": "text/x-python",
   "name": "python",
   "nbconvert_exporter": "python",
   "pygments_lexer": "ipython2",
   "version": "2.7.6"
  }
 },
 "nbformat": 4,
 "nbformat_minor": 5
}
