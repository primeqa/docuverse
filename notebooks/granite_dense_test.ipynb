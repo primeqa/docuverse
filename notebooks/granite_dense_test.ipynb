{
 "cells": [
  {
   "metadata": {},
   "cell_type": "markdown",
   "source": "",
   "id": "45b78d3567ef7a61"
  },
  {
   "metadata": {},
   "cell_type": "code",
   "outputs": [],
   "execution_count": null,
   "source": [
    "from sentence_transformers import SentenceTransformer\n",
    "model = SentenceTransformer('ibm-granite/granite-embedding-125m-english')"
   ],
   "id": "6b0af7ff9001b005"
  },
  {
   "metadata": {},
   "cell_type": "code",
   "outputs": [],
   "execution_count": null,
   "source": "q = \"Is Jane Doe a blacksmith?\"",
   "id": "5d51e38026a9c094"
  },
  {
   "metadata": {},
   "cell_type": "code",
   "outputs": [],
   "execution_count": null,
   "source": [
    "p1=\"Renowned blacksmith Jane Doe honed her craft during a years-long apprenticeship in her youth.\"\n",
    "p2=\"Over the weekend, Jane Smith, a noted veterinarian in the tri-county area, tirelessly worked to save a black-tailed doe and newborn fawn.\""
   ],
   "id": "b1e2b33fb9243226"
  },
  {
   "metadata": {},
   "cell_type": "code",
   "outputs": [],
   "execution_count": null,
   "source": "qv=model.encode([q])",
   "id": "ef97c48cfbb2142"
  },
  {
   "metadata": {},
   "cell_type": "code",
   "outputs": [],
   "execution_count": null,
   "source": [
    "qp1=model.encode([p1])\n",
    "qp2=model.encode([p2])"
   ],
   "id": "ea82bc27a896530e"
  },
  {
   "metadata": {},
   "cell_type": "code",
   "outputs": [],
   "execution_count": null,
   "source": [
    "s1=model.similarity(qv,qp1)\n",
    "s2=model.similarity(qv,qp2)"
   ],
   "id": "99f092692288fc2b"
  },
  {
   "metadata": {},
   "cell_type": "code",
   "outputs": [],
   "execution_count": null,
   "source": "s1",
   "id": "db918aec8c3634e8"
  },
  {
   "metadata": {},
   "cell_type": "code",
   "outputs": [],
   "execution_count": null,
   "source": "s2",
   "id": "870b46d7d95aef95"
  },
  {
   "metadata": {},
   "cell_type": "code",
   "outputs": [],
   "execution_count": null,
   "source": "",
   "id": "fde7fe082278e25d"
  }
 ],
 "metadata": {},
 "nbformat": 4,
 "nbformat_minor": 5
}
