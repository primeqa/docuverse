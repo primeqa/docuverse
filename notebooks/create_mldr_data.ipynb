{
 "cells": [
  {
   "cell_type": "code",
   "id": "initial_id",
   "metadata": {
    "collapsed": true,
    "ExecuteTime": {
     "end_time": "2025-05-14T13:24:56.906634Z",
     "start_time": "2025-05-14T13:24:52.330128Z"
    }
   },
   "source": [
    "from datasets import load_dataset\n",
    "import json\n",
    "language = 'en'\n",
    "split = 'train'\n",
    "corpus = load_dataset('Shitao/MLDR', f'corpus-{language}', split='corpus')\n",
    "corpusid={d['docid']:i for i, d in enumerate(corpus)}"
   ],
   "outputs": [],
   "execution_count": 18
  },
  {
   "metadata": {
    "ExecuteTime": {
     "end_time": "2025-05-13T03:10:01.711622Z",
     "start_time": "2025-05-13T03:09:10.048512Z"
    }
   },
   "cell_type": "code",
   "source": [
    "import json\n",
    "from tqdm.notebook import tqdm\n",
    "with open(\"benchmark/mldr/corpus_full.jsonl\", \"w\") as out:\n",
    "   for d in tqdm(corpus):\n",
    "       out.write(json.dumps(d))\n",
    "       out.write(\"\\n\")"
   ],
   "id": "38f7e82ddbe88bbf",
   "outputs": [
    {
     "data": {
      "text/plain": [
       "  0%|          | 0/200000 [00:00<?, ?it/s]"
      ],
      "application/vnd.jupyter.widget-view+json": {
       "version_major": 2,
       "version_minor": 0,
       "model_id": "3971502eeac44d0384d8243a2a833d42"
      }
     },
     "metadata": {},
     "output_type": "display_data"
    }
   ],
   "execution_count": 16
  },
  {
   "metadata": {
    "ExecuteTime": {
     "end_time": "2025-05-13T03:17:37.736698Z",
     "start_time": "2025-05-13T03:17:35.593559Z"
    }
   },
   "cell_type": "code",
   "source": "max([len(d['text']) for d in corpus])",
   "id": "c4244b711f1abf5a",
   "outputs": [
    {
     "data": {
      "text/plain": [
       "382998"
      ]
     },
     "execution_count": 17,
     "metadata": {},
     "output_type": "execute_result"
    }
   ],
   "execution_count": 17
  },
  {
   "metadata": {
    "ExecuteTime": {
     "end_time": "2025-05-13T15:20:16.726975Z",
     "start_time": "2025-05-13T15:20:16.412169Z"
    }
   },
   "cell_type": "code",
   "source": [
    "import pandas as pd\n",
    "question_file=\"benchmark/mldr/may5_8_20_progress_1.jsonl\"\n",
    "out_file = question_file.replace(\".jsonl\", \"fixed.jsonl\")\n",
    "questions = pd.read_json(question_file, lines=True)\n",
    "relevant = []\n",
    "for id in questions['docid']:\n",
    "    pos = id.rfind(\"-\")\n",
    "    relevant.append([id[:pos]])\n",
    "questions.insert(2, \"relevant\", relevant)\n",
    "questions.to_json(out_file, orient=\"records\", lines=True)"
   ],
   "id": "909135ea17079ce0",
   "outputs": [],
   "execution_count": 3
  },
  {
   "metadata": {},
   "cell_type": "code",
   "execution_count": null,
   "source": [
    "train=load_dataset('Shitao/MLDR', 'en', split='train')\n",
    "corpusid={d['docid']:i for i, d in enumerate(corpus)}\n",
    "trainid={d['docid']:(i,j) for i, e in enumerate(train) for j, d in enumerate(e['positive_passages'])}\n",
    "with open(\"benchmark/mldr/train_corpus.jsonl\", \"w\") as out:\n",
    "    for t in train:\n",
    "        for p in t['positive_passages']:\n",
    "            out.write(json.dumps(p))\n",
    "            out.write(\"\\n\")"
   ],
   "id": "165ffee398967ea7",
   "outputs": []
  },
  {
   "metadata": {
    "ExecuteTime": {
     "end_time": "2025-05-13T20:45:31.902160Z",
     "start_time": "2025-05-13T20:45:27.759469Z"
    }
   },
   "cell_type": "code",
   "source": [
    "from datasets import load_dataset\n",
    "import json\n",
    "devel=load_dataset('Shitao/MLDR', 'en', split='dev')\n",
    "devid={d['docid']:(i,j) for i, e in enumerate(devel) for j, d in enumerate(e['positive_passages'])}"
   ],
   "id": "c13290fc8b6844b4",
   "outputs": [],
   "execution_count": 6
  },
  {
   "metadata": {
    "ExecuteTime": {
     "end_time": "2025-05-13T20:49:03.712928Z",
     "start_time": "2025-05-13T20:49:03.708677Z"
    }
   },
   "cell_type": "code",
   "source": "len(devid)-len(set(devid.keys()).intersection(corpusid.keys()))",
   "id": "b3189d472b9f8032",
   "outputs": [
    {
     "data": {
      "text/plain": [
       "0"
      ]
     },
     "execution_count": 17,
     "metadata": {},
     "output_type": "execute_result"
    }
   ],
   "execution_count": 17
  },
  {
   "metadata": {
    "ExecuteTime": {
     "end_time": "2025-05-14T13:25:29.655494Z",
     "start_time": "2025-05-14T13:25:29.154389Z"
    }
   },
   "cell_type": "code",
   "source": [
    "from datasets import load_dataset\n",
    "import json\n",
    "test=load_dataset('Shitao/MLDR', 'en', split='test')\n",
    "testid={d['docid']:(i,j) for i, e in enumerate(test) for j, d in enumerate(e['positive_passages'])}"
   ],
   "id": "3b230cbea9a531f",
   "outputs": [],
   "execution_count": 19
  },
  {
   "metadata": {},
   "cell_type": "code",
   "source": "len(testid)-len(set(testid.keys()).intersection(corpusid.keys()))",
   "id": "7ea4fbc31425d846",
   "execution_count": null,
   "outputs": []
  },
  {
   "metadata": {
    "ExecuteTime": {
     "end_time": "2025-05-14T13:27:10.099264Z",
     "start_time": "2025-05-14T13:27:10.096593Z"
    }
   },
   "cell_type": "code",
   "source": "len(test)",
   "id": "64b9084827b8d99e",
   "outputs": [
    {
     "data": {
      "text/plain": [
       "800"
      ]
     },
     "execution_count": 20,
     "metadata": {},
     "output_type": "execute_result"
    }
   ],
   "execution_count": 20
  }
 ],
 "metadata": {
  "kernelspec": {
   "display_name": "Python 3",
   "language": "python",
   "name": "python3"
  },
  "language_info": {
   "codemirror_mode": {
    "name": "ipython",
    "version": 2
   },
   "file_extension": ".py",
   "mimetype": "text/x-python",
   "name": "python",
   "nbconvert_exporter": "python",
   "pygments_lexer": "ipython2",
   "version": "2.7.6"
  }
 },
 "nbformat": 4,
 "nbformat_minor": 5
}
