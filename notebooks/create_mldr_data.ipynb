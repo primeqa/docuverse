{
 "cells": [
  {
   "cell_type": "code",
   "id": "initial_id",
   "metadata": {
    "collapsed": true,
    "ExecuteTime": {
     "end_time": "2025-05-13T03:00:13.358935Z",
     "start_time": "2025-05-13T02:48:47.764025Z"
    }
   },
   "source": [
    "from datasets import load_dataset\n",
    "language = 'en'\n",
    "split = 'train'\n",
    "corpus = load_dataset('Shitao/MLDR', f'corpus-{language}', split='corpus')\n",
    "#"
   ],
   "outputs": [
    {
     "data": {
      "text/plain": [
       "README.md:   0%|          | 0.00/4.78k [00:00<?, ?B/s]"
      ],
      "application/vnd.jupyter.widget-view+json": {
       "version_major": 2,
       "version_minor": 0,
       "model_id": "3a4063e1d2c548e2ac8eb0f7a17c93ee"
      }
     },
     "metadata": {},
     "output_type": "display_data"
    },
    {
     "data": {
      "text/plain": [
       "MLDR.py:   0%|          | 0.00/5.70k [00:00<?, ?B/s]"
      ],
      "application/vnd.jupyter.widget-view+json": {
       "version_major": 2,
       "version_minor": 0,
       "model_id": "4ef03aa2e62f437fbd587c5e28d57e39"
      }
     },
     "metadata": {},
     "output_type": "display_data"
    },
    {
     "data": {
      "text/plain": [
       "corpus.jsonl.gz:   0%|          | 0.00/985M [00:00<?, ?B/s]"
      ],
      "application/vnd.jupyter.widget-view+json": {
       "version_major": 2,
       "version_minor": 0,
       "model_id": "7afe0e541f8048b2b677cd9514db8e6c"
      }
     },
     "metadata": {},
     "output_type": "display_data"
    },
    {
     "data": {
      "text/plain": [
       "Generating corpus split: 0 examples [00:00, ? examples/s]"
      ],
      "application/vnd.jupyter.widget-view+json": {
       "version_major": 2,
       "version_minor": 0,
       "model_id": "fa57ba5be48442708e0575ff30f7cc5e"
      }
     },
     "metadata": {},
     "output_type": "display_data"
    },
    {
     "ename": "NameError",
     "evalue": "name 'do_something' is not defined",
     "output_type": "error",
     "traceback": [
      "\u001B[31m---------------------------------------------------------------------------\u001B[39m",
      "\u001B[31mNameError\u001B[39m                                 Traceback (most recent call last)",
      "\u001B[36mCell\u001B[39m\u001B[36m \u001B[39m\u001B[32mIn[1]\u001B[39m\u001B[32m, line 6\u001B[39m\n\u001B[32m      4\u001B[39m corpus = load_dataset(\u001B[33m'\u001B[39m\u001B[33mShitao/MLDR\u001B[39m\u001B[33m'\u001B[39m, \u001B[33mf\u001B[39m\u001B[33m'\u001B[39m\u001B[33mcorpus-\u001B[39m\u001B[38;5;132;01m{\u001B[39;00mlanguage\u001B[38;5;132;01m}\u001B[39;00m\u001B[33m'\u001B[39m, split=\u001B[33m'\u001B[39m\u001B[33mcorpus\u001B[39m\u001B[33m'\u001B[39m)\n\u001B[32m      5\u001B[39m \u001B[38;5;28;01mfor\u001B[39;00m line \u001B[38;5;129;01min\u001B[39;00m corpus:\n\u001B[32m----> \u001B[39m\u001B[32m6\u001B[39m    \u001B[43mdo_something\u001B[49m\n",
      "\u001B[31mNameError\u001B[39m: name 'do_something' is not defined"
     ]
    }
   ],
   "execution_count": 1
  },
  {
   "metadata": {
    "ExecuteTime": {
     "end_time": "2025-05-13T03:10:01.711622Z",
     "start_time": "2025-05-13T03:09:10.048512Z"
    }
   },
   "cell_type": "code",
   "source": [
    "import json\n",
    "from tqdm.notebook import tqdm\n",
    "with open(\"benchmark/mldr/corpus_full.jsonl\", \"w\") as out:\n",
    "   for d in tqdm(corpus):\n",
    "       out.write(json.dumps(d))\n",
    "       out.write(\"\\n\")"
   ],
   "id": "38f7e82ddbe88bbf",
   "outputs": [
    {
     "data": {
      "text/plain": [
       "  0%|          | 0/200000 [00:00<?, ?it/s]"
      ],
      "application/vnd.jupyter.widget-view+json": {
       "version_major": 2,
       "version_minor": 0,
       "model_id": "3971502eeac44d0384d8243a2a833d42"
      }
     },
     "metadata": {},
     "output_type": "display_data"
    }
   ],
   "execution_count": 16
  },
  {
   "metadata": {
    "ExecuteTime": {
     "end_time": "2025-05-13T03:17:37.736698Z",
     "start_time": "2025-05-13T03:17:35.593559Z"
    }
   },
   "cell_type": "code",
   "source": "max([len(d['text']) for d in corpus])",
   "id": "c4244b711f1abf5a",
   "outputs": [
    {
     "data": {
      "text/plain": [
       "382998"
      ]
     },
     "execution_count": 17,
     "metadata": {},
     "output_type": "execute_result"
    }
   ],
   "execution_count": 17
  },
  {
   "metadata": {},
   "cell_type": "code",
   "outputs": [],
   "execution_count": null,
   "source": "",
   "id": "909135ea17079ce0"
  }
 ],
 "metadata": {
  "kernelspec": {
   "display_name": "Python 3",
   "language": "python",
   "name": "python3"
  },
  "language_info": {
   "codemirror_mode": {
    "name": "ipython",
    "version": 2
   },
   "file_extension": ".py",
   "mimetype": "text/x-python",
   "name": "python",
   "nbconvert_exporter": "python",
   "pygments_lexer": "ipython2",
   "version": "2.7.6"
  }
 },
 "nbformat": 4,
 "nbformat_minor": 5
}
