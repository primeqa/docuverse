{
 "cells": [
  {
   "cell_type": "code",
   "id": "1effa931bae4fe5a",
   "metadata": {
    "ExecuteTime": {
     "end_time": "2025-03-20T13:43:50.426080Z",
     "start_time": "2025-03-20T13:43:50.423306Z"
    }
   },
   "source": [
    "import pickle\n",
    "from docuverse.utils import open_stream\n",
    "from pymilvus import (\n",
    "    MilvusClient,\n",
    "    DataType,\n",
    "    connections,\n",
    "    utility\n",
    ")\n",
    "\n",
    "def load_cache(cache_file):\n",
    "    return pickle.load(open_stream(cache_file))\n",
    "\n",
    "# cache_file=\"/home/raduf/.local/share/elastic_ingestion/benchmark__beir_dev__quora____en__corpus.small.jsonl_512_100_True_all_gte-small.pickle.xz\"\n",
    "# cache_dense=\"/home/raduf/.local/share/elastic_ingestion/benchmark__beir_dev__quora__en__corpus.small.jsonl_512_100_True_all_slate.30m.english.rtrvr.pickle.xz\"\n",
    "# cache_hybrid=\"/home/raduf/.local/share/elastic_ingestion/benchmark__beir_dev__quora__en__corpus.small.jsonl_512_100_True_all_slate.30m.english.rtrvr.pickle.xz\"\n",
    "# ddata=load_cache(cache_dense)\n",
    "# hdata=load_cache(cache_hybrid)\n",
    "# data=ddata\n",
    "# import json\n",
    "# questions = [\n",
    "#     \"How can I get free gems in Clash of Clans?\",\n",
    "#     \"How can I get free gems Clash of Clans?\",\n",
    "#     \"How do you feel when someone upvotes your answer on Quora?\",\n",
    "#     \"What are the best thriller movie in Hollywood?\",\n",
    "#     \"What should someone do to overcome anxiety?\"\n",
    "# ]"
   ],
   "outputs": [],
   "execution_count": 2
  },
  {
   "metadata": {
    "ExecuteTime": {
     "end_time": "2024-10-25T20:04:38.914003Z",
     "start_time": "2024-10-25T20:04:38.910831Z"
    }
   },
   "cell_type": "code",
   "source": "True",
   "id": "43ffdb9d853efc3d",
   "outputs": [
    {
     "data": {
      "text/plain": [
       "True"
      ]
     },
     "execution_count": 4,
     "metadata": {},
     "output_type": "execute_result"
    }
   ],
   "execution_count": 4
  },
  {
   "metadata": {
    "ExecuteTime": {
     "end_time": "2025-03-20T13:45:34.046859Z",
     "start_time": "2025-03-20T13:45:32.484834Z"
    }
   },
   "cell_type": "code",
   "source": [
    "# MODEL = (\"/home/raduf/sandbox2/docuverse/models/slate.30m.english.rtrvr\")\n",
    "MODEL = (\"ibm-granite/granite-embedding-30m-english\")\n",
    "data_list = []\n",
    "from docuverse.utils.embeddings.dense_embedding_function import DenseEmbeddingFunction\n",
    "model = DenseEmbeddingFunction(MODEL)"
   ],
   "id": "7ff5c611a55b83e",
   "outputs": [
    {
     "name": "stdout",
     "output_type": "stream",
     "text": [
      "Running on the gpus:  \u001B[1;31m['NVIDIA GeForce RTX 3090 Ti']\u001B[0m\n",
      "=== done initializing model\n"
     ]
    }
   ],
   "execution_count": 3
  },
  {
   "metadata": {
    "ExecuteTime": {
     "end_time": "2024-10-25T20:01:21.303473Z",
     "start_time": "2024-10-25T20:01:21.300941Z"
    }
   },
   "cell_type": "code",
   "source": [
    "ddata = [\n",
    "    {\"text\": \"Apply these configuration details to nodes to ensure that you have a valid configuration. Host bus adapters and node canisters Each of the FlashSystem 7200 node canisters feature the optional adapters that are shown in this table. Table 1. Host interface adapters Supported number of adapters Ports Protocol Possible slots 0-2 4 32 Gb Fibre Channel 1,2 0-2 4 16 Gb Fibre Channel 1,2 0-2 2 25 Gb Ethernet (iWARP) 1,2 0-2 2 25 Gb Ethernet (RoCE) 1,2 0-1 in slot 1 only 2 (4-port adapter but only 2 ports are active.) 12 Gb SAS Expansion 1 FlashSystem 7200, IBM\\u00ae Storage FlashSystem 9100, and FlashSystem 9200 can be connected over 16 or 32 Gbps Fibre Channel or 25 Gbps Ethernet. The 32 Gbps Fibre Channel adapter supports simultaneous SCSI and NVMeFC connections on the same port. The SAS expansion adapter is required to use 2076-24G or 4664-24G or 2076-92G or 4664-92G expansion enclosures. The 25 Gb adapters support iSCSI host attachment. FlashSystem 7200 node canisters also contain two USB ports and the on-board Ethernet ports shown in this table. Table 2. On-board Ethernet ports On-board Ethernet port Speed Functions 1 10 GbE Management IP, Service IP, Host I/O 2 10 GbE Secondary Management IP, Host I/O 3 10 GbE Host I/O 4 10 GbE Host I/O 1 GbE Technician Port - DHCP/DNS for direct attach service management Fibre Channel over Ethernet (FCoE) is not supported. For information about supported hardware, see the following website: www.ibm.com/support . Volumes Each volume is accessible from the two nodes in an I/O group. Each host network port can recognize up to eight paths to each logical unit (LU) that is presented by the system. The hosts must run a multipathing device driver before the multiple paths can resolve to a single device. \"},\n",
    "    {\"text\": \"HyperSwap configuration by using interswitch links\\nNote: ISLs must not be shared between private and public virtual fabrics. To implement private and public SANs with dedicated switches, any combination of supported switches can be used. For the list of supported switches and for supported switch partitioning and virtual fabric options, see the interoperability website: www.ibm.com/support Like for every managed disk, all control enclosures need access to the quorum disk by using the same storage system ports. If a storage system with active/passive controllers (such as IBM DS3000, IBM DS4000\\u00ae, IBM DS5000, or IBM FAStT) is attached to a fabric, the storage system must be connected with both internal controllers to this fabric. By using FCIP, passive WDM, or active WDM for quorum site connectivity, you can add to the extension. The connections must be reliable. It is strictly required that the links from both production sites to the quorum site are independent and do not share any long-distance equipment. FCIP links are supported also for ISLs between the two production sites in public and private SANs. A private SAN and a public SAN can be routed across the same FCIP link. However, to ensure bandwidth to the private SAN, it is typically necessary to configure FCIP tunnels. Similarly, it is permissible to multiplex multiple ISL links across a DWDM link. Note: It is not required to UPS-protect FCIP routers or active WDM devices that are used only for the control enclosure-to-quorum communication. A HyperSwap configuration is supported only when the storage system that hosts the quorum disks supports extended quorum. Although the system can use other types of storage systems for providing quorum disks, access to these quorum disks is always through a single path. Additional bandwidth requirements A bandwidth equal to the peak write bandwidth (as sum from all hosts) is required for intersite communication between I/O groups. This bandwidth must be available in the private SAN. Additionally, you need intersite bandwidth in the public SAN for host-to-node communication if a host accesses nodes in the other sites. \"}\n",
    "]"
   ],
   "id": "f45fd3d0ac36f2ca",
   "outputs": [],
   "execution_count": 6
  },
  {
   "metadata": {
    "ExecuteTime": {
     "end_time": "2024-10-25T20:10:07.653430Z",
     "start_time": "2024-10-25T20:10:07.642748Z"
    }
   },
   "cell_type": "code",
   "source": [
    "def create_data(raw_data, embedding_name='qembedding'):\n",
    "    embeddings = model.encode([d['text'] for d in raw_data], show_progress_bar=True)\n",
    "    keys_to_keep = {\"text\"}\n",
    "    data_list = [{**{k:v for k, v in d.items() if k in keys_to_keep}, '_id': d['id'], embedding_name:embeddings[i]} for i,d in enumerate(raw_data)]\n",
    "    return data_list\n",
    "data_list = create_data(ddata)\n",
    " #hdate_list = create_data(hdata)\n"
   ],
   "id": "2259cdb12e46111",
   "outputs": [
    {
     "ename": "NameError",
     "evalue": "name 'ddata' is not defined",
     "output_type": "error",
     "traceback": [
      "\u001B[0;31m---------------------------------------------------------------------------\u001B[0m",
      "\u001B[0;31mNameError\u001B[0m                                 Traceback (most recent call last)",
      "Cell \u001B[0;32mIn[7], line 6\u001B[0m\n\u001B[1;32m      4\u001B[0m     data_list \u001B[38;5;241m=\u001B[39m [{\u001B[38;5;241m*\u001B[39m\u001B[38;5;241m*\u001B[39m{k:v \u001B[38;5;28;01mfor\u001B[39;00m k, v \u001B[38;5;129;01min\u001B[39;00m d\u001B[38;5;241m.\u001B[39mitems() \u001B[38;5;28;01mif\u001B[39;00m k \u001B[38;5;129;01min\u001B[39;00m keys_to_keep}, \u001B[38;5;124m'\u001B[39m\u001B[38;5;124m_id\u001B[39m\u001B[38;5;124m'\u001B[39m: d[\u001B[38;5;124m'\u001B[39m\u001B[38;5;124mid\u001B[39m\u001B[38;5;124m'\u001B[39m], embedding_name:embeddings[i]} \u001B[38;5;28;01mfor\u001B[39;00m i,d \u001B[38;5;129;01min\u001B[39;00m \u001B[38;5;28menumerate\u001B[39m(raw_data)]\n\u001B[1;32m      5\u001B[0m     \u001B[38;5;28;01mreturn\u001B[39;00m data_list\n\u001B[0;32m----> 6\u001B[0m data_list \u001B[38;5;241m=\u001B[39m create_data(\u001B[43mddata\u001B[49m)\n\u001B[1;32m      7\u001B[0m  \u001B[38;5;66;03m#hdate_list = create_data(hdata)\u001B[39;00m\n",
      "\u001B[0;31mNameError\u001B[0m: name 'ddata' is not defined"
     ]
    }
   ],
   "execution_count": 7
  },
  {
   "metadata": {
    "ExecuteTime": {
     "end_time": "2024-10-25T20:10:29.589286Z",
     "start_time": "2024-10-25T20:10:29.579789Z"
    }
   },
   "cell_type": "code",
   "source": "ddata[0]['id']",
   "id": "9bf478efc4431868",
   "outputs": [
    {
     "ename": "NameError",
     "evalue": "name 'ddata' is not defined",
     "output_type": "error",
     "traceback": [
      "\u001B[0;31m---------------------------------------------------------------------------\u001B[0m",
      "\u001B[0;31mNameError\u001B[0m                                 Traceback (most recent call last)",
      "Cell \u001B[0;32mIn[9], line 1\u001B[0m\n\u001B[0;32m----> 1\u001B[0m \u001B[43mddata\u001B[49m[\u001B[38;5;241m0\u001B[39m][\u001B[38;5;124m'\u001B[39m\u001B[38;5;124mid\u001B[39m\u001B[38;5;124m'\u001B[39m]\n",
      "\u001B[0;31mNameError\u001B[0m: name 'ddata' is not defined"
     ]
    }
   ],
   "execution_count": 9
  },
  {
   "metadata": {},
   "cell_type": "code",
   "source": [
    "import time\n",
    "from docuverse.utils.timer import timer\n",
    "\n",
    "\n",
    "def test_search(vectors, vector_for_query=None, metric=\"IP\", reingest=False, milvus_server_addr=\"test.db\",\n",
    "                use_connections=False, ingest_batch_size=-1, collection_name=\"test3\", vector_field_name=\"qembedding\"):\n",
    "    truncate_dim = 384\n",
    "    if ingest_batch_size < 0:\n",
    "        ingest_batch_size = len(vectors)\n",
    "\n",
    "    if vector_for_query is None:\n",
    "        entities = vectors\n",
    "        test = vectors[0:3]\n",
    "    else:\n",
    "        entities = vectors\n",
    "        if isinstance(vector_for_query, list) and isinstance(vector_for_query[0], dict):\n",
    "            test = [d[vector_field_name] for d in vector_for_query]# [{vector_field_name: e} for e in vector_for_query]\n",
    "        else:\n",
    "            test = vector_for_query\n",
    "\n",
    "    if use_connections:\n",
    "        client = connections\n",
    "        init, host, port = milvus_server_addr.split(\":\")\n",
    "        host = host.replace(\"//\", \"\")\n",
    "        client.connect(host=host, port=port)\n",
    "        client1 = MilvusClient(milvus_server_addr)\n",
    "    else:\n",
    "        client = MilvusClient(milvus_server_addr)\n",
    "        client1 = client\n",
    "\n",
    "\n",
    "    if reingest or not client.has_collection(collection_name=collection_name):\n",
    "        schema = client1.create_schema(auto_id=True, enable_dynamic_field=True, primary_field=\"id\")\n",
    "\n",
    "        schema.add_field(field_name=\"id\", datatype=DataType.INT64, is_primary=True)\n",
    "        schema.add_field(field_name=\"text\", datatype=DataType.VARCHAR, max_length=50000)\n",
    "        schema.add_field(field_name=\"_id\", datatype=DataType.VARCHAR, max_length=50000)\n",
    "        schema.add_field(field_name=vector_field_name, datatype=DataType.FLOAT_VECTOR, dim=truncate_dim)\n",
    "\n",
    "        index_params = client1.prepare_index_params()\n",
    "        index_params.add_index(\n",
    "            field_name=vector_field_name,\n",
    "            index_type=\"FLAT\",\n",
    "            metric_type=metric,\n",
    "            index_name=vector_field_name,\n",
    "            params={\"nlist\": 1024}\n",
    "        )\n",
    "\n",
    "        client1.drop_collection(collection_name=collection_name)\n",
    "        client.create_collection(\n",
    "            collection_name=collection_name, schema=schema, index_params=index_params\n",
    "        )\n",
    "        for i in range(0, len(vectors), ingest_batch_size):\n",
    "            client.insert(collection_name=collection_name, data=entities[i:i + ingest_batch_size])\n",
    "        # insert_result = client.insert(collection_name=collection_name, data=entities)\n",
    "        # print({k: v for k, v in insert_result.items() if k != 'ids'})\n",
    "        client.load_collection(collection_name=collection_name)\n",
    "        ingested_items = 0\n",
    "        connections.connect(host=\"localhost\", port=19530)\n",
    "        utility.wait_for_index_building_complete(collection_name=collection_name, index_name=vector_field_name)\n",
    "        # print(\n",
    "        #     client.count_entities(collection_name=collection_name)\n",
    "        # )\n",
    "        tm = timer()\n",
    "        start = time.time()\n",
    "        while False and ingested_items < len(vectors)-1:\n",
    "            res = client.get_collection_stats(collection_name=collection_name)\n",
    "            ingested_items = res[\"row_count\"]\n",
    "            print(f\"{tm.time_since_beginning()}: Currently ingested items: {ingested_items}\")\n",
    "            time.sleep(10)\n",
    "        print(f\"Ingested in {tm.time_since_beginning()} seconds.\")\n",
    "        print(client.list_indexes(collection_name=collection_name))\n",
    "        print(client.describe_index(collection_name=collection_name, index_name=vector_field_name))\n",
    "\n",
    "    return client.search(\n",
    "        collection_name=collection_name,\n",
    "        # data=[t[vector_field_name] for t in test],\n",
    "        data=test,\n",
    "        #data=test,\n",
    "        search_params={\"metric_type\": metric, \"params\": {\"nprobe\": 100, \"efSearch\": 128}},\n",
    "        # anns_field=vector_field_name,\n",
    "        limit=10,\n",
    "        output_fields=[\"text\", \"_id\"],\n",
    "    )\n",
    "\n",
    "def print_answer(q, res):\n",
    "    print(f\"Question: {q['text'] if isinstance(q, dict) else q}\")\n",
    "    if len(res) == 0:\n",
    "        print(\"  ** No results found. **\")\n",
    "    else:\n",
    "        for r in res:\n",
    "            print({'id': r['entity']['_id'], 'answer': r['entity']['text'], 'score': r['distance']})\n",
    "        print(\"\\n\")\n",
    "\n",
    "def test_setup(milvus_server_addr=\"test.db\", reingest=False, use_connections=False, collection_name=\"test3\", vector_field_name=\"qembedding\", metric=\"IP\"):\n",
    "    global questions, score\n",
    "    print(f\"Testing {milvus_server_addr}\")\n",
    "    questions = data_list\n",
    "    answers = test_search(data_list, questions, reingest=reingest, milvus_server_addr=milvus_server_addr,\n",
    "                          use_connections=use_connections, collection_name=collection_name, vector_field_name=vector_field_name,\n",
    "                          metric=metric)\n",
    "    score = 0\n",
    "    total = len(questions)\n",
    "\n",
    "    for q, res in zip(questions, answers):\n",
    "        print(res)\n",
    "        if isinstance(q, dict):\n",
    "            if q['_id'] in [r['entity']['_id'] for r in res[0:3]]:\n",
    "                score += 1\n",
    "            else:\n",
    "                if len(res) > 0:\n",
    "                    print_answer(q, res)\n",
    "        else:\n",
    "            print_answer(q, res)\n",
    "    print(f\"Score: {score * 1.0 / total:.2f}\")"
   ],
   "id": "8052ced72a446f20",
   "outputs": [],
   "execution_count": null
  },
  {
   "metadata": {},
   "cell_type": "code",
   "source": "data_list[0].keys()",
   "id": "7e2d654b567fa607",
   "outputs": [],
   "execution_count": null
  },
  {
   "metadata": {},
   "cell_type": "code",
   "source": [
    "online_milvus = \"http://localhost:19530\"\n",
    "file_milvus = \"../test.db\"\n",
    "use_connections = True\n",
    "conns = {\n",
    "    \"quora_docuverse\": (\"beir_quora_small_milvus_dense_512_100_08292024\", \"embeddings\", \"IP\"),\n",
    "    \"test\": (\"test3\", \"qembedding\", \"IP\")\n",
    "}\n",
    "test = conns[\"quora_docuverse\"]\n",
    "keys_to_keep = {\"text\"}\n",
    "data_list = create_data(data, test[1])\n",
    "dense_collection_name = \"beir_quora_small_milvus_dense_512_100_10062024\"\n",
    "hybrid_collection_name = \"beir_quora_new_milvus_hybrid_512_100_10062024\""
   ],
   "id": "7fdb2625d9827420",
   "outputs": [],
   "execution_count": null
  },
  {
   "metadata": {},
   "cell_type": "code",
   "source": "len(data_list)",
   "id": "9c6ac4a34b5f2419",
   "outputs": [],
   "execution_count": null
  },
  {
   "metadata": {},
   "cell_type": "code",
   "source": "test_setup(online_milvus, reingest=True, use_connections=False, collection_name=test[0], vector_field_name=test[1], metric=test[2])",
   "id": "5604a026bf806fc0",
   "outputs": [],
   "execution_count": null
  },
  {
   "metadata": {},
   "cell_type": "code",
   "source": "",
   "id": "289724795b11faa2",
   "outputs": [],
   "execution_count": null
  },
  {
   "metadata": {},
   "cell_type": "code",
   "source": [
    "def extract_embeddings(data, vector_field_name):\n",
    "    return [di[vector_field_name] for di in data[:2]]\n",
    "\n",
    "def quick_search(collection_name, test_data, metric=\"IP\"):\n",
    "    global client\n",
    "    metric=metric\n",
    "    res=client.search(\n",
    "        collection_name=collection_name,\n",
    "        data=test_data,\n",
    "        search_params={\"metric_type\": metric, \"params\": {\"nprobe\": 100, \"efSearch\": 128}},\n",
    "        limit=10,\n",
    "        output_fields=[\"text\", \"id\"],\n",
    "    )\n",
    "    return res"
   ],
   "id": "dd2455da95e89d42",
   "outputs": [],
   "execution_count": null
  },
  {
   "metadata": {},
   "cell_type": "code",
   "source": [
    "num_questions = 10\n",
    "questions = [dt['text'] for dt in data[:num_questions]]\n",
    "client = MilvusClient(\"http://localhost:19530\")\n",
    "test_data=extract_embeddings(data_list[:num_questions], vector_field_name=\"embeddings\")\n",
    "dres = quick_search(collection_name=dense_collection_name, test_data=test_data)\n",
    "hres = quick_search(collection_name=hybrid_collection_name, test_data=test_data)"
   ],
   "id": "ccef5c5847c3725a",
   "outputs": [],
   "execution_count": null
  },
  {
   "metadata": {},
   "cell_type": "code",
   "source": [
    "dvec = client.query(collection_name=dense_collection_name, filter=\"id == '12017-0-62'\")\n",
    "hvec = client.query(collection_name=hybrid_collection_name, filter=\"id == '12017-0-62'\")"
   ],
   "id": "6e1666a8da828ddc",
   "outputs": [],
   "execution_count": null
  },
  {
   "metadata": {},
   "cell_type": "code",
   "source": "[(r['entity']['id'], r['distance']) for r in dres[0]]",
   "id": "29aac3f2b243f35e",
   "outputs": [],
   "execution_count": null
  },
  {
   "metadata": {},
   "cell_type": "code",
   "source": "[(r['entity']['id'], r['distance']) for r in hres[0]]",
   "id": "b2d8a9ca7a04bd8",
   "outputs": [],
   "execution_count": null
  },
  {
   "metadata": {},
   "cell_type": "code",
   "source": [
    "for q, res in zip(questions, answers):\n",
    "    print(f\"Question: {q['text']}\")\n",
    "    if len(res) == 0:\n",
    "        print(\"  ** No results found. **\")\n",
    "    else:\n",
    "        for r in res:\n",
    "            print({'id': r['entity']['_id'], 'answer': r['entity']['text'], 'score': r['distance']})\n",
    "        print(\"\\n\")"
   ],
   "id": "ad68616c9f766dce",
   "outputs": [],
   "execution_count": null
  },
  {
   "metadata": {},
   "cell_type": "code",
   "source": "questions[0]['text']",
   "id": "7048dbf2917945d6",
   "outputs": [],
   "execution_count": null
  },
  {
   "metadata": {
    "ExecuteTime": {
     "end_time": "2025-03-20T13:46:21.827531Z",
     "start_time": "2025-03-20T13:46:21.815453Z"
    }
   },
   "cell_type": "code",
   "source": "client = MilvusClient(\"http://localhost:19530\")",
   "id": "957466cbf74cf262",
   "outputs": [],
   "execution_count": 4
  },
  {
   "metadata": {},
   "cell_type": "code",
   "source": "[c for c in client.list_collections() if c.find(\"10062024\")>=0]",
   "id": "f7ce706bad23d9fc",
   "outputs": [],
   "execution_count": null
  },
  {
   "metadata": {},
   "cell_type": "code",
   "outputs": [],
   "execution_count": null,
   "source": "",
   "id": "8ac108b1584951e8"
  },
  {
   "metadata": {
    "ExecuteTime": {
     "end_time": "2024-10-25T20:03:12.126923Z",
     "start_time": "2024-10-25T20:03:12.124514Z"
    }
   },
   "cell_type": "code",
   "source": "print(client)",
   "id": "6f61be4f7f188c67",
   "outputs": [
    {
     "name": "stdout",
     "output_type": "stream",
     "text": [
      "<pymilvus.milvus_client.milvus_client.MilvusClient object at 0x7f49e5007d90>\n"
     ]
    }
   ],
   "execution_count": 15
  },
  {
   "metadata": {
    "ExecuteTime": {
     "end_time": "2024-10-09T21:46:20.113650127Z",
     "start_time": "2024-10-08T14:04:15.693183Z"
    }
   },
   "cell_type": "code",
   "source": "client.get_collection_stats(\"ibmsw_milvus_hybrid_gte_small_512_100_10062024\")",
   "id": "2f48b1df86d2405b",
   "outputs": [
    {
     "data": {
      "text/plain": [
       "{'row_count': 3895820}"
      ]
     },
     "execution_count": 88,
     "metadata": {},
     "output_type": "execute_result"
    }
   ],
   "execution_count": 88
  },
  {
   "metadata": {},
   "cell_type": "code",
   "source": "",
   "id": "9db574cb4ca51142",
   "outputs": [],
   "execution_count": null
  },
  {
   "metadata": {},
   "cell_type": "code",
   "source": "client.list_indexes(\"ibmsw_milvus_hybrid_slate30_new_512_100_10062024\")",
   "id": "35c88abb42ec27ee",
   "outputs": [],
   "execution_count": null
  },
  {
   "metadata": {
    "ExecuteTime": {
     "end_time": "2024-10-09T21:46:20.114184830Z",
     "start_time": "2024-10-07T01:24:21.348287Z"
    }
   },
   "cell_type": "code",
   "source": "client.describe_collection(\"ibmsw_milvus_hybrid_slate30m_512_100_10062024\")",
   "id": "ff02cdb2180427e9",
   "outputs": [
    {
     "data": {
      "text/plain": [
       "{'collection_name': 'ibmsw_milvus_hybrid_slate30m_512_100_10062024',\n",
       " 'auto_id': True,\n",
       " 'num_shards': 1,\n",
       " 'description': 'ibmsw_milvus_hybrid_slate30m_512_100_10062024',\n",
       " 'fields': [{'field_id': 100,\n",
       "   'name': '_id',\n",
       "   'description': 'ID',\n",
       "   'type': <DataType.INT64: 5>,\n",
       "   'params': {},\n",
       "   'auto_id': True,\n",
       "   'is_primary': True},\n",
       "  {'field_id': 101,\n",
       "   'name': 'id',\n",
       "   'description': '',\n",
       "   'type': <DataType.VARCHAR: 21>,\n",
       "   'params': {'max_length': 1000}},\n",
       "  {'field_id': 102,\n",
       "   'name': 'text',\n",
       "   'description': '',\n",
       "   'type': <DataType.VARCHAR: 21>,\n",
       "   'params': {'max_length': 10000}},\n",
       "  {'field_id': 103,\n",
       "   'name': 'title',\n",
       "   'description': '',\n",
       "   'type': <DataType.VARCHAR: 21>,\n",
       "   'params': {'max_length': 10000}},\n",
       "  {'field_id': 104,\n",
       "   'name': 'url',\n",
       "   'description': '',\n",
       "   'type': <DataType.VARCHAR: 21>,\n",
       "   'params': {'max_length': 10000}},\n",
       "  {'field_id': 105,\n",
       "   'name': 'dcc',\n",
       "   'description': '',\n",
       "   'type': <DataType.VARCHAR: 21>,\n",
       "   'params': {'max_length': 10000}},\n",
       "  {'field_id': 106,\n",
       "   'name': 'scope',\n",
       "   'description': '',\n",
       "   'type': <DataType.VARCHAR: 21>,\n",
       "   'params': {'max_length': 10000}},\n",
       "  {'field_id': 107,\n",
       "   'name': 'bm25_model_embeddings',\n",
       "   'description': '',\n",
       "   'type': <DataType.SPARSE_FLOAT_VECTOR: 104>,\n",
       "   'params': {}},\n",
       "  {'field_id': 108,\n",
       "   'name': 'slate_dense_model_embeddings',\n",
       "   'description': '',\n",
       "   'type': <DataType.FLOAT_VECTOR: 101>,\n",
       "   'params': {'dim': 384}}],\n",
       " 'aliases': [],\n",
       " 'collection_id': 453002177992670907,\n",
       " 'consistency_level': 2,\n",
       " 'properties': {},\n",
       " 'num_partitions': 1,\n",
       " 'enable_dynamic_field': False}"
      ]
     },
     "execution_count": 83,
     "metadata": {},
     "output_type": "execute_result"
    }
   ],
   "execution_count": 83
  },
  {
   "metadata": {
    "ExecuteTime": {
     "end_time": "2024-11-04T14:39:40.542711Z",
     "start_time": "2024-11-04T14:39:40.535730Z"
    }
   },
   "cell_type": "code",
   "source": [
    "from pymilvus import utility, connections\n",
    "connections.connect(host=\"localhost\", port='19530')"
   ],
   "id": "714668e48e6dfe0e",
   "outputs": [],
   "execution_count": 9
  },
  {
   "metadata": {},
   "cell_type": "code",
   "source": "utility.index_building_progress(\"test2\", \"qembedding\")\n",
   "id": "2e222e8300df790b",
   "outputs": [],
   "execution_count": null
  },
  {
   "metadata": {
    "ExecuteTime": {
     "end_time": "2024-11-04T14:39:43.227871Z",
     "start_time": "2024-11-04T14:39:43.202579Z"
    }
   },
   "cell_type": "code",
   "source": [
    "client.list_collections()\n",
    "# [c for c in client.list_collections() if c.find(\"small\")>=0]"
   ],
   "id": "4418409c37bea0b3",
   "outputs": [
    {
     "ename": "NameError",
     "evalue": "name 'client' is not defined",
     "output_type": "error",
     "traceback": [
      "\u001B[0;31m---------------------------------------------------------------------------\u001B[0m",
      "\u001B[0;31mNameError\u001B[0m                                 Traceback (most recent call last)",
      "Cell \u001B[0;32mIn[10], line 1\u001B[0m\n\u001B[0;32m----> 1\u001B[0m \u001B[38;5;28mlist\u001B[39m(\u001B[43mclient\u001B[49m\u001B[38;5;241m.\u001B[39mlist_collections())\n\u001B[1;32m      2\u001B[0m \u001B[38;5;66;03m# [c for c in client.list_collections() if c.find(\"small\")>=0]\u001B[39;00m\n",
      "\u001B[0;31mNameError\u001B[0m: name 'client' is not defined"
     ]
    }
   ],
   "execution_count": 10
  },
  {
   "metadata": {},
   "cell_type": "code",
   "source": [
    "txt=\"aclput Command Purpose Sets the access control information of a file. Syntax aclput [ -i inAclFile ] [ -R ] [ -t acl_type ] [ -v ]FileObject Description The aclput command sets the access control information of the file object that is specified by the FileObject parameter. The command reads standard input for the access control information, unless you specify the -i flag. Note: If you are reading from standard input your entries must match the expected format of the access control information or you get an error message. Use the Ctrl-D key sequence to complete the session. Access Control List Access Control Lists form the core of protection for file system objects. Each file system object is uniquely associated with one piece of data, called ACL that defines the access rights to the object. ACL might consist of multiple Access Control Entries (ACEs), each defining one particular set of access rights for a user. Typically, ACE consists of information such as identification (to whom this ACE applies) and access rights (allow-read, deny-write). ACE might also capture information such as inheritance flags and alarm and audit flags. The format and enforcement of ACL data is entirely dependent on the ACL type in which they are defined. AIX\\u00ae provides for existence of multiple ACL types on the operating system. The list of ACLs supported by a file system instance depends on the physical file system implementation for that file system instance. Flags Table 1. Flags Item Description -i inAclFile Specifies the input file for access control information. If the access control information in the file that is specified by the InAclFile parameter is not correct, when you try to apply it to a file, an error message that is preceded by an asterisk is added to the input file. Note: The size of the ACL information depends on the ACL type. -R Apply ACL to this directory and its children file system objects recursively. -t ACL_type Specifies the ACL type of the ACL information that is displayed. If option is not provided, the actual ACL data in its original ACL type is displayed. The supported ACL types are ACLX and NFS4. -v Verbose option. This option displays many comment lines as part of the ACL data display. This comment might help in understanding the details of complex ACL types. Security Access Control This command should be a standard user program and have the trusted computing base attribute. Auditing Events If the auditing subsystem is properly configured and is enabled, the aclput command generates the following audit record or event every time the command is run: Event Information FILE_WriteXacl Modification to access controls. RBAC users Attention RBAC users: This command can perform privileged operations. Only privileged users can run privileged operations. For more information about authorizations and privileges, see Privileged Command Database in Security. For a list of privileges and the authorizations that are associated with this command, see the lssecattr command or the getcmdattr subcommand. Examples To set the access control information for the status file with information from standard input, enter: aclput status attributes: SUID and then press the Ctrl-D sequence to exit the session. To set the access control information for the status file with information stored in the acldefs file, enter: aclput -i acldefs status To set the access control information for the status file with the same information used for the plans file, enter: aclget plans | aclput status To set the access control information for the status file with an edited version of the access control information for the plans file, you must enter two commands. First, enter: aclget -o acl plans This stores the access control information for the plans file in the acl file. Edit the information in the acl file by using your favorite editor. Then, enter: aclput -i acl status This second command takes the access control information in the acl file and puts it on the status file. Files Table 2. Files Item Description /usr/bin/aclput Contains the aclput command. Parent topic: a Related reference aclget Command auditpr Command Related information chmod Command Securing the network\"\n",
    "d=model.encode([txt])[0]"
   ],
   "id": "30b44288ce939be8",
   "outputs": [],
   "execution_count": null
  },
  {
   "metadata": {},
   "cell_type": "code",
   "source": [
    "qemb=model.encode([text])[0]\n",
    "search_params = {\"metric_type\": \"IP\", \"params\": {\"nprobe\": 100, \"efSearch\": 128}}"
   ],
   "id": "5f62cf240d2190b9",
   "outputs": [],
   "execution_count": null
  },
  {
   "metadata": {},
   "cell_type": "code",
   "source": "res=client.search(collection_name=\"\", data=[qemb], search_param=search_params, limit=3, output_fields=[\"text\", \"_id\"])",
   "id": "25d694732cedced8",
   "outputs": [],
   "execution_count": null
  },
  {
   "metadata": {},
   "cell_type": "code",
   "source": "client.describe_index(\"test1\", \"qembedding\")",
   "id": "83e292160e5718e",
   "outputs": [],
   "execution_count": null
  },
  {
   "metadata": {},
   "cell_type": "code",
   "source": "client.describe_collection(\"test3\")",
   "id": "c15198d6c0000aab",
   "outputs": [],
   "execution_count": null
  },
  {
   "metadata": {},
   "cell_type": "code",
   "source": "client.describe_index(\"beir_quora_small_milvus_dense_512_100_08292024\", \"embeddings\")",
   "id": "6e018cf15126dc0a",
   "outputs": [],
   "execution_count": null
  },
  {
   "metadata": {},
   "cell_type": "code",
   "source": "client.flush()",
   "id": "3529eb0d064b7581",
   "outputs": [],
   "execution_count": null
  },
  {
   "metadata": {},
   "cell_type": "markdown",
   "source": "",
   "id": "80d97ea9e2c5bf2c"
  },
  {
   "metadata": {},
   "cell_type": "code",
   "source": [
    "text=\"How does Quora look to a moderator?\"\n",
    "text=\"I was suddenly logged off Gmail. I can't remember my Gmail password and just realized the recovery email is no longer alive. What can I do?\"\n",
    "qemb=model.encode([text])[0]\n",
    "search_params = {\"metric_type\": \"IP\", \"params\": {\"nprobe\": 100, \"efSearch\": 128}}"
   ],
   "id": "a21e011970d4361e",
   "outputs": [],
   "execution_count": null
  },
  {
   "metadata": {},
   "cell_type": "code",
   "source": "res=client.search(collection_name=\"ibmsw_milvus_hybrid_512_100_10022024\", data=[d], search_param=search_params, limit=3, output_fields=[\"text\", \"_id\"])",
   "id": "f1792762b5a73f54",
   "outputs": [],
   "execution_count": null
  },
  {
   "metadata": {},
   "cell_type": "code",
   "source": "res[0]",
   "id": "ee1d0873d00b8848",
   "outputs": [],
   "execution_count": null
  },
  {
   "metadata": {
    "ExecuteTime": {
     "end_time": "2024-10-09T21:46:45.342946Z",
     "start_time": "2024-10-09T21:46:45.338454Z"
    }
   },
   "cell_type": "code",
   "source": "client=MilvusClient(\"/tmp/bla.db\")",
   "id": "79bc24ebb68e62ce",
   "outputs": [],
   "execution_count": 4
  },
  {
   "metadata": {},
   "cell_type": "code",
   "outputs": [],
   "execution_count": null,
   "source": "",
   "id": "cfda9bde36cc58db"
  }
 ],
 "metadata": {
  "kernelspec": {
   "display_name": "Python 3",
   "language": "python",
   "name": "python3"
  },
  "language_info": {
   "codemirror_mode": {
    "name": "ipython",
    "version": 2
   },
   "file_extension": ".py",
   "mimetype": "text/x-python",
   "name": "python",
   "nbconvert_exporter": "python",
   "pygments_lexer": "ipython2",
   "version": "2.7.6"
  }
 },
 "nbformat": 4,
 "nbformat_minor": 5
}
