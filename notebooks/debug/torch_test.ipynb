{
 "cells": [
  {
   "cell_type": "code",
   "id": "initial_id",
   "metadata": {
    "collapsed": true,
    "ExecuteTime": {
     "end_time": "2024-08-30T19:29:34.150805Z",
     "start_time": "2024-08-30T19:29:34.148872Z"
    }
   },
   "source": [
    "import torch\n",
    "import itertools"
   ],
   "outputs": [],
   "execution_count": 49
  },
  {
   "metadata": {
    "ExecuteTime": {
     "end_time": "2024-08-30T19:13:00.438325Z",
     "start_time": "2024-08-30T19:13:00.436033Z"
    }
   },
   "cell_type": "code",
   "source": [
    "def create_rand(n1, n2=1, device='cuda'):\n",
    "    if n2==1:\n",
    "        return torch.rand((n1), device=device)\n",
    "    else:\n",
    "        return torch.rand((n1, n2), device=device)"
   ],
   "id": "34bcdab6026cdcc6",
   "outputs": [],
   "execution_count": 2
  },
  {
   "metadata": {
    "ExecuteTime": {
     "end_time": "2024-08-30T19:13:00.516329Z",
     "start_time": "2024-08-30T19:13:00.514499Z"
    }
   },
   "cell_type": "code",
   "source": [
    "def create_int(n1, n2=1, device='cuda'):\n",
    "    if n2==1:\n",
    "        return torch.randint(1, 54999, (n1,), device=device)\n",
    "    else:\n",
    "        return torch.randint(1, 54999, (n1, n2), device=device)"
   ],
   "id": "2035d70cd6f287a6",
   "outputs": [],
   "execution_count": 3
  },
  {
   "metadata": {
    "ExecuteTime": {
     "end_time": "2024-08-30T19:15:26.629941Z",
     "start_time": "2024-08-30T19:15:26.625757Z"
    }
   },
   "cell_type": "code",
   "source": [
    "a=torch.randint(1, 54999, (500,))\n",
    "b=torch.rand((500,))\n",
    "a1=torch.randint(1, 54999, (500,))\n",
    "b1=torch.rand((500,))\n",
    "device='cuda'\n",
    "def f(a, b, a1, b1, device='cuda'):\n",
    "    a=a.to(device)\n",
    "    b=b.to(device)\n",
    "    a1=a1.to(device)\n",
    "    b1=b1.to(device)\n",
    "    v=torch.zeros((55000), device=device)\n",
    "    v[a] = b\n",
    "    v1=torch.zeros((55000), device=device)\n",
    "    v1[a1]=b1\n",
    "    return torch.inner(v, v1)\n",
    "f(a, b, a1, b1)\n",
    "# timeit f(a, b, a1, b1)\n",
    "\n",
    "def f1(a, b, a1, b1):\n",
    "    k = {}\n",
    "    for ia, ib in zip(a, b):\n",
    "        k[int(ia)] = float(ib)\n",
    "    v=0\n",
    "    for ia, ib in zip(a1, b1):\n",
    "        v += k.get(int(ia), 0)*float(ib)\n",
    "    return v"
   ],
   "id": "a452e9af8282dfdd",
   "outputs": [],
   "execution_count": 19
  },
  {
   "metadata": {
    "ExecuteTime": {
     "end_time": "2024-08-30T19:13:01.007463Z",
     "start_time": "2024-08-30T19:13:00.931492Z"
    }
   },
   "cell_type": "code",
   "source": "f(a, b, a1, b1)",
   "id": "e8001210ec796a12",
   "outputs": [
    {
     "data": {
      "text/plain": [
       "tensor(3.4891, device='cuda:0')"
      ]
     },
     "execution_count": 5,
     "metadata": {},
     "output_type": "execute_result"
    }
   ],
   "execution_count": 5
  },
  {
   "metadata": {
    "ExecuteTime": {
     "end_time": "2024-08-30T19:13:01.403771Z",
     "start_time": "2024-08-30T19:13:01.401189Z"
    }
   },
   "cell_type": "code",
   "source": [
    "def f100(a, b, a1, b1, device='cuda'):\n",
    "    a=a.to(device)\n",
    "    b=b.to(device)\n",
    "    a1=a1.to(device)\n",
    "    b1=b1.to(device)\n",
    "    for i in range(100):\n",
    "        v=torch.zeros((55000), device=device)\n",
    "        v[a] = b\n",
    "        v1=torch.zeros((55000), device=device)\n",
    "        v1[a1]=b1\n",
    "        r = torch.dot(v, v1)\n",
    "    return r"
   ],
   "id": "bdbdbf42038757a2",
   "outputs": [],
   "execution_count": 6
  },
  {
   "metadata": {
    "ExecuteTime": {
     "end_time": "2024-08-30T20:47:27.544781Z",
     "start_time": "2024-08-30T20:46:29.701972Z"
    }
   },
   "cell_type": "code",
   "source": [
    "def f200(a, b, a1, b1, device='cuda'):\n",
    "    a=a.to(device)\n",
    "    b=b.to(device)\n",
    "    a1=a1.to(device)\n",
    "    b1=b1.to(device)\n",
    "    ind_a=torch.tensor([torch.cat([torch.tensor([i]*len(a)) for i in range(100)]).tolist(), \n",
    "                    a.repeat(100).tolist()\n",
    "                    ], \n",
    "                   device=device)\n",
    "    vals_a=b.repeat(100)\n",
    "    v=torch.sparse_coo_tensor(ind_a, vals_a, (100, 55000), device=device)\n",
    "    ind_b=torch.tensor([torch.cat([torch.tensor([i]*len(a1)) for i in range(100)]).tolist(), \n",
    "                    a1.repeat(100).tolist()\n",
    "                    ], \n",
    "                   device=device)\n",
    "    vals_b=b1.repeat(100)\n",
    "    v1=torch.sparse_coo_tensor(ind_b, vals_b, (100, 55000), device=device)\n",
    "    res=torch.sparse.mm(v.t(), v1)\n",
    "    return res.to_dense()\n",
    "%timeit f200(a,b,a1,b1, 'cuda:0')"
   ],
   "id": "ea6266c3653a2068",
   "outputs": [
    {
     "name": "stdout",
     "output_type": "stream",
     "text": [
      "518 ms ± 839 μs per loop (mean ± std. dev. of 7 runs, 10 loops each)\n"
     ]
    }
   ],
   "execution_count": 131
  },
  {
   "metadata": {
    "ExecuteTime": {
     "end_time": "2024-08-30T19:13:03.687301Z",
     "start_time": "2024-08-30T19:13:03.684286Z"
    }
   },
   "cell_type": "code",
   "source": [
    "def f2(a, b, a1, b1, device='cuda'):\n",
    "    v=torch.zeros((100, 55000), device=device)\n",
    "    for i in range(a.size()[0]):\n",
    "        v[i][a[i]] = b[i]\n",
    "    v1=torch.zeros((100, 55000), device=device)\n",
    "    for i in range(a1.size()[0]):\n",
    "        v1[i][a[i]] = b[i]\n",
    "    return torch.matmul(v.reshape(100,1,55000), v1.reshape(100,55000,1)).squeeze(1)\n"
   ],
   "id": "447129ed56e96e24",
   "outputs": [],
   "execution_count": 8
  },
  {
   "metadata": {
    "ExecuteTime": {
     "end_time": "2024-08-30T20:47:57.166240Z",
     "start_time": "2024-08-30T20:47:53.280390Z"
    }
   },
   "cell_type": "code",
   "source": "%timeit f100(a, b, a1, b1, 'cpu')",
   "id": "9b61b7af10f2a139",
   "outputs": [
    {
     "name": "stdout",
     "output_type": "stream",
     "text": [
      "4.62 ms ± 305 μs per loop (mean ± std. dev. of 7 runs, 100 loops each)\n"
     ]
    }
   ],
   "execution_count": 132
  },
  {
   "metadata": {
    "ExecuteTime": {
     "end_time": "2024-08-30T19:13:26.833077Z",
     "start_time": "2024-08-30T19:13:16.910943Z"
    }
   },
   "cell_type": "code",
   "source": "%timeit f1(a, b, a1, b1)",
   "id": "e3abcbb8264fd54",
   "outputs": [
    {
     "name": "stdout",
     "output_type": "stream",
     "text": [
      "1.21 ms ± 5.3 μs per loop (mean ± std. dev. of 7 runs, 1,000 loops each)\n"
     ]
    }
   ],
   "execution_count": 10
  },
  {
   "metadata": {
    "ExecuteTime": {
     "end_time": "2024-08-30T19:13:31.621406Z",
     "start_time": "2024-08-30T19:13:28.589854Z"
    }
   },
   "cell_type": "code",
   "source": "%timeit f(a, b, a1, b1, 'cpu')",
   "id": "33a3443a0cb4b738",
   "outputs": [
    {
     "name": "stdout",
     "output_type": "stream",
     "text": [
      "346 μs ± 19.6 μs per loop (mean ± std. dev. of 7 runs, 1,000 loops each)\n"
     ]
    }
   ],
   "execution_count": 11
  },
  {
   "metadata": {
    "ExecuteTime": {
     "end_time": "2024-08-27T22:47:02.535367Z",
     "start_time": "2024-08-27T22:47:01.486024Z"
    }
   },
   "cell_type": "code",
   "outputs": [],
   "execution_count": 9,
   "source": [
    "aa=create_int(100, 500)\n",
    "aa1=create_int(100, 500)\n",
    "bb=create_rand(100, 500)\n",
    "bb1=create_rand(100, 500)"
   ],
   "id": "819b5f1cfd8bbfe"
  },
  {
   "metadata": {
    "ExecuteTime": {
     "end_time": "2024-08-27T23:22:08.512880Z",
     "start_time": "2024-08-27T23:21:55.162824Z"
    }
   },
   "cell_type": "code",
   "outputs": [
    {
     "name": "stdout",
     "output_type": "stream",
     "text": [
      "1.65 ms ± 6.98 μs per loop (mean ± std. dev. of 7 runs, 1,000 loops each)\n"
     ]
    }
   ],
   "execution_count": 67,
   "source": "%timeit f2(aa, bb, aa1, bb1)",
   "id": "cc915f0618f0f89"
  },
  {
   "metadata": {
    "ExecuteTime": {
     "end_time": "2024-08-28T19:03:27.104459Z",
     "start_time": "2024-08-28T19:03:27.097218Z"
    }
   },
   "cell_type": "code",
   "source": [
    "x=create_int(500, 1, 'cpu')\n",
    "y=create_rand(500, 1, 'cpu')\n",
    "xx=create_int(100,500, 'cpu')\n",
    "yy=create_rand(100,500, 'cpu')\n",
    "v=torch.zeros((55000),device='cpu')\n",
    "vv=torch.zeros((100,55000),device='cpu')"
   ],
   "id": "5617f793829ca075",
   "outputs": [],
   "execution_count": 17
  },
  {
   "metadata": {
    "ExecuteTime": {
     "end_time": "2024-08-28T19:03:28.144547Z",
     "start_time": "2024-08-28T19:03:28.141562Z"
    }
   },
   "cell_type": "code",
   "source": "v[xx]=yy",
   "id": "ccf86df8bdf29574",
   "outputs": [],
   "execution_count": 18
  },
  {
   "metadata": {
    "ExecuteTime": {
     "end_time": "2024-08-28T19:03:29.744921Z",
     "start_time": "2024-08-28T19:03:29.741622Z"
    }
   },
   "cell_type": "code",
   "source": [
    "for i in range(100):\n",
    "    vv[i][xx[i]] = yy[i]"
   ],
   "id": "4d52eb1e4699ed10",
   "outputs": [],
   "execution_count": 19
  },
  {
   "metadata": {
    "ExecuteTime": {
     "end_time": "2024-08-28T19:03:54.650090Z",
     "start_time": "2024-08-28T19:03:54.644718Z"
    }
   },
   "cell_type": "code",
   "source": "r=torch.matmul(v.reshape(1, 55000), vv.reshape(100,55000,1))",
   "id": "b2c844f6691a6b5a",
   "outputs": [],
   "execution_count": 21
  },
  {
   "metadata": {
    "ExecuteTime": {
     "end_time": "2024-08-28T19:04:09.291770Z",
     "start_time": "2024-08-28T19:04:09.289097Z"
    }
   },
   "cell_type": "code",
   "source": [
    "r.size(\n",
    ")"
   ],
   "id": "445eef470d7c2639",
   "outputs": [
    {
     "data": {
      "text/plain": [
       "torch.Size([100, 1, 1])"
      ]
     },
     "execution_count": 22,
     "metadata": {},
     "output_type": "execute_result"
    }
   ],
   "execution_count": 22
  },
  {
   "metadata": {
    "ExecuteTime": {
     "end_time": "2024-08-28T18:59:40.461205Z",
     "start_time": "2024-08-28T18:59:40.456956Z"
    }
   },
   "cell_type": "code",
   "source": "torch.cuda.device_count()",
   "id": "d990302c57fe5c71",
   "outputs": [
    {
     "data": {
      "text/plain": [
       "2"
      ]
     },
     "execution_count": 14,
     "metadata": {},
     "output_type": "execute_result"
    }
   ],
   "execution_count": 14
  },
  {
   "metadata": {
    "ExecuteTime": {
     "end_time": "2024-08-30T19:13:40.595491Z",
     "start_time": "2024-08-30T19:13:40.591813Z"
    }
   },
   "cell_type": "code",
   "source": "a",
   "id": "4d2927440b6000aa",
   "outputs": [
    {
     "data": {
      "text/plain": [
       "tensor([34673, 39187, 34475, 21921, 11017,  4129, 19256, 53189, 13449, 20570,\n",
       "        33299, 54305, 46768, 17246, 53006, 24287, 32599, 14679, 29950, 39174,\n",
       "        30578, 40321, 13688,  9519,  2983, 15066, 32488, 20378, 22760, 41604,\n",
       "        26112, 27547, 15471, 51513, 50299, 13835, 33543, 42836, 50316,  7247,\n",
       "        18558, 44319, 37961, 28487, 20806,  4227, 15373, 11104, 49818,  6684,\n",
       "        16595, 30453, 19980, 26191, 49659, 48368, 13086, 47612, 27443, 32116,\n",
       "        27380, 42905, 32636,   301, 20607, 52530,  5959, 10194, 30666, 41140,\n",
       "         3271, 54452, 45668, 21677, 13827, 41863, 43228, 29978,  7744, 25401,\n",
       "         8443, 30185, 18841,  6431, 51071, 20341, 30643, 33528, 54100, 38074,\n",
       "        30992, 43024, 33610, 10501,  3219, 34851, 33879, 18719, 12445, 17590,\n",
       "        54197, 48831, 52383,  6909, 40620,  6572, 49113, 31829, 14677,  5255,\n",
       "        46093, 29832,  7581, 10109, 47956, 48829, 28650, 29373, 23914, 20216,\n",
       "        48434, 23075, 53556, 19439, 44330, 46197, 15834, 24245,  2628, 33962,\n",
       "        37991, 32124, 47542, 32648, 54170,  4935, 10166, 42810, 48248, 18363,\n",
       "         6206, 28941, 31093, 52710, 25444, 30901, 25496, 20152, 16141, 52367,\n",
       "         5815, 52070, 29682, 21267, 37743, 18944,  9728,  2991, 44524, 21783,\n",
       "        40294, 52586,  2222, 52218, 28032, 15481, 29010, 14910, 51102, 43016,\n",
       "        25796, 17399, 30699, 24025,  4112, 48876, 19315,  3247,  3801, 49122,\n",
       "        35890, 12687, 15861, 22197, 30315, 23710,  4389, 39168,   395, 23253,\n",
       "        21666,  1646,  6557, 48778, 25724, 52686,  1475, 24900, 42986, 26514,\n",
       "        52712, 49639, 39559, 25900, 33066, 19142, 47691, 38629, 32573, 15964,\n",
       "        52768, 34338, 17230, 52605, 49732,  8036, 14524, 19218, 42628,  3117,\n",
       "        17085, 33961, 51720, 23359, 33932, 16445,  1951, 46904, 20128, 19559,\n",
       "        25967, 26131, 13366, 35833, 31556, 30330, 27053,  3162,  1468,  2803,\n",
       "        51488,  4283, 14755, 16941, 48593, 10398, 48590, 12957, 12836, 11998,\n",
       "         4068, 21921, 32746,  8955, 46291, 34690, 10290, 16291, 51982, 29013,\n",
       "        40149, 15857,  2610, 42075, 15817, 11398, 42090, 10402, 17814, 32923,\n",
       "        25679, 37042, 29072, 20126, 40766,  8268, 24374, 12642, 38566, 38504,\n",
       "        11675, 46921, 52075,  8303, 45527,  2177, 17204, 53067,  1622,  9563,\n",
       "          350,  9302, 25260, 44770,  8562, 31087, 37201, 20731, 35920,  4954,\n",
       "        28517, 46565,   159, 51926, 46167, 31851, 38444,  4616, 27632, 10677,\n",
       "         1560, 39156,  7917,  2240, 39139,  8472, 37720, 45424, 17059,  1047,\n",
       "        27661, 52669, 48302, 44756, 41058,  4360, 43946,  1417, 52344, 47708,\n",
       "        25582, 33672,  6835, 21676,  1380, 44746, 35130, 52495,  4045, 24989,\n",
       "        39318, 13904, 11049, 50198,  6318, 50640, 45610, 38089, 24333,  2884,\n",
       "        37169, 14208, 40671, 15760,  7057, 31836, 11030, 31797, 11650, 27238,\n",
       "        39474, 41782, 26602,  4134, 10986,  5121, 45953,  5216, 48166, 45078,\n",
       "        45729, 46711, 53195, 19604,  7824, 40096,  2833, 29778, 14639, 19794,\n",
       "        38208, 24592, 40192, 49693, 54462, 23536, 47763, 41272, 52142,  7556,\n",
       "        49083,  1953, 38183, 11640, 39132, 36959,  1216, 44564, 24462,  2620,\n",
       "        46269, 41038, 47473,  6369, 34925, 13926, 23869, 23131, 15655, 35822,\n",
       "        42564, 21649, 43842, 20160,   756, 12669, 46782,  7008, 33610,  2588,\n",
       "        21089,  9069, 43166, 29204, 49039, 20755,   403, 30304, 17747, 37693,\n",
       "        33901,  2228, 22926, 34387, 20618,  5297, 24068, 48881, 51640, 22351,\n",
       "        12243,  4711, 25516,   261, 23114, 10170, 23897, 33054, 52452, 23786,\n",
       "        50078, 26578, 30441, 36838, 52810, 52047,  4325, 22326,  8128, 27739,\n",
       "        25826, 33919, 20048, 52921,  8199, 18074, 21079, 54760, 43838, 51630,\n",
       "        18494, 22128, 49465, 54705, 42021, 23125, 34824, 17514,  2431, 28670,\n",
       "        40179, 42178, 37626, 32479, 49551, 17173, 28647, 30812, 19615, 14804,\n",
       "        36182,  8231, 41293, 17514, 10312,  7897, 28334, 20815, 33579, 53789])"
      ]
     },
     "execution_count": 12,
     "metadata": {},
     "output_type": "execute_result"
    }
   ],
   "execution_count": 12
  },
  {
   "metadata": {
    "ExecuteTime": {
     "end_time": "2024-08-30T19:14:41.158985Z",
     "start_time": "2024-08-30T19:14:41.133430Z"
    }
   },
   "cell_type": "code",
   "source": "f200(a,b,a1,b1, 'cuda:0')",
   "id": "44d82940efb5f734",
   "outputs": [
    {
     "ename": "TypeError",
     "evalue": "tensor() takes 1 positional argument but 2 were given",
     "output_type": "error",
     "traceback": [
      "\u001B[0;31m---------------------------------------------------------------------------\u001B[0m",
      "\u001B[0;31mTypeError\u001B[0m                                 Traceback (most recent call last)",
      "Cell \u001B[0;32mIn[16], line 1\u001B[0m\n\u001B[0;32m----> 1\u001B[0m \u001B[43mf200\u001B[49m\u001B[43m(\u001B[49m\u001B[43ma\u001B[49m\u001B[43m,\u001B[49m\u001B[43mb\u001B[49m\u001B[43m,\u001B[49m\u001B[43ma1\u001B[49m\u001B[43m,\u001B[49m\u001B[43mb1\u001B[49m\u001B[43m,\u001B[49m\u001B[43m \u001B[49m\u001B[38;5;124;43m'\u001B[39;49m\u001B[38;5;124;43mcuda:0\u001B[39;49m\u001B[38;5;124;43m'\u001B[39;49m\u001B[43m)\u001B[49m\n",
      "Cell \u001B[0;32mIn[15], line 9\u001B[0m, in \u001B[0;36mf200\u001B[0;34m(a, b, a1, b1, device)\u001B[0m\n\u001B[1;32m      7\u001B[0m vals_a \u001B[38;5;241m=\u001B[39m b\n\u001B[1;32m      8\u001B[0m v\u001B[38;5;241m=\u001B[39mtorch\u001B[38;5;241m.\u001B[39msparse_coo_tensor(ind_a, vals_a, (\u001B[38;5;241m1\u001B[39m, \u001B[38;5;241m55000\u001B[39m), device\u001B[38;5;241m=\u001B[39mdevice)\n\u001B[0;32m----> 9\u001B[0m ind_b\u001B[38;5;241m=\u001B[39m\u001B[43mtorch\u001B[49m\u001B[38;5;241;43m.\u001B[39;49m\u001B[43mtensor\u001B[49m\u001B[43m(\u001B[49m\u001B[43m[\u001B[49m\u001B[43m[\u001B[49m\u001B[43mi\u001B[49m\u001B[43m]\u001B[49m\u001B[38;5;241;43m*\u001B[39;49m\u001B[38;5;28;43mlen\u001B[39;49m\u001B[43m(\u001B[49m\u001B[43mb\u001B[49m\u001B[43m)\u001B[49m\u001B[43m \u001B[49m\u001B[38;5;28;43;01mfor\u001B[39;49;00m\u001B[43m \u001B[49m\u001B[43mi\u001B[49m\u001B[43m \u001B[49m\u001B[38;5;129;43;01min\u001B[39;49;00m\u001B[43m \u001B[49m\u001B[38;5;28;43mrange\u001B[39;49m\u001B[43m(\u001B[49m\u001B[38;5;241;43m100\u001B[39;49m\u001B[43m)\u001B[49m\u001B[43m]\u001B[49m\u001B[43m,\u001B[49m\u001B[43m \u001B[49m\n\u001B[1;32m     10\u001B[0m \u001B[43m                   \u001B[49m\u001B[43m[\u001B[49m\u001B[43mb\u001B[49m\u001B[43m \u001B[49m\u001B[38;5;28;43;01mfor\u001B[39;49;00m\u001B[43m \u001B[49m\u001B[43m_\u001B[49m\u001B[43m \u001B[49m\u001B[38;5;129;43;01min\u001B[39;49;00m\u001B[43m \u001B[49m\u001B[38;5;28;43mrange\u001B[39;49m\u001B[43m(\u001B[49m\u001B[38;5;241;43m100\u001B[39;49m\u001B[43m)\u001B[49m\u001B[43m]\u001B[49m\u001B[43m,\u001B[49m\u001B[43m \u001B[49m\u001B[43mdevice\u001B[49m\u001B[38;5;241;43m=\u001B[39;49m\u001B[43mdevice\u001B[49m\u001B[43m)\u001B[49m\n\u001B[1;32m     11\u001B[0m vals_b\u001B[38;5;241m=\u001B[39mtorch\u001B[38;5;241m.\u001B[39mcat([b \u001B[38;5;28;01mfor\u001B[39;00m _ \u001B[38;5;129;01min\u001B[39;00m \u001B[38;5;28mrange\u001B[39m(\u001B[38;5;241m100\u001B[39m)])\n\u001B[1;32m     12\u001B[0m v1\u001B[38;5;241m=\u001B[39mtorch\u001B[38;5;241m.\u001B[39msparse_coo_tensor(ind_b, vals_b, (\u001B[38;5;241m100\u001B[39m, \u001B[38;5;241m55000\u001B[39m), device\u001B[38;5;241m=\u001B[39mdevice)\n",
      "\u001B[0;31mTypeError\u001B[0m: tensor() takes 1 positional argument but 2 were given"
     ]
    }
   ],
   "execution_count": 16
  },
  {
   "metadata": {
    "ExecuteTime": {
     "end_time": "2024-08-30T19:15:13.275718Z",
     "start_time": "2024-08-30T19:15:13.256762Z"
    }
   },
   "cell_type": "code",
   "source": "torch.zeros((100, 55000), device='cuda')",
   "id": "3cd77f9fa17882e0",
   "outputs": [
    {
     "data": {
      "text/plain": [
       "tensor([[0., 0., 0.,  ..., 0., 0., 0.],\n",
       "        [0., 0., 0.,  ..., 0., 0., 0.],\n",
       "        [0., 0., 0.,  ..., 0., 0., 0.],\n",
       "        ...,\n",
       "        [0., 0., 0.,  ..., 0., 0., 0.],\n",
       "        [0., 0., 0.,  ..., 0., 0., 0.],\n",
       "        [0., 0., 0.,  ..., 0., 0., 0.]], device='cuda:0')"
      ]
     },
     "execution_count": 18,
     "metadata": {},
     "output_type": "execute_result"
    }
   ],
   "execution_count": 18
  },
  {
   "metadata": {
    "ExecuteTime": {
     "end_time": "2024-08-30T20:38:21.459279Z",
     "start_time": "2024-08-30T20:38:21.373828Z"
    }
   },
   "cell_type": "code",
   "source": [
    "ind_a=torch.tensor([torch.cat([torch.tensor([i]*len(a)) for i in range(100)]).tolist(), \n",
    "                    a.repeat(100).tolist()\n",
    "                    ], \n",
    "                   device=device)\n",
    "# vals_b=torch.cat([b for _ in range(100)])\n",
    "vals_a=b.repeat(100)\n",
    "v=torch.sparse_coo_tensor(ind_a, vals_a, (100, 55000), device=device)\n",
    "ind_b=torch.tensor([torch.cat([torch.tensor([i]*len(a1)) for i in range(100)]).tolist(), \n",
    "                    a1.repeat(100).tolist()\n",
    "                    ], \n",
    "                   device=device)\n",
    "# vals_b=torch.cat([b for _ in range(100)])\n",
    "vals_b=b1.repeat(100)\n",
    "v1=torch.sparse_coo_tensor(ind_b, vals_b, (100, 55000), device=device)\n",
    "res=torch.sparse.mm(v.t(), v1)"
   ],
   "id": "fd42b7733357858a",
   "outputs": [],
   "execution_count": 105
  },
  {
   "metadata": {
    "ExecuteTime": {
     "end_time": "2024-08-30T20:42:57.551979Z",
     "start_time": "2024-08-30T20:42:57.528065Z"
    }
   },
   "cell_type": "code",
   "source": [
    "ind_a=torch.tensor([torch.cat([torch.tensor([i]*len(a)) for i in range(100)]).tolist(), \n",
    "                a.repeat(100).tolist()\n",
    "                ], \n",
    "               device=device)\n",
    "vals_a=b.repeat(100)\n",
    "v=torch.sparse_coo_tensor(ind_a, vals_a, (100, 55000), device=device)\n",
    "ind_b=torch.tensor([torch.cat([torch.tensor([i]*len(a1)) for i in range(100)]).tolist(), \n",
    "                a1.repeat(100).tolist()\n",
    "                ], \n",
    "               device=device)\n",
    "vals_b=b1.repeat(100)\n",
    "v1=torch.sparse_coo_tensor(ind_b, vals_b, (100, 55000), device=device)\n",
    "res=torch.sparse.mm(v1, v.t())\n"
   ],
   "id": "ad2adf932f9cd688",
   "outputs": [],
   "execution_count": 122
  },
  {
   "metadata": {
    "ExecuteTime": {
     "end_time": "2024-08-30T20:42:58.367020Z",
     "start_time": "2024-08-30T20:42:58.364286Z"
    }
   },
   "cell_type": "code",
   "source": "res.shape",
   "id": "bda122d99750692b",
   "outputs": [
    {
     "data": {
      "text/plain": [
       "torch.Size([100, 100])"
      ]
     },
     "execution_count": 123,
     "metadata": {},
     "output_type": "execute_result"
    }
   ],
   "execution_count": 123
  },
  {
   "metadata": {
    "ExecuteTime": {
     "end_time": "2024-08-30T20:45:04.736497Z",
     "start_time": "2024-08-30T20:44:38.311594Z"
    }
   },
   "cell_type": "code",
   "source": "",
   "id": "2ccb58452eeef925",
   "outputs": [
    {
     "ename": "TypeError",
     "evalue": "tensor() takes 1 positional argument but 2 were given",
     "output_type": "error",
     "traceback": [
      "\u001B[0;31m---------------------------------------------------------------------------\u001B[0m",
      "\u001B[0;31mTypeError\u001B[0m                                 Traceback (most recent call last)",
      "Cell \u001B[0;32mIn[129], line 1\u001B[0m\n\u001B[0;32m----> 1\u001B[0m \u001B[43mf200\u001B[49m\u001B[43m(\u001B[49m\u001B[43ma\u001B[49m\u001B[43m,\u001B[49m\u001B[43mb\u001B[49m\u001B[43m,\u001B[49m\u001B[43ma1\u001B[49m\u001B[43m,\u001B[49m\u001B[43mb1\u001B[49m\u001B[43m,\u001B[49m\u001B[43m \u001B[49m\u001B[38;5;124;43m'\u001B[39;49m\u001B[38;5;124;43mcuda:0\u001B[39;49m\u001B[38;5;124;43m'\u001B[39;49m\u001B[43m)\u001B[49m\n",
      "Cell \u001B[0;32mIn[15], line 9\u001B[0m, in \u001B[0;36mf200\u001B[0;34m(a, b, a1, b1, device)\u001B[0m\n\u001B[1;32m      7\u001B[0m vals_a \u001B[38;5;241m=\u001B[39m b\n\u001B[1;32m      8\u001B[0m v\u001B[38;5;241m=\u001B[39mtorch\u001B[38;5;241m.\u001B[39msparse_coo_tensor(ind_a, vals_a, (\u001B[38;5;241m1\u001B[39m, \u001B[38;5;241m55000\u001B[39m), device\u001B[38;5;241m=\u001B[39mdevice)\n\u001B[0;32m----> 9\u001B[0m ind_b\u001B[38;5;241m=\u001B[39m\u001B[43mtorch\u001B[49m\u001B[38;5;241;43m.\u001B[39;49m\u001B[43mtensor\u001B[49m\u001B[43m(\u001B[49m\u001B[43m[\u001B[49m\u001B[43m[\u001B[49m\u001B[43mi\u001B[49m\u001B[43m]\u001B[49m\u001B[38;5;241;43m*\u001B[39;49m\u001B[38;5;28;43mlen\u001B[39;49m\u001B[43m(\u001B[49m\u001B[43mb\u001B[49m\u001B[43m)\u001B[49m\u001B[43m \u001B[49m\u001B[38;5;28;43;01mfor\u001B[39;49;00m\u001B[43m \u001B[49m\u001B[43mi\u001B[49m\u001B[43m \u001B[49m\u001B[38;5;129;43;01min\u001B[39;49;00m\u001B[43m \u001B[49m\u001B[38;5;28;43mrange\u001B[39;49m\u001B[43m(\u001B[49m\u001B[38;5;241;43m100\u001B[39;49m\u001B[43m)\u001B[49m\u001B[43m]\u001B[49m\u001B[43m,\u001B[49m\u001B[43m \u001B[49m\n\u001B[1;32m     10\u001B[0m \u001B[43m                   \u001B[49m\u001B[43m[\u001B[49m\u001B[43mb\u001B[49m\u001B[43m \u001B[49m\u001B[38;5;28;43;01mfor\u001B[39;49;00m\u001B[43m \u001B[49m\u001B[43m_\u001B[49m\u001B[43m \u001B[49m\u001B[38;5;129;43;01min\u001B[39;49;00m\u001B[43m \u001B[49m\u001B[38;5;28;43mrange\u001B[39;49m\u001B[43m(\u001B[49m\u001B[38;5;241;43m100\u001B[39;49m\u001B[43m)\u001B[49m\u001B[43m]\u001B[49m\u001B[43m,\u001B[49m\u001B[43m \u001B[49m\u001B[43mdevice\u001B[49m\u001B[38;5;241;43m=\u001B[39;49m\u001B[43mdevice\u001B[49m\u001B[43m)\u001B[49m\n\u001B[1;32m     11\u001B[0m vals_b\u001B[38;5;241m=\u001B[39mtorch\u001B[38;5;241m.\u001B[39mcat([b \u001B[38;5;28;01mfor\u001B[39;00m _ \u001B[38;5;129;01min\u001B[39;00m \u001B[38;5;28mrange\u001B[39m(\u001B[38;5;241m100\u001B[39m)])\n\u001B[1;32m     12\u001B[0m v1\u001B[38;5;241m=\u001B[39mtorch\u001B[38;5;241m.\u001B[39msparse_coo_tensor(ind_b, vals_b, (\u001B[38;5;241m100\u001B[39m, \u001B[38;5;241m55000\u001B[39m), device\u001B[38;5;241m=\u001B[39mdevice)\n",
      "\u001B[0;31mTypeError\u001B[0m: tensor() takes 1 positional argument but 2 were given"
     ]
    }
   ],
   "execution_count": 129
  },
  {
   "metadata": {
    "ExecuteTime": {
     "end_time": "2024-08-30T19:37:43.305123Z",
     "start_time": "2024-08-30T19:37:43.295744Z"
    }
   },
   "cell_type": "code",
   "source": "v1=torch.sparse_coo_tensor(ind_b, vals_b, device=device)",
   "id": "307f478f1a809917",
   "outputs": [
    {
     "ename": "RuntimeError",
     "evalue": "indices must be sparse_dim x nnz, but got: [50000]",
     "output_type": "error",
     "traceback": [
      "\u001B[0;31m---------------------------------------------------------------------------\u001B[0m",
      "\u001B[0;31mRuntimeError\u001B[0m                              Traceback (most recent call last)",
      "Cell \u001B[0;32mIn[77], line 1\u001B[0m\n\u001B[0;32m----> 1\u001B[0m v1\u001B[38;5;241m=\u001B[39m\u001B[43mtorch\u001B[49m\u001B[38;5;241;43m.\u001B[39;49m\u001B[43msparse_coo_tensor\u001B[49m\u001B[43m(\u001B[49m\u001B[43mind_b\u001B[49m\u001B[43m,\u001B[49m\u001B[43m \u001B[49m\u001B[43mvals_b\u001B[49m\u001B[43m,\u001B[49m\u001B[43m \u001B[49m\u001B[43mdevice\u001B[49m\u001B[38;5;241;43m=\u001B[39;49m\u001B[43mdevice\u001B[49m\u001B[43m)\u001B[49m\n",
      "\u001B[0;31mRuntimeError\u001B[0m: indices must be sparse_dim x nnz, but got: [50000]"
     ]
    }
   ],
   "execution_count": 77
  },
  {
   "metadata": {
    "ExecuteTime": {
     "end_time": "2024-08-30T20:29:49.830303Z",
     "start_time": "2024-08-30T20:29:49.827513Z"
    }
   },
   "cell_type": "code",
   "source": "len(a.repeat(100))",
   "id": "45da73f05eadbf43",
   "outputs": [
    {
     "data": {
      "text/plain": [
       "50000"
      ]
     },
     "execution_count": 82,
     "metadata": {},
     "output_type": "execute_result"
    }
   ],
   "execution_count": 82
  },
  {
   "metadata": {
    "ExecuteTime": {
     "end_time": "2024-08-30T19:30:46.349075Z",
     "start_time": "2024-08-30T19:30:46.338636Z"
    }
   },
   "cell_type": "code",
   "source": "len(b[0])",
   "id": "2cc9117cdcd56243",
   "outputs": [
    {
     "ename": "TypeError",
     "evalue": "len() of a 0-d tensor",
     "output_type": "error",
     "traceback": [
      "\u001B[0;31m---------------------------------------------------------------------------\u001B[0m",
      "\u001B[0;31mTypeError\u001B[0m                                 Traceback (most recent call last)",
      "Cell \u001B[0;32mIn[56], line 1\u001B[0m\n\u001B[0;32m----> 1\u001B[0m \u001B[38;5;28;43mlen\u001B[39;49m\u001B[43m(\u001B[49m\u001B[43mb\u001B[49m\u001B[43m[\u001B[49m\u001B[38;5;241;43m0\u001B[39;49m\u001B[43m]\u001B[49m\u001B[43m)\u001B[49m\n",
      "File \u001B[0;32m~/miniforge3/envs/docuverse/lib/python3.10/site-packages/torch/_tensor.py:1025\u001B[0m, in \u001B[0;36mTensor.__len__\u001B[0;34m(self)\u001B[0m\n\u001B[1;32m   1023\u001B[0m     \u001B[38;5;28;01mreturn\u001B[39;00m handle_torch_function(Tensor\u001B[38;5;241m.\u001B[39m\u001B[38;5;21m__len__\u001B[39m, (\u001B[38;5;28mself\u001B[39m,), \u001B[38;5;28mself\u001B[39m)\n\u001B[1;32m   1024\u001B[0m \u001B[38;5;28;01mif\u001B[39;00m \u001B[38;5;28mself\u001B[39m\u001B[38;5;241m.\u001B[39mdim() \u001B[38;5;241m==\u001B[39m \u001B[38;5;241m0\u001B[39m:\n\u001B[0;32m-> 1025\u001B[0m     \u001B[38;5;28;01mraise\u001B[39;00m \u001B[38;5;167;01mTypeError\u001B[39;00m(\u001B[38;5;124m\"\u001B[39m\u001B[38;5;124mlen() of a 0-d tensor\u001B[39m\u001B[38;5;124m\"\u001B[39m)\n\u001B[1;32m   1026\u001B[0m \u001B[38;5;28;01mif\u001B[39;00m torch\u001B[38;5;241m.\u001B[39m_C\u001B[38;5;241m.\u001B[39m_get_tracing_state():\n\u001B[1;32m   1027\u001B[0m     warnings\u001B[38;5;241m.\u001B[39mwarn(\n\u001B[1;32m   1028\u001B[0m         \u001B[38;5;124m\"\u001B[39m\u001B[38;5;124mUsing len to get tensor shape might cause the trace to be incorrect. \u001B[39m\u001B[38;5;124m\"\u001B[39m\n\u001B[1;32m   1029\u001B[0m         \u001B[38;5;124m\"\u001B[39m\u001B[38;5;124mRecommended usage would be tensor.shape[0]. \u001B[39m\u001B[38;5;124m\"\u001B[39m\n\u001B[0;32m   (...)\u001B[0m\n\u001B[1;32m   1033\u001B[0m         stacklevel\u001B[38;5;241m=\u001B[39m\u001B[38;5;241m2\u001B[39m,\n\u001B[1;32m   1034\u001B[0m     )\n",
      "\u001B[0;31mTypeError\u001B[0m: len() of a 0-d tensor"
     ]
    }
   ],
   "execution_count": 56
  },
  {
   "metadata": {
    "ExecuteTime": {
     "end_time": "2024-08-30T20:41:28.587119Z",
     "start_time": "2024-08-30T20:41:28.584311Z"
    }
   },
   "cell_type": "code",
   "source": "len(a)",
   "id": "33c807f9aabbbe99",
   "outputs": [
    {
     "data": {
      "text/plain": [
       "500"
      ]
     },
     "execution_count": 115,
     "metadata": {},
     "output_type": "execute_result"
    }
   ],
   "execution_count": 115
  },
  {
   "metadata": {
    "ExecuteTime": {
     "end_time": "2024-08-30T20:41:32.557370Z",
     "start_time": "2024-08-30T20:41:32.554613Z"
    }
   },
   "cell_type": "code",
   "source": "len(a1)",
   "id": "bbd53b988187fb52",
   "outputs": [
    {
     "data": {
      "text/plain": [
       "500"
      ]
     },
     "execution_count": 116,
     "metadata": {},
     "output_type": "execute_result"
    }
   ],
   "execution_count": 116
  },
  {
   "metadata": {
    "ExecuteTime": {
     "end_time": "2024-08-30T20:41:43.576825Z",
     "start_time": "2024-08-30T20:41:43.574189Z"
    }
   },
   "cell_type": "code",
   "source": "",
   "id": "cb5bf77de2f6a1bd",
   "outputs": [
    {
     "data": {
      "text/plain": [
       "torch.Tensor"
      ]
     },
     "execution_count": 117,
     "metadata": {},
     "output_type": "execute_result"
    }
   ],
   "execution_count": 117
  },
  {
   "metadata": {},
   "cell_type": "code",
   "outputs": [],
   "execution_count": null,
   "source": "",
   "id": "c95bbf45b301043d"
  }
 ],
 "metadata": {
  "kernelspec": {
   "display_name": "Python 3",
   "language": "python",
   "name": "python3"
  },
  "language_info": {
   "codemirror_mode": {
    "name": "ipython",
    "version": 2
   },
   "file_extension": ".py",
   "mimetype": "text/x-python",
   "name": "python",
   "nbconvert_exporter": "python",
   "pygments_lexer": "ipython2",
   "version": "2.7.6"
  }
 },
 "nbformat": 4,
 "nbformat_minor": 5
}
