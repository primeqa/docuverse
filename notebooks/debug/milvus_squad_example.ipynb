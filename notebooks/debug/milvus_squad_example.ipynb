{
 "cells": [
  {
   "cell_type": "code",
   "id": "2886b6b5382b9d3a",
   "metadata": {
    "ExecuteTime": {
     "end_time": "2024-09-29T17:09:28.580569Z",
     "start_time": "2024-09-29T17:09:24.918803Z"
    }
   },
   "source": [
    "from datasets import load_dataset\n",
    "\n",
    "\n",
    "DATASET = \"squad\"  # Name of dataset from HuggingFace Datasets\n",
    "INSERT_RATIO = 0.9999  # Ratio of example dataset to be inserted\n",
    "\n",
    "data = load_dataset(DATASET, split=\"validation\")\n",
    "# Generates a fixed subset. To generate a random subset, remove the seed.\n",
    "data = data.train_test_split(test_size=INSERT_RATIO, seed=42)[\"test\"]\n",
    "# Clean up the data structure in the dataset.\n",
    "data = data.map(\n",
    "    lambda val: {\"answer\": val[\"answers\"][\"text\"][0]},\n",
    "    remove_columns=[\"id\", \"answers\", \"context\"],\n",
    ")\n",
    "\n",
    "# View summary of example data\n",
    "print(data)"
   ],
   "outputs": [
    {
     "name": "stdout",
     "output_type": "stream",
     "text": [
      "Dataset({\n",
      "    features: ['title', 'question', 'answer'],\n",
      "    num_rows: 10569\n",
      "})\n"
     ]
    }
   ],
   "execution_count": 1
  },
  {
   "metadata": {
    "ExecuteTime": {
     "end_time": "2024-09-29T18:36:30.344864Z",
     "start_time": "2024-09-29T18:36:30.330552Z"
    }
   },
   "cell_type": "code",
   "source": [
    "import pickle\n",
    "from docuverse.utils import open_stream\n",
    "cache_file=\"/home/raduf/.local/share/elastic_ingestion/benchmark__beir_dev__quora____en__corpus.small.jsonl_512_100_True_all_gte-small.pickle.xz\"\n",
    "import json\n",
    "data=pickle.load(open_stream(cache_file))"
   ],
   "id": "65f47bd25aed53e2",
   "outputs": [],
   "execution_count": 27
  },
  {
   "metadata": {
    "collapsed": true,
    "ExecuteTime": {
     "end_time": "2024-09-29T18:36:31.627072Z",
     "start_time": "2024-09-29T18:36:31.624429Z"
    }
   },
   "cell_type": "code",
   "source": "data[0]",
   "id": "initial_id",
   "outputs": [
    {
     "data": {
      "text/plain": [
       "{'id': '117-0-139',\n",
       " 'title': '',\n",
       " 'text': \"I was suddenly logged off Gmail. I can't remember my Gmail password and just realized the recovery email is no longer alive. What can I do?\",\n",
       " 'tlen': 35}"
      ]
     },
     "execution_count": 28,
     "metadata": {},
     "output_type": "execute_result"
    }
   ],
   "execution_count": 28
  },
  {
   "metadata": {},
   "cell_type": "markdown",
   "source": [
    "from transformers import AutoTokenizer, AutoModel\n",
    "import torch\n",
    "\n",
    "# MODEL = (\n",
    "#     \"sentence-transformers/all-MiniLM-L6-v2\"  # Name of model from HuggingFace Models\n",
    "# )\n",
    "MODEL = (\"../models/slate.30m.english.rtrvr-20240719T181101\")\n",
    "INFERENCE_BATCH_SIZE = 64  # Batch size of model inference\n",
    "\n",
    "# Load tokenizer & model from HuggingFace Hub\n",
    "tokenizer = AutoTokenizer.from_pretrained(MODEL)\n",
    "model = AutoModel.from_pretrained(MODEL)\n",
    "\n",
    "def encode_text(batch, element):\n",
    "    # Tokenize sentences\n",
    "    encoded_input = tokenizer(\n",
    "        batch[element], padding=True, truncation=True, return_tensors=\"pt\"\n",
    "    )\n",
    "\n",
    "    # Compute token embeddings\n",
    "    with torch.no_grad():\n",
    "        model_output = model(**encoded_input)\n",
    "\n",
    "    # Perform pooling\n",
    "    token_embeddings = model_output[0]\n",
    "    attention_mask = encoded_input[\"attention_mask\"]\n",
    "    input_mask_expanded = (\n",
    "        attention_mask.unsqueeze(-1).expand(token_embeddings.size()).float()\n",
    "    )\n",
    "    sentence_embeddings = torch.sum(\n",
    "        token_embeddings * input_mask_expanded, 1\n",
    "    ) / torch.clamp(input_mask_expanded.sum(1), min=1e-9)\n",
    "\n",
    "    # Normalize embeddings\n",
    "    batch[\"qembedding\"] = torch.nn.functional.normalize(\n",
    "        sentence_embeddings, p=2, dim=1\n",
    "    )\n",
    "    return batch\n",
    "\n",
    "\n",
    "# data = data.map(encode_text, batched=True, batch_size=INFERENCE_BATCH_SIZE)"
   ],
   "id": "1541bdce3bc67568"
  },
  {
   "metadata": {
    "ExecuteTime": {
     "end_time": "2024-09-29T18:36:37.786070Z",
     "start_time": "2024-09-29T18:36:37.624853Z"
    }
   },
   "cell_type": "code",
   "source": [
    "# data_list = data.to_list()\n",
    "MODEL = (\"../models/slate.30m.english.rtrvr-20240719T181101\")\n",
    "data_list = []\n",
    "from docuverse.utils.embeddings.dense_embedding_function import DenseEmbeddingFunction\n",
    "model = DenseEmbeddingFunction(MODEL)"
   ],
   "id": "259a67383de6ec57",
   "outputs": [
    {
     "name": "stdout",
     "output_type": "stream",
     "text": [
      "=== done initializing model\n"
     ]
    }
   ],
   "execution_count": 29
  },
  {
   "metadata": {
    "ExecuteTime": {
     "end_time": "2024-09-29T18:52:10.762842Z",
     "start_time": "2024-09-29T18:52:08.685758Z"
    }
   },
   "cell_type": "code",
   "source": [
    "embeddings = model.encode([d['text'] for d in data], show_progress_bar=True)\n",
    "keys_to_keep = {\"text\"}\n",
    "data_list = [{**{k:v for k, v in d.items() if k in keys_to_keep}, '_id': d['id'], 'qembedding':embeddings[i]} for i,d in enumerate(data)]"
   ],
   "id": "c858e4ac5ae59f28",
   "outputs": [
    {
     "data": {
      "text/plain": [
       "Batches:   0%|          | 0/301 [00:00<?, ?it/s]"
      ],
      "application/vnd.jupyter.widget-view+json": {
       "version_major": 2,
       "version_minor": 0,
       "model_id": "a6be439c239d4ceeb80c0d50da947891"
      }
     },
     "metadata": {},
     "output_type": "display_data"
    }
   ],
   "execution_count": 63
  },
  {
   "metadata": {
    "ExecuteTime": {
     "end_time": "2024-09-29T18:52:11.770493Z",
     "start_time": "2024-09-29T18:52:11.766573Z"
    }
   },
   "cell_type": "code",
   "source": "data_list[0]",
   "id": "6ef600ad9c5f11c4",
   "outputs": [
    {
     "data": {
      "text/plain": [
       "{'text': \"I was suddenly logged off Gmail. I can't remember my Gmail password and just realized the recovery email is no longer alive. What can I do?\",\n",
       " '_id': '117-0-139',\n",
       " 'qembedding': [0.01239310298115015,\n",
       "  0.08252162486314774,\n",
       "  -0.007941470481455326,\n",
       "  -0.00688091991469264,\n",
       "  -0.04727655649185181,\n",
       "  -0.02066742815077305,\n",
       "  -0.012648255564272404,\n",
       "  -0.025829849764704704,\n",
       "  0.017632635310292244,\n",
       "  -0.02430420182645321,\n",
       "  -0.015020041726529598,\n",
       "  -0.008922950364649296,\n",
       "  0.05736778676509857,\n",
       "  -0.024723688140511513,\n",
       "  -0.018712686374783516,\n",
       "  0.01332109048962593,\n",
       "  -0.08252348750829697,\n",
       "  0.06152497977018356,\n",
       "  -0.07216667383909225,\n",
       "  0.06205274164676666,\n",
       "  -0.002090111607685685,\n",
       "  -0.09694285690784454,\n",
       "  -0.018821170553565025,\n",
       "  0.01744072698056698,\n",
       "  0.02464458718895912,\n",
       "  -0.010289010591804981,\n",
       "  -0.023978393524885178,\n",
       "  -0.025935254991054535,\n",
       "  -0.033752065151929855,\n",
       "  -0.16178223490715027,\n",
       "  -0.05182208865880966,\n",
       "  0.010323116555809975,\n",
       "  -0.024663103744387627,\n",
       "  0.06469075381755829,\n",
       "  0.022980276495218277,\n",
       "  -0.08760052174329758,\n",
       "  -0.02553303726017475,\n",
       "  -0.037033580243587494,\n",
       "  -0.018600210547447205,\n",
       "  -0.013264304026961327,\n",
       "  0.006508794147521257,\n",
       "  0.06622003018856049,\n",
       "  0.04294293001294136,\n",
       "  0.009725093841552734,\n",
       "  0.01100977510213852,\n",
       "  -0.016979016363620758,\n",
       "  -0.04205290600657463,\n",
       "  0.004014239646494389,\n",
       "  0.0067534963600337505,\n",
       "  0.09505289793014526,\n",
       "  0.017656974494457245,\n",
       "  -0.0816168412566185,\n",
       "  0.021887604147195816,\n",
       "  -0.029676012694835663,\n",
       "  -0.003992735408246517,\n",
       "  -0.10948587954044342,\n",
       "  0.0054459525272250175,\n",
       "  -0.012512635439634323,\n",
       "  -0.019912028685212135,\n",
       "  -0.012811684049665928,\n",
       "  0.05060719698667526,\n",
       "  0.027881493791937828,\n",
       "  -0.016541089862585068,\n",
       "  0.025851896032691002,\n",
       "  -0.036204561591148376,\n",
       "  0.030032731592655182,\n",
       "  0.042850203812122345,\n",
       "  0.06383418291807175,\n",
       "  0.024342406541109085,\n",
       "  0.008017226122319698,\n",
       "  -0.00907967146486044,\n",
       "  -0.024523543193936348,\n",
       "  0.114812470972538,\n",
       "  -0.06284645199775696,\n",
       "  0.06969644129276276,\n",
       "  -0.1188066378235817,\n",
       "  -0.07153140008449554,\n",
       "  -0.007868696004152298,\n",
       "  -0.052628517150878906,\n",
       "  0.008136805146932602,\n",
       "  0.00481201009824872,\n",
       "  0.0034971635323017836,\n",
       "  -0.026550324633717537,\n",
       "  -0.013117949478328228,\n",
       "  0.14346197247505188,\n",
       "  0.0311085507273674,\n",
       "  -0.021356070414185524,\n",
       "  0.0211785938590765,\n",
       "  0.03871534392237663,\n",
       "  0.13386717438697815,\n",
       "  -0.001918866764754057,\n",
       "  -0.019346199929714203,\n",
       "  0.028874970972537994,\n",
       "  -0.0034051707480102777,\n",
       "  -0.026734862476587296,\n",
       "  0.017558174207806587,\n",
       "  -0.11304818093776703,\n",
       "  -0.05801354721188545,\n",
       "  -0.12560351192951202,\n",
       "  -0.0018008602783083916,\n",
       "  0.006660050246864557,\n",
       "  -0.010427544824779034,\n",
       "  0.012434524483978748,\n",
       "  -0.009025371633470058,\n",
       "  -0.05463864281773567,\n",
       "  -0.02837279811501503,\n",
       "  0.10086649656295776,\n",
       "  0.024692559614777565,\n",
       "  -0.022894132882356644,\n",
       "  -0.031229650601744652,\n",
       "  0.027627956122159958,\n",
       "  -0.0015844982117414474,\n",
       "  0.05016399547457695,\n",
       "  -0.002177970018237829,\n",
       "  -0.04975027218461037,\n",
       "  0.09466636180877686,\n",
       "  0.0581834577023983,\n",
       "  0.0022007222287356853,\n",
       "  -0.1313086748123169,\n",
       "  -0.03550345450639725,\n",
       "  0.07046910375356674,\n",
       "  -0.020633473992347717,\n",
       "  0.003469043178483844,\n",
       "  0.05235951021313667,\n",
       "  0.04589928314089775,\n",
       "  -0.002223680028691888,\n",
       "  0.03414691239595413,\n",
       "  -0.011055928654968739,\n",
       "  7.101990195224062e-05,\n",
       "  -0.03793851658701897,\n",
       "  0.06043989956378937,\n",
       "  -0.0014116023667156696,\n",
       "  5.582361700362526e-05,\n",
       "  -0.07491570711135864,\n",
       "  -0.05214206874370575,\n",
       "  0.028429288417100906,\n",
       "  0.06659571826457977,\n",
       "  -0.0682126060128212,\n",
       "  0.059631720185279846,\n",
       "  0.019435787573456764,\n",
       "  -0.040203291922807693,\n",
       "  -0.07023528218269348,\n",
       "  0.030281780287623405,\n",
       "  -0.03521496430039406,\n",
       "  0.13470865786075592,\n",
       "  -0.08676321804523468,\n",
       "  -0.031396202743053436,\n",
       "  -0.014461571350693703,\n",
       "  -0.03884865716099739,\n",
       "  -0.04209820181131363,\n",
       "  0.006255290005356073,\n",
       "  -0.04272836446762085,\n",
       "  -0.016022732481360435,\n",
       "  -0.012434951961040497,\n",
       "  -0.028077663853764534,\n",
       "  0.021649803966283798,\n",
       "  -0.0136696333065629,\n",
       "  0.06435860693454742,\n",
       "  -0.04337609186768532,\n",
       "  -0.0078764408826828,\n",
       "  0.0015132830012589693,\n",
       "  -0.009461677633225918,\n",
       "  -0.13253480195999146,\n",
       "  0.09919974952936172,\n",
       "  -0.05977325141429901,\n",
       "  -0.013151937164366245,\n",
       "  0.01036097388714552,\n",
       "  -0.0031494637951254845,\n",
       "  -0.08022628724575043,\n",
       "  0.00016048259567469358,\n",
       "  -0.02532704919576645,\n",
       "  -0.03459278866648674,\n",
       "  -0.02952471561729908,\n",
       "  0.0018196121091023088,\n",
       "  0.08172876387834549,\n",
       "  -0.014915513806045055,\n",
       "  -0.01895592361688614,\n",
       "  0.023055899888277054,\n",
       "  -0.0014996505342423916,\n",
       "  -0.03418871387839317,\n",
       "  0.0011466594878584146,\n",
       "  -0.09002158045768738,\n",
       "  0.0028194067999720573,\n",
       "  -0.029346711933612823,\n",
       "  0.014329245314002037,\n",
       "  0.0055227335542440414,\n",
       "  0.005336960311979055,\n",
       "  -0.00665734289214015,\n",
       "  -0.018312599509954453,\n",
       "  -0.0008879955275915563,\n",
       "  -0.0019850656390190125,\n",
       "  0.0289674773812294,\n",
       "  -0.012050250545144081,\n",
       "  8.805667312117293e-05,\n",
       "  0.000975288450717926,\n",
       "  -0.07317279279232025,\n",
       "  -0.04744787514209747,\n",
       "  0.07283376902341843,\n",
       "  -0.0011729456018656492,\n",
       "  0.04162367433309555,\n",
       "  0.03940824419260025,\n",
       "  -0.011295448988676071,\n",
       "  0.23437735438346863,\n",
       "  -0.0009519549203105271,\n",
       "  0.037959471344947815,\n",
       "  0.0726127102971077,\n",
       "  0.03487677872180939,\n",
       "  0.0033421411644667387,\n",
       "  -0.021396588534116745,\n",
       "  -0.0764494240283966,\n",
       "  0.00420730235055089,\n",
       "  0.023188039660453796,\n",
       "  0.048311565071344376,\n",
       "  -0.029756590723991394,\n",
       "  0.05395950376987457,\n",
       "  0.0234384648501873,\n",
       "  0.011599504388868809,\n",
       "  -0.0982721671462059,\n",
       "  -0.12336521595716476,\n",
       "  0.006650571245700121,\n",
       "  0.0850292518734932,\n",
       "  -0.01766393892467022,\n",
       "  -0.04725188389420509,\n",
       "  0.04867465794086456,\n",
       "  0.014728541485965252,\n",
       "  0.0015481957234442234,\n",
       "  -0.0008209608495235443,\n",
       "  -0.053686581552028656,\n",
       "  -0.045226022601127625,\n",
       "  -0.022329963743686676,\n",
       "  -0.009226744994521141,\n",
       "  0.017180783674120903,\n",
       "  -0.05498557537794113,\n",
       "  0.06797052919864655,\n",
       "  -0.08615639805793762,\n",
       "  0.008275377564132214,\n",
       "  -0.11124806851148605,\n",
       "  0.06386052072048187,\n",
       "  0.009996273554861546,\n",
       "  0.0028287596069276333,\n",
       "  0.03729437291622162,\n",
       "  0.05059301108121872,\n",
       "  0.020679524168372154,\n",
       "  0.007474291604012251,\n",
       "  0.057474423199892044,\n",
       "  0.04147505387663841,\n",
       "  0.022701987996697426,\n",
       "  -0.026666417717933655,\n",
       "  0.026515809819102287,\n",
       "  -0.02942029759287834,\n",
       "  -0.04228750988841057,\n",
       "  -0.030453529208898544,\n",
       "  0.1322411298751831,\n",
       "  -0.026479054242372513,\n",
       "  0.014971686527132988,\n",
       "  -0.016117732971906662,\n",
       "  -0.04740232974290848,\n",
       "  0.027030104771256447,\n",
       "  0.02107798308134079,\n",
       "  -0.028358833864331245,\n",
       "  0.08689115196466446,\n",
       "  0.00507304398342967,\n",
       "  -0.009051946923136711,\n",
       "  0.05140583962202072,\n",
       "  0.038417570292949677,\n",
       "  0.039655257016420364,\n",
       "  -0.028119102120399475,\n",
       "  0.03453529253602028,\n",
       "  -0.028024138882756233,\n",
       "  0.001677997992374003,\n",
       "  -0.03746093437075615,\n",
       "  0.028836224228143692,\n",
       "  -0.03851999342441559,\n",
       "  0.003277509706094861,\n",
       "  0.06901815533638,\n",
       "  -0.03323999419808388,\n",
       "  -0.025313762947916985,\n",
       "  -0.01885649375617504,\n",
       "  -0.0006039503496140242,\n",
       "  -0.020696956664323807,\n",
       "  0.0002453474735375494,\n",
       "  0.023023957386612892,\n",
       "  0.052623722702264786,\n",
       "  0.044584792107343674,\n",
       "  -0.04746221378445625,\n",
       "  -0.006080306135118008,\n",
       "  -0.05468995124101639,\n",
       "  0.017193492501974106,\n",
       "  -0.028358085080981255,\n",
       "  -0.05385362729430199,\n",
       "  0.04051905870437622,\n",
       "  -0.018646972253918648,\n",
       "  0.05575159192085266,\n",
       "  -0.06548465043306351,\n",
       "  0.01686193235218525,\n",
       "  0.16322742402553558,\n",
       "  -0.04416372627019882,\n",
       "  -0.08416862785816193,\n",
       "  0.01777059957385063,\n",
       "  -0.021535249426960945,\n",
       "  -0.021482320502400398,\n",
       "  -0.024844791740179062,\n",
       "  0.06846056878566742,\n",
       "  0.004289339762181044,\n",
       "  -0.026434948667883873,\n",
       "  -0.022096125409007072,\n",
       "  -0.01711682230234146,\n",
       "  -0.046793363988399506,\n",
       "  -0.05179399996995926,\n",
       "  -0.024056056514382362,\n",
       "  -0.08190234005451202,\n",
       "  -0.005296260118484497,\n",
       "  -0.011872988194227219,\n",
       "  0.015080677345395088,\n",
       "  -0.047418102622032166,\n",
       "  0.026475846767425537,\n",
       "  -0.00852885004132986,\n",
       "  -0.03420562669634819,\n",
       "  -0.08478666841983795,\n",
       "  -0.024983763694763184,\n",
       "  -0.00426168879494071,\n",
       "  0.018720511347055435,\n",
       "  0.007342923432588577,\n",
       "  0.12275612354278564,\n",
       "  0.15419478714466095,\n",
       "  -0.07272648811340332,\n",
       "  -0.01708587445318699,\n",
       "  0.07074014097452164,\n",
       "  0.0162506103515625,\n",
       "  0.042589496821165085,\n",
       "  -0.03850869834423065,\n",
       "  0.03120049089193344,\n",
       "  0.015540209598839283,\n",
       "  0.10198991000652313,\n",
       "  0.133494570851326,\n",
       "  -0.04070983827114105,\n",
       "  -0.05728423595428467,\n",
       "  -0.018949246034026146,\n",
       "  -0.000788430217653513,\n",
       "  0.0015466193435713649,\n",
       "  -0.02320922538638115,\n",
       "  -0.022778034210205078,\n",
       "  -0.027058999985456467,\n",
       "  -0.013740571215748787,\n",
       "  0.08282643556594849,\n",
       "  -0.027136538177728653,\n",
       "  0.06621746718883514,\n",
       "  -0.1503865271806717,\n",
       "  -0.028235599398612976,\n",
       "  -0.0189181100577116,\n",
       "  -0.03228608891367912,\n",
       "  -0.012265979312360287,\n",
       "  0.03025452047586441,\n",
       "  -0.06580215692520142,\n",
       "  -0.035733483731746674,\n",
       "  -0.06572680920362473,\n",
       "  0.011379074305295944,\n",
       "  -0.015363953076303005,\n",
       "  -0.03838659077882767,\n",
       "  0.019003726541996002,\n",
       "  -0.05868710204958916,\n",
       "  0.05207464098930359,\n",
       "  -0.15657365322113037,\n",
       "  -0.027118992060422897,\n",
       "  -0.017472097650170326,\n",
       "  -0.07494114339351654,\n",
       "  -0.10236118733882904,\n",
       "  -0.04148007184267044,\n",
       "  -0.010305599309504032,\n",
       "  0.014453073032200336,\n",
       "  -0.002179063158109784,\n",
       "  -0.030791716650128365,\n",
       "  0.017522985115647316,\n",
       "  -0.02606063522398472,\n",
       "  0.002515471773222089,\n",
       "  0.011805146932601929,\n",
       "  -0.0548408105969429,\n",
       "  -0.019288821145892143,\n",
       "  -0.013776211068034172,\n",
       "  -0.01896391622722149,\n",
       "  -0.015718061476945877,\n",
       "  -0.0025001622270792723,\n",
       "  -0.10277997702360153,\n",
       "  0.018115470185875893]}"
      ]
     },
     "execution_count": 64,
     "metadata": {},
     "output_type": "execute_result"
    }
   ],
   "execution_count": 64
  },
  {
   "metadata": {
    "ExecuteTime": {
     "end_time": "2024-09-29T18:52:40.368982Z",
     "start_time": "2024-09-29T18:52:40.343788Z"
    }
   },
   "cell_type": "code",
   "source": [
    "from pymilvus import MilvusClient\n",
    "from pymilvus import FieldSchema, CollectionSchema, DataType, Collection, utility\n",
    "from pymilvus import Index\n",
    "\n",
    "MILVUS_URI = \"http://localhost:19530\"  # Connection URI\n",
    "COLLECTION_NAME = \"huggingface_test2\"  # Collection name\n",
    "DIMENSION = 384  # Embedding dimension depending on model\n",
    "\n",
    "milvus_client = MilvusClient(MILVUS_URI)\n",
    "if milvus_client.has_collection(collection_name=COLLECTION_NAME):\n",
    "    print(f\"Dropping collection{COLLECTION_NAME}\")\n",
    "    milvus_client.drop_collection(collection_name=COLLECTION_NAME)\n",
    "fields = [\n",
    "    FieldSchema(name=\"id\", dtype=DataType.INT64, is_primary=True, description=\"ID\", auto_id=True),\n",
    "    FieldSchema(name=\"_id\", dtype=DataType.VARCHAR, max_length=1000),    \n",
    "    # FieldSchema(name=\"id\", dtype=DataType.INT64, is_primary=True),\n",
    "    FieldSchema(name=\"qembedding\", dtype=DataType.FLOAT_VECTOR, dim=DIMENSION),\n",
    "    # FieldSchema(name=\"title\", dtype=DataType.VARCHAR, max_length=1000),\n",
    "    FieldSchema(name=\"text\", dtype=DataType.VARCHAR, max_length=1000),\n",
    "    # FieldSchema(name=\"tlen\", dtype=DataType.INT64)\n",
    "]\n",
    "schema = CollectionSchema(fields, description=\"crap\")\n",
    "\n",
    "milvus_client.create_collection(\n",
    "    collection_name=COLLECTION_NAME,\n",
    "    dimension=DIMENSION,\n",
    "    schema=schema,\n",
    "    auto_id=True,  # Enable auto id\n",
    "    # enable_dynamic_field=True,  # Enable dynamic fields\n",
    "    vector_field_name=\"qembedding\",  # Map vector field name and embedding column in dataset\n",
    "    #consistency_level=\"Strong\",  # To enable search with latest data\n",
    ")"
   ],
   "id": "d49d3e7a84c575d2",
   "outputs": [
    {
     "name": "stdout",
     "output_type": "stream",
     "text": [
      "Dropping collectionhuggingface_test2\n"
     ]
    }
   ],
   "execution_count": 65
  },
  {
   "metadata": {
    "ExecuteTime": {
     "end_time": "2024-09-29T18:52:43.502880Z",
     "start_time": "2024-09-29T18:52:42.991493Z"
    }
   },
   "cell_type": "code",
   "source": [
    "index_params = milvus_client.prepare_index_params(\"qembedding\")\n",
    "print(f\"Index params before: {index_params}\")\n",
    "_index_params = {\n",
    "    \"metric_type\": \"IP\",\n",
    "    \"index_type\": \"FLAT\",\n",
    "    \"params\": {\n",
    "        \"M\": 16,\n",
    "        \"efConstruction\": 16,\n",
    "        \"nlist\": 1024\n",
    "    }\n",
    "}\n",
    "index_params.add_index(field_name=\"qembedding\", **_index_params)\n",
    "print(f\"Index params after: {index_params}\")\n",
    "\n",
    "milvus_client.create_index(collection_name=COLLECTION_NAME, index_params=index_params)\n"
   ],
   "id": "7bab69dd9b05e22a",
   "outputs": [
    {
     "name": "stdout",
     "output_type": "stream",
     "text": [
      "Index params before: [{'field_name': 'qembedding', 'index_name': ''}]\n",
      "Index params after: [{'field_name': 'qembedding', 'index_type': 'FLAT', 'index_name': '', 'metric_type': 'IP', 'params': {'M': 16, 'efConstruction': 16, 'nlist': 1024}}]\n"
     ]
    }
   ],
   "execution_count": 66
  },
  {
   "metadata": {
    "ExecuteTime": {
     "end_time": "2024-09-29T18:52:45.717627Z",
     "start_time": "2024-09-29T18:52:45.083472Z"
    }
   },
   "cell_type": "code",
   "source": [
    "questions = [\n",
    "    data_list[0]['text'],\n",
    "    \"How can I get free gems in Clash of Clans?\",\n",
    "    \"How can I get free gems Clash of Clans?\",\n",
    "    \"How do you feel when someone upvotes your answer on Quora?\",\n",
    "    \"What are the best thriller movie in Hollywood?\",\n",
    "    \"What should someone do to overcome anxiety?\"\n",
    "]\n",
    "milvus_client.load_collection(collection_name=COLLECTION_NAME)\n",
    "qembs = model.encode(questions, show_progress_bar=True)\n",
    "search_params = {\n",
    "    \"metric_type\": \"IP\",\n",
    "    \"params\": {\n",
    "        \"efSearch\": 10,\n",
    "        \"ef\": 10,\n",
    "    }\n",
    "}\n",
    "print(f\"Read {len(qembs)} embeddings.\")\n",
    "search_results = milvus_client.search(\n",
    "    collection_name=COLLECTION_NAME,\n",
    "    search_params=search_params,\n",
    "    data=qembs,\n",
    "    limit=100,  # How many search results to output\n",
    "    output_fields=[\"text\", \"qembedding\", 'id'],  # Include these fields in search results\n",
    ")\n",
    "for q, res in zip(questions, search_results):\n",
    "    print(f\"Question: {q}\")\n",
    "    if len(res) == 0:\n",
    "        print(\"  ** No results found. **\")\n",
    "    else:\n",
    "        for r in res:\n",
    "            print({'answer': r['entity']['text'], 'score': r['distance']})\n",
    "        print(\"\\n\")"
   ],
   "id": "a4e2efe60877dca3",
   "outputs": [
    {
     "data": {
      "text/plain": [
       "Batches:   0%|          | 0/1 [00:00<?, ?it/s]"
      ],
      "application/vnd.jupyter.widget-view+json": {
       "version_major": 2,
       "version_minor": 0,
       "model_id": "cc706f7355a24ef58febc07109d03573"
      }
     },
     "metadata": {},
     "output_type": "display_data"
    },
    {
     "name": "stdout",
     "output_type": "stream",
     "text": [
      "Read 6 embeddings.\n",
      "Question: I was suddenly logged off Gmail. I can't remember my Gmail password and just realized the recovery email is no longer alive. What can I do?\n",
      "  ** No results found. **\n",
      "Question: How can I get free gems in Clash of Clans?\n",
      "  ** No results found. **\n",
      "Question: How can I get free gems Clash of Clans?\n",
      "  ** No results found. **\n",
      "Question: How do you feel when someone upvotes your answer on Quora?\n",
      "  ** No results found. **\n",
      "Question: What are the best thriller movie in Hollywood?\n",
      "  ** No results found. **\n",
      "Question: What should someone do to overcome anxiety?\n",
      "  ** No results found. **\n"
     ]
    }
   ],
   "execution_count": 67
  },
  {
   "metadata": {
    "ExecuteTime": {
     "end_time": "2024-09-29T18:45:34.305325Z",
     "start_time": "2024-09-29T18:45:34.301572Z"
    }
   },
   "cell_type": "code",
   "source": [
    "import random\n",
    "rnd = [random.random() for _ in range(384)]\n",
    "milvus_client.search(collection_name=COLLECTION_NAME, data=[rnd], limit=3, search_params=search_params)"
   ],
   "id": "7df4b61eb1bc74d3",
   "outputs": [
    {
     "data": {
      "text/plain": [
       "data: ['[]'] "
      ]
     },
     "execution_count": 55,
     "metadata": {},
     "output_type": "execute_result"
    }
   ],
   "execution_count": 55
  },
  {
   "metadata": {},
   "cell_type": "markdown",
   "source": [
    "_index_params = {\n",
    "    \"metric_type\": \"L2\",\n",
    "    \"index_type\": \"HNSW\",\n",
    "    \"params\": {\n",
    "        \"M\": 16,\n",
    "        \"efConstruction\": 200\n",
    "    }\n",
    "}\n",
    "milvus_client.insert(collection_name=COLLECTION_NAME, data=data_list)\n",
    "# milvus_client.create_index(collection_name=COLLECTION_NAME, index_params=index_params)"
   ],
   "id": "97f801cae007df0d"
  },
  {
   "metadata": {},
   "cell_type": "markdown",
   "source": [
    "questions = {\n",
    "    \"question\": [\"How can I get free gems in Clash of Clans?\",\n",
    "                 \"How do you feel when someone upvotes your answer on Quora?\",\n",
    "                 \"What are the best thriller movie in Hollywood?\",\n",
    "                 \"What should someone do to overcome anxiety?\"\n",
    "    ]\n",
    "}\n",
    "\n",
    "# Generate question embeddings\n",
    "qembeddings = [v.tolist() for v in encode_text(questions)[\"qembedding\"]]\n",
    "\n",
    "# Search across Milvus\n",
    "search_results = milvus_client.search(\n",
    "    collection_name=COLLECTION_NAME,\n",
    "    data=qembeddings,\n",
    "    limit=3,  # How many search results to output\n",
    "    output_fields=[\"text\", \"qembedding\"],  # Include these fields in search results\n",
    ")\n",
    "\n",
    "# Print out results\n",
    "for q, res in zip(questions[\"question\"], search_results):\n",
    "    print(\"Question:\", q)\n",
    "    for r in res:\n",
    "        print(\n",
    "            {\n",
    "                \"answer\": r[\"entity\"][\"text\"],\n",
    "                \"score\": r[\"distance\"],\n",
    "                #\"original question\": r[\"entity\"][\"question\"],\n",
    "            }\n",
    "        )\n",
    "    print(\"\\n\")\n",
    "    "
   ],
   "id": "a44956dd3c11f620"
  },
  {
   "metadata": {
    "ExecuteTime": {
     "end_time": "2024-09-28T22:46:32.567014Z",
     "start_time": "2024-09-28T22:46:32.563337Z"
    }
   },
   "cell_type": "code",
   "source": [
    "import numpy as np\n",
    "search_results[0][0]['entity']['id']"
   ],
   "id": "82f27a9ba8c82a7",
   "outputs": [
    {
     "data": {
      "text/plain": [
       "4207"
      ]
     },
     "execution_count": 101,
     "metadata": {},
     "output_type": "execute_result"
    }
   ],
   "execution_count": 101
  },
  {
   "metadata": {
    "ExecuteTime": {
     "end_time": "2024-09-28T21:30:13.993291Z",
     "start_time": "2024-09-28T21:30:13.991308Z"
    }
   },
   "cell_type": "code",
   "source": [
    "def get_vector(text):\n",
    "    return np.array(model.encode([text])[0])"
   ],
   "id": "bde084d8c372eed0",
   "outputs": [],
   "execution_count": 46
  },
  {
   "metadata": {},
   "cell_type": "markdown",
   "source": "",
   "id": "fde5ca0522623b28"
  },
  {
   "metadata": {
    "ExecuteTime": {
     "end_time": "2024-09-28T21:43:24.587212Z",
     "start_time": "2024-09-28T21:43:24.575449Z"
    }
   },
   "cell_type": "code",
   "source": [
    "import numpy as np\n",
    "v1=get_vector(questions[0])"
   ],
   "id": "916e4538d5787a49",
   "outputs": [
    {
     "data": {
      "text/plain": [
       "Batches:   0%|          | 0/1 [00:00<?, ?it/s]"
      ],
      "application/vnd.jupyter.widget-view+json": {
       "version_major": 2,
       "version_minor": 0,
       "model_id": "e894611b172a405682802d4a99668c2a"
      }
     },
     "metadata": {},
     "output_type": "display_data"
    }
   ],
   "execution_count": 58
  },
  {
   "metadata": {
    "ExecuteTime": {
     "end_time": "2024-09-28T22:47:06.116726Z",
     "start_time": "2024-09-28T22:47:06.100097Z"
    }
   },
   "cell_type": "code",
   "source": "v2=get_vector(\"What were the causes of the Cold War? Outline the process of Cold War divisions.\")",
   "id": "8aa4aa451e3d19ab",
   "outputs": [
    {
     "data": {
      "text/plain": [
       "Batches:   0%|          | 0/1 [00:00<?, ?it/s]"
      ],
      "application/vnd.jupyter.widget-view+json": {
       "version_major": 2,
       "version_minor": 0,
       "model_id": "3879bb9bd43c4c00a1288fabc33acd32"
      }
     },
     "metadata": {},
     "output_type": "display_data"
    }
   ],
   "execution_count": 103
  },
  {
   "metadata": {
    "ExecuteTime": {
     "end_time": "2024-09-28T22:51:54.983607Z",
     "start_time": "2024-09-28T22:51:54.979773Z"
    }
   },
   "cell_type": "code",
   "source": [
    "# np.inner(b,v1)\n",
    "np.linalg.norm(b-v3, ord=2)"
   ],
   "id": "6e7298cdf30402d9",
   "outputs": [
    {
     "data": {
      "text/plain": [
       "0.9778001881132582"
      ]
     },
     "execution_count": 116,
     "metadata": {},
     "output_type": "execute_result"
    }
   ],
   "execution_count": 116
  },
  {
   "metadata": {
    "ExecuteTime": {
     "end_time": "2024-09-28T21:44:59.274344Z",
     "start_time": "2024-09-28T21:44:59.263393Z"
    }
   },
   "cell_type": "code",
   "source": "v3=get_vector(\"How can I get free gems Clash of Clans?\")",
   "id": "d0d70278db290b5a",
   "outputs": [
    {
     "data": {
      "text/plain": [
       "Batches:   0%|          | 0/1 [00:00<?, ?it/s]"
      ],
      "application/vnd.jupyter.widget-view+json": {
       "version_major": 2,
       "version_minor": 0,
       "model_id": "cb1ea05775734c2d98573405e9c8be50"
      }
     },
     "metadata": {},
     "output_type": "display_data"
    }
   ],
   "execution_count": 61
  },
  {
   "metadata": {
    "ExecuteTime": {
     "end_time": "2024-09-28T21:45:03.627911Z",
     "start_time": "2024-09-28T21:45:03.624715Z"
    }
   },
   "cell_type": "code",
   "source": "np.inner(v1,v3)",
   "id": "b35c6abfdc487326",
   "outputs": [
    {
     "data": {
      "text/plain": [
       "0.9866615843616061"
      ]
     },
     "execution_count": 62,
     "metadata": {},
     "output_type": "execute_result"
    }
   ],
   "execution_count": 62
  },
  {
   "metadata": {
    "ExecuteTime": {
     "end_time": "2024-09-28T22:47:22.351048Z",
     "start_time": "2024-09-28T22:47:22.344899Z"
    }
   },
   "cell_type": "code",
   "source": "b-v2",
   "id": "b1152f7c8c4f70f3",
   "outputs": [
    {
     "data": {
      "text/plain": [
       "array([-2.08473839e-02,  3.14693376e-02,  8.73036012e-02, -2.19272450e-02,\n",
       "       -2.49180133e-02,  3.84930773e-02, -1.80336763e-02,  4.56284331e-02,\n",
       "        2.37510139e-02,  5.22989240e-02,  6.43738220e-03,  4.93863598e-02,\n",
       "        1.18108396e-02,  3.76401795e-02, -4.23989976e-02, -3.48769426e-02,\n",
       "       -9.49832052e-03,  4.58914973e-03, -3.87049131e-02, -5.01294993e-02,\n",
       "        3.85297933e-02,  1.08092640e-01, -2.56039761e-03,  4.25339229e-02,\n",
       "       -1.73569135e-02, -4.95975977e-03, -1.25451721e-02, -8.25382231e-02,\n",
       "        3.09320949e-02, -6.28986955e-03, -4.87477072e-02,  1.39967036e-02,\n",
       "       -1.89549654e-02, -1.00677531e-01,  1.92073852e-01,  5.15142977e-02,\n",
       "        1.78274238e-02, -4.71235178e-02, -1.06536224e-03,  2.12056749e-02,\n",
       "       -8.50700215e-03,  8.99869055e-02,  5.84303886e-02,  6.79340046e-02,\n",
       "        5.60854040e-02, -2.51674784e-02,  2.21352875e-02,  1.11801649e-01,\n",
       "       -8.45035538e-03,  1.82531839e-02,  3.12677808e-02, -7.24360719e-03,\n",
       "        9.27256793e-03,  4.12440393e-03,  1.03148473e-02, -7.09633529e-03,\n",
       "        9.75853764e-02,  2.56446032e-02, -2.57070176e-03, -2.02867351e-02,\n",
       "        3.69920265e-02, -4.60624844e-02, -7.11406833e-02, -6.29356112e-02,\n",
       "        2.75921505e-02, -1.98897719e-03, -1.45887807e-02, -3.91447078e-02,\n",
       "        1.37503892e-02, -7.14336000e-02,  5.12895659e-02,  7.13732913e-02,\n",
       "        3.33061991e-02, -7.76754692e-03, -2.21171752e-02,  6.26534503e-02,\n",
       "        3.55328470e-02, -2.43747430e-02,  8.75588812e-03, -4.54008244e-02,\n",
       "       -2.44146856e-02,  3.72975431e-02,  5.34211565e-02, -7.36025264e-02,\n",
       "        1.75112672e-03, -2.92650517e-03, -5.21428464e-03, -1.25313038e-02,\n",
       "        4.67420858e-03,  1.31373523e-01,  4.66288198e-02, -3.49991862e-02,\n",
       "       -5.34368679e-03,  8.38837922e-02, -7.18096783e-03,  3.32998894e-02,\n",
       "        4.47124317e-02, -9.81281921e-02,  1.66228414e-02,  1.11853704e-03,\n",
       "        2.54662763e-02, -6.00751881e-02,  3.47201359e-02, -3.51724420e-02,\n",
       "       -1.14056021e-02, -1.97430272e-02, -4.41806976e-02, -2.76422350e-02,\n",
       "       -1.36600910e-02,  2.17576437e-02, -9.91229736e-03,  6.36176725e-02,\n",
       "        3.39358952e-02, -6.77968264e-02, -2.35499609e-02, -3.93539910e-02,\n",
       "        4.35576309e-03, -2.32424205e-02, -7.86172571e-02,  1.13463365e-02,\n",
       "       -2.26299651e-02,  1.38791446e-02, -5.05661443e-02,  2.11299947e-02,\n",
       "       -4.30890918e-03, -6.91986457e-03,  2.79729487e-03, -8.21058574e-02,\n",
       "       -3.71721182e-02, -3.31262033e-02, -2.37160213e-02,  3.63697484e-03,\n",
       "        7.87296426e-02, -5.11004813e-02,  1.91633310e-03, -4.94508157e-02,\n",
       "       -1.21241510e-02, -2.05975734e-02, -2.51701318e-02, -1.17226671e-02,\n",
       "       -1.51354014e-02, -1.64449010e-02, -7.20216203e-02, -9.83285084e-02,\n",
       "       -1.59828436e-01,  2.67202146e-02,  8.34931433e-03, -5.62382117e-03,\n",
       "       -5.73700531e-02, -2.72792680e-02, -4.45345789e-02, -6.38916778e-02,\n",
       "        4.84130997e-03, -3.78711463e-03,  2.99247634e-02, -3.13873030e-03,\n",
       "        8.44177082e-02, -3.28005999e-02, -6.11050930e-02,  3.30053992e-02,\n",
       "        1.10865911e-02, -4.10078289e-02,  5.55962175e-02,  8.13126233e-02,\n",
       "       -5.64636327e-02,  9.67908204e-02, -2.67913626e-02, -3.80299995e-02,\n",
       "       -6.54467717e-02,  7.57515840e-02,  1.53495930e-02, -4.62169340e-02,\n",
       "        8.40917230e-04,  2.82831490e-03, -2.99888898e-02,  1.99288111e-02,\n",
       "       -1.51888691e-02, -7.99189806e-02, -2.44306317e-02, -8.63204151e-03,\n",
       "       -5.62340980e-02,  6.18853467e-03, -3.86198238e-02,  2.51955539e-02,\n",
       "       -1.09778084e-02,  1.10045278e-01, -3.92097281e-02, -2.52402276e-02,\n",
       "        1.75057519e-02,  4.08613570e-02,  2.90923589e-02,  1.17424298e-02,\n",
       "       -9.77396742e-02, -3.86492577e-02,  3.91642973e-02,  1.16213754e-01,\n",
       "       -7.53065981e-02, -4.94924074e-02, -7.51147531e-02,  6.48168679e-02,\n",
       "        2.58797705e-02,  5.48781632e-02,  1.31125167e-01,  3.57096121e-02,\n",
       "        2.96855234e-02, -2.22538107e-02,  7.27370195e-03,  1.64543018e-02,\n",
       "       -2.17480464e-02,  8.80145337e-02,  8.80843587e-03,  3.68329324e-02,\n",
       "       -4.36997844e-02,  9.46909375e-03,  9.10465606e-03, -7.23445881e-03,\n",
       "        2.58794054e-03, -1.18478119e-01, -1.65838487e-02, -6.59569409e-02,\n",
       "        6.16266206e-02, -2.48137787e-02, -5.91555815e-02,  7.09830262e-02,\n",
       "       -9.44179017e-02,  8.64034239e-03,  8.05216841e-02,  1.68779397e-02,\n",
       "        6.63344935e-02, -2.48682871e-02, -7.49642961e-03,  1.20020218e-01,\n",
       "        8.27715863e-02, -1.21617578e-02,  2.72160742e-03, -4.69453633e-04,\n",
       "       -3.34757902e-02,  7.75478780e-04, -1.97552927e-02, -1.46933589e-02,\n",
       "       -5.03868032e-02,  2.68371738e-02, -3.53608122e-02,  5.08191552e-02,\n",
       "       -6.73378878e-02, -6.83066668e-02, -2.75547830e-02, -1.28060002e-01,\n",
       "        5.06890141e-02,  3.40907769e-02, -6.30992581e-02,  2.60249702e-02,\n",
       "       -4.84087951e-02, -2.98701134e-02, -8.14193394e-03,  4.86577954e-03,\n",
       "        5.93832962e-02,  1.51184970e-02, -2.60455317e-02, -3.88987530e-02,\n",
       "        2.75806747e-02,  1.06670629e-01, -2.53629903e-02, -4.12934506e-02,\n",
       "        7.17656198e-03,  6.28754914e-02, -8.58140290e-02, -2.35526152e-02,\n",
       "       -6.35312051e-02,  8.46517161e-02, -4.40291555e-02,  1.11998618e-03,\n",
       "       -2.78747175e-02, -3.63633432e-02, -1.89639302e-02, -1.21142566e-02,\n",
       "        2.49709487e-02, -2.20735967e-02,  2.26970715e-02, -5.73483575e-03,\n",
       "        9.64825433e-02,  6.20895552e-02,  1.55152269e-02,  5.31178489e-02,\n",
       "       -8.78249239e-02, -3.28397769e-02, -3.47287897e-02,  2.16574343e-02,\n",
       "       -6.38863817e-03, -4.49028909e-02,  2.60687247e-03,  3.60721322e-02,\n",
       "        6.19481157e-02, -9.46239419e-02,  1.04753599e-02, -8.14776644e-02,\n",
       "       -2.34595181e-02, -1.27781145e-02,  6.43350473e-02,  3.39724869e-03,\n",
       "        3.89128868e-02, -9.75429043e-02, -3.11686620e-02,  6.23185784e-02,\n",
       "        7.32194930e-02, -1.08821334e-01, -4.59070229e-02,  2.98815733e-02,\n",
       "       -1.14156082e-02,  4.65156920e-02,  1.86247984e-04, -6.21139184e-02,\n",
       "        1.91016933e-02,  2.23853989e-02,  4.05723546e-02, -8.82707909e-03,\n",
       "        1.07002957e-02, -9.96770384e-03, -5.62565774e-03, -1.19808218e-02,\n",
       "        5.82117196e-02,  6.69993125e-02,  1.84902241e-02, -4.35392559e-03,\n",
       "       -4.88816351e-02,  6.56156521e-02, -6.97949752e-02,  5.55337481e-02,\n",
       "        2.57250946e-03, -7.20448489e-02,  3.34903933e-02,  2.43595554e-02,\n",
       "       -1.87518001e-02, -2.17075031e-02,  1.85925588e-02,  3.24493293e-02,\n",
       "        5.94442943e-03,  3.32037471e-02, -3.48319178e-02,  3.05272425e-02,\n",
       "       -4.27001528e-03,  1.03658177e-02,  4.05056775e-03, -6.78725527e-02,\n",
       "        3.72496061e-02, -6.70907851e-02, -3.08063598e-02,  6.31116331e-03,\n",
       "       -4.18395214e-02,  4.63735741e-02, -1.71389915e-02,  3.18550973e-02,\n",
       "       -2.79539386e-02,  7.62427226e-02,  2.37702344e-01,  4.57368558e-02,\n",
       "       -2.34281635e-02, -4.38681364e-02,  2.13313550e-02, -7.79810473e-02,\n",
       "        9.55630466e-03,  6.95680082e-03, -1.55904293e-02,  2.18897767e-02,\n",
       "        6.63820580e-02, -1.08789727e-02,  7.32454583e-02,  2.43175216e-03,\n",
       "       -4.24320372e-02, -3.66569664e-02,  2.67885625e-04, -2.67431664e-02,\n",
       "        1.45683433e-02,  1.29039697e-02,  6.20032288e-03,  4.11309339e-02,\n",
       "        2.55227169e-02,  6.83306623e-02, -7.32330233e-02,  2.70011909e-02,\n",
       "       -2.71506151e-02, -2.37075151e-02, -5.26759624e-02, -1.16869798e-02])"
      ]
     },
     "execution_count": 106,
     "metadata": {},
     "output_type": "execute_result"
    }
   ],
   "execution_count": 106
  },
  {
   "metadata": {
    "ExecuteTime": {
     "end_time": "2024-09-28T22:48:07.163308Z",
     "start_time": "2024-09-28T22:48:07.156846Z"
    }
   },
   "cell_type": "code",
   "source": "data_list[4207]",
   "id": "7a777d8e4d910ebd",
   "outputs": [
    {
     "data": {
      "text/plain": [
       "{'id': 4207,\n",
       " 'title': '',\n",
       " 'text': 'What were the causes of the Cold War? Outline the process of Cold War divisions.',\n",
       " 'tlen': 19,\n",
       " 'question_embedding': [-0.06335372477769852,\n",
       "  0.06741213798522949,\n",
       "  0.03997817263007164,\n",
       "  0.025978438556194305,\n",
       "  -0.031151721253991127,\n",
       "  0.013791236095130444,\n",
       "  -0.024804795160889626,\n",
       "  0.013206233270466328,\n",
       "  0.034603457897901535,\n",
       "  0.027347618713974953,\n",
       "  0.0021884581074118614,\n",
       "  0.03830800950527191,\n",
       "  0.018169675022363663,\n",
       "  0.02940387651324272,\n",
       "  0.0057934923097491264,\n",
       "  0.04977790266275406,\n",
       "  -0.08704179525375366,\n",
       "  0.02684231661260128,\n",
       "  -0.05285944044589996,\n",
       "  0.027862507849931717,\n",
       "  0.031160207465291023,\n",
       "  0.03377993777394295,\n",
       "  -0.023404331877827644,\n",
       "  -0.03693718835711479,\n",
       "  -0.06874148547649384,\n",
       "  -0.009978036396205425,\n",
       "  -0.0441642664372921,\n",
       "  0.0033890248741954565,\n",
       "  -0.04585142806172371,\n",
       "  -0.29012593626976013,\n",
       "  -0.008036337792873383,\n",
       "  -0.005080545321106911,\n",
       "  -0.001093275030143559,\n",
       "  -0.1359795480966568,\n",
       "  0.07473485916852951,\n",
       "  -0.10300673544406891,\n",
       "  0.013142934069037437,\n",
       "  -0.05166323482990265,\n",
       "  0.027780922129750252,\n",
       "  0.06301996111869812,\n",
       "  -0.02513539046049118,\n",
       "  0.056517094373703,\n",
       "  0.03270295262336731,\n",
       "  0.01632125861942768,\n",
       "  0.11613553762435913,\n",
       "  -0.023568976670503616,\n",
       "  -0.04423700273036957,\n",
       "  0.11613763868808746,\n",
       "  0.0352521650493145,\n",
       "  0.02961219660937786,\n",
       "  0.08492352068424225,\n",
       "  -0.04354764148592949,\n",
       "  -0.11026109009981155,\n",
       "  -0.014949276112020016,\n",
       "  -0.015095560811460018,\n",
       "  -0.11262544244527817,\n",
       "  0.06315478682518005,\n",
       "  -0.012415752746164799,\n",
       "  -0.027042802423238754,\n",
       "  -0.043244585394859314,\n",
       "  0.058031029999256134,\n",
       "  -0.03252686187624931,\n",
       "  -0.012259031645953655,\n",
       "  -0.04080135375261307,\n",
       "  -0.004207847639918327,\n",
       "  0.026798628270626068,\n",
       "  -0.04905189946293831,\n",
       "  -0.03334380313754082,\n",
       "  0.05160027742385864,\n",
       "  -0.04943115636706352,\n",
       "  0.0476832278072834,\n",
       "  -0.00898076593875885,\n",
       "  0.013194295577704906,\n",
       "  -0.045004703104496,\n",
       "  0.10927563160657883,\n",
       "  -0.02198767103254795,\n",
       "  -0.04021011292934418,\n",
       "  -0.014065500348806381,\n",
       "  0.008446509018540382,\n",
       "  0.027265798300504684,\n",
       "  -0.015207052230834961,\n",
       "  0.02136078290641308,\n",
       "  0.026734674349427223,\n",
       "  -0.06309519708156586,\n",
       "  0.021207787096500397,\n",
       "  -0.015382291749119759,\n",
       "  -0.012051480822265148,\n",
       "  0.01054046954959631,\n",
       "  0.004292879719287157,\n",
       "  0.15157538652420044,\n",
       "  0.01815343089401722,\n",
       "  -0.026878030970692635,\n",
       "  0.028577856719493866,\n",
       "  0.02536892518401146,\n",
       "  0.004018684383481741,\n",
       "  0.010206257924437523,\n",
       "  -0.0682278722524643,\n",
       "  -0.051769718527793884,\n",
       "  -0.10903766751289368,\n",
       "  -0.03440460190176964,\n",
       "  -0.019217802211642265,\n",
       "  -0.017372822389006615,\n",
       "  0.038217321038246155,\n",
       "  -0.055633265525102615,\n",
       "  -0.049524083733558655,\n",
       "  -0.03834279254078865,\n",
       "  0.0001716475817374885,\n",
       "  -0.00012457916454877704,\n",
       "  -0.029029035940766335,\n",
       "  -0.022761434316635132,\n",
       "  0.002195711014792323,\n",
       "  0.06301534175872803,\n",
       "  0.016750456765294075,\n",
       "  -0.020528089255094528,\n",
       "  -0.04797308146953583,\n",
       "  -0.0017937255324795842,\n",
       "  0.015584132634103298,\n",
       "  -0.03613461181521416,\n",
       "  -0.06880543380975723,\n",
       "  -0.03916313126683235,\n",
       "  0.01264982670545578,\n",
       "  0.026662761345505714,\n",
       "  -0.016338203102350235,\n",
       "  -0.012385343201458454,\n",
       "  0.04996398836374283,\n",
       "  -0.05998598411679268,\n",
       "  0.010522314347326756,\n",
       "  -0.08042263239622116,\n",
       "  -0.0584951676428318,\n",
       "  -0.057304587215185165,\n",
       "  0.01635824143886566,\n",
       "  0.028361868113279343,\n",
       "  -0.02377384342253208,\n",
       "  0.009511008858680725,\n",
       "  -0.011679566465318203,\n",
       "  -0.03562329337000847,\n",
       "  -0.06379329413175583,\n",
       "  -0.0644770935177803,\n",
       "  -0.001904315548017621,\n",
       "  0.01454215683043003,\n",
       "  -0.021163634955883026,\n",
       "  0.02673249877989292,\n",
       "  -0.04217376187443733,\n",
       "  -0.15905512869358063,\n",
       "  -0.05165213719010353,\n",
       "  -0.057641055434942245,\n",
       "  -0.03662611171603203,\n",
       "  -0.015683334320783615,\n",
       "  -0.05286650359630585,\n",
       "  -0.004790312610566616,\n",
       "  -0.06351479887962341,\n",
       "  -0.06451785564422607,\n",
       "  -0.006899693049490452,\n",
       "  -0.003154515288770199,\n",
       "  0.03749914839863777,\n",
       "  -0.028937339782714844,\n",
       "  0.03657978028059006,\n",
       "  0.034870609641075134,\n",
       "  0.02649630792438984,\n",
       "  -0.0060961865819990635,\n",
       "  0.008124837651848793,\n",
       "  -0.0027036303654313087,\n",
       "  -0.0858522355556488,\n",
       "  0.08665457367897034,\n",
       "  -0.10660864412784576,\n",
       "  0.058604445308446884,\n",
       "  -0.0342777781188488,\n",
       "  -0.02623760886490345,\n",
       "  -0.09178438782691956,\n",
       "  0.0669964849948883,\n",
       "  0.03947986662387848,\n",
       "  -0.060178883373737335,\n",
       "  -0.04683218151330948,\n",
       "  0.06891346722841263,\n",
       "  0.0028099108021706343,\n",
       "  0.04014981910586357,\n",
       "  0.013453535735607147,\n",
       "  -0.01827177405357361,\n",
       "  0.013807048089802265,\n",
       "  -0.050473373383283615,\n",
       "  -0.011843322776257992,\n",
       "  0.011129172518849373,\n",
       "  0.04877085983753204,\n",
       "  -0.036563944071531296,\n",
       "  -0.054136600345373154,\n",
       "  0.018909083679318428,\n",
       "  -0.027910375967621803,\n",
       "  -0.044872771948575974,\n",
       "  0.03090076707303524,\n",
       "  -0.03299356624484062,\n",
       "  0.03221520781517029,\n",
       "  0.03374123200774193,\n",
       "  -0.04472268000245094,\n",
       "  -0.035122547298669815,\n",
       "  0.11634158343076706,\n",
       "  0.043840423226356506,\n",
       "  -0.04025508463382721,\n",
       "  0.0009528698865324259,\n",
       "  0.034292783588171005,\n",
       "  0.0685061365365982,\n",
       "  0.057809896767139435,\n",
       "  -0.009518851526081562,\n",
       "  0.25651100277900696,\n",
       "  -0.015780504792928696,\n",
       "  0.07678591459989548,\n",
       "  0.0022022470366209745,\n",
       "  -0.028056593611836433,\n",
       "  0.03679581359028816,\n",
       "  -0.036646123975515366,\n",
       "  0.019550954923033714,\n",
       "  -0.004783752374351025,\n",
       "  0.019829457625746727,\n",
       "  0.003410005709156394,\n",
       "  -0.02721250243484974,\n",
       "  0.0348619744181633,\n",
       "  0.01520561147481203,\n",
       "  -0.023676062002778053,\n",
       "  -0.07997991144657135,\n",
       "  -0.040156152099370956,\n",
       "  -0.04004532843828201,\n",
       "  0.07750366628170013,\n",
       "  -0.06085580587387085,\n",
       "  -0.026335986331105232,\n",
       "  0.10635580122470856,\n",
       "  -0.06724826991558075,\n",
       "  -0.012919099070131779,\n",
       "  0.05297858268022537,\n",
       "  0.019770031794905663,\n",
       "  0.032946307212114334,\n",
       "  -0.08850980550050735,\n",
       "  -0.02723170630633831,\n",
       "  0.06153149530291557,\n",
       "  -0.01744629256427288,\n",
       "  0.044810548424720764,\n",
       "  0.0022750934585928917,\n",
       "  0.01171256136149168,\n",
       "  -0.06406540423631668,\n",
       "  -0.04686436057090759,\n",
       "  -0.06137353554368019,\n",
       "  0.00952240638434887,\n",
       "  -0.03212795779109001,\n",
       "  0.06392134726047516,\n",
       "  -0.043014299124479294,\n",
       "  -0.0019504647934809327,\n",
       "  -0.005892618093639612,\n",
       "  -0.0031988518312573433,\n",
       "  -0.0046034911647439,\n",
       "  -0.0460139699280262,\n",
       "  0.04302997514605522,\n",
       "  -0.004968619905412197,\n",
       "  -0.06490735709667206,\n",
       "  0.008025222457945347,\n",
       "  0.01174136996269226,\n",
       "  0.02765858732163906,\n",
       "  -0.014836246147751808,\n",
       "  -0.003842760808765888,\n",
       "  -0.002615220146253705,\n",
       "  0.006755281705409288,\n",
       "  -0.0006976562435738742,\n",
       "  0.02455550990998745,\n",
       "  0.07356645911931992,\n",
       "  0.02594796195626259,\n",
       "  0.006205518264323473,\n",
       "  -0.009616208262741566,\n",
       "  0.0009502146858721972,\n",
       "  0.0626857578754425,\n",
       "  -0.04725351929664612,\n",
       "  0.04408064857125282,\n",
       "  -0.0246640183031559,\n",
       "  0.047012973576784134,\n",
       "  -0.04659593105316162,\n",
       "  0.02116701751947403,\n",
       "  -0.04487968608736992,\n",
       "  0.0023234314285218716,\n",
       "  0.007650668732821941,\n",
       "  -0.048702895641326904,\n",
       "  -0.03974943608045578,\n",
       "  -0.001335185021162033,\n",
       "  0.029764967039227486,\n",
       "  -0.017791161313652992,\n",
       "  0.06928518414497375,\n",
       "  0.06580352038145065,\n",
       "  0.06017881631851196,\n",
       "  -0.02689511328935623,\n",
       "  -0.07076822221279144,\n",
       "  -0.017283838242292404,\n",
       "  -0.06510789692401886,\n",
       "  0.00396870169788599,\n",
       "  -0.031093284487724304,\n",
       "  -0.02178337238729,\n",
       "  -0.03278367966413498,\n",
       "  0.006621501408517361,\n",
       "  0.05959978327155113,\n",
       "  -0.12953314185142517,\n",
       "  0.055239275097846985,\n",
       "  0.10820945352315903,\n",
       "  -0.021997299045324326,\n",
       "  -0.04590752720832825,\n",
       "  0.07385435700416565,\n",
       "  0.015962950885295868,\n",
       "  0.013813156634569168,\n",
       "  0.01774583011865616,\n",
       "  0.07431159168481827,\n",
       "  0.03027595579624176,\n",
       "  0.04133955016732216,\n",
       "  0.005449382588267326,\n",
       "  -0.05276233330368996,\n",
       "  0.014695415273308754,\n",
       "  0.006618037819862366,\n",
       "  -0.022826481610536575,\n",
       "  0.003204048378393054,\n",
       "  -0.030004285275936127,\n",
       "  -0.009286859072744846,\n",
       "  0.03339999169111252,\n",
       "  0.015868403017520905,\n",
       "  -0.05661720409989357,\n",
       "  0.01968074031174183,\n",
       "  -0.001663633156567812,\n",
       "  -0.04237115755677223,\n",
       "  -0.019246181473135948,\n",
       "  0.027047041803598404,\n",
       "  0.05476522818207741,\n",
       "  0.002760644070804119,\n",
       "  0.0065413471311330795,\n",
       "  0.10489435493946075,\n",
       "  -0.014045076444745064,\n",
       "  -0.019352994859218597,\n",
       "  0.11018188297748566,\n",
       "  -0.0027696294710040092,\n",
       "  0.005995616782456636,\n",
       "  -0.042073894292116165,\n",
       "  0.019894184544682503,\n",
       "  -0.007874498143792152,\n",
       "  0.026136489585042,\n",
       "  0.1427091807126999,\n",
       "  0.00795440562069416,\n",
       "  0.002338709309697151,\n",
       "  0.08492060005664825,\n",
       "  -0.008516068570315838,\n",
       "  0.01932569406926632,\n",
       "  -0.017383398488163948,\n",
       "  -0.01599409244954586,\n",
       "  -0.022234071046113968,\n",
       "  -0.07299041748046875,\n",
       "  0.07772380113601685,\n",
       "  -0.023681307211518288,\n",
       "  -0.008881631307303905,\n",
       "  -0.05815884470939636,\n",
       "  -0.09745214134454727,\n",
       "  0.009274734184145927,\n",
       "  -0.06016543507575989,\n",
       "  0.03399645909667015,\n",
       "  -0.023911697790026665,\n",
       "  -0.046669021248817444,\n",
       "  0.04977564886212349,\n",
       "  0.007876264862716198,\n",
       "  -0.021674616262316704,\n",
       "  -0.0008433915209025145,\n",
       "  0.0036811549216508865,\n",
       "  -0.03660609573125839,\n",
       "  -0.03621472418308258,\n",
       "  0.10370678454637527,\n",
       "  -0.10136961936950684,\n",
       "  -0.002151997061446309,\n",
       "  -0.040376633405685425,\n",
       "  0.021341994404792786,\n",
       "  -0.04911467432975769,\n",
       "  -0.017647311091423035,\n",
       "  -0.03392378240823746,\n",
       "  -0.058102626353502274,\n",
       "  0.023007676005363464,\n",
       "  -0.022871721535921097,\n",
       "  -0.007150885183364153,\n",
       "  0.04336955398321152,\n",
       "  0.02416214719414711,\n",
       "  0.026965076103806496,\n",
       "  0.0007548729190602899,\n",
       "  0.020479382947087288,\n",
       "  -0.033525433391332626,\n",
       "  -0.04357365891337395,\n",
       "  0.010554679669439793,\n",
       "  -0.0021332004107534885,\n",
       "  -0.1846088021993637,\n",
       "  0.009727510623633862]}"
      ]
     },
     "execution_count": 107,
     "metadata": {},
     "output_type": "execute_result"
    }
   ],
   "execution_count": 107
  },
  {
   "metadata": {
    "ExecuteTime": {
     "end_time": "2024-09-28T22:48:51.172974Z",
     "start_time": "2024-09-28T22:48:51.169032Z"
    }
   },
   "cell_type": "code",
   "source": [
    "c=np.array(data_list[4207]['qembedding'])\n",
    "np.inner(b, c)"
   ],
   "id": "3202ee818e39dd33",
   "outputs": [
    {
     "data": {
      "text/plain": [
       "1.000000044775322"
      ]
     },
     "execution_count": 108,
     "metadata": {},
     "output_type": "execute_result"
    }
   ],
   "execution_count": 108
  },
  {
   "metadata": {
    "ExecuteTime": {
     "end_time": "2024-09-29T18:48:00.069277Z",
     "start_time": "2024-09-29T18:48:00.065925Z"
    }
   },
   "cell_type": "code",
   "source": [
    "from pymilvus import (\n",
    "    MilvusClient,\n",
    "    DataType\n",
    ")\n",
    "\n",
    "\n",
    "def test_search(vector_for_db, vector_for_query, metric=\"IP\"):\n",
    "    truncate_dim = 4\n",
    "    collection_name = \"test\"\n",
    "    vector_field_name = \"embeddings\"\n",
    "\n",
    "    client = MilvusClient(\"test.db\")\n",
    "    schema = client.create_schema(auto_id=True, enable_dynamic_field=True, primary_field=\"id\")\n",
    "    \n",
    "    schema.add_field(field_name=\"id\", datatype=DataType.INT64, is_primary=True)\n",
    "    schema.add_field(field_name=\"source\", datatype=DataType.VARCHAR, max_length=50000)\n",
    "    schema.add_field(field_name=vector_field_name, datatype=DataType.FLOAT_VECTOR, dim=truncate_dim)\n",
    "    \n",
    "    index_params = client.prepare_index_params()\n",
    "    index_params.add_index(\n",
    "        field_name=vector_field_name,\n",
    "        index_type=\"FLAT\",\n",
    "        metric_type=metric,\n",
    "        params={\"nlist\": 1024}\n",
    "    )\n",
    "    \n",
    "    if client.has_collection(collection_name=collection_name):\n",
    "        client.drop_collection(collection_name=collection_name)\n",
    "    client.create_collection(\n",
    "        collection_name=collection_name, schema=schema, index_params=index_params\n",
    "    )\n",
    "    entities = [\n",
    "        {\"source\": \"hello\", vector_field_name: vector_for_db}\n",
    "    ]\n",
    "    insert_result = client.insert(collection_name=collection_name, data=entities)\n",
    "    \n",
    "    return client.search(\n",
    "        collection_name=collection_name,\n",
    "        data=[vector_for_query],\n",
    "        search_params={\"metric_type\": metric, \"params\": {\"nprobe\": 10}},\n",
    "        anns_field=vector_field_name,\n",
    "        limit=10,\n",
    "        output_fields=[\"source\"],\n",
    "    )\n"
   ],
   "id": "217cf1acaab74012",
   "outputs": [],
   "execution_count": 58
  },
  {
   "metadata": {
    "ExecuteTime": {
     "end_time": "2024-09-29T18:48:04.396050Z",
     "start_time": "2024-09-29T18:48:03.847170Z"
    }
   },
   "cell_type": "code",
   "source": "print(test_search([1, 2, 3, 4], [1e10, 1e10, 1e10, 1e10]))",
   "id": "6217fb3e994a316e",
   "outputs": [
    {
     "name": "stdout",
     "output_type": "stream",
     "text": [
      "data: [\"[{'id': 452889328847683586, 'distance': 100000006144.0, 'entity': {'source': 'hello'}}]\"] \n"
     ]
    }
   ],
   "execution_count": 59
  },
  {
   "metadata": {},
   "cell_type": "code",
   "outputs": [],
   "execution_count": null,
   "source": "",
   "id": "2bd434d439b610d2"
  }
 ],
 "metadata": {
  "kernelspec": {
   "display_name": "Python 3",
   "language": "python",
   "name": "python3"
  },
  "language_info": {
   "codemirror_mode": {
    "name": "ipython",
    "version": 2
   },
   "file_extension": ".py",
   "mimetype": "text/x-python",
   "name": "python",
   "nbconvert_exporter": "python",
   "pygments_lexer": "ipython2",
   "version": "2.7.6"
  }
 },
 "nbformat": 4,
 "nbformat_minor": 5
}
