{
 "cells": [
  {
   "cell_type": "code",
   "id": "45cb2e8d7ebe4899",
   "metadata": {
    "ExecuteTime": {
     "end_time": "2025-02-27T22:38:39.107214Z",
     "start_time": "2025-02-27T22:38:38.285958Z"
    }
   },
   "source": [
    "from pymilvus import model\n",
    "from pymilvus import MilvusClient, DataType"
   ],
   "outputs": [],
   "execution_count": 1
  },
  {
   "metadata": {},
   "cell_type": "markdown",
   "source": "### Create Milvus connection to a file",
   "id": "3595e4f9d9d38116"
  },
  {
   "metadata": {
    "ExecuteTime": {
     "end_time": "2025-02-27T22:38:45.875586Z",
     "start_time": "2025-02-27T22:38:44.343155Z"
    }
   },
   "cell_type": "code",
   "source": [
    "client = MilvusClient(\"/tmp/milvus_demo.db\")\n",
    "\n",
    "client.drop_collection(collection_name=\"my_sparse_collection\")\n",
    "\n",
    "schema = client.create_schema(\n",
    "    auto_id=True,\n",
    "    enable_dynamic_fields=True,\n",
    ")\n",
    "\n",
    "schema.add_field(field_name=\"pk\", datatype=DataType.VARCHAR, is_primary=True, max_length=100)\n",
    "schema.add_field(field_name=\"id\", datatype=DataType.VARCHAR, is_primary=False, max_length=100)\n",
    "schema.add_field(field_name=\"embeddings\", datatype=DataType.SPARSE_FLOAT_VECTOR)\n",
    "\n",
    "index_params = client.prepare_index_params()\n",
    "\n",
    "index_params.add_index(field_name=\"embeddings\",\n",
    "                               index_name=\"sparse_inverted_index\",\n",
    "                               index_type=\"SPARSE_INVERTED_INDEX\",\n",
    "                               metric_type=\"IP\",\n",
    "                               params={\"drop_ratio_build\": 0.2})\n",
    "client.create_collection(\n",
    "    collection_name=\"my_sparse_collection\",\n",
    "    schema=schema,\n",
    "    index_params=index_params\n",
    ")\n"
   ],
   "id": "16d08341d9886fc4",
   "outputs": [],
   "execution_count": 2
  },
  {
   "metadata": {
    "ExecuteTime": {
     "end_time": "2025-02-27T22:38:49.317968Z",
     "start_time": "2025-02-27T22:38:46.949541Z"
    }
   },
   "cell_type": "code",
   "source": [
    "embeddings_model = model.sparse.SpladeEmbeddingFunction(\n",
    "    model_name=\"ibm-granite/granite-embedding-30m-sparse\",\n",
    "    device=\"cuda\",\n",
    "    batch_size=2,\n",
    "    k_tokens_query=50,\n",
    "    k_tokens_document=192\n",
    ")"
   ],
   "id": "4d39342c194c0fe9",
   "outputs": [],
   "execution_count": 3
  },
  {
   "metadata": {
    "ExecuteTime": {
     "end_time": "2025-02-27T22:38:50.170799Z",
     "start_time": "2025-02-27T22:38:50.166506Z"
    }
   },
   "cell_type": "code",
   "source": [
    "import os\n",
    "os.getenv('CUDA_VISIBLE_DEVICES')"
   ],
   "id": "15c1110525cc1103",
   "outputs": [
    {
     "data": {
      "text/plain": [
       "'1'"
      ]
     },
     "execution_count": 4,
     "metadata": {},
     "output_type": "execute_result"
    }
   ],
   "execution_count": 4
  },
  {
   "metadata": {},
   "cell_type": "markdown",
   "source": "### Prepare documents to be ingested",
   "id": "9f9e778cb8317afb"
  },
  {
   "metadata": {
    "ExecuteTime": {
     "end_time": "2025-02-27T22:38:59.536700Z",
     "start_time": "2025-02-27T22:38:59.212933Z"
    }
   },
   "cell_type": "code",
   "source": [
    "docs = [\n",
    "    \"Artificial intelligence was founded as an academic discipline in 1956.\",\n",
    "    \"Alan Turing was the first person to conduct substantial research in AI.\",\n",
    "    \"Born in Maida Vale, London, Turing was raised in southern England.\",\n",
    "]\n",
    "vecs = embeddings_model.encode_documents(docs)"
   ],
   "id": "6a148eb2d28e4aa6",
   "outputs": [],
   "execution_count": 5
  },
  {
   "metadata": {
    "ExecuteTime": {
     "end_time": "2025-02-27T22:39:01.966252Z",
     "start_time": "2025-02-27T22:39:01.963568Z"
    }
   },
   "cell_type": "code",
   "source": [
    "for v in vecs:\n",
    "    print(v)"
   ],
   "id": "ba6d46952261cf1b",
   "outputs": [
    {
     "name": "stdout",
     "output_type": "stream",
     "text": [
      "<Compressed Sparse Row sparse array of dtype 'float32'\n",
      "\twith 192 stored elements and shape (50265,)>\n",
      "  Coords\tValues\n",
      "  (0,)\t0.0\n",
      "  (1,)\t0.0\n",
      "  (2,)\t0.0\n",
      "  (3,)\t0.0\n",
      "  (4,)\t0.0\n",
      "  (5,)\t0.0\n",
      "  (6,)\t0.0\n",
      "  (7,)\t0.0\n",
      "  (8,)\t0.0\n",
      "  (9,)\t0.0\n",
      "  (10,)\t0.0\n",
      "  (11,)\t0.0\n",
      "  (12,)\t0.0\n",
      "  (13,)\t0.0\n",
      "  (14,)\t0.0\n",
      "  (15,)\t0.0\n",
      "  (16,)\t0.0\n",
      "  (17,)\t0.0\n",
      "  (18,)\t0.0\n",
      "  (19,)\t0.0\n",
      "  (20,)\t0.0\n",
      "  (21,)\t0.0\n",
      "  (22,)\t0.0\n",
      "  (23,)\t0.0\n",
      "  (24,)\t0.0\n",
      "  :\t:\n",
      "  (6441,)\t0.6892693638801575\n",
      "  (7147,)\t0.5508409738540649\n",
      "  (7350,)\t1.2501308917999268\n",
      "  (8408,)\t0.27251625061035156\n",
      "  (8882,)\t1.219290018081665\n",
      "  (9916,)\t0.5613634586334229\n",
      "  (10561,)\t0.5431846976280212\n",
      "  (11730,)\t0.0014892152976244688\n",
      "  (14578,)\t0.020381949841976166\n",
      "  (14619,)\t0.3156839907169342\n",
      "  (15221,)\t0.03903009369969368\n",
      "  (17194,)\t0.4083267152309418\n",
      "  (20257,)\t0.21323853731155396\n",
      "  (23931,)\t0.002258133376017213\n",
      "  (24649,)\t1.0350993871688843\n",
      "  (26101,)\t0.9785782694816589\n",
      "  (28034,)\t0.18753792345523834\n",
      "  (31024,)\t0.021009808406233788\n",
      "  (34580,)\t0.22217050194740295\n",
      "  (37283,)\t0.05991365760564804\n",
      "  (39974,)\t0.37229442596435547\n",
      "  (41355,)\t0.4464937448501587\n",
      "  (42432,)\t0.32480621337890625\n",
      "  (43545,)\t0.43276143074035645\n",
      "  (44316,)\t0.33030468225479126\n",
      "<Compressed Sparse Row sparse array of dtype 'float32'\n",
      "\twith 192 stored elements and shape (50265,)>\n",
      "  Coords\tValues\n",
      "  (0,)\t0.0\n",
      "  (1,)\t0.0\n",
      "  (2,)\t0.0\n",
      "  (3,)\t0.0\n",
      "  (4,)\t0.0\n",
      "  (5,)\t0.0\n",
      "  (6,)\t0.0\n",
      "  (7,)\t0.0\n",
      "  (8,)\t0.0\n",
      "  (9,)\t0.0\n",
      "  (10,)\t0.0\n",
      "  (11,)\t0.0\n",
      "  (12,)\t0.0\n",
      "  (13,)\t0.0\n",
      "  (14,)\t0.0\n",
      "  (15,)\t0.0\n",
      "  (16,)\t0.0\n",
      "  (17,)\t0.0\n",
      "  (18,)\t0.0\n",
      "  (19,)\t0.0\n",
      "  (20,)\t0.0\n",
      "  (21,)\t0.0\n",
      "  (22,)\t0.0\n",
      "  (23,)\t0.0\n",
      "  (24,)\t0.0\n",
      "  :\t:\n",
      "  (2239,)\t0.07020063698291779\n",
      "  (2316,)\t0.5014872550964355\n",
      "  (2407,)\t0.9318149089813232\n",
      "  (2883,)\t0.2765781283378601\n",
      "  (3034,)\t0.6708968281745911\n",
      "  (3157,)\t0.11811136454343796\n",
      "  (3563,)\t0.41744521260261536\n",
      "  (4675,)\t0.015239176340401173\n",
      "  (4687,)\t1.5472354888916016\n",
      "  (5206,)\t1.4942805767059326\n",
      "  (6020,)\t0.4392439126968384\n",
      "  (6284,)\t1.4508532285690308\n",
      "  (6441,)\t0.9361425042152405\n",
      "  (7083,)\t1.0454747676849365\n",
      "  (7350,)\t0.40826234221458435\n",
      "  (9916,)\t0.49302250146865845\n",
      "  (10561,)\t0.4623345732688904\n",
      "  (10638,)\t0.11768405884504318\n",
      "  (14578,)\t0.3713265359401703\n",
      "  (15491,)\t0.28045448660850525\n",
      "  (17194,)\t0.32013437151908875\n",
      "  (26101,)\t0.2748258709907532\n",
      "  (34580,)\t0.5403633117675781\n",
      "  (42014,)\t1.079980731010437\n",
      "  (44316,)\t1.0215709209442139\n",
      "<Compressed Sparse Row sparse array of dtype 'float32'\n",
      "\twith 192 stored elements and shape (50265,)>\n",
      "  Coords\tValues\n",
      "  (0,)\t0.0\n",
      "  (1,)\t0.0\n",
      "  (2,)\t0.0\n",
      "  (3,)\t0.0\n",
      "  (4,)\t0.0\n",
      "  (5,)\t0.0\n",
      "  (6,)\t0.0\n",
      "  (7,)\t0.0\n",
      "  (8,)\t0.0\n",
      "  (9,)\t0.0\n",
      "  (10,)\t0.0\n",
      "  (11,)\t0.0\n",
      "  (12,)\t0.0\n",
      "  (13,)\t0.0\n",
      "  (14,)\t0.0\n",
      "  (15,)\t0.0\n",
      "  (16,)\t0.0\n",
      "  (17,)\t0.0\n",
      "  (18,)\t0.0\n",
      "  (19,)\t0.0\n",
      "  (20,)\t0.0\n",
      "  (21,)\t0.0\n",
      "  (22,)\t0.0\n",
      "  (23,)\t0.0\n",
      "  (24,)\t0.0\n",
      "  :\t:\n",
      "  (1627,)\t0.1831742227077484\n",
      "  (2370,)\t0.23275578022003174\n",
      "  (2407,)\t1.3688515424728394\n",
      "  (2421,)\t1.3117954730987549\n",
      "  (3034,)\t0.5843601226806641\n",
      "  (3157,)\t0.4341045916080475\n",
      "  (3295,)\t0.1892855316400528\n",
      "  (3375,)\t0.288480281829834\n",
      "  (3563,)\t0.6252104043960571\n",
      "  (4687,)\t0.3027673363685608\n",
      "  (5206,)\t1.7212066650390625\n",
      "  (5526,)\t0.5355733036994934\n",
      "  (6645,)\t0.060049280524253845\n",
      "  (8326,)\t0.297321081161499\n",
      "  (10561,)\t0.09289877861738205\n",
      "  (11730,)\t0.004676002077758312\n",
      "  (14467,)\t1.112467646598816\n",
      "  (16538,)\t0.2905486524105072\n",
      "  (19093,)\t1.0925215482711792\n",
      "  (22105,)\t0.2218352109193802\n",
      "  (31886,)\t0.44277945160865784\n",
      "  (34580,)\t0.4510505795478821\n",
      "  (42014,)\t1.6165966987609863\n",
      "  (44316,)\t1.1182286739349365\n",
      "  (44866,)\t0.18649953603744507\n"
     ]
    }
   ],
   "execution_count": 6
  },
  {
   "metadata": {
    "ExecuteTime": {
     "end_time": "2025-02-27T22:45:50.557018Z",
     "start_time": "2025-02-27T22:45:50.553788Z"
    }
   },
   "cell_type": "code",
   "source": [
    "\n",
    "doc_vector = [{\"embeddings\": doc_emb.reshape(1,50265), \"id\": f\"item_{i}\"} for i, doc_emb in enumerate(vecs)]"
   ],
   "id": "fff463b064a51162",
   "outputs": [],
   "execution_count": 20
  },
  {
   "metadata": {
    "ExecuteTime": {
     "end_time": "2025-02-27T22:45:39.141412Z",
     "start_time": "2025-02-27T22:45:39.138319Z"
    }
   },
   "cell_type": "code",
   "source": "doc_vector[0]['embeddings'].reshape(1,50265)",
   "id": "2e22210d2c3b2c6d",
   "outputs": [
    {
     "data": {
      "text/plain": [
       "<COOrdinate sparse array of dtype 'float32'\n",
       "\twith 192 stored elements and shape (1, 50265)>"
      ]
     },
     "execution_count": 19,
     "metadata": {},
     "output_type": "execute_result"
    }
   ],
   "execution_count": 19
  },
  {
   "metadata": {
    "ExecuteTime": {
     "end_time": "2025-02-27T22:45:58.114229Z",
     "start_time": "2025-02-27T22:45:58.105112Z"
    }
   },
   "cell_type": "code",
   "source": [
    "\n",
    "client.insert(\n",
    "    collection_name=\"my_sparse_collection\",\n",
    "    data=doc_vector\n",
    ")\n"
   ],
   "id": "f16b232114f7712c",
   "outputs": [
    {
     "data": {
      "text/plain": [
       "{'insert_count': 3, 'ids': ['456313106099863552', '456313106099863553', '456313106099863554'], 'cost': 0}"
      ]
     },
     "execution_count": 21,
     "metadata": {},
     "output_type": "execute_result"
    }
   ],
   "execution_count": 21
  },
  {
   "metadata": {},
   "cell_type": "markdown",
   "source": "### Prepare search parameters",
   "id": "901327946ea22410"
  },
  {
   "metadata": {
    "ExecuteTime": {
     "end_time": "2025-02-27T22:46:07.667560Z",
     "start_time": "2025-02-27T22:46:07.664724Z"
    }
   },
   "cell_type": "code",
   "source": [
    "search_params = {\n",
    "    \"params\": {\"drop_ratio_search\": 0.2},  # Additional optional search parameters\n",
    "}\n"
   ],
   "id": "8ed93c14cfe125ed",
   "outputs": [],
   "execution_count": 24
  },
  {
   "metadata": {},
   "cell_type": "markdown",
   "source": "### Prepare the query vector",
   "id": "ff283f9fcfed613e"
  },
  {
   "metadata": {
    "collapsed": true,
    "ExecuteTime": {
     "end_time": "2025-02-27T22:46:11.865649Z",
     "start_time": "2025-02-27T22:46:11.786599Z"
    }
   },
   "cell_type": "code",
   "source": [
    "\n",
    "queries = [\n",
    "      \"When was artificial intelligence founded\",\n",
    "      \"Where was Turing born?\"\n",
    "]\n",
    "query_vector = embeddings_model.encode_documents(queries)\n",
    "\n",
    "res = client.search(\n",
    "    collection_name=\"my_sparse_collection\",\n",
    "    data=query_vector,\n",
    "    limit=1, #top k documents to return\n",
    "    output_fields=[\"id\"],\n",
    "    search_params=search_params,\n",
    ")\n",
    "\n",
    "for r in res:\n",
    "    print(r)"
   ],
   "id": "initial_id",
   "outputs": [
    {
     "name": "stdout",
     "output_type": "stream",
     "text": [
      "[{'id': '456313106099863552', 'distance': 12.3641357421875, 'entity': {'id': 'item_0'}}]\n",
      "[{'id': '456313106099863554', 'distance': 17.1358642578125, 'entity': {'id': 'item_2'}}]\n"
     ]
    }
   ],
   "execution_count": 25
  }
 ],
 "metadata": {
  "kernelspec": {
   "display_name": "Python 3",
   "language": "python",
   "name": "python3"
  },
  "language_info": {
   "codemirror_mode": {
    "name": "ipython",
    "version": 2
   },
   "file_extension": ".py",
   "mimetype": "text/x-python",
   "name": "python",
   "nbconvert_exporter": "python",
   "pygments_lexer": "ipython2",
   "version": "2.7.6"
  }
 },
 "nbformat": 4,
 "nbformat_minor": 5
}
