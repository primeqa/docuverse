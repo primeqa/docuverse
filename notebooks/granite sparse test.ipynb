{
 "cells": [
  {
   "cell_type": "code",
   "id": "45cb2e8d7ebe4899",
   "metadata": {
    "ExecuteTime": {
     "end_time": "2025-02-27T16:00:51.231533Z",
     "start_time": "2025-02-27T16:00:50.627984Z"
    }
   },
   "source": [
    "from pymilvus import model\n",
    "from pymilvus import MilvusClient, DataType"
   ],
   "outputs": [],
   "execution_count": 1
  },
  {
   "metadata": {},
   "cell_type": "markdown",
   "source": "### Create Milvus connection to a file",
   "id": "3595e4f9d9d38116"
  },
  {
   "metadata": {
    "ExecuteTime": {
     "end_time": "2025-02-27T20:25:34.963466Z",
     "start_time": "2025-02-27T20:25:33.448928Z"
    }
   },
   "cell_type": "code",
   "source": [
    "client = MilvusClient(\"/tmp/milvus_demo.db\")\n",
    "\n",
    "client.drop_collection(collection_name=\"my_sparse_collection\")\n",
    "\n",
    "schema = client.create_schema(\n",
    "    auto_id=True,\n",
    "    enable_dynamic_fields=True,\n",
    ")\n",
    "\n",
    "schema.add_field(field_name=\"pk\", datatype=DataType.VARCHAR, is_primary=True, max_length=100)\n",
    "schema.add_field(field_name=\"id\", datatype=DataType.VARCHAR, is_primary=False, max_length=100)\n",
    "schema.add_field(field_name=\"embeddings\", datatype=DataType.SPARSE_FLOAT_VECTOR)\n",
    "\n",
    "index_params = client.prepare_index_params()\n",
    "\n",
    "index_params.add_index(field_name=\"embeddings\",\n",
    "                               index_name=\"sparse_inverted_index\",\n",
    "                               index_type=\"SPARSE_INVERTED_INDEX\",\n",
    "                               metric_type=\"IP\",\n",
    "                               params={\"drop_ratio_build\": 0.2})\n",
    "client.create_collection(\n",
    "    collection_name=\"my_sparse_collection\",\n",
    "    schema=schema,\n",
    "    index_params=index_params\n",
    ")\n"
   ],
   "id": "16d08341d9886fc4",
   "outputs": [],
   "execution_count": 14
  },
  {
   "metadata": {
    "ExecuteTime": {
     "end_time": "2025-02-27T20:23:02.290322Z",
     "start_time": "2025-02-27T20:23:01.129808Z"
    }
   },
   "cell_type": "code",
   "source": [
    "embeddings_model = model.sparse.SpladeEmbeddingFunction(\n",
    "    model_name=\"ibm-granite/granite-embedding-30m-sparse\",\n",
    "    device=\"cuda\",\n",
    "    batch_size=2,\n",
    "    k_tokens_query=50,\n",
    "    k_tokens_document=192\n",
    ")"
   ],
   "id": "4d39342c194c0fe9",
   "outputs": [],
   "execution_count": 7
  },
  {
   "metadata": {
    "ExecuteTime": {
     "end_time": "2025-02-27T20:22:54.664723Z",
     "start_time": "2025-02-27T20:22:54.659670Z"
    }
   },
   "cell_type": "code",
   "source": [
    "import os\n",
    "os.getenv('CUDA_VISIBLE_DEVICES')"
   ],
   "id": "15c1110525cc1103",
   "outputs": [
    {
     "data": {
      "text/plain": [
       "'1'"
      ]
     },
     "execution_count": 6,
     "metadata": {},
     "output_type": "execute_result"
    }
   ],
   "execution_count": 6
  },
  {
   "metadata": {},
   "cell_type": "markdown",
   "source": "### Prepare documents to be ingested",
   "id": "9f9e778cb8317afb"
  },
  {
   "metadata": {
    "ExecuteTime": {
     "end_time": "2025-02-27T20:24:02.131974Z",
     "start_time": "2025-02-27T20:24:02.098888Z"
    }
   },
   "cell_type": "code",
   "source": [
    "docs = [\n",
    "    \"Artificial intelligence was founded as an academic discipline in 1956.\",\n",
    "    \"Alan Turing was the first person to conduct substantial research in AI.\",\n",
    "    \"Born in Maida Vale, London, Turing was raised in southern England.\",\n",
    "]\n",
    "vecs = embeddings_model.encode_documents(docs)"
   ],
   "id": "6a148eb2d28e4aa6",
   "outputs": [],
   "execution_count": 9
  },
  {
   "metadata": {
    "ExecuteTime": {
     "end_time": "2025-02-27T20:24:37.219614Z",
     "start_time": "2025-02-27T20:24:37.216159Z"
    }
   },
   "cell_type": "code",
   "source": [
    "for v in vecs:\n",
    "    print(v)"
   ],
   "id": "ba6d46952261cf1b",
   "outputs": [
    {
     "name": "stdout",
     "output_type": "stream",
     "text": [
      "<Compressed Sparse Row sparse array of dtype 'float32'\n",
      "\twith 192 stored elements and shape (50265,)>\n",
      "  Coords\tValues\n",
      "  (0,)\t0.0\n",
      "  (1,)\t0.0\n",
      "  (2,)\t0.0\n",
      "  (3,)\t0.0\n",
      "  (4,)\t0.0\n",
      "  (5,)\t0.0\n",
      "  (6,)\t0.0\n",
      "  (7,)\t0.0\n",
      "  (8,)\t0.0\n",
      "  (9,)\t0.0\n",
      "  (10,)\t0.0\n",
      "  (11,)\t0.0\n",
      "  (12,)\t0.0\n",
      "  (13,)\t0.0\n",
      "  (14,)\t0.0\n",
      "  (15,)\t0.0\n",
      "  (16,)\t0.0\n",
      "  (17,)\t0.0\n",
      "  (18,)\t0.0\n",
      "  (19,)\t0.0\n",
      "  (20,)\t0.0\n",
      "  (21,)\t0.0\n",
      "  (22,)\t0.0\n",
      "  (23,)\t0.0\n",
      "  (24,)\t0.0\n",
      "  :\t:\n",
      "  (6441,)\t0.6892693638801575\n",
      "  (7147,)\t0.5508409738540649\n",
      "  (7350,)\t1.2501308917999268\n",
      "  (8408,)\t0.27251625061035156\n",
      "  (8882,)\t1.219290018081665\n",
      "  (9916,)\t0.5613634586334229\n",
      "  (10561,)\t0.5431846976280212\n",
      "  (11730,)\t0.0014892152976244688\n",
      "  (14578,)\t0.020381949841976166\n",
      "  (14619,)\t0.3156839907169342\n",
      "  (15221,)\t0.03903009369969368\n",
      "  (17194,)\t0.4083267152309418\n",
      "  (20257,)\t0.21323853731155396\n",
      "  (23931,)\t0.002258133376017213\n",
      "  (24649,)\t1.0350993871688843\n",
      "  (26101,)\t0.9785782694816589\n",
      "  (28034,)\t0.18753792345523834\n",
      "  (31024,)\t0.021009808406233788\n",
      "  (34580,)\t0.22217050194740295\n",
      "  (37283,)\t0.05991365760564804\n",
      "  (39974,)\t0.37229442596435547\n",
      "  (41355,)\t0.4464937448501587\n",
      "  (42432,)\t0.32480621337890625\n",
      "  (43545,)\t0.43276143074035645\n",
      "  (44316,)\t0.33030468225479126\n",
      "<Compressed Sparse Row sparse array of dtype 'float32'\n",
      "\twith 192 stored elements and shape (50265,)>\n",
      "  Coords\tValues\n",
      "  (0,)\t0.0\n",
      "  (1,)\t0.0\n",
      "  (2,)\t0.0\n",
      "  (3,)\t0.0\n",
      "  (4,)\t0.0\n",
      "  (5,)\t0.0\n",
      "  (6,)\t0.0\n",
      "  (7,)\t0.0\n",
      "  (8,)\t0.0\n",
      "  (9,)\t0.0\n",
      "  (10,)\t0.0\n",
      "  (11,)\t0.0\n",
      "  (12,)\t0.0\n",
      "  (13,)\t0.0\n",
      "  (14,)\t0.0\n",
      "  (15,)\t0.0\n",
      "  (16,)\t0.0\n",
      "  (17,)\t0.0\n",
      "  (18,)\t0.0\n",
      "  (19,)\t0.0\n",
      "  (20,)\t0.0\n",
      "  (21,)\t0.0\n",
      "  (22,)\t0.0\n",
      "  (23,)\t0.0\n",
      "  (24,)\t0.0\n",
      "  :\t:\n",
      "  (2239,)\t0.07020063698291779\n",
      "  (2316,)\t0.5014872550964355\n",
      "  (2407,)\t0.9318149089813232\n",
      "  (2883,)\t0.2765781283378601\n",
      "  (3034,)\t0.6708968281745911\n",
      "  (3157,)\t0.11811136454343796\n",
      "  (3563,)\t0.41744521260261536\n",
      "  (4675,)\t0.015239176340401173\n",
      "  (4687,)\t1.5472354888916016\n",
      "  (5206,)\t1.4942805767059326\n",
      "  (6020,)\t0.4392439126968384\n",
      "  (6284,)\t1.4508532285690308\n",
      "  (6441,)\t0.9361425042152405\n",
      "  (7083,)\t1.0454747676849365\n",
      "  (7350,)\t0.40826234221458435\n",
      "  (9916,)\t0.49302250146865845\n",
      "  (10561,)\t0.4623345732688904\n",
      "  (10638,)\t0.11768405884504318\n",
      "  (14578,)\t0.3713265359401703\n",
      "  (15491,)\t0.28045448660850525\n",
      "  (17194,)\t0.32013437151908875\n",
      "  (26101,)\t0.2748258709907532\n",
      "  (34580,)\t0.5403633117675781\n",
      "  (42014,)\t1.079980731010437\n",
      "  (44316,)\t1.0215709209442139\n",
      "<Compressed Sparse Row sparse array of dtype 'float32'\n",
      "\twith 192 stored elements and shape (50265,)>\n",
      "  Coords\tValues\n",
      "  (0,)\t0.0\n",
      "  (1,)\t0.0\n",
      "  (2,)\t0.0\n",
      "  (3,)\t0.0\n",
      "  (4,)\t0.0\n",
      "  (5,)\t0.0\n",
      "  (6,)\t0.0\n",
      "  (7,)\t0.0\n",
      "  (8,)\t0.0\n",
      "  (9,)\t0.0\n",
      "  (10,)\t0.0\n",
      "  (11,)\t0.0\n",
      "  (12,)\t0.0\n",
      "  (13,)\t0.0\n",
      "  (14,)\t0.0\n",
      "  (15,)\t0.0\n",
      "  (16,)\t0.0\n",
      "  (17,)\t0.0\n",
      "  (18,)\t0.0\n",
      "  (19,)\t0.0\n",
      "  (20,)\t0.0\n",
      "  (21,)\t0.0\n",
      "  (22,)\t0.0\n",
      "  (23,)\t0.0\n",
      "  (24,)\t0.0\n",
      "  :\t:\n",
      "  (1627,)\t0.1831742227077484\n",
      "  (2370,)\t0.23275578022003174\n",
      "  (2407,)\t1.3688515424728394\n",
      "  (2421,)\t1.3117954730987549\n",
      "  (3034,)\t0.5843601226806641\n",
      "  (3157,)\t0.4341045916080475\n",
      "  (3295,)\t0.1892855316400528\n",
      "  (3375,)\t0.288480281829834\n",
      "  (3563,)\t0.6252104043960571\n",
      "  (4687,)\t0.3027673363685608\n",
      "  (5206,)\t1.7212066650390625\n",
      "  (5526,)\t0.5355733036994934\n",
      "  (6645,)\t0.060049280524253845\n",
      "  (8326,)\t0.297321081161499\n",
      "  (10561,)\t0.09289877861738205\n",
      "  (11730,)\t0.004676002077758312\n",
      "  (14467,)\t1.112467646598816\n",
      "  (16538,)\t0.2905486524105072\n",
      "  (19093,)\t1.0925215482711792\n",
      "  (22105,)\t0.2218352109193802\n",
      "  (31886,)\t0.44277945160865784\n",
      "  (34580,)\t0.4510505795478821\n",
      "  (42014,)\t1.6165966987609863\n",
      "  (44316,)\t1.1182286739349365\n",
      "  (44866,)\t0.18649953603744507\n"
     ]
    }
   ],
   "execution_count": 11
  },
  {
   "metadata": {
    "ExecuteTime": {
     "end_time": "2025-02-27T20:24:55.649934Z",
     "start_time": "2025-02-27T20:24:55.441090Z"
    }
   },
   "cell_type": "code",
   "source": [
    "\n",
    "doc_vector = [{\"embeddings\": doc_emb, \"id\": f\"item_{i}\"} for i, doc_emb in enumerate(vecs)]\n",
    "\n",
    "client.insert(\n",
    "    collection_name=\"my_sparse_collection\",\n",
    "    data=doc_vector\n",
    ")\n"
   ],
   "id": "f16b232114f7712c",
   "outputs": [
    {
     "name": "stderr",
     "output_type": "stream",
     "text": [
      "2025-02-27 15:24:55,443 [ERROR][handler]: RPC error: [insert_rows], <ParamError: (code=1, message=invalid input for sparse float vector: expect 1 row)>, <Time:{'RPC start': '2025-02-27 15:24:55.442399', 'RPC error': '2025-02-27 15:24:55.443902'}> (decorators.py:140)\n"
     ]
    },
    {
     "ename": "ParamError",
     "evalue": "<ParamError: (code=1, message=invalid input for sparse float vector: expect 1 row)>",
     "output_type": "error",
     "traceback": [
      "\u001B[0;31m---------------------------------------------------------------------------\u001B[0m",
      "\u001B[0;31mParamError\u001B[0m                                Traceback (most recent call last)",
      "    \u001B[0;31m[... skipping hidden 1 frame]\u001B[0m\n",
      "Cell \u001B[0;32mIn[12], line 3\u001B[0m\n\u001B[1;32m      1\u001B[0m doc_vector \u001B[38;5;241m=\u001B[39m [{\u001B[38;5;124m\"\u001B[39m\u001B[38;5;124membeddings\u001B[39m\u001B[38;5;124m\"\u001B[39m: doc_emb, \u001B[38;5;124m\"\u001B[39m\u001B[38;5;124mid\u001B[39m\u001B[38;5;124m\"\u001B[39m: \u001B[38;5;124mf\u001B[39m\u001B[38;5;124m\"\u001B[39m\u001B[38;5;124mitem_\u001B[39m\u001B[38;5;132;01m{\u001B[39;00mi\u001B[38;5;132;01m}\u001B[39;00m\u001B[38;5;124m\"\u001B[39m} \u001B[38;5;28;01mfor\u001B[39;00m i, doc_emb \u001B[38;5;129;01min\u001B[39;00m \u001B[38;5;28menumerate\u001B[39m(vecs)]\n\u001B[0;32m----> 3\u001B[0m \u001B[43mclient\u001B[49m\u001B[38;5;241;43m.\u001B[39;49m\u001B[43minsert\u001B[49m\u001B[43m(\u001B[49m\n\u001B[1;32m      4\u001B[0m \u001B[43m    \u001B[49m\u001B[43mcollection_name\u001B[49m\u001B[38;5;241;43m=\u001B[39;49m\u001B[38;5;124;43m\"\u001B[39;49m\u001B[38;5;124;43mmy_sparse_collection\u001B[39;49m\u001B[38;5;124;43m\"\u001B[39;49m\u001B[43m,\u001B[49m\n\u001B[1;32m      5\u001B[0m \u001B[43m    \u001B[49m\u001B[43mdata\u001B[49m\u001B[38;5;241;43m=\u001B[39;49m\u001B[43mdoc_vector\u001B[49m\n\u001B[1;32m      6\u001B[0m \u001B[43m)\u001B[49m\n",
      "File \u001B[0;32m~/miniforge3/envs/docuverse12/lib/python3.12/site-packages/pymilvus/milvus_client/milvus_client.py:231\u001B[0m, in \u001B[0;36mMilvusClient.insert\u001B[0;34m(self, collection_name, data, timeout, partition_name, **kwargs)\u001B[0m\n\u001B[1;32m    230\u001B[0m \u001B[38;5;28;01mexcept\u001B[39;00m \u001B[38;5;167;01mException\u001B[39;00m \u001B[38;5;28;01mas\u001B[39;00m ex:\n\u001B[0;32m--> 231\u001B[0m     \u001B[38;5;28;01mraise\u001B[39;00m ex \u001B[38;5;28;01mfrom\u001B[39;00m\u001B[38;5;250m \u001B[39m\u001B[38;5;21;01mex\u001B[39;00m\n\u001B[1;32m    232\u001B[0m \u001B[38;5;28;01mreturn\u001B[39;00m OmitZeroDict(\n\u001B[1;32m    233\u001B[0m     {\n\u001B[1;32m    234\u001B[0m         \u001B[38;5;124m\"\u001B[39m\u001B[38;5;124minsert_count\u001B[39m\u001B[38;5;124m\"\u001B[39m: res\u001B[38;5;241m.\u001B[39minsert_count,\n\u001B[0;32m   (...)\u001B[0m\n\u001B[1;32m    237\u001B[0m     }\n\u001B[1;32m    238\u001B[0m )\n",
      "File \u001B[0;32m~/miniforge3/envs/docuverse12/lib/python3.12/site-packages/pymilvus/milvus_client/milvus_client.py:227\u001B[0m, in \u001B[0;36mMilvusClient.insert\u001B[0;34m(self, collection_name, data, timeout, partition_name, **kwargs)\u001B[0m\n\u001B[1;32m    226\u001B[0m \u001B[38;5;28;01mtry\u001B[39;00m:\n\u001B[0;32m--> 227\u001B[0m     res \u001B[38;5;241m=\u001B[39m \u001B[43mconn\u001B[49m\u001B[38;5;241;43m.\u001B[39;49m\u001B[43minsert_rows\u001B[49m\u001B[43m(\u001B[49m\n\u001B[1;32m    228\u001B[0m \u001B[43m        \u001B[49m\u001B[43mcollection_name\u001B[49m\u001B[43m,\u001B[49m\u001B[43m \u001B[49m\u001B[43mdata\u001B[49m\u001B[43m,\u001B[49m\u001B[43m \u001B[49m\u001B[43mpartition_name\u001B[49m\u001B[38;5;241;43m=\u001B[39;49m\u001B[43mpartition_name\u001B[49m\u001B[43m,\u001B[49m\u001B[43m \u001B[49m\u001B[43mtimeout\u001B[49m\u001B[38;5;241;43m=\u001B[39;49m\u001B[43mtimeout\u001B[49m\n\u001B[1;32m    229\u001B[0m \u001B[43m    \u001B[49m\u001B[43m)\u001B[49m\n\u001B[1;32m    230\u001B[0m \u001B[38;5;28;01mexcept\u001B[39;00m \u001B[38;5;167;01mException\u001B[39;00m \u001B[38;5;28;01mas\u001B[39;00m ex:\n",
      "File \u001B[0;32m~/miniforge3/envs/docuverse12/lib/python3.12/site-packages/pymilvus/decorators.py:141\u001B[0m, in \u001B[0;36merror_handler.<locals>.wrapper.<locals>.handler\u001B[0;34m(*args, **kwargs)\u001B[0m\n\u001B[1;32m    140\u001B[0m     LOGGER\u001B[38;5;241m.\u001B[39merror(\u001B[38;5;124mf\u001B[39m\u001B[38;5;124m\"\u001B[39m\u001B[38;5;124mRPC error: [\u001B[39m\u001B[38;5;132;01m{\u001B[39;00minner_name\u001B[38;5;132;01m}\u001B[39;00m\u001B[38;5;124m], \u001B[39m\u001B[38;5;132;01m{\u001B[39;00me\u001B[38;5;132;01m}\u001B[39;00m\u001B[38;5;124m, <Time:\u001B[39m\u001B[38;5;132;01m{\u001B[39;00mrecord_dict\u001B[38;5;132;01m}\u001B[39;00m\u001B[38;5;124m>\u001B[39m\u001B[38;5;124m\"\u001B[39m)\n\u001B[0;32m--> 141\u001B[0m     \u001B[38;5;28;01mraise\u001B[39;00m e \u001B[38;5;28;01mfrom\u001B[39;00m\u001B[38;5;250m \u001B[39m\u001B[38;5;21;01me\u001B[39;00m\n\u001B[1;32m    142\u001B[0m \u001B[38;5;28;01mexcept\u001B[39;00m grpc\u001B[38;5;241m.\u001B[39mFutureTimeoutError \u001B[38;5;28;01mas\u001B[39;00m e:\n",
      "File \u001B[0;32m~/miniforge3/envs/docuverse12/lib/python3.12/site-packages/pymilvus/decorators.py:137\u001B[0m, in \u001B[0;36merror_handler.<locals>.wrapper.<locals>.handler\u001B[0;34m(*args, **kwargs)\u001B[0m\n\u001B[1;32m    136\u001B[0m     record_dict[\u001B[38;5;124m\"\u001B[39m\u001B[38;5;124mRPC start\u001B[39m\u001B[38;5;124m\"\u001B[39m] \u001B[38;5;241m=\u001B[39m \u001B[38;5;28mstr\u001B[39m(datetime\u001B[38;5;241m.\u001B[39mdatetime\u001B[38;5;241m.\u001B[39mnow())\n\u001B[0;32m--> 137\u001B[0m     \u001B[38;5;28;01mreturn\u001B[39;00m \u001B[43mfunc\u001B[49m\u001B[43m(\u001B[49m\u001B[38;5;241;43m*\u001B[39;49m\u001B[43margs\u001B[49m\u001B[43m,\u001B[49m\u001B[43m \u001B[49m\u001B[38;5;241;43m*\u001B[39;49m\u001B[38;5;241;43m*\u001B[39;49m\u001B[43mkwargs\u001B[49m\u001B[43m)\u001B[49m\n\u001B[1;32m    138\u001B[0m \u001B[38;5;28;01mexcept\u001B[39;00m MilvusException \u001B[38;5;28;01mas\u001B[39;00m e:\n",
      "File \u001B[0;32m~/miniforge3/envs/docuverse12/lib/python3.12/site-packages/pymilvus/decorators.py:176\u001B[0m, in \u001B[0;36mtracing_request.<locals>.wrapper.<locals>.handler\u001B[0;34m(self, *args, **kwargs)\u001B[0m\n\u001B[1;32m    175\u001B[0m     \u001B[38;5;28mself\u001B[39m\u001B[38;5;241m.\u001B[39mset_onetime_request_id(req_id)\n\u001B[0;32m--> 176\u001B[0m \u001B[38;5;28;01mreturn\u001B[39;00m \u001B[43mfunc\u001B[49m\u001B[43m(\u001B[49m\u001B[38;5;28;43mself\u001B[39;49m\u001B[43m,\u001B[49m\u001B[43m \u001B[49m\u001B[38;5;241;43m*\u001B[39;49m\u001B[43margs\u001B[49m\u001B[43m,\u001B[49m\u001B[43m \u001B[49m\u001B[38;5;241;43m*\u001B[39;49m\u001B[38;5;241;43m*\u001B[39;49m\u001B[43mkwargs\u001B[49m\u001B[43m)\u001B[49m\n",
      "File \u001B[0;32m~/miniforge3/envs/docuverse12/lib/python3.12/site-packages/pymilvus/decorators.py:116\u001B[0m, in \u001B[0;36mretry_on_rpc_failure.<locals>.wrapper.<locals>.handler\u001B[0;34m(*args, **kwargs)\u001B[0m\n\u001B[1;32m    115\u001B[0m     \u001B[38;5;28;01melse\u001B[39;00m:\n\u001B[0;32m--> 116\u001B[0m         \u001B[38;5;28;01mraise\u001B[39;00m e \u001B[38;5;28;01mfrom\u001B[39;00m\u001B[38;5;250m \u001B[39m\u001B[38;5;21;01me\u001B[39;00m\n\u001B[1;32m    117\u001B[0m \u001B[38;5;28;01mexcept\u001B[39;00m \u001B[38;5;167;01mException\u001B[39;00m \u001B[38;5;28;01mas\u001B[39;00m e:\n",
      "File \u001B[0;32m~/miniforge3/envs/docuverse12/lib/python3.12/site-packages/pymilvus/decorators.py:86\u001B[0m, in \u001B[0;36mretry_on_rpc_failure.<locals>.wrapper.<locals>.handler\u001B[0;34m(*args, **kwargs)\u001B[0m\n\u001B[1;32m     85\u001B[0m \u001B[38;5;28;01mtry\u001B[39;00m:\n\u001B[0;32m---> 86\u001B[0m     \u001B[38;5;28;01mreturn\u001B[39;00m \u001B[43mfunc\u001B[49m\u001B[43m(\u001B[49m\u001B[38;5;241;43m*\u001B[39;49m\u001B[43margs\u001B[49m\u001B[43m,\u001B[49m\u001B[43m \u001B[49m\u001B[38;5;241;43m*\u001B[39;49m\u001B[38;5;241;43m*\u001B[39;49m\u001B[43mkwargs\u001B[49m\u001B[43m)\u001B[49m\n\u001B[1;32m     87\u001B[0m \u001B[38;5;28;01mexcept\u001B[39;00m grpc\u001B[38;5;241m.\u001B[39mRpcError \u001B[38;5;28;01mas\u001B[39;00m e:\n\u001B[1;32m     88\u001B[0m     \u001B[38;5;66;03m# Do not retry on these codes\u001B[39;00m\n",
      "File \u001B[0;32m~/miniforge3/envs/docuverse12/lib/python3.12/site-packages/pymilvus/client/grpc_handler.py:525\u001B[0m, in \u001B[0;36mGrpcHandler.insert_rows\u001B[0;34m(self, collection_name, entities, partition_name, schema, timeout, **kwargs)\u001B[0m\n\u001B[1;32m    515\u001B[0m \u001B[38;5;129m@retry_on_rpc_failure\u001B[39m()\n\u001B[1;32m    516\u001B[0m \u001B[38;5;28;01mdef\u001B[39;00m\u001B[38;5;250m \u001B[39m\u001B[38;5;21minsert_rows\u001B[39m(\n\u001B[1;32m    517\u001B[0m     \u001B[38;5;28mself\u001B[39m,\n\u001B[0;32m   (...)\u001B[0m\n\u001B[1;32m    523\u001B[0m     \u001B[38;5;241m*\u001B[39m\u001B[38;5;241m*\u001B[39mkwargs,\n\u001B[1;32m    524\u001B[0m ):\n\u001B[0;32m--> 525\u001B[0m     request \u001B[38;5;241m=\u001B[39m \u001B[38;5;28;43mself\u001B[39;49m\u001B[38;5;241;43m.\u001B[39;49m\u001B[43m_prepare_row_insert_request\u001B[49m\u001B[43m(\u001B[49m\n\u001B[1;32m    526\u001B[0m \u001B[43m        \u001B[49m\u001B[43mcollection_name\u001B[49m\u001B[43m,\u001B[49m\u001B[43m \u001B[49m\u001B[43mentities\u001B[49m\u001B[43m,\u001B[49m\u001B[43m \u001B[49m\u001B[43mpartition_name\u001B[49m\u001B[43m,\u001B[49m\u001B[43m \u001B[49m\u001B[43mschema\u001B[49m\u001B[43m,\u001B[49m\u001B[43m \u001B[49m\u001B[43mtimeout\u001B[49m\u001B[43m,\u001B[49m\u001B[43m \u001B[49m\u001B[38;5;241;43m*\u001B[39;49m\u001B[38;5;241;43m*\u001B[39;49m\u001B[43mkwargs\u001B[49m\n\u001B[1;32m    527\u001B[0m \u001B[43m    \u001B[49m\u001B[43m)\u001B[49m\n\u001B[1;32m    528\u001B[0m     resp \u001B[38;5;241m=\u001B[39m \u001B[38;5;28mself\u001B[39m\u001B[38;5;241m.\u001B[39m_stub\u001B[38;5;241m.\u001B[39mInsert(request\u001B[38;5;241m=\u001B[39mrequest, timeout\u001B[38;5;241m=\u001B[39mtimeout)\n",
      "File \u001B[0;32m~/miniforge3/envs/docuverse12/lib/python3.12/site-packages/pymilvus/client/grpc_handler.py:551\u001B[0m, in \u001B[0;36mGrpcHandler._prepare_row_insert_request\u001B[0;34m(self, collection_name, entity_rows, partition_name, schema, timeout, **kwargs)\u001B[0m\n\u001B[1;32m    549\u001B[0m enable_dynamic \u001B[38;5;241m=\u001B[39m schema\u001B[38;5;241m.\u001B[39mget(\u001B[38;5;124m\"\u001B[39m\u001B[38;5;124menable_dynamic_field\u001B[39m\u001B[38;5;124m\"\u001B[39m, \u001B[38;5;28;01mFalse\u001B[39;00m)\n\u001B[0;32m--> 551\u001B[0m \u001B[38;5;28;01mreturn\u001B[39;00m \u001B[43mPrepare\u001B[49m\u001B[38;5;241;43m.\u001B[39;49m\u001B[43mrow_insert_param\u001B[49m\u001B[43m(\u001B[49m\n\u001B[1;32m    552\u001B[0m \u001B[43m    \u001B[49m\u001B[43mcollection_name\u001B[49m\u001B[43m,\u001B[49m\n\u001B[1;32m    553\u001B[0m \u001B[43m    \u001B[49m\u001B[43mentity_rows\u001B[49m\u001B[43m,\u001B[49m\n\u001B[1;32m    554\u001B[0m \u001B[43m    \u001B[49m\u001B[43mpartition_name\u001B[49m\u001B[43m,\u001B[49m\n\u001B[1;32m    555\u001B[0m \u001B[43m    \u001B[49m\u001B[43mfields_info\u001B[49m\u001B[43m,\u001B[49m\n\u001B[1;32m    556\u001B[0m \u001B[43m    \u001B[49m\u001B[43menable_dynamic\u001B[49m\u001B[38;5;241;43m=\u001B[39;49m\u001B[43menable_dynamic\u001B[49m\u001B[43m,\u001B[49m\n\u001B[1;32m    557\u001B[0m \u001B[43m\u001B[49m\u001B[43m)\u001B[49m\n",
      "File \u001B[0;32m~/miniforge3/envs/docuverse12/lib/python3.12/site-packages/pymilvus/client/prepare.py:623\u001B[0m, in \u001B[0;36mPrepare.row_insert_param\u001B[0;34m(cls, collection_name, entities, partition_name, fields_info, enable_dynamic)\u001B[0m\n\u001B[1;32m    617\u001B[0m request \u001B[38;5;241m=\u001B[39m milvus_types\u001B[38;5;241m.\u001B[39mInsertRequest(\n\u001B[1;32m    618\u001B[0m     collection_name\u001B[38;5;241m=\u001B[39mcollection_name,\n\u001B[1;32m    619\u001B[0m     partition_name\u001B[38;5;241m=\u001B[39mp_name,\n\u001B[1;32m    620\u001B[0m     num_rows\u001B[38;5;241m=\u001B[39m\u001B[38;5;28mlen\u001B[39m(entities),\n\u001B[1;32m    621\u001B[0m )\n\u001B[0;32m--> 623\u001B[0m \u001B[38;5;28;01mreturn\u001B[39;00m \u001B[38;5;28;43mcls\u001B[39;49m\u001B[38;5;241;43m.\u001B[39;49m\u001B[43m_parse_row_request\u001B[49m\u001B[43m(\u001B[49m\u001B[43mrequest\u001B[49m\u001B[43m,\u001B[49m\u001B[43m \u001B[49m\u001B[43mfields_info\u001B[49m\u001B[43m,\u001B[49m\u001B[43m \u001B[49m\u001B[43menable_dynamic\u001B[49m\u001B[43m,\u001B[49m\u001B[43m \u001B[49m\u001B[43mentities\u001B[49m\u001B[43m)\u001B[49m\n",
      "File \u001B[0;32m~/miniforge3/envs/docuverse12/lib/python3.12/site-packages/pymilvus/client/prepare.py:473\u001B[0m, in \u001B[0;36mPrepare._parse_row_request\u001B[0;34m(request, fields_info, enable_dynamic, entities)\u001B[0m\n\u001B[1;32m    472\u001B[0m             field_data\u001B[38;5;241m.\u001B[39mvalid_data\u001B[38;5;241m.\u001B[39mappend(v \u001B[38;5;129;01mis\u001B[39;00m \u001B[38;5;129;01mnot\u001B[39;00m \u001B[38;5;28;01mNone\u001B[39;00m)\n\u001B[0;32m--> 473\u001B[0m         \u001B[43mentity_helper\u001B[49m\u001B[38;5;241;43m.\u001B[39;49m\u001B[43mpack_field_value_to_field_data\u001B[49m\u001B[43m(\u001B[49m\u001B[43mv\u001B[49m\u001B[43m,\u001B[49m\u001B[43m \u001B[49m\u001B[43mfield_data\u001B[49m\u001B[43m,\u001B[49m\u001B[43m \u001B[49m\u001B[43mfield_info\u001B[49m\u001B[43m)\u001B[49m\n\u001B[1;32m    474\u001B[0m \u001B[38;5;28;01mfor\u001B[39;00m field \u001B[38;5;129;01min\u001B[39;00m input_fields_info:\n",
      "File \u001B[0;32m~/miniforge3/envs/docuverse12/lib/python3.12/site-packages/pymilvus/client/entity_helper.py:380\u001B[0m, in \u001B[0;36mpack_field_value_to_field_data\u001B[0;34m(field_value, field_data, field_info)\u001B[0m\n\u001B[1;32m    379\u001B[0m \u001B[38;5;28;01melif\u001B[39;00m field_value\u001B[38;5;241m.\u001B[39mshape[\u001B[38;5;241m0\u001B[39m] \u001B[38;5;241m!=\u001B[39m \u001B[38;5;241m1\u001B[39m:\n\u001B[0;32m--> 380\u001B[0m     \u001B[38;5;28;01mraise\u001B[39;00m ParamError(message\u001B[38;5;241m=\u001B[39m\u001B[38;5;124m\"\u001B[39m\u001B[38;5;124minvalid input for sparse float vector: expect 1 row\u001B[39m\u001B[38;5;124m\"\u001B[39m)\n\u001B[1;32m    381\u001B[0m \u001B[38;5;28;01mif\u001B[39;00m \u001B[38;5;129;01mnot\u001B[39;00m entity_is_sparse_matrix(field_value):\n",
      "\u001B[0;31mParamError\u001B[0m: <ParamError: (code=1, message=invalid input for sparse float vector: expect 1 row)>",
      "\nThe above exception was the direct cause of the following exception:\n",
      "\u001B[0;31mParamError\u001B[0m                                Traceback (most recent call last)",
      "    \u001B[0;31m[... skipping hidden 1 frame]\u001B[0m\n",
      "Cell \u001B[0;32mIn[12], line 3\u001B[0m\n\u001B[1;32m      1\u001B[0m doc_vector \u001B[38;5;241m=\u001B[39m [{\u001B[38;5;124m\"\u001B[39m\u001B[38;5;124membeddings\u001B[39m\u001B[38;5;124m\"\u001B[39m: doc_emb, \u001B[38;5;124m\"\u001B[39m\u001B[38;5;124mid\u001B[39m\u001B[38;5;124m\"\u001B[39m: \u001B[38;5;124mf\u001B[39m\u001B[38;5;124m\"\u001B[39m\u001B[38;5;124mitem_\u001B[39m\u001B[38;5;132;01m{\u001B[39;00mi\u001B[38;5;132;01m}\u001B[39;00m\u001B[38;5;124m\"\u001B[39m} \u001B[38;5;28;01mfor\u001B[39;00m i, doc_emb \u001B[38;5;129;01min\u001B[39;00m \u001B[38;5;28menumerate\u001B[39m(vecs)]\n\u001B[0;32m----> 3\u001B[0m \u001B[43mclient\u001B[49m\u001B[38;5;241;43m.\u001B[39;49m\u001B[43minsert\u001B[49m\u001B[43m(\u001B[49m\n\u001B[1;32m      4\u001B[0m \u001B[43m    \u001B[49m\u001B[43mcollection_name\u001B[49m\u001B[38;5;241;43m=\u001B[39;49m\u001B[38;5;124;43m\"\u001B[39;49m\u001B[38;5;124;43mmy_sparse_collection\u001B[39;49m\u001B[38;5;124;43m\"\u001B[39;49m\u001B[43m,\u001B[49m\n\u001B[1;32m      5\u001B[0m \u001B[43m    \u001B[49m\u001B[43mdata\u001B[49m\u001B[38;5;241;43m=\u001B[39;49m\u001B[43mdoc_vector\u001B[49m\n\u001B[1;32m      6\u001B[0m \u001B[43m)\u001B[49m\n",
      "File \u001B[0;32m~/miniforge3/envs/docuverse12/lib/python3.12/site-packages/pymilvus/milvus_client/milvus_client.py:231\u001B[0m, in \u001B[0;36mMilvusClient.insert\u001B[0;34m(self, collection_name, data, timeout, partition_name, **kwargs)\u001B[0m\n\u001B[1;32m    230\u001B[0m \u001B[38;5;28;01mexcept\u001B[39;00m \u001B[38;5;167;01mException\u001B[39;00m \u001B[38;5;28;01mas\u001B[39;00m ex:\n\u001B[0;32m--> 231\u001B[0m     \u001B[38;5;28;01mraise\u001B[39;00m ex \u001B[38;5;28;01mfrom\u001B[39;00m\u001B[38;5;250m \u001B[39m\u001B[38;5;21;01mex\u001B[39;00m\n\u001B[1;32m    232\u001B[0m \u001B[38;5;28;01mreturn\u001B[39;00m OmitZeroDict(\n\u001B[1;32m    233\u001B[0m     {\n\u001B[1;32m    234\u001B[0m         \u001B[38;5;124m\"\u001B[39m\u001B[38;5;124minsert_count\u001B[39m\u001B[38;5;124m\"\u001B[39m: res\u001B[38;5;241m.\u001B[39minsert_count,\n\u001B[0;32m   (...)\u001B[0m\n\u001B[1;32m    237\u001B[0m     }\n\u001B[1;32m    238\u001B[0m )\n",
      "File \u001B[0;32m~/miniforge3/envs/docuverse12/lib/python3.12/site-packages/pymilvus/milvus_client/milvus_client.py:227\u001B[0m, in \u001B[0;36mMilvusClient.insert\u001B[0;34m(self, collection_name, data, timeout, partition_name, **kwargs)\u001B[0m\n\u001B[1;32m    226\u001B[0m \u001B[38;5;28;01mtry\u001B[39;00m:\n\u001B[0;32m--> 227\u001B[0m     res \u001B[38;5;241m=\u001B[39m \u001B[43mconn\u001B[49m\u001B[38;5;241;43m.\u001B[39;49m\u001B[43minsert_rows\u001B[49m\u001B[43m(\u001B[49m\n\u001B[1;32m    228\u001B[0m \u001B[43m        \u001B[49m\u001B[43mcollection_name\u001B[49m\u001B[43m,\u001B[49m\u001B[43m \u001B[49m\u001B[43mdata\u001B[49m\u001B[43m,\u001B[49m\u001B[43m \u001B[49m\u001B[43mpartition_name\u001B[49m\u001B[38;5;241;43m=\u001B[39;49m\u001B[43mpartition_name\u001B[49m\u001B[43m,\u001B[49m\u001B[43m \u001B[49m\u001B[43mtimeout\u001B[49m\u001B[38;5;241;43m=\u001B[39;49m\u001B[43mtimeout\u001B[49m\n\u001B[1;32m    229\u001B[0m \u001B[43m    \u001B[49m\u001B[43m)\u001B[49m\n\u001B[1;32m    230\u001B[0m \u001B[38;5;28;01mexcept\u001B[39;00m \u001B[38;5;167;01mException\u001B[39;00m \u001B[38;5;28;01mas\u001B[39;00m ex:\n",
      "File \u001B[0;32m~/miniforge3/envs/docuverse12/lib/python3.12/site-packages/pymilvus/decorators.py:141\u001B[0m, in \u001B[0;36merror_handler.<locals>.wrapper.<locals>.handler\u001B[0;34m(*args, **kwargs)\u001B[0m\n\u001B[1;32m    140\u001B[0m     LOGGER\u001B[38;5;241m.\u001B[39merror(\u001B[38;5;124mf\u001B[39m\u001B[38;5;124m\"\u001B[39m\u001B[38;5;124mRPC error: [\u001B[39m\u001B[38;5;132;01m{\u001B[39;00minner_name\u001B[38;5;132;01m}\u001B[39;00m\u001B[38;5;124m], \u001B[39m\u001B[38;5;132;01m{\u001B[39;00me\u001B[38;5;132;01m}\u001B[39;00m\u001B[38;5;124m, <Time:\u001B[39m\u001B[38;5;132;01m{\u001B[39;00mrecord_dict\u001B[38;5;132;01m}\u001B[39;00m\u001B[38;5;124m>\u001B[39m\u001B[38;5;124m\"\u001B[39m)\n\u001B[0;32m--> 141\u001B[0m     \u001B[38;5;28;01mraise\u001B[39;00m e \u001B[38;5;28;01mfrom\u001B[39;00m\u001B[38;5;250m \u001B[39m\u001B[38;5;21;01me\u001B[39;00m\n\u001B[1;32m    142\u001B[0m \u001B[38;5;28;01mexcept\u001B[39;00m grpc\u001B[38;5;241m.\u001B[39mFutureTimeoutError \u001B[38;5;28;01mas\u001B[39;00m e:\n",
      "File \u001B[0;32m~/miniforge3/envs/docuverse12/lib/python3.12/site-packages/pymilvus/decorators.py:137\u001B[0m, in \u001B[0;36merror_handler.<locals>.wrapper.<locals>.handler\u001B[0;34m(*args, **kwargs)\u001B[0m\n\u001B[1;32m    136\u001B[0m     record_dict[\u001B[38;5;124m\"\u001B[39m\u001B[38;5;124mRPC start\u001B[39m\u001B[38;5;124m\"\u001B[39m] \u001B[38;5;241m=\u001B[39m \u001B[38;5;28mstr\u001B[39m(datetime\u001B[38;5;241m.\u001B[39mdatetime\u001B[38;5;241m.\u001B[39mnow())\n\u001B[0;32m--> 137\u001B[0m     \u001B[38;5;28;01mreturn\u001B[39;00m \u001B[43mfunc\u001B[49m\u001B[43m(\u001B[49m\u001B[38;5;241;43m*\u001B[39;49m\u001B[43margs\u001B[49m\u001B[43m,\u001B[49m\u001B[43m \u001B[49m\u001B[38;5;241;43m*\u001B[39;49m\u001B[38;5;241;43m*\u001B[39;49m\u001B[43mkwargs\u001B[49m\u001B[43m)\u001B[49m\n\u001B[1;32m    138\u001B[0m \u001B[38;5;28;01mexcept\u001B[39;00m MilvusException \u001B[38;5;28;01mas\u001B[39;00m e:\n",
      "File \u001B[0;32m~/miniforge3/envs/docuverse12/lib/python3.12/site-packages/pymilvus/decorators.py:176\u001B[0m, in \u001B[0;36mtracing_request.<locals>.wrapper.<locals>.handler\u001B[0;34m(self, *args, **kwargs)\u001B[0m\n\u001B[1;32m    175\u001B[0m     \u001B[38;5;28mself\u001B[39m\u001B[38;5;241m.\u001B[39mset_onetime_request_id(req_id)\n\u001B[0;32m--> 176\u001B[0m \u001B[38;5;28;01mreturn\u001B[39;00m \u001B[43mfunc\u001B[49m\u001B[43m(\u001B[49m\u001B[38;5;28;43mself\u001B[39;49m\u001B[43m,\u001B[49m\u001B[43m \u001B[49m\u001B[38;5;241;43m*\u001B[39;49m\u001B[43margs\u001B[49m\u001B[43m,\u001B[49m\u001B[43m \u001B[49m\u001B[38;5;241;43m*\u001B[39;49m\u001B[38;5;241;43m*\u001B[39;49m\u001B[43mkwargs\u001B[49m\u001B[43m)\u001B[49m\n",
      "File \u001B[0;32m~/miniforge3/envs/docuverse12/lib/python3.12/site-packages/pymilvus/decorators.py:116\u001B[0m, in \u001B[0;36mretry_on_rpc_failure.<locals>.wrapper.<locals>.handler\u001B[0;34m(*args, **kwargs)\u001B[0m\n\u001B[1;32m    115\u001B[0m     \u001B[38;5;28;01melse\u001B[39;00m:\n\u001B[0;32m--> 116\u001B[0m         \u001B[38;5;28;01mraise\u001B[39;00m e \u001B[38;5;28;01mfrom\u001B[39;00m\u001B[38;5;250m \u001B[39m\u001B[38;5;21;01me\u001B[39;00m\n\u001B[1;32m    117\u001B[0m \u001B[38;5;28;01mexcept\u001B[39;00m \u001B[38;5;167;01mException\u001B[39;00m \u001B[38;5;28;01mas\u001B[39;00m e:\n",
      "File \u001B[0;32m~/miniforge3/envs/docuverse12/lib/python3.12/site-packages/pymilvus/decorators.py:86\u001B[0m, in \u001B[0;36mretry_on_rpc_failure.<locals>.wrapper.<locals>.handler\u001B[0;34m(*args, **kwargs)\u001B[0m\n\u001B[1;32m     85\u001B[0m \u001B[38;5;28;01mtry\u001B[39;00m:\n\u001B[0;32m---> 86\u001B[0m     \u001B[38;5;28;01mreturn\u001B[39;00m \u001B[43mfunc\u001B[49m\u001B[43m(\u001B[49m\u001B[38;5;241;43m*\u001B[39;49m\u001B[43margs\u001B[49m\u001B[43m,\u001B[49m\u001B[43m \u001B[49m\u001B[38;5;241;43m*\u001B[39;49m\u001B[38;5;241;43m*\u001B[39;49m\u001B[43mkwargs\u001B[49m\u001B[43m)\u001B[49m\n\u001B[1;32m     87\u001B[0m \u001B[38;5;28;01mexcept\u001B[39;00m grpc\u001B[38;5;241m.\u001B[39mRpcError \u001B[38;5;28;01mas\u001B[39;00m e:\n\u001B[1;32m     88\u001B[0m     \u001B[38;5;66;03m# Do not retry on these codes\u001B[39;00m\n",
      "File \u001B[0;32m~/miniforge3/envs/docuverse12/lib/python3.12/site-packages/pymilvus/client/grpc_handler.py:525\u001B[0m, in \u001B[0;36mGrpcHandler.insert_rows\u001B[0;34m(self, collection_name, entities, partition_name, schema, timeout, **kwargs)\u001B[0m\n\u001B[1;32m    515\u001B[0m \u001B[38;5;129m@retry_on_rpc_failure\u001B[39m()\n\u001B[1;32m    516\u001B[0m \u001B[38;5;28;01mdef\u001B[39;00m\u001B[38;5;250m \u001B[39m\u001B[38;5;21minsert_rows\u001B[39m(\n\u001B[1;32m    517\u001B[0m     \u001B[38;5;28mself\u001B[39m,\n\u001B[0;32m   (...)\u001B[0m\n\u001B[1;32m    523\u001B[0m     \u001B[38;5;241m*\u001B[39m\u001B[38;5;241m*\u001B[39mkwargs,\n\u001B[1;32m    524\u001B[0m ):\n\u001B[0;32m--> 525\u001B[0m     request \u001B[38;5;241m=\u001B[39m \u001B[38;5;28;43mself\u001B[39;49m\u001B[38;5;241;43m.\u001B[39;49m\u001B[43m_prepare_row_insert_request\u001B[49m\u001B[43m(\u001B[49m\n\u001B[1;32m    526\u001B[0m \u001B[43m        \u001B[49m\u001B[43mcollection_name\u001B[49m\u001B[43m,\u001B[49m\u001B[43m \u001B[49m\u001B[43mentities\u001B[49m\u001B[43m,\u001B[49m\u001B[43m \u001B[49m\u001B[43mpartition_name\u001B[49m\u001B[43m,\u001B[49m\u001B[43m \u001B[49m\u001B[43mschema\u001B[49m\u001B[43m,\u001B[49m\u001B[43m \u001B[49m\u001B[43mtimeout\u001B[49m\u001B[43m,\u001B[49m\u001B[43m \u001B[49m\u001B[38;5;241;43m*\u001B[39;49m\u001B[38;5;241;43m*\u001B[39;49m\u001B[43mkwargs\u001B[49m\n\u001B[1;32m    527\u001B[0m \u001B[43m    \u001B[49m\u001B[43m)\u001B[49m\n\u001B[1;32m    528\u001B[0m     resp \u001B[38;5;241m=\u001B[39m \u001B[38;5;28mself\u001B[39m\u001B[38;5;241m.\u001B[39m_stub\u001B[38;5;241m.\u001B[39mInsert(request\u001B[38;5;241m=\u001B[39mrequest, timeout\u001B[38;5;241m=\u001B[39mtimeout)\n",
      "File \u001B[0;32m~/miniforge3/envs/docuverse12/lib/python3.12/site-packages/pymilvus/client/grpc_handler.py:551\u001B[0m, in \u001B[0;36mGrpcHandler._prepare_row_insert_request\u001B[0;34m(self, collection_name, entity_rows, partition_name, schema, timeout, **kwargs)\u001B[0m\n\u001B[1;32m    549\u001B[0m enable_dynamic \u001B[38;5;241m=\u001B[39m schema\u001B[38;5;241m.\u001B[39mget(\u001B[38;5;124m\"\u001B[39m\u001B[38;5;124menable_dynamic_field\u001B[39m\u001B[38;5;124m\"\u001B[39m, \u001B[38;5;28;01mFalse\u001B[39;00m)\n\u001B[0;32m--> 551\u001B[0m \u001B[38;5;28;01mreturn\u001B[39;00m \u001B[43mPrepare\u001B[49m\u001B[38;5;241;43m.\u001B[39;49m\u001B[43mrow_insert_param\u001B[49m\u001B[43m(\u001B[49m\n\u001B[1;32m    552\u001B[0m \u001B[43m    \u001B[49m\u001B[43mcollection_name\u001B[49m\u001B[43m,\u001B[49m\n\u001B[1;32m    553\u001B[0m \u001B[43m    \u001B[49m\u001B[43mentity_rows\u001B[49m\u001B[43m,\u001B[49m\n\u001B[1;32m    554\u001B[0m \u001B[43m    \u001B[49m\u001B[43mpartition_name\u001B[49m\u001B[43m,\u001B[49m\n\u001B[1;32m    555\u001B[0m \u001B[43m    \u001B[49m\u001B[43mfields_info\u001B[49m\u001B[43m,\u001B[49m\n\u001B[1;32m    556\u001B[0m \u001B[43m    \u001B[49m\u001B[43menable_dynamic\u001B[49m\u001B[38;5;241;43m=\u001B[39;49m\u001B[43menable_dynamic\u001B[49m\u001B[43m,\u001B[49m\n\u001B[1;32m    557\u001B[0m \u001B[43m\u001B[49m\u001B[43m)\u001B[49m\n",
      "File \u001B[0;32m~/miniforge3/envs/docuverse12/lib/python3.12/site-packages/pymilvus/client/prepare.py:623\u001B[0m, in \u001B[0;36mPrepare.row_insert_param\u001B[0;34m(cls, collection_name, entities, partition_name, fields_info, enable_dynamic)\u001B[0m\n\u001B[1;32m    617\u001B[0m request \u001B[38;5;241m=\u001B[39m milvus_types\u001B[38;5;241m.\u001B[39mInsertRequest(\n\u001B[1;32m    618\u001B[0m     collection_name\u001B[38;5;241m=\u001B[39mcollection_name,\n\u001B[1;32m    619\u001B[0m     partition_name\u001B[38;5;241m=\u001B[39mp_name,\n\u001B[1;32m    620\u001B[0m     num_rows\u001B[38;5;241m=\u001B[39m\u001B[38;5;28mlen\u001B[39m(entities),\n\u001B[1;32m    621\u001B[0m )\n\u001B[0;32m--> 623\u001B[0m \u001B[38;5;28;01mreturn\u001B[39;00m \u001B[38;5;28;43mcls\u001B[39;49m\u001B[38;5;241;43m.\u001B[39;49m\u001B[43m_parse_row_request\u001B[49m\u001B[43m(\u001B[49m\u001B[43mrequest\u001B[49m\u001B[43m,\u001B[49m\u001B[43m \u001B[49m\u001B[43mfields_info\u001B[49m\u001B[43m,\u001B[49m\u001B[43m \u001B[49m\u001B[43menable_dynamic\u001B[49m\u001B[43m,\u001B[49m\u001B[43m \u001B[49m\u001B[43mentities\u001B[49m\u001B[43m)\u001B[49m\n",
      "File \u001B[0;32m~/miniforge3/envs/docuverse12/lib/python3.12/site-packages/pymilvus/client/prepare.py:473\u001B[0m, in \u001B[0;36mPrepare._parse_row_request\u001B[0;34m(request, fields_info, enable_dynamic, entities)\u001B[0m\n\u001B[1;32m    472\u001B[0m             field_data\u001B[38;5;241m.\u001B[39mvalid_data\u001B[38;5;241m.\u001B[39mappend(v \u001B[38;5;129;01mis\u001B[39;00m \u001B[38;5;129;01mnot\u001B[39;00m \u001B[38;5;28;01mNone\u001B[39;00m)\n\u001B[0;32m--> 473\u001B[0m         \u001B[43mentity_helper\u001B[49m\u001B[38;5;241;43m.\u001B[39;49m\u001B[43mpack_field_value_to_field_data\u001B[49m\u001B[43m(\u001B[49m\u001B[43mv\u001B[49m\u001B[43m,\u001B[49m\u001B[43m \u001B[49m\u001B[43mfield_data\u001B[49m\u001B[43m,\u001B[49m\u001B[43m \u001B[49m\u001B[43mfield_info\u001B[49m\u001B[43m)\u001B[49m\n\u001B[1;32m    474\u001B[0m \u001B[38;5;28;01mfor\u001B[39;00m field \u001B[38;5;129;01min\u001B[39;00m input_fields_info:\n",
      "File \u001B[0;32m~/miniforge3/envs/docuverse12/lib/python3.12/site-packages/pymilvus/client/entity_helper.py:380\u001B[0m, in \u001B[0;36mpack_field_value_to_field_data\u001B[0;34m(field_value, field_data, field_info)\u001B[0m\n\u001B[1;32m    379\u001B[0m \u001B[38;5;28;01melif\u001B[39;00m field_value\u001B[38;5;241m.\u001B[39mshape[\u001B[38;5;241m0\u001B[39m] \u001B[38;5;241m!=\u001B[39m \u001B[38;5;241m1\u001B[39m:\n\u001B[0;32m--> 380\u001B[0m     \u001B[38;5;28;01mraise\u001B[39;00m ParamError(message\u001B[38;5;241m=\u001B[39m\u001B[38;5;124m\"\u001B[39m\u001B[38;5;124minvalid input for sparse float vector: expect 1 row\u001B[39m\u001B[38;5;124m\"\u001B[39m)\n\u001B[1;32m    381\u001B[0m \u001B[38;5;28;01mif\u001B[39;00m \u001B[38;5;129;01mnot\u001B[39;00m entity_is_sparse_matrix(field_value):\n",
      "\u001B[0;31mParamError\u001B[0m: <ParamError: (code=1, message=invalid input for sparse float vector: expect 1 row)>",
      "\nThe above exception was the direct cause of the following exception:\n",
      "\u001B[0;31mParamError\u001B[0m                                Traceback (most recent call last)",
      "Cell \u001B[0;32mIn[12], line 3\u001B[0m\n\u001B[1;32m      1\u001B[0m doc_vector \u001B[38;5;241m=\u001B[39m [{\u001B[38;5;124m\"\u001B[39m\u001B[38;5;124membeddings\u001B[39m\u001B[38;5;124m\"\u001B[39m: doc_emb, \u001B[38;5;124m\"\u001B[39m\u001B[38;5;124mid\u001B[39m\u001B[38;5;124m\"\u001B[39m: \u001B[38;5;124mf\u001B[39m\u001B[38;5;124m\"\u001B[39m\u001B[38;5;124mitem_\u001B[39m\u001B[38;5;132;01m{\u001B[39;00mi\u001B[38;5;132;01m}\u001B[39;00m\u001B[38;5;124m\"\u001B[39m} \u001B[38;5;28;01mfor\u001B[39;00m i, doc_emb \u001B[38;5;129;01min\u001B[39;00m \u001B[38;5;28menumerate\u001B[39m(vecs)]\n\u001B[0;32m----> 3\u001B[0m \u001B[43mclient\u001B[49m\u001B[38;5;241;43m.\u001B[39;49m\u001B[43minsert\u001B[49m\u001B[43m(\u001B[49m\n\u001B[1;32m      4\u001B[0m \u001B[43m    \u001B[49m\u001B[43mcollection_name\u001B[49m\u001B[38;5;241;43m=\u001B[39;49m\u001B[38;5;124;43m\"\u001B[39;49m\u001B[38;5;124;43mmy_sparse_collection\u001B[39;49m\u001B[38;5;124;43m\"\u001B[39;49m\u001B[43m,\u001B[49m\n\u001B[1;32m      5\u001B[0m \u001B[43m    \u001B[49m\u001B[43mdata\u001B[49m\u001B[38;5;241;43m=\u001B[39;49m\u001B[43mdoc_vector\u001B[49m\n\u001B[1;32m      6\u001B[0m \u001B[43m)\u001B[49m\n",
      "File \u001B[0;32m~/miniforge3/envs/docuverse12/lib/python3.12/site-packages/pymilvus/milvus_client/milvus_client.py:231\u001B[0m, in \u001B[0;36mMilvusClient.insert\u001B[0;34m(self, collection_name, data, timeout, partition_name, **kwargs)\u001B[0m\n\u001B[1;32m    227\u001B[0m     res \u001B[38;5;241m=\u001B[39m conn\u001B[38;5;241m.\u001B[39minsert_rows(\n\u001B[1;32m    228\u001B[0m         collection_name, data, partition_name\u001B[38;5;241m=\u001B[39mpartition_name, timeout\u001B[38;5;241m=\u001B[39mtimeout\n\u001B[1;32m    229\u001B[0m     )\n\u001B[1;32m    230\u001B[0m \u001B[38;5;28;01mexcept\u001B[39;00m \u001B[38;5;167;01mException\u001B[39;00m \u001B[38;5;28;01mas\u001B[39;00m ex:\n\u001B[0;32m--> 231\u001B[0m     \u001B[38;5;28;01mraise\u001B[39;00m ex \u001B[38;5;28;01mfrom\u001B[39;00m\u001B[38;5;250m \u001B[39m\u001B[38;5;21;01mex\u001B[39;00m\n\u001B[1;32m    232\u001B[0m \u001B[38;5;28;01mreturn\u001B[39;00m OmitZeroDict(\n\u001B[1;32m    233\u001B[0m     {\n\u001B[1;32m    234\u001B[0m         \u001B[38;5;124m\"\u001B[39m\u001B[38;5;124minsert_count\u001B[39m\u001B[38;5;124m\"\u001B[39m: res\u001B[38;5;241m.\u001B[39minsert_count,\n\u001B[0;32m   (...)\u001B[0m\n\u001B[1;32m    237\u001B[0m     }\n\u001B[1;32m    238\u001B[0m )\n",
      "File \u001B[0;32m~/miniforge3/envs/docuverse12/lib/python3.12/site-packages/pymilvus/milvus_client/milvus_client.py:227\u001B[0m, in \u001B[0;36mMilvusClient.insert\u001B[0;34m(self, collection_name, data, timeout, partition_name, **kwargs)\u001B[0m\n\u001B[1;32m    225\u001B[0m \u001B[38;5;66;03m# Insert into the collection.\u001B[39;00m\n\u001B[1;32m    226\u001B[0m \u001B[38;5;28;01mtry\u001B[39;00m:\n\u001B[0;32m--> 227\u001B[0m     res \u001B[38;5;241m=\u001B[39m \u001B[43mconn\u001B[49m\u001B[38;5;241;43m.\u001B[39;49m\u001B[43minsert_rows\u001B[49m\u001B[43m(\u001B[49m\n\u001B[1;32m    228\u001B[0m \u001B[43m        \u001B[49m\u001B[43mcollection_name\u001B[49m\u001B[43m,\u001B[49m\u001B[43m \u001B[49m\u001B[43mdata\u001B[49m\u001B[43m,\u001B[49m\u001B[43m \u001B[49m\u001B[43mpartition_name\u001B[49m\u001B[38;5;241;43m=\u001B[39;49m\u001B[43mpartition_name\u001B[49m\u001B[43m,\u001B[49m\u001B[43m \u001B[49m\u001B[43mtimeout\u001B[49m\u001B[38;5;241;43m=\u001B[39;49m\u001B[43mtimeout\u001B[49m\n\u001B[1;32m    229\u001B[0m \u001B[43m    \u001B[49m\u001B[43m)\u001B[49m\n\u001B[1;32m    230\u001B[0m \u001B[38;5;28;01mexcept\u001B[39;00m \u001B[38;5;167;01mException\u001B[39;00m \u001B[38;5;28;01mas\u001B[39;00m ex:\n\u001B[1;32m    231\u001B[0m     \u001B[38;5;28;01mraise\u001B[39;00m ex \u001B[38;5;28;01mfrom\u001B[39;00m\u001B[38;5;250m \u001B[39m\u001B[38;5;21;01mex\u001B[39;00m\n",
      "File \u001B[0;32m~/miniforge3/envs/docuverse12/lib/python3.12/site-packages/pymilvus/decorators.py:141\u001B[0m, in \u001B[0;36merror_handler.<locals>.wrapper.<locals>.handler\u001B[0;34m(*args, **kwargs)\u001B[0m\n\u001B[1;32m    139\u001B[0m     record_dict[\u001B[38;5;124m\"\u001B[39m\u001B[38;5;124mRPC error\u001B[39m\u001B[38;5;124m\"\u001B[39m] \u001B[38;5;241m=\u001B[39m \u001B[38;5;28mstr\u001B[39m(datetime\u001B[38;5;241m.\u001B[39mdatetime\u001B[38;5;241m.\u001B[39mnow())\n\u001B[1;32m    140\u001B[0m     LOGGER\u001B[38;5;241m.\u001B[39merror(\u001B[38;5;124mf\u001B[39m\u001B[38;5;124m\"\u001B[39m\u001B[38;5;124mRPC error: [\u001B[39m\u001B[38;5;132;01m{\u001B[39;00minner_name\u001B[38;5;132;01m}\u001B[39;00m\u001B[38;5;124m], \u001B[39m\u001B[38;5;132;01m{\u001B[39;00me\u001B[38;5;132;01m}\u001B[39;00m\u001B[38;5;124m, <Time:\u001B[39m\u001B[38;5;132;01m{\u001B[39;00mrecord_dict\u001B[38;5;132;01m}\u001B[39;00m\u001B[38;5;124m>\u001B[39m\u001B[38;5;124m\"\u001B[39m)\n\u001B[0;32m--> 141\u001B[0m     \u001B[38;5;28;01mraise\u001B[39;00m e \u001B[38;5;28;01mfrom\u001B[39;00m\u001B[38;5;250m \u001B[39m\u001B[38;5;21;01me\u001B[39;00m\n\u001B[1;32m    142\u001B[0m \u001B[38;5;28;01mexcept\u001B[39;00m grpc\u001B[38;5;241m.\u001B[39mFutureTimeoutError \u001B[38;5;28;01mas\u001B[39;00m e:\n\u001B[1;32m    143\u001B[0m     record_dict[\u001B[38;5;124m\"\u001B[39m\u001B[38;5;124mgRPC timeout\u001B[39m\u001B[38;5;124m\"\u001B[39m] \u001B[38;5;241m=\u001B[39m \u001B[38;5;28mstr\u001B[39m(datetime\u001B[38;5;241m.\u001B[39mdatetime\u001B[38;5;241m.\u001B[39mnow())\n",
      "File \u001B[0;32m~/miniforge3/envs/docuverse12/lib/python3.12/site-packages/pymilvus/decorators.py:137\u001B[0m, in \u001B[0;36merror_handler.<locals>.wrapper.<locals>.handler\u001B[0;34m(*args, **kwargs)\u001B[0m\n\u001B[1;32m    135\u001B[0m \u001B[38;5;28;01mtry\u001B[39;00m:\n\u001B[1;32m    136\u001B[0m     record_dict[\u001B[38;5;124m\"\u001B[39m\u001B[38;5;124mRPC start\u001B[39m\u001B[38;5;124m\"\u001B[39m] \u001B[38;5;241m=\u001B[39m \u001B[38;5;28mstr\u001B[39m(datetime\u001B[38;5;241m.\u001B[39mdatetime\u001B[38;5;241m.\u001B[39mnow())\n\u001B[0;32m--> 137\u001B[0m     \u001B[38;5;28;01mreturn\u001B[39;00m \u001B[43mfunc\u001B[49m\u001B[43m(\u001B[49m\u001B[38;5;241;43m*\u001B[39;49m\u001B[43margs\u001B[49m\u001B[43m,\u001B[49m\u001B[43m \u001B[49m\u001B[38;5;241;43m*\u001B[39;49m\u001B[38;5;241;43m*\u001B[39;49m\u001B[43mkwargs\u001B[49m\u001B[43m)\u001B[49m\n\u001B[1;32m    138\u001B[0m \u001B[38;5;28;01mexcept\u001B[39;00m MilvusException \u001B[38;5;28;01mas\u001B[39;00m e:\n\u001B[1;32m    139\u001B[0m     record_dict[\u001B[38;5;124m\"\u001B[39m\u001B[38;5;124mRPC error\u001B[39m\u001B[38;5;124m\"\u001B[39m] \u001B[38;5;241m=\u001B[39m \u001B[38;5;28mstr\u001B[39m(datetime\u001B[38;5;241m.\u001B[39mdatetime\u001B[38;5;241m.\u001B[39mnow())\n",
      "File \u001B[0;32m~/miniforge3/envs/docuverse12/lib/python3.12/site-packages/pymilvus/decorators.py:176\u001B[0m, in \u001B[0;36mtracing_request.<locals>.wrapper.<locals>.handler\u001B[0;34m(self, *args, **kwargs)\u001B[0m\n\u001B[1;32m    174\u001B[0m \u001B[38;5;28;01mif\u001B[39;00m req_id:\n\u001B[1;32m    175\u001B[0m     \u001B[38;5;28mself\u001B[39m\u001B[38;5;241m.\u001B[39mset_onetime_request_id(req_id)\n\u001B[0;32m--> 176\u001B[0m \u001B[38;5;28;01mreturn\u001B[39;00m \u001B[43mfunc\u001B[49m\u001B[43m(\u001B[49m\u001B[38;5;28;43mself\u001B[39;49m\u001B[43m,\u001B[49m\u001B[43m \u001B[49m\u001B[38;5;241;43m*\u001B[39;49m\u001B[43margs\u001B[49m\u001B[43m,\u001B[49m\u001B[43m \u001B[49m\u001B[38;5;241;43m*\u001B[39;49m\u001B[38;5;241;43m*\u001B[39;49m\u001B[43mkwargs\u001B[49m\u001B[43m)\u001B[49m\n",
      "File \u001B[0;32m~/miniforge3/envs/docuverse12/lib/python3.12/site-packages/pymilvus/decorators.py:116\u001B[0m, in \u001B[0;36mretry_on_rpc_failure.<locals>.wrapper.<locals>.handler\u001B[0;34m(*args, **kwargs)\u001B[0m\n\u001B[1;32m    114\u001B[0m         back_off \u001B[38;5;241m=\u001B[39m \u001B[38;5;28mmin\u001B[39m(back_off \u001B[38;5;241m*\u001B[39m back_off_multiplier, max_back_off)\n\u001B[1;32m    115\u001B[0m     \u001B[38;5;28;01melse\u001B[39;00m:\n\u001B[0;32m--> 116\u001B[0m         \u001B[38;5;28;01mraise\u001B[39;00m e \u001B[38;5;28;01mfrom\u001B[39;00m\u001B[38;5;250m \u001B[39m\u001B[38;5;21;01me\u001B[39;00m\n\u001B[1;32m    117\u001B[0m \u001B[38;5;28;01mexcept\u001B[39;00m \u001B[38;5;167;01mException\u001B[39;00m \u001B[38;5;28;01mas\u001B[39;00m e:\n\u001B[1;32m    118\u001B[0m     \u001B[38;5;28;01mraise\u001B[39;00m e \u001B[38;5;28;01mfrom\u001B[39;00m\u001B[38;5;250m \u001B[39m\u001B[38;5;21;01me\u001B[39;00m\n",
      "File \u001B[0;32m~/miniforge3/envs/docuverse12/lib/python3.12/site-packages/pymilvus/decorators.py:86\u001B[0m, in \u001B[0;36mretry_on_rpc_failure.<locals>.wrapper.<locals>.handler\u001B[0;34m(*args, **kwargs)\u001B[0m\n\u001B[1;32m     84\u001B[0m \u001B[38;5;28;01mwhile\u001B[39;00m \u001B[38;5;28;01mTrue\u001B[39;00m:\n\u001B[1;32m     85\u001B[0m     \u001B[38;5;28;01mtry\u001B[39;00m:\n\u001B[0;32m---> 86\u001B[0m         \u001B[38;5;28;01mreturn\u001B[39;00m \u001B[43mfunc\u001B[49m\u001B[43m(\u001B[49m\u001B[38;5;241;43m*\u001B[39;49m\u001B[43margs\u001B[49m\u001B[43m,\u001B[49m\u001B[43m \u001B[49m\u001B[38;5;241;43m*\u001B[39;49m\u001B[38;5;241;43m*\u001B[39;49m\u001B[43mkwargs\u001B[49m\u001B[43m)\u001B[49m\n\u001B[1;32m     87\u001B[0m     \u001B[38;5;28;01mexcept\u001B[39;00m grpc\u001B[38;5;241m.\u001B[39mRpcError \u001B[38;5;28;01mas\u001B[39;00m e:\n\u001B[1;32m     88\u001B[0m         \u001B[38;5;66;03m# Do not retry on these codes\u001B[39;00m\n\u001B[1;32m     89\u001B[0m         \u001B[38;5;28;01mif\u001B[39;00m e\u001B[38;5;241m.\u001B[39mcode() \u001B[38;5;129;01min\u001B[39;00m IGNORE_RETRY_CODES:\n",
      "File \u001B[0;32m~/miniforge3/envs/docuverse12/lib/python3.12/site-packages/pymilvus/client/grpc_handler.py:525\u001B[0m, in \u001B[0;36mGrpcHandler.insert_rows\u001B[0;34m(self, collection_name, entities, partition_name, schema, timeout, **kwargs)\u001B[0m\n\u001B[1;32m    515\u001B[0m \u001B[38;5;129m@retry_on_rpc_failure\u001B[39m()\n\u001B[1;32m    516\u001B[0m \u001B[38;5;28;01mdef\u001B[39;00m\u001B[38;5;250m \u001B[39m\u001B[38;5;21minsert_rows\u001B[39m(\n\u001B[1;32m    517\u001B[0m     \u001B[38;5;28mself\u001B[39m,\n\u001B[0;32m   (...)\u001B[0m\n\u001B[1;32m    523\u001B[0m     \u001B[38;5;241m*\u001B[39m\u001B[38;5;241m*\u001B[39mkwargs,\n\u001B[1;32m    524\u001B[0m ):\n\u001B[0;32m--> 525\u001B[0m     request \u001B[38;5;241m=\u001B[39m \u001B[38;5;28;43mself\u001B[39;49m\u001B[38;5;241;43m.\u001B[39;49m\u001B[43m_prepare_row_insert_request\u001B[49m\u001B[43m(\u001B[49m\n\u001B[1;32m    526\u001B[0m \u001B[43m        \u001B[49m\u001B[43mcollection_name\u001B[49m\u001B[43m,\u001B[49m\u001B[43m \u001B[49m\u001B[43mentities\u001B[49m\u001B[43m,\u001B[49m\u001B[43m \u001B[49m\u001B[43mpartition_name\u001B[49m\u001B[43m,\u001B[49m\u001B[43m \u001B[49m\u001B[43mschema\u001B[49m\u001B[43m,\u001B[49m\u001B[43m \u001B[49m\u001B[43mtimeout\u001B[49m\u001B[43m,\u001B[49m\u001B[43m \u001B[49m\u001B[38;5;241;43m*\u001B[39;49m\u001B[38;5;241;43m*\u001B[39;49m\u001B[43mkwargs\u001B[49m\n\u001B[1;32m    527\u001B[0m \u001B[43m    \u001B[49m\u001B[43m)\u001B[49m\n\u001B[1;32m    528\u001B[0m     resp \u001B[38;5;241m=\u001B[39m \u001B[38;5;28mself\u001B[39m\u001B[38;5;241m.\u001B[39m_stub\u001B[38;5;241m.\u001B[39mInsert(request\u001B[38;5;241m=\u001B[39mrequest, timeout\u001B[38;5;241m=\u001B[39mtimeout)\n\u001B[1;32m    529\u001B[0m     check_status(resp\u001B[38;5;241m.\u001B[39mstatus)\n",
      "File \u001B[0;32m~/miniforge3/envs/docuverse12/lib/python3.12/site-packages/pymilvus/client/grpc_handler.py:551\u001B[0m, in \u001B[0;36mGrpcHandler._prepare_row_insert_request\u001B[0;34m(self, collection_name, entity_rows, partition_name, schema, timeout, **kwargs)\u001B[0m\n\u001B[1;32m    548\u001B[0m fields_info \u001B[38;5;241m=\u001B[39m schema\u001B[38;5;241m.\u001B[39mget(\u001B[38;5;124m\"\u001B[39m\u001B[38;5;124mfields\u001B[39m\u001B[38;5;124m\"\u001B[39m)\n\u001B[1;32m    549\u001B[0m enable_dynamic \u001B[38;5;241m=\u001B[39m schema\u001B[38;5;241m.\u001B[39mget(\u001B[38;5;124m\"\u001B[39m\u001B[38;5;124menable_dynamic_field\u001B[39m\u001B[38;5;124m\"\u001B[39m, \u001B[38;5;28;01mFalse\u001B[39;00m)\n\u001B[0;32m--> 551\u001B[0m \u001B[38;5;28;01mreturn\u001B[39;00m \u001B[43mPrepare\u001B[49m\u001B[38;5;241;43m.\u001B[39;49m\u001B[43mrow_insert_param\u001B[49m\u001B[43m(\u001B[49m\n\u001B[1;32m    552\u001B[0m \u001B[43m    \u001B[49m\u001B[43mcollection_name\u001B[49m\u001B[43m,\u001B[49m\n\u001B[1;32m    553\u001B[0m \u001B[43m    \u001B[49m\u001B[43mentity_rows\u001B[49m\u001B[43m,\u001B[49m\n\u001B[1;32m    554\u001B[0m \u001B[43m    \u001B[49m\u001B[43mpartition_name\u001B[49m\u001B[43m,\u001B[49m\n\u001B[1;32m    555\u001B[0m \u001B[43m    \u001B[49m\u001B[43mfields_info\u001B[49m\u001B[43m,\u001B[49m\n\u001B[1;32m    556\u001B[0m \u001B[43m    \u001B[49m\u001B[43menable_dynamic\u001B[49m\u001B[38;5;241;43m=\u001B[39;49m\u001B[43menable_dynamic\u001B[49m\u001B[43m,\u001B[49m\n\u001B[1;32m    557\u001B[0m \u001B[43m\u001B[49m\u001B[43m)\u001B[49m\n",
      "File \u001B[0;32m~/miniforge3/envs/docuverse12/lib/python3.12/site-packages/pymilvus/client/prepare.py:623\u001B[0m, in \u001B[0;36mPrepare.row_insert_param\u001B[0;34m(cls, collection_name, entities, partition_name, fields_info, enable_dynamic)\u001B[0m\n\u001B[1;32m    616\u001B[0m p_name \u001B[38;5;241m=\u001B[39m partition_name \u001B[38;5;28;01mif\u001B[39;00m \u001B[38;5;28misinstance\u001B[39m(partition_name, \u001B[38;5;28mstr\u001B[39m) \u001B[38;5;28;01melse\u001B[39;00m \u001B[38;5;124m\"\u001B[39m\u001B[38;5;124m\"\u001B[39m\n\u001B[1;32m    617\u001B[0m request \u001B[38;5;241m=\u001B[39m milvus_types\u001B[38;5;241m.\u001B[39mInsertRequest(\n\u001B[1;32m    618\u001B[0m     collection_name\u001B[38;5;241m=\u001B[39mcollection_name,\n\u001B[1;32m    619\u001B[0m     partition_name\u001B[38;5;241m=\u001B[39mp_name,\n\u001B[1;32m    620\u001B[0m     num_rows\u001B[38;5;241m=\u001B[39m\u001B[38;5;28mlen\u001B[39m(entities),\n\u001B[1;32m    621\u001B[0m )\n\u001B[0;32m--> 623\u001B[0m \u001B[38;5;28;01mreturn\u001B[39;00m \u001B[38;5;28;43mcls\u001B[39;49m\u001B[38;5;241;43m.\u001B[39;49m\u001B[43m_parse_row_request\u001B[49m\u001B[43m(\u001B[49m\u001B[43mrequest\u001B[49m\u001B[43m,\u001B[49m\u001B[43m \u001B[49m\u001B[43mfields_info\u001B[49m\u001B[43m,\u001B[49m\u001B[43m \u001B[49m\u001B[43menable_dynamic\u001B[49m\u001B[43m,\u001B[49m\u001B[43m \u001B[49m\u001B[43mentities\u001B[49m\u001B[43m)\u001B[49m\n",
      "File \u001B[0;32m~/miniforge3/envs/docuverse12/lib/python3.12/site-packages/pymilvus/client/prepare.py:473\u001B[0m, in \u001B[0;36mPrepare._parse_row_request\u001B[0;34m(request, fields_info, enable_dynamic, entities)\u001B[0m\n\u001B[1;32m    469\u001B[0m         \u001B[38;5;28;01mif\u001B[39;00m field_info\u001B[38;5;241m.\u001B[39mget(\u001B[38;5;124m\"\u001B[39m\u001B[38;5;124mnullable\u001B[39m\u001B[38;5;124m\"\u001B[39m, \u001B[38;5;28;01mFalse\u001B[39;00m) \u001B[38;5;129;01mor\u001B[39;00m field_info\u001B[38;5;241m.\u001B[39mget(\n\u001B[1;32m    470\u001B[0m             \u001B[38;5;124m\"\u001B[39m\u001B[38;5;124mdefault_value\u001B[39m\u001B[38;5;124m\"\u001B[39m, \u001B[38;5;28;01mNone\u001B[39;00m\n\u001B[1;32m    471\u001B[0m         ):\n\u001B[1;32m    472\u001B[0m             field_data\u001B[38;5;241m.\u001B[39mvalid_data\u001B[38;5;241m.\u001B[39mappend(v \u001B[38;5;129;01mis\u001B[39;00m \u001B[38;5;129;01mnot\u001B[39;00m \u001B[38;5;28;01mNone\u001B[39;00m)\n\u001B[0;32m--> 473\u001B[0m         \u001B[43mentity_helper\u001B[49m\u001B[38;5;241;43m.\u001B[39;49m\u001B[43mpack_field_value_to_field_data\u001B[49m\u001B[43m(\u001B[49m\u001B[43mv\u001B[49m\u001B[43m,\u001B[49m\u001B[43m \u001B[49m\u001B[43mfield_data\u001B[49m\u001B[43m,\u001B[49m\u001B[43m \u001B[49m\u001B[43mfield_info\u001B[49m\u001B[43m)\u001B[49m\n\u001B[1;32m    474\u001B[0m \u001B[38;5;28;01mfor\u001B[39;00m field \u001B[38;5;129;01min\u001B[39;00m input_fields_info:\n\u001B[1;32m    475\u001B[0m     key \u001B[38;5;241m=\u001B[39m field[\u001B[38;5;124m\"\u001B[39m\u001B[38;5;124mname\u001B[39m\u001B[38;5;124m\"\u001B[39m]\n",
      "File \u001B[0;32m~/miniforge3/envs/docuverse12/lib/python3.12/site-packages/pymilvus/client/entity_helper.py:380\u001B[0m, in \u001B[0;36mpack_field_value_to_field_data\u001B[0;34m(field_value, field_data, field_info)\u001B[0m\n\u001B[1;32m    378\u001B[0m     field_value \u001B[38;5;241m=\u001B[39m [field_value]\n\u001B[1;32m    379\u001B[0m \u001B[38;5;28;01melif\u001B[39;00m field_value\u001B[38;5;241m.\u001B[39mshape[\u001B[38;5;241m0\u001B[39m] \u001B[38;5;241m!=\u001B[39m \u001B[38;5;241m1\u001B[39m:\n\u001B[0;32m--> 380\u001B[0m     \u001B[38;5;28;01mraise\u001B[39;00m ParamError(message\u001B[38;5;241m=\u001B[39m\u001B[38;5;124m\"\u001B[39m\u001B[38;5;124minvalid input for sparse float vector: expect 1 row\u001B[39m\u001B[38;5;124m\"\u001B[39m)\n\u001B[1;32m    381\u001B[0m \u001B[38;5;28;01mif\u001B[39;00m \u001B[38;5;129;01mnot\u001B[39;00m entity_is_sparse_matrix(field_value):\n\u001B[1;32m    382\u001B[0m     \u001B[38;5;28;01mraise\u001B[39;00m ParamError(message\u001B[38;5;241m=\u001B[39m\u001B[38;5;124m\"\u001B[39m\u001B[38;5;124minvalid input for sparse float vector\u001B[39m\u001B[38;5;124m\"\u001B[39m)\n",
      "\u001B[0;31mParamError\u001B[0m: <ParamError: (code=1, message=invalid input for sparse float vector: expect 1 row)>"
     ]
    }
   ],
   "execution_count": 12
  },
  {
   "metadata": {},
   "cell_type": "markdown",
   "source": "### Prepare search parameters",
   "id": "901327946ea22410"
  },
  {
   "metadata": {},
   "cell_type": "code",
   "outputs": [],
   "execution_count": null,
   "source": [
    "search_params = {\n",
    "    \"params\": {\"drop_ratio_search\": 0.2},  # Additional optional search parameters\n",
    "}\n"
   ],
   "id": "8ed93c14cfe125ed"
  },
  {
   "metadata": {},
   "cell_type": "markdown",
   "source": "### Prepare the query vector",
   "id": "ff283f9fcfed613e"
  },
  {
   "metadata": {
    "collapsed": true
   },
   "cell_type": "code",
   "outputs": [],
   "execution_count": null,
   "source": [
    "\n",
    "queries = [\n",
    "      \"When was artificial intelligence founded\",\n",
    "      \"Where was Turing born?\"\n",
    "]\n",
    "query_vector = embeddings_model.encode_documents(queries)\n",
    "\n",
    "res = client.search(\n",
    "    collection_name=\"my_sparse_collection\",\n",
    "    data=query_vector,\n",
    "    limit=1, #top k documents to return\n",
    "    output_fields=[\"id\"],\n",
    "    search_params=search_params,\n",
    ")\n",
    "\n",
    "for r in res:\n",
    "    print(r)"
   ],
   "id": "initial_id"
  }
 ],
 "metadata": {
  "kernelspec": {
   "display_name": "Python 3",
   "language": "python",
   "name": "python3"
  },
  "language_info": {
   "codemirror_mode": {
    "name": "ipython",
    "version": 2
   },
   "file_extension": ".py",
   "mimetype": "text/x-python",
   "name": "python",
   "nbconvert_exporter": "python",
   "pygments_lexer": "ipython2",
   "version": "2.7.6"
  }
 },
 "nbformat": 4,
 "nbformat_minor": 5
}
