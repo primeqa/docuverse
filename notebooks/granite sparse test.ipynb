{
 "cells": [
  {
   "cell_type": "code",
   "id": "45cb2e8d7ebe4899",
   "metadata": {
    "ExecuteTime": {
     "end_time": "2025-03-07T19:46:26.879530Z",
     "start_time": "2025-03-07T19:46:26.627939Z"
    }
   },
   "source": [
    "from flatbuffers.packer import int32\n",
    "from pymilvus import model\n",
    "from pymilvus import MilvusClient, DataType"
   ],
   "outputs": [],
   "execution_count": 1
  },
  {
   "metadata": {},
   "cell_type": "markdown",
   "source": "### Create Milvus connection to a file",
   "id": "3595e4f9d9d38116"
  },
  {
   "metadata": {
    "ExecuteTime": {
     "end_time": "2025-03-07T19:46:41.096554Z",
     "start_time": "2025-03-07T19:46:39.490023Z"
    }
   },
   "cell_type": "code",
   "source": [
    "client = MilvusClient(\"/tmp/milvus_demo.db\")\n",
    "\n",
    "client.drop_collection(collection_name=\"my_sparse_collection\")\n",
    "\n",
    "schema = client.create_schema(\n",
    "    auto_id=True,\n",
    "    enable_dynamic_fields=True,\n",
    ")\n",
    "\n",
    "schema.add_field(field_name=\"pk\", datatype=DataType.VARCHAR, is_primary=True, max_length=100)\n",
    "schema.add_field(field_name=\"id\", datatype=DataType.VARCHAR, is_primary=False, max_length=100)\n",
    "schema.add_field(field_name=\"embeddings\", datatype=DataType.SPARSE_FLOAT_VECTOR)\n",
    "\n",
    "index_params = client.prepare_index_params()\n",
    "\n",
    "index_params.add_index(field_name=\"embeddings\",\n",
    "                               index_name=\"sparse_inverted_index\",\n",
    "                               index_type=\"SPARSE_INVERTED_INDEX\",\n",
    "                               metric_type=\"IP\",\n",
    "                               params={\"drop_ratio_build\": 0.2})\n",
    "client.create_collection(\n",
    "    collection_name=\"my_sparse_collection\",\n",
    "    schema=schema,\n",
    "    index_params=index_params\n",
    ")\n"
   ],
   "id": "16d08341d9886fc4",
   "outputs": [],
   "execution_count": 2
  },
  {
   "metadata": {
    "ExecuteTime": {
     "end_time": "2025-03-07T19:46:45.136139Z",
     "start_time": "2025-03-07T19:46:43.798656Z"
    }
   },
   "cell_type": "code",
   "source": [
    "embeddings_model = model.sparse.SpladeEmbeddingFunction(\n",
    "    model_name=\"ibm-granite/granite-embedding-30m-sparse\",\n",
    "    device=\"cpu\",\n",
    "    batch_size=2,\n",
    "    k_tokens_query=50,\n",
    "    k_tokens_document=192\n",
    ")"
   ],
   "id": "4d39342c194c0fe9",
   "outputs": [],
   "execution_count": 3
  },
  {
   "metadata": {
    "ExecuteTime": {
     "end_time": "2025-03-07T19:46:57.536750Z",
     "start_time": "2025-03-07T19:46:57.533936Z"
    }
   },
   "cell_type": "code",
   "source": [
    "import os\n",
    "os.getenv('CUDA_VISIBLE_DEVICES')"
   ],
   "id": "15c1110525cc1103",
   "outputs": [],
   "execution_count": 5
  },
  {
   "metadata": {},
   "cell_type": "markdown",
   "source": "### Prepare documents to be ingested",
   "id": "9f9e778cb8317afb"
  },
  {
   "metadata": {
    "ExecuteTime": {
     "end_time": "2025-03-07T19:47:09.325600Z",
     "start_time": "2025-03-07T19:47:06.797613Z"
    }
   },
   "cell_type": "code",
   "source": [
    "docs = [\n",
    "    \"Artificial intelligence was founded as an academic discipline in 1956.\",\n",
    "    \"Alan Turing was the first person to conduct substantial research in AI.\",\n",
    "    \"Born in Maida Vale, London, Turing was raised in southern England.\",\n",
    "]\n",
    "vecs = embeddings_model.encode_documents(docs)"
   ],
   "id": "6a148eb2d28e4aa6",
   "outputs": [],
   "execution_count": 6
  },
  {
   "metadata": {
    "ExecuteTime": {
     "end_time": "2025-03-07T19:47:12.740032Z",
     "start_time": "2025-03-07T19:47:12.735629Z"
    }
   },
   "cell_type": "code",
   "source": "vecs.shape[1]",
   "id": "ba6d46952261cf1b",
   "outputs": [
    {
     "data": {
      "text/plain": [
       "50265"
      ]
     },
     "execution_count": 7,
     "metadata": {},
     "output_type": "execute_result"
    }
   ],
   "execution_count": 7
  },
  {
   "metadata": {
    "ExecuteTime": {
     "end_time": "2025-03-07T19:47:30.664306Z",
     "start_time": "2025-03-07T19:47:30.639708Z"
    }
   },
   "cell_type": "code",
   "source": [
    "dim = vecs.shape[1]\n",
    "doc_vector = [{\"embeddings\": doc_emb.reshape(1,dim), \"id\": f\"item_{i}\"} for i, doc_emb in enumerate(vecs)]\n",
    "\n",
    "client.insert(\n",
    "    collection_name=\"my_sparse_collection\",\n",
    "    data=doc_vector\n",
    ")"
   ],
   "id": "f02968c444fe6c28",
   "outputs": [
    {
     "data": {
      "text/plain": [
       "{'insert_count': 3, 'ids': ['456491493136269312', '456491493136269313', '456491493136269314'], 'cost': 0}"
      ]
     },
     "execution_count": 8,
     "metadata": {},
     "output_type": "execute_result"
    }
   ],
   "execution_count": 8
  },
  {
   "metadata": {
    "ExecuteTime": {
     "end_time": "2025-03-07T19:47:31.513324Z",
     "start_time": "2025-03-07T19:47:31.426169Z"
    }
   },
   "cell_type": "code",
   "source": [
    "import torch\n",
    "tt=vecs[0].to_dense()\n",
    "print(tt)"
   ],
   "id": "f16b232114f7712c",
   "outputs": [
    {
     "ename": "AttributeError",
     "evalue": "'coo_array' object has no attribute 'to_dense'",
     "output_type": "error",
     "traceback": [
      "\u001B[0;31m---------------------------------------------------------------------------\u001B[0m",
      "\u001B[0;31mAttributeError\u001B[0m                            Traceback (most recent call last)",
      "Cell \u001B[0;32mIn[9], line 2\u001B[0m\n\u001B[1;32m      1\u001B[0m \u001B[38;5;28;01mimport\u001B[39;00m\u001B[38;5;250m \u001B[39m\u001B[38;5;21;01mtorch\u001B[39;00m\n\u001B[0;32m----> 2\u001B[0m tt\u001B[38;5;241m=\u001B[39m\u001B[43mvecs\u001B[49m\u001B[43m[\u001B[49m\u001B[38;5;241;43m0\u001B[39;49m\u001B[43m]\u001B[49m\u001B[38;5;241;43m.\u001B[39;49m\u001B[43mto_dense\u001B[49m()\n\u001B[1;32m      3\u001B[0m \u001B[38;5;28mprint\u001B[39m(tt)\n",
      "\u001B[0;31mAttributeError\u001B[0m: 'coo_array' object has no attribute 'to_dense'"
     ]
    }
   ],
   "execution_count": 9
  },
  {
   "metadata": {},
   "cell_type": "markdown",
   "source": "### Prepare search parameters",
   "id": "901327946ea22410"
  },
  {
   "metadata": {
    "ExecuteTime": {
     "end_time": "2025-03-07T19:52:18.964659Z",
     "start_time": "2025-03-07T19:52:18.961168Z"
    }
   },
   "cell_type": "code",
   "source": [
    "search_params = {\n",
    "    \"params\": {\"drop_ratio_search\": 0},  # Additional optional search parameters\n",
    "}\n"
   ],
   "id": "8ed93c14cfe125ed",
   "outputs": [],
   "execution_count": 26
  },
  {
   "metadata": {},
   "cell_type": "markdown",
   "source": "### Prepare the query vector",
   "id": "ff283f9fcfed613e"
  },
  {
   "metadata": {},
   "cell_type": "code",
   "source": [
    "\n",
    "queries = [\n",
    "      \"When was artificial intelligence founded\",\n",
    "      \"Where was Turing born?\"\n",
    "]\n",
    "query_vector = embeddings_model.encode_queries(queries)\n",
    "\n",
    "res = client.search(\n",
    "    collection_name=\"my_sparse_collection\",\n",
    "    data=query_vector,\n",
    "    limit=1, #top k documents to return\n",
    "    output_fields=[\"id\"],\n",
    "    search_params=search_params,\n",
    ")\n",
    "\n",
    "for r in res:\n",
    "    print(r)"
   ],
   "id": "bf0c31984714030e",
   "outputs": [],
   "execution_count": null
  },
  {
   "metadata": {
    "collapsed": true,
    "ExecuteTime": {
     "end_time": "2025-03-07T20:11:48.711418Z",
     "start_time": "2025-03-07T20:11:48.706765Z"
    }
   },
   "cell_type": "code",
   "source": "query_vector.shape",
   "id": "initial_id",
   "outputs": [
    {
     "data": {
      "text/plain": [
       "(2, 50265)"
      ]
     },
     "execution_count": 64,
     "metadata": {},
     "output_type": "execute_result"
    }
   ],
   "execution_count": 64
  },
  {
   "metadata": {},
   "cell_type": "markdown",
   "source": "Non-transformer search",
   "id": "7290eb145a0a3c37"
  },
  {
   "metadata": {
    "ExecuteTime": {
     "end_time": "2025-03-07T20:12:11.890845Z",
     "start_time": "2025-03-07T20:12:11.888436Z"
    }
   },
   "cell_type": "code",
   "source": [
    "import numpy as np\n",
    "from scipy.sparse import csr_array\n",
    "tok_queries = embeddings_model.model.tokenizer(queries, return_tensors=\"pt\")"
   ],
   "id": "49ae5ee8948c527c",
   "outputs": [],
   "execution_count": 66
  },
  {
   "metadata": {
    "ExecuteTime": {
     "end_time": "2025-03-07T20:14:21.269841Z",
     "start_time": "2025-03-07T20:14:21.266492Z"
    }
   },
   "cell_type": "code",
   "source": [
    "max_size = embeddings_model.model.tokenizer.vocab_size\n",
    "keys = [torch.unique(tok_queries['input_ids'][i], sorted=True).tolist() for i in range(0,len(queries))]\n",
    "\n",
    "embeddings = [csr_array((k, (np.zeros(len(k), dtype=np.int32), np.ones(len(k), dtype=np.float32))), shape=(1, max_size))\n",
    "                              for k in keys]"
   ],
   "id": "ad8f68fe4c51e988",
   "outputs": [],
   "execution_count": 81
  },
  {
   "metadata": {},
   "cell_type": "code",
   "source": "aa=(embeddings[0].toarray())",
   "id": "9834d017d43e41e2",
   "outputs": [],
   "execution_count": null
  },
  {
   "metadata": {
    "ExecuteTime": {
     "end_time": "2025-03-07T20:22:28.231630Z",
     "start_time": "2025-03-07T20:22:28.229354Z"
    }
   },
   "cell_type": "code",
   "source": [
    "k0=keys[0]\n",
    "kl=len(k0)\n",
    "aa=csr_array((np.ones(kl), (np.zeros(kl), k0)), shape=(1, max_size))"
   ],
   "id": "f57479c01066eb6a",
   "outputs": [],
   "execution_count": 112
  },
  {
   "metadata": {
    "ExecuteTime": {
     "end_time": "2025-03-07T20:22:41.035563Z",
     "start_time": "2025-03-07T20:22:41.032398Z"
    }
   },
   "cell_type": "code",
   "source": "aa.indices",
   "id": "b00dd72e68df79a6",
   "outputs": [
    {
     "data": {
      "text/plain": [
       "array([   0,    2,   21, 1779, 2316, 4790, 7350])"
      ]
     },
     "execution_count": 115,
     "metadata": {},
     "output_type": "execute_result"
    }
   ],
   "execution_count": 115
  },
  {
   "metadata": {
    "ExecuteTime": {
     "end_time": "2025-03-07T20:24:11.666674Z",
     "start_time": "2025-03-07T20:24:11.663171Z"
    }
   },
   "cell_type": "code",
   "source": [
    "res = client.search(\n",
    "    collection_name=\"my_sparse_collection\",\n",
    "    data=[aa],\n",
    "    limit=4, #top k documents to return\n",
    "    output_fields=[\"id\"],\n",
    "    search_params=search_params,\n",
    ")"
   ],
   "id": "81ad5731b67c59b4",
   "outputs": [],
   "execution_count": 121
  },
  {
   "metadata": {
    "ExecuteTime": {
     "end_time": "2025-03-07T20:24:12.389884Z",
     "start_time": "2025-03-07T20:24:12.387586Z"
    }
   },
   "cell_type": "code",
   "source": "print(res)",
   "id": "9cf564a1d89cdde7",
   "outputs": [
    {
     "name": "stdout",
     "output_type": "stream",
     "text": [
      "data: [\"[{'id': '456491493136269312', 'distance': 3.8010401725769043, 'entity': {'id': 'item_0'}}, {'id': '456491493136269313', 'distance': 0.9097486734390259, 'entity': {'id': 'item_1'}}]\"]\n"
     ]
    }
   ],
   "execution_count": 122
  },
  {
   "metadata": {},
   "cell_type": "code",
   "outputs": [],
   "execution_count": null,
   "source": "",
   "id": "4e14f9104aed40d0"
  }
 ],
 "metadata": {
  "kernelspec": {
   "display_name": "Python 3",
   "language": "python",
   "name": "python3"
  },
  "language_info": {
   "codemirror_mode": {
    "name": "ipython",
    "version": 2
   },
   "file_extension": ".py",
   "mimetype": "text/x-python",
   "name": "python",
   "nbconvert_exporter": "python",
   "pygments_lexer": "ipython2",
   "version": "2.7.6"
  }
 },
 "nbformat": 4,
 "nbformat_minor": 5
}
