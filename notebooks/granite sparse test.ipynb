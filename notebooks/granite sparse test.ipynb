{
 "cells": [
  {
   "cell_type": "code",
   "id": "45cb2e8d7ebe4899",
   "metadata": {
    "ExecuteTime": {
     "end_time": "2025-02-27T22:58:36.977147Z",
     "start_time": "2025-02-27T22:58:36.974774Z"
    }
   },
   "source": [
    "from pymilvus import model\n",
    "from pymilvus import MilvusClient, DataType"
   ],
   "outputs": [],
   "execution_count": 39
  },
  {
   "metadata": {},
   "cell_type": "markdown",
   "source": "### Create Milvus connection to a file",
   "id": "3595e4f9d9d38116"
  },
  {
   "metadata": {
    "ExecuteTime": {
     "end_time": "2025-02-27T22:50:59.108649Z",
     "start_time": "2025-02-27T22:50:58.597936Z"
    }
   },
   "cell_type": "code",
   "source": [
    "client = MilvusClient(\"/tmp/milvus_demo.db\")\n",
    "\n",
    "client.drop_collection(collection_name=\"my_sparse_collection\")\n",
    "\n",
    "schema = client.create_schema(\n",
    "    auto_id=True,\n",
    "    enable_dynamic_fields=True,\n",
    ")\n",
    "\n",
    "schema.add_field(field_name=\"pk\", datatype=DataType.VARCHAR, is_primary=True, max_length=100)\n",
    "schema.add_field(field_name=\"id\", datatype=DataType.VARCHAR, is_primary=False, max_length=100)\n",
    "schema.add_field(field_name=\"embeddings\", datatype=DataType.SPARSE_FLOAT_VECTOR)\n",
    "\n",
    "index_params = client.prepare_index_params()\n",
    "\n",
    "index_params.add_index(field_name=\"embeddings\",\n",
    "                               index_name=\"sparse_inverted_index\",\n",
    "                               index_type=\"SPARSE_INVERTED_INDEX\",\n",
    "                               metric_type=\"IP\",\n",
    "                               params={\"drop_ratio_build\": 0.2})\n",
    "client.create_collection(\n",
    "    collection_name=\"my_sparse_collection\",\n",
    "    schema=schema,\n",
    "    index_params=index_params\n",
    ")\n"
   ],
   "id": "16d08341d9886fc4",
   "outputs": [],
   "execution_count": 27
  },
  {
   "metadata": {
    "ExecuteTime": {
     "end_time": "2025-02-27T22:50:59.753404Z",
     "start_time": "2025-02-27T22:50:59.395523Z"
    }
   },
   "cell_type": "code",
   "source": [
    "embeddings_model = model.sparse.SpladeEmbeddingFunction(\n",
    "    model_name=\"ibm-granite/granite-embedding-30m-sparse\",\n",
    "    device=\"cpu\",\n",
    "    batch_size=2,\n",
    "    k_tokens_query=50,\n",
    "    k_tokens_document=192\n",
    ")"
   ],
   "id": "4d39342c194c0fe9",
   "outputs": [],
   "execution_count": 28
  },
  {
   "metadata": {
    "ExecuteTime": {
     "end_time": "2025-02-27T22:51:00.393039Z",
     "start_time": "2025-02-27T22:51:00.389503Z"
    }
   },
   "cell_type": "code",
   "source": [
    "import os\n",
    "os.getenv('CUDA_VISIBLE_DEVICES')"
   ],
   "id": "15c1110525cc1103",
   "outputs": [
    {
     "data": {
      "text/plain": [
       "'1'"
      ]
     },
     "execution_count": 29,
     "metadata": {},
     "output_type": "execute_result"
    }
   ],
   "execution_count": 29
  },
  {
   "metadata": {},
   "cell_type": "markdown",
   "source": "### Prepare documents to be ingested",
   "id": "9f9e778cb8317afb"
  },
  {
   "metadata": {
    "ExecuteTime": {
     "end_time": "2025-02-27T22:51:02.131820Z",
     "start_time": "2025-02-27T22:51:02.120122Z"
    }
   },
   "cell_type": "code",
   "source": [
    "docs = [\n",
    "    \"Artificial intelligence was founded as an academic discipline in 1956.\",\n",
    "    \"Alan Turing was the first person to conduct substantial research in AI.\",\n",
    "    \"Born in Maida Vale, London, Turing was raised in southern England.\",\n",
    "]\n",
    "vecs = embeddings_model.encode_documents(docs)"
   ],
   "id": "6a148eb2d28e4aa6",
   "outputs": [],
   "execution_count": 30
  },
  {
   "metadata": {
    "ExecuteTime": {
     "end_time": "2025-02-27T22:51:48.789783Z",
     "start_time": "2025-02-27T22:51:48.786620Z"
    }
   },
   "cell_type": "code",
   "source": "vecs.shape[1]",
   "id": "ba6d46952261cf1b",
   "outputs": [
    {
     "data": {
      "text/plain": [
       "50265"
      ]
     },
     "execution_count": 34,
     "metadata": {},
     "output_type": "execute_result"
    }
   ],
   "execution_count": 34
  },
  {
   "metadata": {
    "ExecuteTime": {
     "end_time": "2025-02-27T22:52:20.111466Z",
     "start_time": "2025-02-27T22:52:20.105751Z"
    }
   },
   "cell_type": "code",
   "source": [
    "dim = vecs.shape[1]\n",
    "doc_vector = [{\"embeddings\": doc_emb.reshape(1,dim), \"id\": f\"item_{i}\"} for i, doc_emb in enumerate(vecs)]\n",
    "\n",
    "client.insert(\n",
    "    collection_name=\"my_sparse_collection\",\n",
    "    data=doc_vector\n",
    ")\n"
   ],
   "id": "f16b232114f7712c",
   "outputs": [
    {
     "data": {
      "text/plain": [
       "{'insert_count': 3, 'ids': ['456313206239133708', '456313206239133709', '456313206239133710'], 'cost': 0}"
      ]
     },
     "execution_count": 36,
     "metadata": {},
     "output_type": "execute_result"
    }
   ],
   "execution_count": 36
  },
  {
   "metadata": {},
   "cell_type": "markdown",
   "source": "### Prepare search parameters",
   "id": "901327946ea22410"
  },
  {
   "metadata": {
    "ExecuteTime": {
     "end_time": "2025-02-27T22:52:29.208209Z",
     "start_time": "2025-02-27T22:52:29.206086Z"
    }
   },
   "cell_type": "code",
   "source": [
    "search_params = {\n",
    "    \"params\": {\"drop_ratio_search\": 0.2},  # Additional optional search parameters\n",
    "}\n"
   ],
   "id": "8ed93c14cfe125ed",
   "outputs": [],
   "execution_count": 37
  },
  {
   "metadata": {},
   "cell_type": "markdown",
   "source": "### Prepare the query vector",
   "id": "ff283f9fcfed613e"
  },
  {
   "metadata": {
    "collapsed": true,
    "ExecuteTime": {
     "end_time": "2025-02-27T22:52:31.864807Z",
     "start_time": "2025-02-27T22:52:31.835775Z"
    }
   },
   "cell_type": "code",
   "source": [
    "\n",
    "queries = [\n",
    "      \"When was artificial intelligence founded\",\n",
    "      \"Where was Turing born?\"\n",
    "]\n",
    "query_vector = embeddings_model.encode_documents(queries)\n",
    "\n",
    "res = client.search(\n",
    "    collection_name=\"my_sparse_collection\",\n",
    "    data=query_vector,\n",
    "    limit=1, #top k documents to return\n",
    "    output_fields=[\"id\"],\n",
    "    search_params=search_params,\n",
    ")\n",
    "\n",
    "for r in res:\n",
    "    print(r)"
   ],
   "id": "initial_id",
   "outputs": [
    {
     "name": "stdout",
     "output_type": "stream",
     "text": [
      "[{'id': '456313203549011974', 'distance': 12.3641357421875, 'entity': {'id': 'item_0'}}]\n",
      "[{'id': '456313203549011976', 'distance': 17.1358642578125, 'entity': {'id': 'item_2'}}]\n"
     ]
    }
   ],
   "execution_count": 38
  },
  {
   "metadata": {},
   "cell_type": "code",
   "outputs": [],
   "execution_count": null,
   "source": "",
   "id": "e499dbdb7da52799"
  }
 ],
 "metadata": {
  "kernelspec": {
   "display_name": "Python 3",
   "language": "python",
   "name": "python3"
  },
  "language_info": {
   "codemirror_mode": {
    "name": "ipython",
    "version": 2
   },
   "file_extension": ".py",
   "mimetype": "text/x-python",
   "name": "python",
   "nbconvert_exporter": "python",
   "pygments_lexer": "ipython2",
   "version": "2.7.6"
  }
 },
 "nbformat": 4,
 "nbformat_minor": 5
}
