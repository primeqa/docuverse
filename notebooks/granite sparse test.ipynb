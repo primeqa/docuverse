{
 "cells": [
  {
   "cell_type": "code",
   "id": "45cb2e8d7ebe4899",
   "metadata": {
    "ExecuteTime": {
     "end_time": "2025-02-28T16:45:04.444912Z",
     "start_time": "2025-02-28T16:45:03.923597Z"
    }
   },
   "source": [
    "from pymilvus import model\n",
    "from pymilvus import MilvusClient, DataType"
   ],
   "outputs": [],
   "execution_count": 1
  },
  {
   "metadata": {},
   "cell_type": "markdown",
   "source": "### Create Milvus connection to a file",
   "id": "3595e4f9d9d38116"
  },
  {
   "metadata": {
    "ExecuteTime": {
     "end_time": "2025-02-28T16:45:13.974610Z",
     "start_time": "2025-02-28T16:45:12.281656Z"
    }
   },
   "cell_type": "code",
   "source": [
    "client = MilvusClient(\"/tmp/milvus_demo.db\")\n",
    "\n",
    "client.drop_collection(collection_name=\"my_sparse_collection\")\n",
    "\n",
    "schema = client.create_schema(\n",
    "    auto_id=True,\n",
    "    enable_dynamic_fields=True,\n",
    ")\n",
    "\n",
    "schema.add_field(field_name=\"pk\", datatype=DataType.VARCHAR, is_primary=True, max_length=100)\n",
    "schema.add_field(field_name=\"id\", datatype=DataType.VARCHAR, is_primary=False, max_length=100)\n",
    "schema.add_field(field_name=\"embeddings\", datatype=DataType.SPARSE_FLOAT_VECTOR)\n",
    "\n",
    "index_params = client.prepare_index_params()\n",
    "\n",
    "index_params.add_index(field_name=\"embeddings\",\n",
    "                               index_name=\"sparse_inverted_index\",\n",
    "                               index_type=\"SPARSE_INVERTED_INDEX\",\n",
    "                               metric_type=\"IP\",\n",
    "                               params={\"drop_ratio_build\": 0.2})\n",
    "client.create_collection(\n",
    "    collection_name=\"my_sparse_collection\",\n",
    "    schema=schema,\n",
    "    index_params=index_params\n",
    ")\n"
   ],
   "id": "16d08341d9886fc4",
   "outputs": [],
   "execution_count": 2
  },
  {
   "metadata": {
    "ExecuteTime": {
     "end_time": "2025-02-28T16:45:20.093256Z",
     "start_time": "2025-02-28T16:45:16.408144Z"
    }
   },
   "cell_type": "code",
   "source": [
    "embeddings_model = model.sparse.SpladeEmbeddingFunction(\n",
    "    model_name=\"ibm-granite/granite-embedding-30m-sparse\",\n",
    "    device=\"cpu\",\n",
    "    batch_size=2,\n",
    "    k_tokens_query=50,\n",
    "    k_tokens_document=192\n",
    ")"
   ],
   "id": "4d39342c194c0fe9",
   "outputs": [],
   "execution_count": 3
  },
  {
   "metadata": {
    "ExecuteTime": {
     "end_time": "2025-02-28T16:45:20.953448Z",
     "start_time": "2025-02-28T16:45:20.950870Z"
    }
   },
   "cell_type": "code",
   "source": [
    "import os\n",
    "os.getenv('CUDA_VISIBLE_DEVICES')"
   ],
   "id": "15c1110525cc1103",
   "outputs": [],
   "execution_count": 4
  },
  {
   "metadata": {},
   "cell_type": "markdown",
   "source": "### Prepare documents to be ingested",
   "id": "9f9e778cb8317afb"
  },
  {
   "metadata": {
    "ExecuteTime": {
     "end_time": "2025-02-28T16:45:37.559808Z",
     "start_time": "2025-02-28T16:45:34.774444Z"
    }
   },
   "cell_type": "code",
   "source": [
    "docs = [\n",
    "    \"Artificial intelligence was founded as an academic discipline in 1956.\",\n",
    "    \"Alan Turing was the first person to conduct substantial research in AI.\",\n",
    "    \"Born in Maida Vale, London, Turing was raised in southern England.\",\n",
    "]\n",
    "vecs = embeddings_model.encode_documents(docs)"
   ],
   "id": "6a148eb2d28e4aa6",
   "outputs": [],
   "execution_count": 5
  },
  {
   "metadata": {
    "ExecuteTime": {
     "end_time": "2025-02-28T16:45:40.416114Z",
     "start_time": "2025-02-28T16:45:40.411991Z"
    }
   },
   "cell_type": "code",
   "source": "vecs.shape[1]",
   "id": "ba6d46952261cf1b",
   "outputs": [
    {
     "data": {
      "text/plain": [
       "50265"
      ]
     },
     "execution_count": 6,
     "metadata": {},
     "output_type": "execute_result"
    }
   ],
   "execution_count": 6
  },
  {
   "metadata": {},
   "cell_type": "code",
   "source": [
    "dim = vecs.shape[1]\n",
    "doc_vector = [{\"embeddings\": doc_emb.reshape(1,dim), \"id\": f\"item_{i}\"} for i, doc_emb in enumerate(vecs)]\n",
    "\n",
    "client.insert(\n",
    "    collection_name=\"my_sparse_collection\",\n",
    "    data=doc_vector\n",
    ")"
   ],
   "id": "f02968c444fe6c28",
   "outputs": [],
   "execution_count": null
  },
  {
   "metadata": {
    "ExecuteTime": {
     "end_time": "2025-02-28T16:48:37.357750Z",
     "start_time": "2025-02-28T16:48:37.285060Z"
    }
   },
   "cell_type": "code",
   "source": [
    "import torch\n",
    "tt=vecs[0].to_dense()\n",
    "print(tt)"
   ],
   "id": "f16b232114f7712c",
   "outputs": [
    {
     "ename": "AttributeError",
     "evalue": "'coo_array' object has no attribute 'to_dense'",
     "output_type": "error",
     "traceback": [
      "\u001B[0;31m---------------------------------------------------------------------------\u001B[0m",
      "\u001B[0;31mAttributeError\u001B[0m                            Traceback (most recent call last)",
      "Cell \u001B[0;32mIn[13], line 2\u001B[0m\n\u001B[1;32m      1\u001B[0m \u001B[38;5;28;01mimport\u001B[39;00m\u001B[38;5;250m \u001B[39m\u001B[38;5;21;01mtorch\u001B[39;00m\n\u001B[0;32m----> 2\u001B[0m tt\u001B[38;5;241m=\u001B[39m\u001B[43mvecs\u001B[49m\u001B[43m[\u001B[49m\u001B[38;5;241;43m0\u001B[39;49m\u001B[43m]\u001B[49m\u001B[38;5;241;43m.\u001B[39;49m\u001B[43mto_dense\u001B[49m()\n\u001B[1;32m      3\u001B[0m \u001B[38;5;28mprint\u001B[39m(tt)\n",
      "\u001B[0;31mAttributeError\u001B[0m: 'coo_array' object has no attribute 'to_dense'"
     ]
    }
   ],
   "execution_count": 13
  },
  {
   "metadata": {},
   "cell_type": "markdown",
   "source": "### Prepare search parameters",
   "id": "901327946ea22410"
  },
  {
   "metadata": {
    "ExecuteTime": {
     "end_time": "2025-02-28T16:45:56.197928Z",
     "start_time": "2025-02-28T16:45:56.195772Z"
    }
   },
   "cell_type": "code",
   "source": [
    "search_params = {\n",
    "    \"params\": {\"drop_ratio_search\": 0.2},  # Additional optional search parameters\n",
    "}\n"
   ],
   "id": "8ed93c14cfe125ed",
   "outputs": [],
   "execution_count": 8
  },
  {
   "metadata": {},
   "cell_type": "markdown",
   "source": "### Prepare the query vector",
   "id": "ff283f9fcfed613e"
  },
  {
   "metadata": {
    "collapsed": true,
    "ExecuteTime": {
     "end_time": "2025-02-28T16:45:58.794520Z",
     "start_time": "2025-02-28T16:45:57.760025Z"
    }
   },
   "cell_type": "code",
   "source": [
    "\n",
    "queries = [\n",
    "      \"When was artificial intelligence founded\",\n",
    "      \"Where was Turing born?\"\n",
    "]\n",
    "query_vector = embeddings_model.encode_documents(queries)\n",
    "\n",
    "res = client.search(\n",
    "    collection_name=\"my_sparse_collection\",\n",
    "    data=query_vector,\n",
    "    limit=1, #top k documents to return\n",
    "    output_fields=[\"id\"],\n",
    "    search_params=search_params,\n",
    ")\n",
    "\n",
    "for r in res:\n",
    "    print(r)"
   ],
   "id": "initial_id",
   "outputs": [
    {
     "name": "stdout",
     "output_type": "stream",
     "text": [
      "[{'id': '456330090434789376', 'distance': 12.364131927490234, 'entity': {'id': 'item_0'}}]\n",
      "[{'id': '456330090434789378', 'distance': 17.135875701904297, 'entity': {'id': 'item_2'}}]\n"
     ]
    }
   ],
   "execution_count": 9
  },
  {
   "metadata": {},
   "cell_type": "code",
   "outputs": [],
   "execution_count": null,
   "source": "",
   "id": "e499dbdb7da52799"
  }
 ],
 "metadata": {
  "kernelspec": {
   "display_name": "Python 3",
   "language": "python",
   "name": "python3"
  },
  "language_info": {
   "codemirror_mode": {
    "name": "ipython",
    "version": 2
   },
   "file_extension": ".py",
   "mimetype": "text/x-python",
   "name": "python",
   "nbconvert_exporter": "python",
   "pygments_lexer": "ipython2",
   "version": "2.7.6"
  }
 },
 "nbformat": 4,
 "nbformat_minor": 5
}
