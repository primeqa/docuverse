{
 "cells": [
  {
   "metadata": {},
   "cell_type": "markdown",
   "source": [
    "# Create small difficult corpus\n",
    " Notebook to create a small, yet difficult corpus, for quick experimentation. In many cases, there are a lot of documents to search through, and indexing these documents with various methods can take a very long time. To avoid lenghty experiments, yet making sure that the corpus oen searches through is \"hard\", this notebook creates a small corpus (e.g. 10000 documents) that contain:\n",
    "  * all goldstandard documents\n",
    "  * top 100 documents per query (obtained with some method - could be the model itself, another model, or bm25)\n",
    "  * other random documents to pad to the desired size, if needed."
   ],
   "id": "a06ecc5230ef791c"
  },
  {
   "metadata": {},
   "cell_type": "code",
   "outputs": [],
   "execution_count": null,
   "source": [
    "from docuverse.engines.search_engine_config_params import DocUVerseConfig\n",
    "from docuverse.utils import open_stream, read_config_file\n",
    "from docuverse.engines.search_engine import SearchEngine, SearchData\n",
    "import os\n",
    "import orjson\n",
    "from  tqdm.notebook import tqdm"
   ],
   "id": "b2e30a05deabe4f9"
  },
  {
   "metadata": {},
   "cell_type": "code",
   "outputs": [],
   "execution_count": null,
   "source": [
    "# data_dir=\"/home/raduf/sandbox2/docuverse/benchmark/ibm_search\"\n",
    "data_dir=\"/home/raduf/sandbox2/docuverse/benchmark/sap\"\n",
    "docuverse_dir = \"/home/raduf/sandbox2/docuverse\"\n",
    "min_size = 0"
   ],
   "id": "2e678219275e8b94"
  },
  {
   "metadata": {},
   "cell_type": "code",
   "outputs": [],
   "execution_count": null,
   "source": [
    "# config_file = os.path.join(\"/home/raduf/sandbox2/docuverse/experiments/unified_search/ibmsw_milvus_dense.snowlake-m.test.yaml\")\n",
    "# expt_file = \"experiments/unified_search/ibmsw_milvus_bm25.granite.test.yaml\"\n",
    "# expt_file = \"experiments/unified_search/ibmsw_milvus_dense.granite-30m.test.yaml\"\n",
    "expt_file = \"experiments/sap/sap_milvus_dense.granite30.dev.flat.file.yaml\"\n",
    "top_k=100\n",
    "output_file = f\"corpus.dev.top{top_k}.jsonl\"\n",
    "config_file = os.path.join(docuverse_dir, expt_file)\n",
    "config = DocUVerseConfig(config_file)\n",
    "engine = SearchEngine(config)"
   ],
   "id": "5612f273b36d9ad8"
  },
  {
   "metadata": {},
   "cell_type": "code",
   "outputs": [],
   "execution_count": null,
   "source": [
    "query_file = os.path.join(docuverse_dir, config.retriever_config.input_queries)\n",
    "corpus_file = os.path.join(docuverse_dir, config.retriever_config.input_passages)\n",
    "if query_file.endswith(\".jsonl\"):\n",
    "    query_json = query_file\n",
    "else:\n",
    "    query_config = read_config_file(query_file)\n",
    "    query_json = query_config['question_file']\n",
    "# goldstandard = query_config['goldstandard_file']\n",
    "short_doc_output = os.path.join(data_dir, output_file)"
   ],
   "id": "3d9daed64dfad3fb"
  },
  {
   "metadata": {},
   "cell_type": "code",
   "outputs": [],
   "execution_count": null,
   "source": "short_doc_output",
   "id": "8991cdcafa64463f"
  },
  {
   "metadata": {},
   "cell_type": "code",
   "outputs": [],
   "execution_count": null,
   "source": [
    "for i, line in enumerate(open_stream(corpus_file)):\n",
    "    # print(line)\n",
    "    print(orjson.loads(line))\n",
    "    if i==10:\n",
    "        break"
   ],
   "id": "d8ca566340e9baf1"
  },
  {
   "metadata": {},
   "cell_type": "code",
   "outputs": [],
   "execution_count": null,
   "source": "corpus = [orjson.loads(line) for line in tqdm(open_stream(corpus_file))]",
   "id": "806548e49724bc4"
  },
  {
   "metadata": {},
   "cell_type": "code",
   "outputs": [],
   "execution_count": null,
   "source": "len(corpus)",
   "id": "2e6e58760434b957"
  },
  {
   "metadata": {},
   "cell_type": "code",
   "outputs": [],
   "execution_count": null,
   "source": [
    "# Create dictionary mapping doc IDs to their full document content\n",
    "documents = {}\n",
    "# Loop through corpus and populate the document dictionary\n",
    "for c in corpus:\n",
    "    documents[c['document_id']] = c"
   ],
   "id": "424d947c2b33ae36"
  },
  {
   "metadata": {},
   "cell_type": "code",
   "outputs": [],
   "execution_count": null,
   "source": [
    "queries = engine.read_questions(engine.config.input_queries)\n",
    "# answers = engine.read_cache_file(extension=\".retrieve.pkl.bz2\")[0]\n",
    "engine.retriever.config.top_k = top_k\n",
    "answers=engine.search(queries)"
   ],
   "id": "6ec2828bf5eeb291"
  },
  {
   "metadata": {},
   "cell_type": "code",
   "outputs": [],
   "execution_count": null,
   "source": "len(answers[0])",
   "id": "21cf0565fa4bfb1d"
  },
  {
   "metadata": {},
   "cell_type": "code",
   "outputs": [],
   "execution_count": null,
   "source": [
    "relevant = {}\n",
    "for q in queries:\n",
    "    for r in q['relevant']:\n",
    "        relevant[r] = 1"
   ],
   "id": "96c034017eb88579"
  },
  {
   "metadata": {},
   "cell_type": "code",
   "outputs": [],
   "execution_count": null,
   "source": [
    "ansdocs = relevant\n",
    "from docuverse.utils import get_orig_docid\n",
    "for a in answers:\n",
    "    for result in a:\n",
    "        ansdocs[get_orig_docid(result['id'])] = 1"
   ],
   "id": "21b3dbb9bed9ca1f"
  },
  {
   "metadata": {},
   "cell_type": "code",
   "outputs": [],
   "execution_count": null,
   "source": [
    "corpus_size = len(corpus)\n",
    "import random\n",
    "for i in tqdm(range(len(ansdocs), min_size)):\n",
    "    while True:\n",
    "        id = str(random.randint(0, corpus_size))\n",
    "        if id not in ansdocs:\n",
    "            ansdocs[str(id)] = 1\n",
    "            break"
   ],
   "id": "cce1288208d11aed"
  },
  {
   "metadata": {},
   "cell_type": "code",
   "outputs": [],
   "execution_count": null,
   "source": "short_doc_output",
   "id": "d5e05f24fc95a3b1"
  },
  {
   "metadata": {},
   "cell_type": "code",
   "outputs": [],
   "execution_count": null,
   "source": [
    "import json\n",
    "with open_stream(short_doc_output, write=True) as g:\n",
    "    for docid in sorted(ansdocs.keys()):\n",
    "        print(json.dumps(documents[docid]), file=g)"
   ],
   "id": "2ceedfb291868b10"
  },
  {
   "metadata": {},
   "cell_type": "code",
   "outputs": [],
   "execution_count": null,
   "source": "len(ansdocs)",
   "id": "fdb00b7b57c424e8"
  },
  {
   "metadata": {},
   "cell_type": "code",
   "outputs": [],
   "execution_count": null,
   "source": "",
   "id": "c8013fac206e02c2"
  }
 ],
 "metadata": {
  "kernelspec": {
   "display_name": "Python 3",
   "language": "python",
   "name": "python3"
  },
  "language_info": {
   "codemirror_mode": {
    "name": "ipython",
    "version": 2
   },
   "file_extension": ".py",
   "mimetype": "text/x-python",
   "name": "python",
   "nbconvert_exporter": "python",
   "pygments_lexer": "ipython2",
   "version": "2.7.6"
  }
 },
 "nbformat": 4,
 "nbformat_minor": 5
}
