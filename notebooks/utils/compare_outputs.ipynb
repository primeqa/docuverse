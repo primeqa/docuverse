{
 "cells": [
  {
   "cell_type": "code",
   "id": "initial_id",
   "metadata": {
    "collapsed": true,
    "ExecuteTime": {
     "end_time": "2024-10-28T20:27:37.486871Z",
     "start_time": "2024-10-28T20:27:37.483677Z"
    }
   },
   "source": [
    "\n",
    "from docuverse.engines.data_template import DataTemplate\n",
    "from docuverse.utils import read_config_file"
   ],
   "outputs": [],
   "execution_count": 4
  },
  {
   "metadata": {
    "ExecuteTime": {
     "end_time": "2024-10-28T21:07:27.342422Z",
     "start_time": "2024-10-28T21:07:27.338636Z"
    }
   },
   "cell_type": "code",
   "source": [
    "file1=\"../output/ibmsw-dev-short-milvus-dense-slate30m-512-100-10062024.cc.json\"\n",
    "file2=\"../output/ibmsw-dev-short-milvus-dense-slate30m-512-100-10062024.dd.json\"\n",
    "data_template=\"../config/ibm_search_beir_data.yml\"\n",
    "\n",
    "data_config = read_config_file(data_template)\n",
    "\n",
    "query_template = DataTemplate(data_config['query_format'])"
   ],
   "id": "ac0039d380b57474",
   "outputs": [],
   "execution_count": 33
  },
  {
   "metadata": {
    "ExecuteTime": {
     "end_time": "2024-10-28T21:07:31.082289Z",
     "start_time": "2024-10-28T21:07:30.280324Z"
    }
   },
   "cell_type": "code",
   "source": [
    "from docuverse import SearchEngine\n",
    "\n",
    "res1 = SearchEngine.read_output_(file1, query_template)\n",
    "res2 = SearchEngine.read_output_(file2, query_template)"
   ],
   "id": "cc3993dc0fae4827",
   "outputs": [],
   "execution_count": 34
  },
  {
   "metadata": {
    "ExecuteTime": {
     "end_time": "2024-10-28T21:07:32.787769Z",
     "start_time": "2024-10-28T21:07:32.780661Z"
    }
   },
   "cell_type": "code",
   "source": [
    "num_examples = len(res1)\n",
    "top_k = 5\n",
    "res = []\n",
    "for i, (r1, r2) in enumerate(zip(res1, res2)):\n",
    "    mismatch = False\n",
    "    mismatched = []\n",
    "    for j in range(top_k):\n",
    "        if r1[j]['id'] != r2[j]['id']:\n",
    "            mismatch = True\n",
    "            #print(f\"Mismatched at question {i}: {r1.question}, result {j}: {r1[j]} vs {r2[j]}\")\n",
    "            mismatched.append([[r1[j]['id'], r1[j]['score']], [r2[j]['id'], r2[j]['score']]])\n",
    "    res.append(mismatched)"
   ],
   "id": "bacd7108b29b2d14",
   "outputs": [],
   "execution_count": 35
  },
  {
   "metadata": {
    "ExecuteTime": {
     "end_time": "2024-10-28T21:10:37.957005Z",
     "start_time": "2024-10-28T21:10:37.954366Z"
    }
   },
   "cell_type": "code",
   "source": [
    "print(f\"r1={res1[0][0]['text']}\"\n",
    "      f\"\\n\\nr2={res2[0][0]['text']}\")"
   ],
   "id": "dc21ebb64c1466e7",
   "outputs": [
    {
     "name": "stdout",
     "output_type": "stream",
     "text": [
      "r1=Enabling HyperSwap for a session\n",
      "This feature is only available after APAR OA53082 is applied to the z/OS system. Unbox Secondary Volumes Select this option to have the load of the configuration automatically unbox all secondary volumes in the configuration. When this option is not selected, a load of the configuration fails when secondary volumes are in a boxed state. This feature is only available after APAR OA53082 is applied to the z/OS system. On Planned HyperSwap Error: Partition out the failing system(s) and continue swap processing on the remaining system(s) Select this option to partition out the failing system and continue the swap processing on any remaining systems. Disable HyperSwap after attempting backout Select this option to enable IOS to back out the HyperSwap operation, if possible, if an error occurs during HyperSwap processing. HyperSwap is disabled. On Unplanned HyperSwap Error: Partition out the failing system(s) and continue swap processing on the remaining system(s) Select this option to partition out the failing systems and continue HyperSwap processing on the remaining systems when a new system is added to the sysplex and the HyperSwap operation does not complete. Requirement: If you select this option, you must restart the system. Disable HyperSwap after attempting backout Select this option to enable IOS to back out the HyperSwap operation, if possible, if an error occurs during HyperSwap processing. HyperSwap is disabled. For FlashSystem/IBM Spectrum Accelerate HyperSwap Manage H1-H2 with HyperSwap Select this option to enable the relationship for HyperSwap on FlashSystem/IBM Spectrum Accelerate volumes. This option redirects application I/O to the target volumes when there is a failure on the host accessible volumes. Copy Services Manager uses HyperSwap to manage the H1-H2 sequence of a Metro Mirror session.\n",
      "\n",
      "r2=If you are configuring a HyperSwap® system that uses Fibre Channel connections, ensure that all SAN and Fibre Channel-specific requirements are met. You must configure a HyperSwap system to meet the following requirements: Directly connect each node to two or more SAN fabrics at the primary and secondary sites (2 - 8 fabrics are supported). Sites are defined as independent failure domains. A failure domain is a part of the system within a boundary. Any failure within that boundary (such as a power failure, fire, or flood) is contained within the boundary. The failure affects any part that is outside of that boundary. Failure domains can be in the same room or across rooms in the data center, buildings on the same campus, or buildings in different towns. Different kinds of failure domains protect against different types of faults. Connections can vary based on fibre type and small form-factor pluggable (SFP) transceiver (longwave and shortwave). Nodes that have connections to switches that are longer than 100 meters (109 yards) must use longwave Fibre Channel connections. A longwave small form-factor pluggable (SFP) transceiver can be purchased as an optional component, and must be one of the longwave SFP transceivers that are listed at the following website: www.ibm.com/support Avoid using inter-switch links (ISLs) in paths between nodes and external storage systems. If this configuration is unavoidable, do not oversubscribe the ISLs because of substantial Fibre Channel traffic across the ISLs. For most configurations, trunking is required. Because ISL problems are difficult to diagnose, switch-port error statistics must be collected and regularly monitored to detect failures. Using a single switch at the third site can lead to the creation of a single fabric rather than two independent and redundant fabrics. A single fabric is an unsupported configuration. Ethernet port 1 on every node must be connected to the same subnet or subnets. Ethernet port 2 (if used) of every node must be connected to the same subnet (this might be a different subnet from port 1). \n"
     ]
    }
   ],
   "execution_count": 42
  }
 ],
 "metadata": {
  "kernelspec": {
   "display_name": "Python 3",
   "language": "python",
   "name": "python3"
  },
  "language_info": {
   "codemirror_mode": {
    "name": "ipython",
    "version": 2
   },
   "file_extension": ".py",
   "mimetype": "text/x-python",
   "name": "python",
   "nbconvert_exporter": "python",
   "pygments_lexer": "ipython2",
   "version": "2.7.6"
  }
 },
 "nbformat": 4,
 "nbformat_minor": 5
}
