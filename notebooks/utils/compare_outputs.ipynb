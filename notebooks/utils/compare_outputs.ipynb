{
 "cells": [
  {
   "cell_type": "code",
   "id": "initial_id",
   "metadata": {
    "collapsed": true
   },
   "source": [
    "\n",
    "from docuverse.engines.data_template import DataTemplate\n",
    "from docuverse.utils import read_config_file"
   ],
   "outputs": [],
   "execution_count": null
  },
  {
   "metadata": {},
   "cell_type": "code",
   "source": [
    "# file1=\"../output/ibmsw-dev-short-milvus-dense-slate30m-512-100-10062024.cc.json\"\n",
    "# file2=\"../output/ibmsw-dev-short-milvus-dense-slate30m-512-100-10062024.dd.json\"\n",
    "file1=\"../output/unified-search-short23k-milvus-dense-granite30m-512-100-20250709-4q.no-rerank.json\"\n",
    "file2=\"../output/unified-search-short23k-chromadb-granite30m-512-100-20250709-4q.no-rerank.json\"\n",
    "data_template=\"../config/ibm_search_beir_data.yml\"\n",
    "\n",
    "data_config = read_config_file(data_template)\n",
    "\n",
    "query_template = DataTemplate(data_config['query_format'])"
   ],
   "id": "ac0039d380b57474",
   "outputs": [],
   "execution_count": null
  },
  {
   "metadata": {},
   "cell_type": "code",
   "source": [
    "from docuverse import SearchEngine\n",
    "\n",
    "res1 = SearchEngine.read_output_(file1, query_template)\n",
    "res2 = SearchEngine.read_output_(file2, query_template)"
   ],
   "id": "cc3993dc0fae4827",
   "outputs": [],
   "execution_count": null
  },
  {
   "metadata": {},
   "cell_type": "code",
   "source": [
    "num_examples = len(res1)\n",
    "top_k = 5\n",
    "res = []\n",
    "for i, (r1, r2) in enumerate(zip(res1, res2)):\n",
    "    mismatch = False\n",
    "    mismatched = []\n",
    "    r1_size = len(r1.retrieved_passages)\n",
    "    r2_size = len(r2.retrieved_passages)\n",
    "    for j in range(min(top_k, max(r1_size, r2_size))):\n",
    "        print(f\"i={i}, j={j}\")\n",
    "        if j>=r1_size:\n",
    "            mismatched.append([[], [r2[j]['id'], r2[j]['score']]])\n",
    "        elif j>=r2_size:\n",
    "            mismatched.append([[r1[j]['id'], r1[j]['score']], []])\n",
    "        else:\n",
    "            if r1[j]['id'] != r2[j]['id']:\n",
    "                mismatch = True\n",
    "                #print(f\"Mismatched at question {i}: {r1.question}, result {j}: {r1[j]} vs {r2[j]}\")\n",
    "                mismatched.append([[r1[j]['id'], r1[j]['score']], [r2[j]['id'], r2[j]['score']]])\n",
    "    res.append(mismatched)"
   ],
   "id": "bacd7108b29b2d14",
   "outputs": [],
   "execution_count": null
  },
  {
   "metadata": {},
   "cell_type": "code",
   "source": "[r for r in res if len(r)>0]",
   "id": "bcbbf9cc280ce362",
   "outputs": [],
   "execution_count": null
  },
  {
   "metadata": {},
   "cell_type": "code",
   "source": "res2[2].question.as_dict()",
   "id": "fa4110e84ea36c6d",
   "outputs": [],
   "execution_count": null
  },
  {
   "metadata": {},
   "cell_type": "code",
   "source": [
    "print(f\"r1={res1[0][0]['text']}\"\n",
    "      f\"\\n\\nr2={res2[0][0]['text']}\")"
   ],
   "id": "dc21ebb64c1466e7",
   "outputs": [],
   "execution_count": null
  }
 ],
 "metadata": {
  "kernelspec": {
   "display_name": "Python 3",
   "language": "python",
   "name": "python3"
  },
  "language_info": {
   "codemirror_mode": {
    "name": "ipython",
    "version": 2
   },
   "file_extension": ".py",
   "mimetype": "text/x-python",
   "name": "python",
   "nbconvert_exporter": "python",
   "pygments_lexer": "ipython2",
   "version": "2.7.6"
  }
 },
 "nbformat": 4,
 "nbformat_minor": 5
}
