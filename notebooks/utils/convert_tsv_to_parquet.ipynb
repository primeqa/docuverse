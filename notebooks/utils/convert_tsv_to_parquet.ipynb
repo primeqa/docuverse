{
 "cells": [
  {
   "cell_type": "code",
   "id": "f737ced33adc9824",
   "metadata": {
    "ExecuteTime": {
     "end_time": "2025-06-12T15:39:18.510602Z",
     "start_time": "2025-06-12T15:39:18.503313Z"
    }
   },
   "source": [
    "import pandas as pd\n",
    "import os\n",
    "import parquet\n",
    "import json\n",
    "import ast"
   ],
   "outputs": [],
   "execution_count": 40
  },
  {
   "metadata": {
    "ExecuteTime": {
     "end_time": "2025-06-12T15:41:27.119623Z",
     "start_time": "2025-06-12T15:41:26.950870Z"
    }
   },
   "cell_type": "code",
   "source": [
    "def get_extension(compression: str) -> str:\n",
    "    if compression==\"gzip\":\n",
    "        return \"gz\"\n",
    "    elif compression == \"bzip2\":\n",
    "        return \"bz2\"\n",
    "    elif compression == \"lz4\":\n",
    "        return \"lz4\"\n",
    "    else:\n",
    "        return compression\n",
    "\n",
    "def convert_file(input:str, output:str=None, compression: str=None) -> None:\n",
    "    if compression is None:\n",
    "        compression = \"bz2\"\n",
    "    if output is None:\n",
    "        output = f\"{os.path.splitext(input)[0]}.parquet.{get_extension(compression)}\"\n",
    "    data = pd.read_csv(input, sep='\\t')\n",
    "    for key in data.keys():\n",
    "        pseudo_json = False\n",
    "        for i, f in enumerate(data[key][:10]):\n",
    "            if f.find(\"[\")>=0:\n",
    "                pseudo_json = True\n",
    "                break\n",
    "\n",
    "        if pseudo_json:\n",
    "            print(f\"Fixing the key {key}\")\n",
    "            out = []\n",
    "            for i, f in enumerate(data[key]):\n",
    "                try:\n",
    "                    r = json.loads(f.replace(\"'\", '\"'))\n",
    "                except Exception as e:\n",
    "                    r = f\n",
    "                out.append(r)\n",
    "            data[key] = out\n",
    "\n",
    "    data.to_parquet(output, compression=compression, index=False)\n",
    "    return data\n",
    "\n",
    "data = convert_file(\"../benchmark/mtrag_data/queries/govt.tsv\", compression=\"gzip\")"
   ],
   "id": "cf7892d18d4db0c9",
   "outputs": [
    {
     "name": "stdout",
     "output_type": "stream",
     "text": [
      "Fixing the key doc_id\n",
      "Fixing the key rc_query\n"
     ]
    }
   ],
   "execution_count": 44
  },
  {
   "metadata": {
    "ExecuteTime": {
     "end_time": "2025-06-12T15:47:10.227364Z",
     "start_time": "2025-06-12T15:47:10.193417Z"
    }
   },
   "cell_type": "code",
   "source": "aa=data.to_dict(orient=\"records\")",
   "id": "30a5df3467663577",
   "outputs": [],
   "execution_count": 51
  },
  {
   "metadata": {
    "ExecuteTime": {
     "end_time": "2025-06-12T15:47:23.533575Z",
     "start_time": "2025-06-12T15:47:23.517470Z"
    }
   },
   "cell_type": "code",
   "source": "aa[0]",
   "id": "initial_id",
   "outputs": [
    {
     "data": {
      "text/plain": [
       "{'_id': '9dcd142c-415e-4161-a82f-c8b14bfb36ac_1723122998',\n",
       " 'r_query': '\"What are the sheltered rooms designated for use?\\n',\n",
       " 'query': '|user|: \"What are the sheltered rooms designated for use?',\n",
       " 'doc_id': ['c8db6e06ff46669e-50302-52227', '7d4d64e7f6aff125-3194-5132'],\n",
       " 'rc_query': '\"What are the sheltered rooms designated for use?\\n'}"
      ]
     },
     "execution_count": 52,
     "metadata": {},
     "output_type": "execute_result"
    }
   ],
   "execution_count": 52
  },
  {
   "metadata": {
    "ExecuteTime": {
     "end_time": "2025-06-11T19:52:26.768874Z",
     "start_time": "2025-06-11T19:52:26.742960Z"
    }
   },
   "cell_type": "code",
   "source": "data=parquet.load_dataset(\"../benchmark/mtrag_data/queries/govt.parquet.bz2\")",
   "id": "5ce4e94425445c36",
   "outputs": [
    {
     "ename": "AttributeError",
     "evalue": "module 'parquet' has no attribute 'load'",
     "output_type": "error",
     "traceback": [
      "\u001B[31m---------------------------------------------------------------------------\u001B[39m",
      "\u001B[31mAttributeError\u001B[39m                            Traceback (most recent call last)",
      "\u001B[36mCell\u001B[39m\u001B[36m \u001B[39m\u001B[32mIn[33]\u001B[39m\u001B[32m, line 1\u001B[39m\n\u001B[32m----> \u001B[39m\u001B[32m1\u001B[39m data=\u001B[43mparquet\u001B[49m\u001B[43m.\u001B[49m\u001B[43mload\u001B[49m(\u001B[33m\"\u001B[39m\u001B[33m../benchmark/mtrag_data/queries/govt.parquet.bz2\u001B[39m\u001B[33m\"\u001B[39m)\n",
      "\u001B[31mAttributeError\u001B[39m: module 'parquet' has no attribute 'load'"
     ]
    }
   ],
   "execution_count": 33
  },
  {
   "metadata": {},
   "cell_type": "code",
   "outputs": [],
   "execution_count": null,
   "source": "",
   "id": "11faf4a6421b6644"
  }
 ],
 "metadata": {
  "kernelspec": {
   "display_name": "Python 3",
   "language": "python",
   "name": "python3"
  },
  "language_info": {
   "codemirror_mode": {
    "name": "ipython",
    "version": 2
   },
   "file_extension": ".py",
   "mimetype": "text/x-python",
   "name": "python",
   "nbconvert_exporter": "python",
   "pygments_lexer": "ipython2",
   "version": "2.7.6"
  }
 },
 "nbformat": 4,
 "nbformat_minor": 5
}
