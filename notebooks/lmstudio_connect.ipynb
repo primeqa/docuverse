{
 "cells": [
  {
   "cell_type": "code",
   "id": "4bb853ceceff7d51",
   "metadata": {
    "ExecuteTime": {
     "end_time": "2025-05-20T21:02:36.768703Z",
     "start_time": "2025-05-20T21:02:36.621805Z"
    }
   },
   "source": [
    "import lmstudio as lms\n",
    "\n",
    "model_name=\"phi-4\" # \"llama-3.2-1b-instruct\"\n",
    "model = lms.llm(model_name)"
   ],
   "outputs": [],
   "execution_count": 2
  },
  {
   "metadata": {
    "ExecuteTime": {
     "end_time": "2025-05-20T21:27:26.284782Z",
     "start_time": "2025-05-20T21:27:26.281424Z"
    }
   },
   "cell_type": "code",
   "source": [
    "query = \"\"\"\n",
    "query: rephrase the question as a 10 year old kid who has to use few words - so eliminate any unnecessary words but not proper nouns. Don't answer the question. Reply in json with no markup - with only one tag called 'rephrased_question'. Follow the examples:\n",
    "Input: \"What happened at Starrcade '88 involving Rhodes and Sting?\" output: \"What happened with Rhodes and Sting at Starrcade '88?\"\n",
    "Input: \"What skills do graduates of the jewelry making and repair course acquire?\" output: \"What do graduates of the jewelry and repair course learn?\"\n",
    "Input: \"What role do marine microorganisms play in mangrove ecosystems?\" output: \"What role do microorganisms play in mangroves?\"\n",
    "Input: \"What was the public reaction to the proposed railway changes in the Beeching Report?\" \"What was the popular reaction to the changes in the Beeching Report?\"\n",
    "Input: \"\"\"\n",
    "def getq(question):\n",
    "    return f\"{query}{question}\""
   ],
   "id": "ae07d3ae6ca519da",
   "outputs": [],
   "execution_count": 29
  },
  {
   "metadata": {
    "ExecuteTime": {
     "end_time": "2025-05-20T21:28:53.977712Z",
     "start_time": "2025-05-20T21:28:52.558771Z"
    }
   },
   "cell_type": "code",
   "source": [
    "questions = [\n",
    "    \"What is the meaning of life?\",\n",
    "    \"Which skills do graduates of the jewelry making and repair course acquire?\",\n",
    "    \"Why was Habib Thameur chosen as head of the Maghrebi office?\"\n",
    "]\n",
    "# result = model.respond(getq(''))\n",
    "for q in questions:\n",
    "    result = model.respond(getq(f'\"{q}'))\n",
    "    print(result)"
   ],
   "id": "initial_id",
   "outputs": [
    {
     "name": "stdout",
     "output_type": "stream",
     "text": [
      "```json\n",
      "{\n",
      "  \"rephrased_question\": \"What's the meaning of life?\"\n",
      "}\n",
      "```\n",
      "```json\n",
      "{\n",
      "  \"rephrased_question\": \"What skills do graduates of the jewelry and repair course learn?\"\n",
      "}\n",
      "```\n",
      "```json\n",
      "{\n",
      "  \"rephrased_question\": \"Why did they pick Habib Thameur for the Maghrebi office?\"\n",
      "}\n",
      "```\n"
     ]
    }
   ],
   "execution_count": 31
  },
  {
   "metadata": {
    "ExecuteTime": {
     "end_time": "2025-05-20T21:29:22.413626Z",
     "start_time": "2025-05-20T21:29:22.306418Z"
    }
   },
   "cell_type": "code",
   "source": [
    "data = []\n",
    "import json\n",
    "with open(\"../benchmark/mldr/may5_8_20_progress_1.fixed.jsonl\") as inp:\n",
    "    for line in inp:\n",
    "        data.append(json.loads(line))"
   ],
   "id": "a4daf84239ef25aa",
   "outputs": [],
   "execution_count": 32
  },
  {
   "metadata": {
    "ExecuteTime": {
     "end_time": "2025-05-20T21:29:31.011933Z",
     "start_time": "2025-05-20T21:29:31.007998Z"
    }
   },
   "cell_type": "code",
   "source": "json.loads(result.content.replace('```json\\n','').replace('\\n```',''))",
   "id": "880d825fdc0b0c5e",
   "outputs": [
    {
     "data": {
      "text/plain": [
       "{'rephrased_question': 'Why did they pick Habib Thameur for the Maghrebi office?'}"
      ]
     },
     "execution_count": 33,
     "metadata": {},
     "output_type": "execute_result"
    }
   ],
   "execution_count": 33
  },
  {
   "metadata": {
    "ExecuteTime": {
     "end_time": "2025-05-21T00:02:54.049888Z",
     "start_time": "2025-05-20T21:31:08.892181Z"
    }
   },
   "cell_type": "code",
   "source": [
    "from tqdm.notebook import tqdm\n",
    "from docuverse.utils import get_param\n",
    "for d in tqdm(data):\n",
    "    ans = model.respond(getq(f'\"{d[\"question\"]}\"'))\n",
    "    try:\n",
    "        res = json.loads(ans.content.replace('```json\\n','').replace('\\n```',''))\n",
    "        d['rephrased_question'] = get_param(res, 'rephrased_question|output', \"\")\n",
    "    except Exception as e:\n",
    "        print(f\"Failed the question '{d['question']}' with the output '{ans.content}': e\")"
   ],
   "id": "c26eb8af0071a926",
   "outputs": [
    {
     "data": {
      "text/plain": [
       "  0%|          | 0/19899 [00:00<?, ?it/s]"
      ],
      "application/vnd.jupyter.widget-view+json": {
       "version_major": 2,
       "version_minor": 0,
       "model_id": "94166e4dd511498a987e4a587be6d382"
      }
     },
     "metadata": {},
     "output_type": "display_data"
    },
    {
     "name": "stdout",
     "output_type": "stream",
     "text": [
      "Failed the question 'Why did Mujib seek recognition for the term \"Bangla-desh\"?' with the output '```json\n",
      "{\n",
      "  \"rephrased_question\": \"Why did Mujib want \"Bangla-desh\" recognized?\"\n",
      "}\n",
      "```': e\n",
      "Failed the question 'What special item is unlocked by achieving \"S\" rank in all 35 bonus missions?' with the output '```json\n",
      "{\n",
      "  \"rephrased_question\": \"What special thing do you get for \"S\" rank in all 35 bonus missions?\"\n",
      "}\n",
      "```': e\n",
      "Failed the question 'What was the purpose behind the \"CyClone Dairy\" hoax?' with the output '```json\n",
      "{\n",
      "  \"rephrased_question\": \"Why was there a \"CyClone Dairy\" trick?\"\n",
      "}\n",
      "```': e\n",
      "Failed the question 'What was the rationale behind diagnosing political dissidents with \"sluggish schizophrenia\" in the USSR?' with the output '```json\n",
      "{\n",
      "  \"rephrased_question\": \"Why did they call political opponents \"sluggish schizophrenia\" in the USSR?\"\n",
      "}\n",
      "```': e\n",
      "Failed the question 'What is the significance of the \"Train leaving on track five\" gag in the context of Jack Benny's radio shows?' with the output '```json\n",
      "{\n",
      "  \"rephrased_question\": \"Why is \"Train leaving on track five\" funny in Jack Benny's radio shows?\"\n",
      "}\n",
      "```': e\n",
      "Failed the question 'What is the significance of the name \"Dellekaj\" for Meatball Charlie in the original Danish production?' with the output '```json\n",
      "{\n",
      "  \"rephrased_question\": \"Why is \"Dellekaj\" important for Meatball Charlie in Danish show?\"\n",
      "}\n",
      "```': e\n"
     ]
    }
   ],
   "execution_count": 35
  },
  {
   "metadata": {
    "ExecuteTime": {
     "end_time": "2025-05-21T16:26:11.303679Z",
     "start_time": "2025-05-21T16:26:11.103614Z"
    }
   },
   "cell_type": "code",
   "source": [
    "with open(\"../benchmark/mldr/may5_8_20_progress_1.fixed.rephrase.jsonl\", \"w\") as out:\n",
    "    for d in data:\n",
    "        out.write(json.dumps(d)+\"\\n\")"
   ],
   "id": "55809ef2b5441691",
   "outputs": [],
   "execution_count": 46
  },
  {
   "metadata": {
    "ExecuteTime": {
     "end_time": "2025-05-21T02:50:14.119992Z",
     "start_time": "2025-05-21T02:50:13.500788Z"
    }
   },
   "cell_type": "code",
   "source": [
    "ans=model.respond(getq(\"What special item is unlocked by achieving 'S' rank in all 35 bonus missions?\"))\n",
    "json.loads(ans.content.replace('```json\\n','').replace('\\n```',''))"
   ],
   "id": "ea9690beb112cec0",
   "outputs": [
    {
     "data": {
      "text/plain": [
       "{'rephrased_question': 'What special thing do you get for top scores on all 35 extra games?'}"
      ]
     },
     "execution_count": 38,
     "metadata": {},
     "output_type": "execute_result"
    }
   ],
   "execution_count": 38
  },
  {
   "metadata": {
    "ExecuteTime": {
     "end_time": "2025-05-21T16:24:48.974893Z",
     "start_time": "2025-05-21T16:24:48.968953Z"
    }
   },
   "cell_type": "code",
   "source": [
    "for d in data:\n",
    "    if 'rephrased_question' not in d:\n",
    "        question = d['question'].replace('\"', \"'\")\n",
    "        print(question)\n",
    "        ans = model.respond(getq(f'\"{question}\"'))\n",
    "        try:\n",
    "            res = json.loads(ans.content.replace('```json\\n','').replace('\\n```',''))\n",
    "            d['rephrased_question'] = get_param(res, 'rephrased_question|output', \"\")\n",
    "            print(f\"out: {d['rephased_question']}\")\n",
    "        except Exception as e:\n",
    "            print(f\"Failed the question '{d['question']}' with the output '{ans.content}': e\")\n"
   ],
   "id": "adc6fa19673a38a4",
   "outputs": [],
   "execution_count": 43
  },
  {
   "metadata": {
    "ExecuteTime": {
     "end_time": "2025-05-21T16:25:59.533955Z",
     "start_time": "2025-05-21T16:25:59.522793Z"
    }
   },
   "cell_type": "code",
   "source": "[d['rephrased_question'] for d in data if d['question'].find(\"Train leaving\")>=0]",
   "id": "ed2c30575d0b97f7",
   "outputs": [
    {
     "data": {
      "text/plain": [
       "[\"Why is the 'Train leaving on track five' joke important for Jack Benny's radio shows?\"]"
      ]
     },
     "execution_count": 45,
     "metadata": {},
     "output_type": "execute_result"
    }
   ],
   "execution_count": 45
  },
  {
   "metadata": {},
   "cell_type": "code",
   "outputs": [],
   "execution_count": null,
   "source": "",
   "id": "8201559dec28bbc4"
  }
 ],
 "metadata": {
  "kernelspec": {
   "display_name": "Python 3",
   "language": "python",
   "name": "python3"
  },
  "language_info": {
   "codemirror_mode": {
    "name": "ipython",
    "version": 2
   },
   "file_extension": ".py",
   "mimetype": "text/x-python",
   "name": "python",
   "nbconvert_exporter": "python",
   "pygments_lexer": "ipython2",
   "version": "2.7.6"
  }
 },
 "nbformat": 4,
 "nbformat_minor": 5
}
