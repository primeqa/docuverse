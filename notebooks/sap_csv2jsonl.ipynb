{
 "cells": [
  {
   "cell_type": "code",
   "id": "d7b0ddecb8de3b81",
   "metadata": {
    "ExecuteTime": {
     "end_time": "2025-03-08T20:43:29.213240Z",
     "start_time": "2025-03-08T20:43:28.879940Z"
    }
   },
   "source": [
    "import pandas as pd\n",
    "import json\n",
    "from csv import reader, writer\n",
    "import os\n",
    "from copy import deepcopy"
   ],
   "outputs": [],
   "execution_count": 2
  },
  {
   "metadata": {
    "ExecuteTime": {
     "end_time": "2025-03-08T20:43:29.448517Z",
     "start_time": "2025-03-08T20:43:29.446443Z"
    }
   },
   "cell_type": "code",
   "source": [
    "dir=\"../benchmark/sap\"\n",
    "file=\"benchmark_v5_fixed_filtered.csv\"\n",
    "out_file=\"benchmark_v5_fixed_filtered.jsonl\""
   ],
   "id": "3eec5052a6b3eff6",
   "outputs": [],
   "execution_count": 3
  },
  {
   "metadata": {
    "ExecuteTime": {
     "end_time": "2025-03-08T20:43:32.250626Z",
     "start_time": "2025-03-08T20:43:32.236959Z"
    }
   },
   "cell_type": "code",
   "source": [
    "r=reader(open(os.path.join(dir, file), \"r\"), delimiter=\",\")\n",
    "data=[l for l in r]\n"
   ],
   "id": "104f55228002d286",
   "outputs": [],
   "execution_count": 4
  },
  {
   "metadata": {
    "ExecuteTime": {
     "end_time": "2025-03-08T20:43:34.122304Z",
     "start_time": "2025-03-08T20:43:34.118499Z"
    }
   },
   "cell_type": "code",
   "source": [
    "res=[]\n",
    "seen = {}\n",
    "for d in data:\n",
    "    d1 = deepcopy(d)\n",
    "    if d1[0] not in seen:\n",
    "        seen[d1[0]]=True\n",
    "        if d1[0]=='Count':\n",
    "            d1.append(\"relevant\")\n",
    "        else:\n",
    "            o = []\n",
    "            for i in range(5,8):\n",
    "                if d1[i]!='':\n",
    "                    o.append(d1[i].replace(\"loio\", \"\"))\n",
    "            d1.append(o)\n",
    "        #print(d1)\n",
    "        res.append(d1)"
   ],
   "id": "1795aeee62f3e737",
   "outputs": [],
   "execution_count": 5
  },
  {
   "metadata": {
    "ExecuteTime": {
     "end_time": "2025-03-08T20:43:35.494625Z",
     "start_time": "2025-03-08T20:43:35.492110Z"
    }
   },
   "cell_type": "code",
   "source": "print(res[22][8])",
   "id": "b4f96ca1a7bd67b8",
   "outputs": [
    {
     "name": "stdout",
     "output_type": "stream",
     "text": [
      "['c7d62b73f58a44159205443fa6dc86bb', '697779bb6c49101492e7c766a746ffe7']\n"
     ]
    }
   ],
   "execution_count": 6
  },
  {
   "metadata": {
    "ExecuteTime": {
     "end_time": "2025-03-08T20:43:36.965073Z",
     "start_time": "2025-03-08T20:43:36.902096Z"
    }
   },
   "cell_type": "code",
   "source": [
    "with open(os.path.join(dir, out_file), \"w\") as out:\n",
    "    headers = res[0]\n",
    "    for d in res[1:]:\n",
    "        out.write(json.dumps({headers[i]:d[i] for i in range(0,9)})+\"\\n\")"
   ],
   "id": "7a04ab29de0adf77",
   "outputs": [],
   "execution_count": 7
  },
  {
   "metadata": {
    "ExecuteTime": {
     "end_time": "2025-03-08T20:43:53.892934Z",
     "start_time": "2025-03-08T20:43:53.890802Z"
    }
   },
   "cell_type": "code",
   "source": "print(res[22][8])",
   "id": "fecf84c217b923c6",
   "outputs": [
    {
     "name": "stdout",
     "output_type": "stream",
     "text": [
      "['c7d62b73f58a44159205443fa6dc86bb', '697779bb6c49101492e7c766a746ffe7']\n"
     ]
    }
   ],
   "execution_count": 9
  },
  {
   "metadata": {},
   "cell_type": "code",
   "outputs": [],
   "execution_count": null,
   "source": "",
   "id": "55b0653e40763269"
  }
 ],
 "metadata": {
  "kernelspec": {
   "display_name": "Python 3",
   "language": "python",
   "name": "python3"
  },
  "language_info": {
   "codemirror_mode": {
    "name": "ipython",
    "version": 2
   },
   "file_extension": ".py",
   "mimetype": "text/x-python",
   "name": "python",
   "nbconvert_exporter": "python",
   "pygments_lexer": "ipython2",
   "version": "2.7.6"
  }
 },
 "nbformat": 4,
 "nbformat_minor": 5
}
