{
 "cells": [
  {
   "cell_type": "code",
   "id": "d7b0ddecb8de3b81",
   "metadata": {
    "ExecuteTime": {
     "end_time": "2025-03-13T19:37:10.871273Z",
     "start_time": "2025-03-13T19:37:10.554865Z"
    }
   },
   "source": [
    "import pandas as pd\n",
    "import json\n",
    "from csv import reader, writer\n",
    "import os\n",
    "from copy import deepcopy"
   ],
   "outputs": [],
   "execution_count": 1
  },
  {
   "metadata": {
    "ExecuteTime": {
     "end_time": "2025-03-13T19:37:10.885814Z",
     "start_time": "2025-03-13T19:37:10.882646Z"
    }
   },
   "cell_type": "code",
   "source": [
    "dir=\"../benchmark/sap\"\n",
    "# file=\"benchmark_v5_fixed_filtered.csv\"\n",
    "file=\"v5_test_benchmark.csv\"\n",
    "out_file=\"v5_test_benchmark.jsonl\""
   ],
   "id": "3eec5052a6b3eff6",
   "outputs": [],
   "execution_count": 2
  },
  {
   "metadata": {
    "ExecuteTime": {
     "end_time": "2025-03-13T19:41:50.090944Z",
     "start_time": "2025-03-13T19:41:50.086682Z"
    }
   },
   "cell_type": "code",
   "source": [
    "r=reader(open(os.path.join(dir, file), \"r\"), delimiter=\",\")\n",
    "data=[l for l in r]\n"
   ],
   "id": "104f55228002d286",
   "outputs": [],
   "execution_count": 20
  },
  {
   "metadata": {
    "ExecuteTime": {
     "end_time": "2025-03-13T19:49:59.904371Z",
     "start_time": "2025-03-13T19:49:59.900672Z"
    }
   },
   "cell_type": "code",
   "source": [
    "res=[]\n",
    "seen = {}\n",
    "for d in data:\n",
    "    d1 = deepcopy(d)\n",
    "    if d1[0] not in seen:\n",
    "        seen[d1[0]]=True\n",
    "        if d1[0]=='Count':\n",
    "            d1.append(\"relevant\")\n",
    "        else:\n",
    "            o = []\n",
    "            for i in range(6,9):\n",
    "                if d1[i]!='':\n",
    "                    o.append(d1[i].replace(\"loio\", \"\"))\n",
    "            d1.append(o)\n",
    "        #print(d1)\n",
    "        res.append(d1)"
   ],
   "id": "1795aeee62f3e737",
   "outputs": [],
   "execution_count": 28
  },
  {
   "metadata": {
    "ExecuteTime": {
     "end_time": "2025-03-13T19:50:01.432148Z",
     "start_time": "2025-03-13T19:50:01.428465Z"
    }
   },
   "cell_type": "code",
   "source": "res[0]",
   "id": "b4f96ca1a7bd67b8",
   "outputs": [
    {
     "data": {
      "text/plain": [
       "['Count',\n",
       " 'index',\n",
       " 'Category',\n",
       " 'Gold Answer',\n",
       " 'Product',\n",
       " 'Question',\n",
       " 'loio 1',\n",
       " 'loio 2',\n",
       " 'loio 3',\n",
       " 'relevant']"
      ]
     },
     "execution_count": 29,
     "metadata": {},
     "output_type": "execute_result"
    }
   ],
   "execution_count": 29
  },
  {
   "metadata": {
    "ExecuteTime": {
     "end_time": "2025-03-13T19:50:02.680951Z",
     "start_time": "2025-03-13T19:50:02.676132Z"
    }
   },
   "cell_type": "code",
   "source": [
    "with open(os.path.join(dir, out_file), \"w\") as out:\n",
    "    headers = res[0]\n",
    "    for d in res[1:]:\n",
    "        out.write(json.dumps({headers[i]:d[i] for i in range(0,len(res[0]))})+\"\\n\")"
   ],
   "id": "7a04ab29de0adf77",
   "outputs": [],
   "execution_count": 30
  },
  {
   "metadata": {
    "ExecuteTime": {
     "end_time": "2025-03-13T19:42:50.900370Z",
     "start_time": "2025-03-13T19:42:50.897327Z"
    }
   },
   "cell_type": "code",
   "source": "headers",
   "id": "fecf84c217b923c6",
   "outputs": [
    {
     "data": {
      "text/plain": [
       "['Count',\n",
       " 'index',\n",
       " 'Category',\n",
       " 'Gold Answer',\n",
       " 'Product',\n",
       " 'Question',\n",
       " 'loio 1',\n",
       " 'loio 2',\n",
       " 'loio 3',\n",
       " 'relevant']"
      ]
     },
     "execution_count": 24,
     "metadata": {},
     "output_type": "execute_result"
    }
   ],
   "execution_count": 24
  },
  {
   "metadata": {
    "ExecuteTime": {
     "end_time": "2025-03-13T19:45:55.186603Z",
     "start_time": "2025-03-13T19:45:55.183961Z"
    }
   },
   "cell_type": "code",
   "source": "headers[9]",
   "id": "55b0653e40763269",
   "outputs": [
    {
     "data": {
      "text/plain": [
       "'relevant'"
      ]
     },
     "execution_count": 26,
     "metadata": {},
     "output_type": "execute_result"
    }
   ],
   "execution_count": 26
  },
  {
   "metadata": {},
   "cell_type": "code",
   "outputs": [],
   "execution_count": null,
   "source": "",
   "id": "7eb82371894355ac"
  }
 ],
 "metadata": {
  "kernelspec": {
   "display_name": "Python 3",
   "language": "python",
   "name": "python3"
  },
  "language_info": {
   "codemirror_mode": {
    "name": "ipython",
    "version": 2
   },
   "file_extension": ".py",
   "mimetype": "text/x-python",
   "name": "python",
   "nbconvert_exporter": "python",
   "pygments_lexer": "ipython2",
   "version": "2.7.6"
  }
 },
 "nbformat": 4,
 "nbformat_minor": 5
}
