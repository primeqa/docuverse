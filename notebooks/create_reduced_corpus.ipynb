{
 "cells": [
  {
   "cell_type": "code",
   "execution_count": null,
   "id": "initial_id",
   "metadata": {
    "collapsed": true
   },
   "outputs": [],
   "source": [
    ""
   ]
  },
  {
   "metadata": {},
   "cell_type": "markdown",
   "source": [
    "# Create small difficult corpus\n",
    " Notebook to create a small, yet difficult corpus, for quick experimentation. In many cases, there are a lot of documents to search through, and indexing these documents with various methods can take a very long time. To avoid lenghty experiments, yet making sure that the corpus oen searches through is \"hard\", this notebook creates a small corpus (e.g. 10000 documents) that contain:\n",
    "  * all goldstandard documents\n",
    "  * top 100 documents per query (obtained with some method - could be the model itself, another model, or bm25)\n",
    "  * other random documents to pad to the desired size"
   ],
   "id": "81ff770b8fb12f30"
  },
  {
   "metadata": {
    "ExecuteTime": {
     "end_time": "2025-02-15T05:53:09.330166Z",
     "start_time": "2025-02-15T05:53:07.455984Z"
    }
   },
   "cell_type": "code",
   "source": [
    "from docuverse.utils import open_stream, read_config_file\n",
    "from docuverse.engines.search_engine import SearchEngine\n",
    "import os\n",
    "import orjson\n",
    "from  tqdm import tqdm_notebook as tqdm"
   ],
   "id": "a5b5e20f984f889",
   "outputs": [],
   "execution_count": 3
  },
  {
   "metadata": {
    "ExecuteTime": {
     "end_time": "2025-02-15T05:53:23.171190Z",
     "start_time": "2025-02-15T05:53:22.817572Z"
    }
   },
   "cell_type": "code",
   "source": [
    "data_dir=\"/home/raduf/sandbox2/docuverse/benchmark/ibm_search\"\n",
    "query_file = os.path.join(data_dir, \"question_test_config.json\")\n",
    "corpus_file = os.path.join(data_dir, \"corpus.jsonl.bz2\")\n",
    "query_config = read_config_file(query_file)\n",
    "query_json = query_config['question_file']\n",
    "goldstandard = query_config['goldstandard_file']\n",
    "top100 = \"/home/raduf/sandbox2/docuverse/output/\""
   ],
   "id": "f8fcaf089b7d0265",
   "outputs": [],
   "execution_count": 4
  },
  {
   "metadata": {
    "ExecuteTime": {
     "end_time": "2025-02-15T05:53:32.088328Z",
     "start_time": "2025-02-15T05:53:23.181410Z"
    }
   },
   "cell_type": "code",
   "source": [
    "config_file = os.path.join(\"/home/raduf/sandbox2/docuverse/experiments/unified_search/ibmsw_milvus_dense.snowlake-m.test.yaml\")\n",
    "engine = SearchEngine(config_file)"
   ],
   "id": "939427f33b966659",
   "outputs": [
    {
     "name": "stdout",
     "output_type": "stream",
     "text": [
      "Running on the gpus:  \u001B[1;31m['NVIDIA GeForce RTX 4090']\u001B[0m\n"
     ]
    },
    {
     "name": "stderr",
     "output_type": "stream",
     "text": [
      "/home/raduf/miniforge3/envs/docuverse/lib/python3.10/site-packages/huggingface_hub/file_download.py:1132: FutureWarning: `resume_download` is deprecated and will be removed in version 1.0.0. Downloads always resume when possible. If you want to force a new download, use `force_download=True`.\n",
      "  warnings.warn(\n"
     ]
    },
    {
     "name": "stdout",
     "output_type": "stream",
     "text": [
      "=== done initializing model\n"
     ]
    }
   ],
   "execution_count": 5
  },
  {
   "metadata": {
    "ExecuteTime": {
     "end_time": "2025-02-15T05:54:33.300486Z",
     "start_time": "2025-02-15T05:54:32.135427Z"
    }
   },
   "cell_type": "code",
   "source": [
    "for i, line in enumerate(open_stream(corpus_file)):\n",
    "    # print(line)\n",
    "    print(orjson.loads(line))\n",
    "    if i==10:\n",
    "        break"
   ],
   "id": "c4facedbc364186b",
   "outputs": [
    {
     "name": "stdout",
     "output_type": "stream",
     "text": [
      "{'title': 'aclput Command', '_id': '1', 'text': 'aclput Command Purpose Sets the access control information of a file. Syntax aclput [ -i inAclFile ] [ -R ] [ -t acl_type ] [ -v ]FileObject Description The aclput command sets the access control information of the file object that is specified by the FileObject parameter. The command reads standard input for the access control information, unless you specify the -i flag. Note: If you are reading from standard input your entries must match the expected format of the access control information or you get an error message. Use the Ctrl-D key sequence to complete the session. Access Control List Access Control Lists form the core of protection for file system objects. Each file system object is uniquely associated with one piece of data, called ACL that defines the access rights to the object. ACL might consist of multiple Access Control Entries (ACEs), each defining one particular set of access rights for a user. Typically, ACE consists of information such as identification (to whom this ACE applies) and access rights (allow-read, deny-write). ACE might also capture information such as inheritance flags and alarm and audit flags. The format and enforcement of ACL data is entirely dependent on the ACL type in which they are defined. AIX® provides for existence of multiple ACL types on the operating system. The list of ACLs supported by a file system instance depends on the physical file system implementation for that file system instance. Flags Table 1. Flags Item Description -i inAclFile Specifies the input file for access control information. If the access control information in the file that is specified by the InAclFile parameter is not correct, when you try to apply it to a file, an error message that is preceded by an asterisk is added to the input file. Note: The size of the ACL information depends on the ACL type. -R Apply ACL to this directory and its children file system objects recursively. -t ACL_type Specifies the ACL type of the ACL information that is displayed. If option is not provided, the actual ACL data in its original ACL type is displayed. The supported ACL types are ACLX and NFS4. -v Verbose option. This option displays many comment lines as part of the ACL data display. This comment might help in understanding the details of complex ACL types. Security Access Control This command should be a standard user program and have the trusted computing base attribute. Auditing Events If the auditing subsystem is properly configured and is enabled, the aclput command generates the following audit record or event every time the command is run: Event Information FILE_WriteXacl Modification to access controls. RBAC users Attention RBAC users: This command can perform privileged operations. Only privileged users can run privileged operations. For more information about authorizations and privileges, see Privileged Command Database in Security. For a list of privileges and the authorizations that are associated with this command, see the lssecattr command or the getcmdattr subcommand. Examples To set the access control information for the status file with information from standard input, enter: aclput status attributes: SUID and then press the Ctrl-D sequence to exit the session. To set the access control information for the status file with information stored in the acldefs file, enter: aclput -i acldefs status To set the access control information for the status file with the same information used for the plans file, enter: aclget plans | aclput status To set the access control information for the status file with an edited version of the access control information for the plans file, you must enter two commands. First, enter: aclget -o acl plans This stores the access control information for the plans file in the acl file. Edit the information in the acl file by using your favorite editor. Then, enter: aclput -i acl status This second command takes the access control information in the acl file and puts it on the status file. Files Table 2. Files Item Description /usr/bin/aclput Contains the aclput command. Parent topic: a Related reference aclget Command auditpr Command Related information chmod Command Securing the network', 'metadata': {'url': 'https://www.ibm.com/docs/en/ssw_aix_73/a_commands/aclput.html', 'description': 'aclput Command Purpose Sets the access control information of a file. Syntax aclput [ -i inAclFile ] [ -R ] [ -t acl_type ] [ -v ]FileObject Description The aclput command sets the access control information of the file object that is specified by the FileObject parameter. The command reads standard input for the access control information, unless you specify the -i flag. Note: If you are reading ...', 'dcc': ['SSAUMY'], 'chunk_num': 1}}\n",
      "{'title': 'Uninitializing diskless and dataless machines', '_id': '2', 'text': 'Uninitializing diskless and dataless machines Diskless and dataless machines are uninitialized by performing the reset operation. The reset operation also provides the option to deallocate all resources for the machine. Deallocating all resources from the diskless or dataless machine removes all root data for the machine. Without deallocating resources, the uninitialize operation deallocates just the network boot image. Uninitializing diskless and dataless machines using SMIT Follow this procedure for uninitializing diskless and dataless machines using SMIT. Uninitializing diskless and dataless machines from the command line Follow this procedure for uninitializing diskless and dataless machines from the command line. Parent topic: Configuring NIM', 'metadata': {'url': 'https://www.ibm.com/docs/en/aix/7.3?topic=nim-uninitializing-diskless-dataless-machines', 'description': 'Uninitializing diskless and dataless machines Diskless and dataless machines are uninitialized by performing the reset operation. The reset operation also provides the option to deallocate all resources for the machine. Deallocating all resources from the diskless or dataless machine removes all root data for the machine. Without deallocating resources, the uninitialize operation deallocates just ...', 'dcc': ['SSAUMY'], 'chunk_num': 1}}\n",
      "{'title': 'Adding HMC management objects to the NIM environment', '_id': '3', 'text': 'Adding HMC management objects to the NIM environment Follow the instructions to add a Hardware Management Console management object. HMC object represents a Hardware Management Console (HMC) system. To add an HMC object, the operation requires the dsm.core fileset to be installed on the NIM master. To add an HMC object from the command line, follow these steps: Create an encrypted password file that contains the login ID and related password on the NIM master to access the HMC. It must be created using the dpasswd command from the dsm.core fileset. If you do not want the password displayed in clear text, exclude the -P parameter and the dpasswd command will prompt for the password. # dpasswd -f EncryptedPasswordFilePath -U hmcLogin -P hmcPassword Pass the encrypted password file in the passwd_file attribute by using the define command of the HMC. # nim -o define -t hmc -a passwd_file=EncryptedPasswordFilePath \\\\ -a if1=InterfaceDescription \\\\ -a net_definition=DefinitionName \\\\ HMCName If the network object that describes the network mask and the gateway used by HMC does not exist, use the net_definition attribute. After you remove the HMC objects, the file specified by the passwd_file attribute must be removed manually. Example To add an HMC object with the host name hmc1 that has the following configuration: host name=hmc1 password file path=/etc/ibm/sysmgt/dsm/config/hmc1 network type=ethernet subnet mask=255.255..240.0 default gateway=gw1 default gateway used by NIM master=gw_maste Enter the following command: # nim -o define -t hmc -a passwd_file=/etc/ibm/sysmgt/dsm/config/hmc1 \\\\ -a if1=\"find_net hmc1 0\" \\\\ -a net_definition=\"ent 255.255.240.0 gw1 gw_master\" hmc1 For additional information, see/opt/ibm/sysmgt/dsm/doc/dsm_tech_note.pdf of the dsm.core fileset. Parent topic: Adding a management object to the NIM environment', 'metadata': {'url': 'https://www.ibm.com/docs/en/aix/7.3?topic=environment-adding-hmc-management-objects-nim', 'description': 'Adding HMC management objects to the NIM environment Follow the instructions to add a Hardware Management Console management object. HMC object represents a Hardware Management Console (HMC) system. To add an HMC object, the operation requires the dsm.core fileset to be installed on the NIM master. To add an HMC object from the command line, follow these steps: Create an encrypted password file ...', 'dcc': ['SSAUMY'], 'chunk_num': 1}}\n",
      "{'title': 'Software licensing', '_id': '4', 'text': 'Software licensing The types of software licensing that can be implemented in the software purchase are run-time licensing and acceptance of software license agreements. Normally, software requiring run-time licenses is only selected for installation when you have a license to use that software. Although the System Management Interface Tool (SMIT) allow you to install licensed software even if you do not own a license, you might be prevented from using the newly installed software until you have obtained the appropriate license. Accepting software license agreements requires that the license agreement be accepted as part of the installation process. If software installed as part of your BOS installation requires accepting a software license agreement, you cannot exit the Configuration Assistant (or the Installation Assistant for non-graphics consoles) until the license agreement has been accepted. You can view as well as accept the license agreement. The BOS installation can be customized to automatically accept software licenses. For more information, refer to Customizing your installation . For optional software installation, you can preview the license agreements on the installation media using the smit license_on_media fast path or the installp -El command. During the installation process, you can use the menu item to accept the software license, or you can use the installp command with the -Y flag. To view accepted license agreements on a system, you can use the SMIT smit installed_license fast path or the lslpp -E command. When a product is uninstalled, the license agreement acceptance is changed to the inactive state. If the product is reinstalled, you will not be prompted to reaccept the license agreement. After completing the prerequisites in the next section, your next step is deciding whether to install software with SMIT. Descriptions of both applications are included in this chapter. Before you install optional software and service updates, refer to the specific instructions that accompany your installation media. If you ever need to reinstall your system, refer to the installation media instructions. > Note: For information about developing software products that are installed using the installp command, refer to > > Packaging Software for Installation > > in General Programming Concepts: Writing and Debugging Programs. Parent topic: Optional products and service updates', 'metadata': {'url': 'https://www.ibm.com/docs/en/aix/7.3?topic=updates-software-licensing', 'description': 'Software licensing The types of software licensing that can be implemented in the software purchase are run-time licensing and acceptance of software license agreements. Normally, software requiring run-time licenses is only selected for installation when you have a license to use that software. Although the System Management Interface Tool (SMIT) allow you to install licensed software even if ...', 'dcc': ['SSAUMY'], 'chunk_num': 1}}\n",
      "{'title': 'Using response files with NIM', '_id': '5', 'text': 'Using response files with NIM If you are using NIM to install an ISMP-packaged product on one or more NIM clients, you can create and use a separate response file for each client. Separate response files are useful when properties of the installation operation must be configured differently for each client. In order to install multiple clients, you must name each response file CLIENT_NAME.response. These response files must be located in the default location (the same location as the product installer files). For example, to install the MyProduct ISMP-packaged product located in an lpp_source resource in the /export/lpp_source/lpp_source1/ismp/ppc/MyProduct directory on the CLIENT1 and CLIENT2 clients, do the following: Create a CLIENT1.response and CLIENT2.response response file. Place the response files in the /export/lpp_source/lpp_source1/ismp/ppc/MyProduct directory. Create the correct responses for each client in the corresponding response file. When you run the NIM cust operation to install the MyProduct ISMP-packaged product on CLIENT1 and CLIENT2, the response files are used automatically and appropriately for each client. If you want to use the same response file for all clients, name the response file PRODUCT_NAME.response and place in the same default location as the ISMP-packaged product (the product location in the lpp_source resource). For example, create a response file called MyProduct.response in the /export/lpp_source/lpp_source1/ismp/ppc/MyProduct/ directory. If there are no client response files when you perform the NIM cust operation, the MyProduct.response file is used automatically. Parent topic: Using InstallShield MultiPlatform', 'metadata': {'url': 'https://www.ibm.com/docs/en/aix/7.3?topic=multiplatform-using-response-files-nim', 'description': 'Using response files with NIM If you are using NIM to install an ISMP-packaged product on one or more NIM clients, you can create and use a separate response file for each client. Separate response files are useful when properties of the installation operation must be configured differently for each client. In order to install multiple clients, you must name each response file ...', 'dcc': ['SSAUMY'], 'chunk_num': 1}}\n",
      "{'title': 'IAYAD0193E', '_id': '6', 'text': 'IAYAD0193E Failed to update security configuration. The root certificate is not part of the certificate chain in the certificate file. Explanation This specific error occurs on the Security page when security is enabled. It indicates that no root certificate is found in the uploaded .crt file. System actionThe IBM AD product might not work as expected. User response Follow Export the certificate and private key to run the export certificate command through the Command Prompt before you upload the certificate file. Parent topic: IBM AD Configuration Sever Messages', 'metadata': {'url': 'https://www.ibm.com/docs/en/addi/6.1.2?topic=messages-iayad0193e', 'description': 'IAYAD0193E Failed to update security configuration. The root certificate is not part of the certificate chain in the certificate file. Explanation This specific error occurs on the Security page when security is enabled. It indicates that no root certificate is found in the uploaded .crt file. System actionThe IBM AD product might not work as expected. User response Follow Export the certificate ...', 'dcc': ['SSRR9Q'], 'chunk_num': 1}}\n",
      "{'title': 'Safety and environmental notices', '_id': '7', 'text': 'Safety and environmental notices This section contains information about safety notices that are used in this guide and environmental notices for this product. Safety labels Safety notices This publication contains the safety notices for the IBM Systems products in English and other languages. The safety notices include danger and caution notices. Anyone who plans, installs, operates, or services the system must be familiar with and understand the safety notices. Read the related safety information before beginning work. Environmental notices This information contains all the required environmental notices for IBM Systems products in English and other languages. ESD procedures When you service this computer, always wear an electrostatic discharge (ESD) wrist strap that is properly connected to the rack frame or enclosure sheet metal. The strap prevents possible damage to the hardware, and decreases any possible impact to customer operations. How to attach the ESD wrist strap Follow these steps to attach an electrostatic discharge (ESD) wrist strap. Parent topic: Notices', 'metadata': {'url': 'https://www.ibm.com/docs/en/tssc?topic=notices-safety-environmental', 'description': 'Safety and environmental notices This section contains information about safety notices that are used in this guide and environmental notices for this product. Safety labels Safety notices This publication contains the safety notices for the IBM Systems products in English and other languages. The safety notices include danger and caution notices. Anyone who plans, installs, operates, or services ...', 'dcc': ['STQRQ9'], 'chunk_num': 1}}\n",
      "{'title': 'Log Settings', '_id': '8', 'text': 'Log Settings About this task Complete this task to download log files. Procedure From the System Console GUI, Select Console Settings > Log Settings. You see the figure as shown in the image below. Figure 1. LOG Settings screen To download any of the log files that are listed in the Log Files to Download area, select the file, then select Download Log Files. To view a select number of lines from a log file, in the Tail Log File area, select a file, then enter the number of lines, and click Tail. Parent topic: Accessing Console Settings', 'metadata': {'url': 'https://www.ibm.com/docs/en/tssc?topic=settings-log', 'description': 'Log Settings About this task Complete this task to download log files. Procedure From the System Console GUI, Select Console Settings > Log Settings. You see the figure as shown in the image below. Figure 1. LOG Settings screen To download any of the log files that are listed in the Log Files to Download area, select the file, then select Download Log Files. To view a select number of lines from ...', 'dcc': ['STQRQ9'], 'chunk_num': 1}}\n",
      "{'title': 'Remote Code Broadcast', '_id': '9', 'text': 'Remote Code Broadcast Before you begin Note: IBM service typically performs this operation and it is recommended that you do not make any changes. This function is deprecated and for TS7700, use MkSysb Broadcast. About this task You can use the web interface to copy control unit code from a source CD or USB that you place in the drive of the TSSC. You then can broadcast this code to another device. Procedure From System Console GUI, select Systems Tools > Remote Code Broadcast.... Select one of the media which has the code you wish to broadcast into the drive of the TSSC. Select Broadcast Code CD Do not overwrite existing controller code if already on this console Select this option if you previously broadcast code to a system using the media that you just inserted into the drive. This eliminates the time it takes to load code from the disc. Note: If the image copy failed, select View the Log File. Retry Broadcast Code after you determine the cause. Delete code images on attached machines to make room for broadcast image Select this option to choose which images you want to delete from the target system. A list displays. To add an image to the target system, ensure that the target system has no more than one image. Note: If you selected \"Delete code images on attached machines to make room for broadcast image\" the screen reloads and refreshes the list of images to delete. Select the images you want to delete. Type in the numbers of the images that you wish to delete. Separate the numbers by spaces (for example, \"0 1 4 5\"). Select Submit Choices. When the code copy completes, a message appears, and prompts you to select which system to broadcast the code image to. You see a box entitled \"Systems for Code Broadcast\" at the bottom of the screen. This box contains a list of the attached systems that can be broadcast to. Table 1 lists the possible status conditions you might anticipate. Select the systems to which you want to broadcast a code image. In the \"Systems for Code Broadcast\" column, type the numbers of the systems, separated by spaces. Leave this field blank if you do not want to broadcast a code image, or you can select the Cancel button. Click on Submit Choices. This can take as long as five minutes per system. The code broadcast will fail if the attached control units are “Unavailable.” If an error occurs, select View the Log File from Remote Code Broadcast screen to determine the failure. If the status is 2+ IMGS (which indicates \"2 or more images\") on the attached system you wish to broadcast to, the image will not broadcast unless you select the \"Delete … \" option depicted in Remote Code Broadcast screen, and you remove the images from the target system. You also can use the following additional options which are depicted in Remote Code Broadcast screen. Option 2: After you select the systems to broadcast and the page reloads, you see a status message at the top of the screen. Use option 2 View the Log File to see the details of the broadcast. This log lists the code that was successfully broadcast and the code that was successfully finalized. If an error occurred, the log file will specify where the load failed. Figure 1 shows you a sample of status in a log file.Figure 1. Remote Code Broadcast Log File Table 1. Code Load Status Messages - From Web Interface. See Figure 1 for an example of broadcast status. Status Meaning OK OK to copy code to attached system NO DIR No temporary directory exists on attached system to copy code into PREV VER The temporary directory on the attached system is not empty NO COMM Unable to communicate with attached system (possibly due to downlevel code on attached system or bad physical connection) NO SPACE Insufficient space on attached system for copying code NO SPC 1 Insufficient space on attached system\\'s gdc file system for copying code NO SPC 2 Insufficient space on attached system\\'s usr file system for copying code NO SPC 3 Insufficient space on attached system\\'s gdc and usr file systems for copying code 2+ IMGS There are two or more code images on the attached system (will not broadcast code unless you remove images by using the \"Delete code images … \" option. NOT OK Unspecified error condition has occurred Option 3, Clear the Log File, deletes the log file and clears this screen. Use this when the previous log file is irrelevant. Only use this option if you no longer need the old log file for reference to an error. Option 4, Eject the Disc, should be used when the disc is no longer in use or when you are attempting to copy the code from the disc for a second time. If the program reports that there is an error mounting the disc, remove and insert the disc again. Parent topic: Maintaining system tools', 'metadata': {'url': 'https://www.ibm.com/docs/en/tssc?topic=tools-remote-code-broadcast', 'description': 'Remote Code Broadcast Before you begin Note: IBM service typically performs this operation and it is recommended that you do not make any changes. This function is deprecated and for TS7700, use MkSysb Broadcast. About this task You can use the web interface to copy control unit code from a source CD or USB that you place in the drive of the TSSC. You then can broadcast this code to another ...', 'dcc': ['STQRQ9'], 'chunk_num': 1}}\n",
      "{'title': 'TSSC Quick Start Guide', '_id': '10', 'text': 'TSSC Quick Start Guide Quick Start Guide This guide is intended to help you install the TSSC and get you started with an initial configuration. Note: TSSC Licensed Materials - Property of IBM. © Copyright IBM Corp. 2023. U.S. Government Users Restricted Rights - Use, duplication or disclosure restricted by GSA ADP Schedule Contract with IBM Corp. IBM, the IBM logo, and ibm.com are trademarks or registered trademarks of International Business Machines Corp., registered in many jurisdictions worldwide. Other product and service names might be trademarks of IBM or other companies. A current list of IBM trademarks is available on the web at Copyright and trademark information ( www.ibm.com/legal/copytrade.shtml ). About this task Product overview The TSSC and the TS4500 integrated management console (IMC) can provide remote support for attached tape systems. Note: All normal service support representative safety practices apply. Ensure that you are aware of the Safety Guidelines and Safety Notices The figure below shows the part numbers and descriptions of the FRUs associated with the TS4500 Integrated Management Console (IMC). Figure 1. TS4500 Tape Library IMC FRUs Procedure Install the cables. For TSSC. (TS7770 comes with a TSSC already installed within the frame) Verify that all existing cable connections are attached, as shown in figure 2 .Figure 2. 7063-CR2 (p9) port locations and definitions . Connect the external cables as shown in figure 2 . (Call Home and optional AOTM) (Polywell only) Ensure that the TSSC tray assembly is fully extended at the front of the rack before routing the cables through the cable management arm. For TSSC (in TS4500). The IMC arrives from manufacturing with all cables connected. Verify that all existing cable connections are attached.Figure 3. Polywell For Diamondback. A rackmount 7063-CR2 (p9) based TSSC is provided with FC 2726. Install the 7063-CR2 (p9) TSSC in the customer provided rack. Verify all existing cable connections are attached, as shown in the 7063-CR2 (p9) port locations and definitions figure. Figure 4. 7063-CR2 (p9) port locations and definitions For IMC and TSSC ensure that the library power and the frame power are present respectively. TheTSSC only has power when the TS4500 is powered on. If the TS4500 is not powered on, complete the following steps to power on the library: Access the display panel on the base frame of the library and slide the plastic cover upwards that protects the power button. Press the power button and make-sure that the green power indicator turn on and stay on. If not, contact your IBM service representative. When you power on the library, it runs an initialization sequence for about 2 minutes. During that time the TS4500 management GUI is not available. When the TSSC completes the power on process the TS4500 management GUI is displayed on a web browser in kiosk mode on the side library monitor. Kiosk mode means that the menu bar, address bar, and stop and reload buttons of the browser are disabled. Switch from the TS4500 GUI to the TSSC GUI by closing the web browser. If the monitor presents the TSSC login screen at startup, this is an indication of a bad connection between the IMC and the library LCC. Note: This can happen if the library is not ready to communicate before the PC. To resolve the issue, power cycle the PC that uses the GUI. If it continues to fail to start the kiosk mode, this is an indication of a problem. Power on the TSSC/IMC Locate the power button for the TSSC/IMC. For Polywell, locate the power button 1 , use Figure 5 . Figure 5. Power button for Polywell Note: A pen or pencil can be used to press the power button. For 7063-CR2 (p9), locate the power button (6), use Figure 5. Figure 6. Power button for 7063-CR2 (p9) Note: The power button/green LED indicator (6) in Figure 5 indicates the power status of the 7063-CR2 (p9). The LED flashes when the BMC is on standby, and turns solid when the system is running. Power on the TSSC by pressing the power button. Log in to the system console Attention: A new Challenger/Response method for logging in to the system is used with 8.54.1.x. The Local Service access remains the same; however, all other login requires the use of the following servers to get a Response for the Challenge key: https://rsc1.tms.stglabs.ibm.com/ https://rsc2.tms.stglabs.ibm.com/ https://rsc3.tms.stglabs.ibm.com/ The system console is ready for user login when you see the System Console Login screen. In the Login field, type service and press Enter. In the Password field type service and press Enter. Perform the initial configuration. The first time that you log in to the system console, you are guided through an initial configuration to confirm or enter required settings. Note: Until this is performed, you will be unable to reach the Console Configuration Utility. Select either TS7700 First Time Install or Console Code Upgrade/TS4500 or Diamondback First Time Install. The Console Time page is displayed. Configure or confirm the settings on the Console Time page and click NEXT >>. Continue to configure or confirm the settings on each of the following pages and click NEXT >> to advance through each page. Note: The page titles might be different depending on code level. Time / Date / NTP IP Address Settings Attached Systems Machine Settings Call Home Settings Location Settings AOS Settings Remote Support Center ECuRep Settings Test ECC Connectivity Test CSP Connection Patch Installation Click the HERE hyperlink above the << PREV and NEXT >> buttons to end the initial configuration. Important: You must complete this step to successfully complete the initial configuration. Attention: For a TSSC in a TS7700, additional steps are needed to fully configure the TSSC. See TS7700 Installation roadmap. What to do next More information Table 1. FRU list FRU Part Number Units Description TSSC in TS4500 TSSC Rack Mount 02AT999 1 7063-CR2 (p9) TSSC (Mowgli) x 03JP037 1 UPG Monitor 18.5 w Keyboard & Integrated Mouse x 03GM955 1 Rail Kit x 39M5508 2 Pwr Cord x 02CE823 1 Bracket, left monitor x 02CE824 1 Bracket, right monitor x 39M5546 1 Pwr Cord 2.5 Meter C5-C14 x 40K8855 6 Clip x 40K8861 6 Screw, M6x16 x 46K4283 4 Screw, M6x x 74F1823 4 Nutclip M5 x 1622305 4 Washer, for square holed rack x 1622306 6 Washer, for square holed rack x 02XY898 1 TSSC v9.4 Code on USB x 03FP372 2 TSSC Power Supply x 03GM774 5 TSSC Fan x 78P7429 1 Optional USB Module x (7063-CR2 (p9) and Polywell) 01PL524 1 Cable, USB to 9pin Serial x x 12X4665 1 Cable, 3.2 Meter Ethernet x x 46K5108 1 Cable, Serial Dongal RJ45 x x 38L6344 1 Cable, Null Modem x x ( Polywell ) 02XX134 1 Polywell Model HM170L4 PC x x 02XW787 1 Polywell Model HM170L4 Power Brick x x 12X4666 3 Cable, 3.2 Meter Ethernet x x 2727450 3 Cable 18 in., extension USB 3.0 to USB 3.0 x 38L6965 1 Optical DVD Drive ( Worldwide - excluding UK ) x x 02XY836 1 Optical DVD Drive ( UK only ) x x 01EM943 1 Power cord C5-C14 2.5 meters ( Worldwide- excluding India ) x x 49Y4831 1 Cable Management Arm x 03JP037 1 UPG Monitor 18.5 w Keyboard & Integrated Mouse x 69Y5085 1 Slide set, Left-Right x 00VJ489 1 VGA 4ft Cable x 02XW194 1 IMC Keyboard x 02XX424 1 IMC Monitor, internal x 95P9290 2 Keyboard Tray Latch x 02CE454 2 USB Monitor Cable x 02PY478 1 Monitor Power Supply x For more information, see the following resources: IBM TSSC Service documentation: https://ibmdocs-test.dcs.ibm.com/docs/en/IBM_TSSC_Service_test IBM TSSC Customer documentation: https://www.ibm.com/docs/en/tssc IBM TS7700 Service documentation: https://ibmdocs-test.dcs.ibm.com/docs/en/TS7700_Service_Documentation_test IBM TS4500 Service documentation: https://www.ibm.com/docs/en/ts4500-tape-library IBM Diamondback documentation: https://www.ibm.com/docs/en/diamondback', 'metadata': {'url': 'https://www.ibm.com/docs/en/tssc?topic=tssc-quick-start-guide', 'description': 'TSSC Quick Start Guide Quick Start Guide This guide is intended to help you install the TSSC and get you started with an initial configuration. Note: TSSC Licensed Materials - Property of IBM. © Copyright IBM Corp. 2023. U.S. Government Users Restricted Rights - Use, duplication or disclosure restricted by GSA ADP Schedule Contract with IBM Corp. IBM, the IBM logo, and ibm.com are trademarks or ...', 'dcc': ['STQRQ9'], 'chunk_num': 1}}\n",
      "{'title': 'Managing IBM Documentation', '_id': '11', 'text': 'Managing IBM Documentation About this task Note: IBM service typically performs this operation and it is recommended that you do not make any changes. You can use the web interface to add the IBM Documentation, to launch the IBM Documentation, or to delete an IBM Documentation level from the system console. To access Manage IBM Documentation, from System Console GUI, select System Tools > Manage IBM Documents. Import IBM Documentation Click Import IBM Documents from CD or Import IBM Documentation from USB from the System Tools page based on the type of media you wish to import from. A terminal page appears and prompts you to insert the IBM Documentation media device. Insert the CD-ROM or USB for the desired product, and press Enter. You can now launch the IBM Documentation. Launching IBM Documentation Use this procedure to launch IBM Documentation after importing the media, see Import IBM Documentation to import IBM Documentation. Click Launch IBM Documents from System Tools page. A browser window appears. You can select your appropriate topic or use the search box to navigate through the information. Deleting IBM Documentation Use this procedure to delete an IBM Documentation level. Click Delete IBM Documents from System Tools page. A terminal screen appears displaying the different IBM Documentation levels that are installed. Select the IBM Documentation to delete by entering the number of the IBM Documentation displayed on the screen. Parent topic: Maintaining system tools', 'metadata': {'url': 'https://www.ibm.com/docs/en/tssc?topic=tools-managing-documentation', 'description': 'Managing IBM Documentation About this task Note: IBM service typically performs this operation and it is recommended that you do not make any changes. You can use the web interface to add the IBM Documentation, to launch the IBM Documentation, or to delete an IBM Documentation level from the system console. To access Manage IBM Documentation, from System Console GUI, select System Tools > Manage ...', 'dcc': ['STQRQ9'], 'chunk_num': 1}}\n"
     ]
    }
   ],
   "execution_count": 6
  },
  {
   "metadata": {
    "ExecuteTime": {
     "end_time": "2025-02-15T05:52:59.457522Z",
     "start_time": "2025-02-15T05:52:59.434555Z"
    }
   },
   "cell_type": "code",
   "source": "corpus = [orjson.loads(line) for line in tqdm(open_stream(corpus_file))]",
   "id": "d03f2486272d90c9",
   "outputs": [
    {
     "ename": "NameError",
     "evalue": "name 'tqdm' is not defined",
     "output_type": "error",
     "traceback": [
      "\u001B[0;31m---------------------------------------------------------------------------\u001B[0m",
      "\u001B[0;31mNameError\u001B[0m                                 Traceback (most recent call last)",
      "Cell \u001B[0;32mIn[2], line 1\u001B[0m\n\u001B[0;32m----> 1\u001B[0m corpus \u001B[38;5;241m=\u001B[39m [orjson\u001B[38;5;241m.\u001B[39mloads(line) \u001B[38;5;28;01mfor\u001B[39;00m line \u001B[38;5;129;01min\u001B[39;00m \u001B[43mtqdm\u001B[49m(open_stream(corpus_file))]\n",
      "\u001B[0;31mNameError\u001B[0m: name 'tqdm' is not defined"
     ]
    }
   ],
   "execution_count": 2
  },
  {
   "metadata": {},
   "cell_type": "code",
   "source": [
    "documents = {}\n",
    "for c in corpus:\n",
    "    documents[c['_id']] = c"
   ],
   "id": "c754c491edf7c73b",
   "outputs": [],
   "execution_count": null
  },
  {
   "metadata": {
    "ExecuteTime": {
     "end_time": "2025-02-15T04:13:32.717059Z",
     "start_time": "2025-02-15T04:13:32.713745Z"
    }
   },
   "cell_type": "code",
   "source": "documents['1']",
   "id": "27c15e348545bf7c",
   "outputs": [
    {
     "data": {
      "text/plain": [
       "{'title': 'aclput Command',\n",
       " '_id': '1',\n",
       " 'text': 'aclput Command Purpose Sets the access control information of a file. Syntax aclput [ -i inAclFile ] [ -R ] [ -t acl_type ] [ -v ]FileObject Description The aclput command sets the access control information of the file object that is specified by the FileObject parameter. The command reads standard input for the access control information, unless you specify the -i flag. Note: If you are reading from standard input your entries must match the expected format of the access control information or you get an error message. Use the Ctrl-D key sequence to complete the session. Access Control List Access Control Lists form the core of protection for file system objects. Each file system object is uniquely associated with one piece of data, called ACL that defines the access rights to the object. ACL might consist of multiple Access Control Entries (ACEs), each defining one particular set of access rights for a user. Typically, ACE consists of information such as identification (to whom this ACE applies) and access rights (allow-read, deny-write). ACE might also capture information such as inheritance flags and alarm and audit flags. The format and enforcement of ACL data is entirely dependent on the ACL type in which they are defined. AIX® provides for existence of multiple ACL types on the operating system. The list of ACLs supported by a file system instance depends on the physical file system implementation for that file system instance. Flags Table 1. Flags Item Description -i inAclFile Specifies the input file for access control information. If the access control information in the file that is specified by the InAclFile parameter is not correct, when you try to apply it to a file, an error message that is preceded by an asterisk is added to the input file. Note: The size of the ACL information depends on the ACL type. -R Apply ACL to this directory and its children file system objects recursively. -t ACL_type Specifies the ACL type of the ACL information that is displayed. If option is not provided, the actual ACL data in its original ACL type is displayed. The supported ACL types are ACLX and NFS4. -v Verbose option. This option displays many comment lines as part of the ACL data display. This comment might help in understanding the details of complex ACL types. Security Access Control This command should be a standard user program and have the trusted computing base attribute. Auditing Events If the auditing subsystem is properly configured and is enabled, the aclput command generates the following audit record or event every time the command is run: Event Information FILE_WriteXacl Modification to access controls. RBAC users Attention RBAC users: This command can perform privileged operations. Only privileged users can run privileged operations. For more information about authorizations and privileges, see Privileged Command Database in Security. For a list of privileges and the authorizations that are associated with this command, see the lssecattr command or the getcmdattr subcommand. Examples To set the access control information for the status file with information from standard input, enter: aclput status attributes: SUID and then press the Ctrl-D sequence to exit the session. To set the access control information for the status file with information stored in the acldefs file, enter: aclput -i acldefs status To set the access control information for the status file with the same information used for the plans file, enter: aclget plans | aclput status To set the access control information for the status file with an edited version of the access control information for the plans file, you must enter two commands. First, enter: aclget -o acl plans This stores the access control information for the plans file in the acl file. Edit the information in the acl file by using your favorite editor. Then, enter: aclput -i acl status This second command takes the access control information in the acl file and puts it on the status file. Files Table 2. Files Item Description /usr/bin/aclput Contains the aclput command. Parent topic: a Related reference aclget Command auditpr Command Related information chmod Command Securing the network',\n",
       " 'metadata': {'url': 'https://www.ibm.com/docs/en/ssw_aix_73/a_commands/aclput.html',\n",
       "  'description': 'aclput Command Purpose Sets the access control information of a file. Syntax aclput [ -i inAclFile ] [ -R ] [ -t acl_type ] [ -v ]FileObject Description The aclput command sets the access control information of the file object that is specified by the FileObject parameter. The command reads standard input for the access control information, unless you specify the -i flag. Note: If you are reading ...',\n",
       "  'dcc': ['SSAUMY'],\n",
       "  'chunk_num': 1}}"
      ]
     },
     "execution_count": 30,
     "metadata": {},
     "output_type": "execute_result"
    }
   ],
   "execution_count": 30
  },
  {
   "metadata": {
    "ExecuteTime": {
     "end_time": "2025-02-15T05:54:36.515863Z",
     "start_time": "2025-02-15T05:54:35.761276Z"
    }
   },
   "cell_type": "code",
   "source": "queries = engine.read_questions(engine.config.input_queries)",
   "id": "ecaa09937a5161cd",
   "outputs": [
    {
     "name": "stderr",
     "output_type": "stream",
     "text": [
      "Reading benchmark/ibm_search/test-queries.jsonl:: 402it [00:00, 34833.39it/s]\n"
     ]
    }
   ],
   "execution_count": 7
  },
  {
   "metadata": {
    "ExecuteTime": {
     "end_time": "2025-02-15T05:58:08.357133Z",
     "start_time": "2025-02-15T05:58:08.354455Z"
    }
   },
   "cell_type": "code",
   "source": [
    "relevant = {}\n",
    "for q in queries:\n",
    "    for r in q['relevant']:\n",
    "        relevant[r] = 1"
   ],
   "id": "447e8711b28a981",
   "outputs": [],
   "execution_count": 19
  },
  {
   "metadata": {
    "ExecuteTime": {
     "end_time": "2025-02-15T05:59:57.005055Z",
     "start_time": "2025-02-15T05:59:45.637558Z"
    }
   },
   "cell_type": "code",
   "source": "answers = engine.read_cache_file(extension=\".retrieve.pkl.bz2\")",
   "id": "40f20388f1ee6400",
   "outputs": [
    {
     "name": "stdout",
     "output_type": "stream",
     "text": [
      "File /home/raduf/sandbox2/docuverse/experiments/unified_search/cache/ibmsw-full-milvus-dense-snowflake-m-512-100-574485.retrieve.pkl.bz2 exists, read?\n",
      "Reading cached search results from /home/raduf/sandbox2/docuverse/experiments/unified_search/cache/ibmsw-full-milvus-dense-snowflake-m-512-100-574485.retrieve.pkl.bz2\n"
     ]
    }
   ],
   "execution_count": 21
  },
  {
   "metadata": {
    "ExecuteTime": {
     "end_time": "2025-02-15T06:00:37.090134Z",
     "start_time": "2025-02-15T06:00:37.075229Z"
    }
   },
   "cell_type": "code",
   "source": [
    "ansdocs = {}\n",
    "for a in answers:\n",
    "    for result in a['results']:\n",
    "        ansdocs[result['doc_id']] = 1"
   ],
   "id": "5ac6d27d39bc9c67",
   "outputs": [
    {
     "ename": "TypeError",
     "evalue": "list indices must be integers or slices, not str",
     "output_type": "error",
     "traceback": [
      "\u001B[0;31m---------------------------------------------------------------------------\u001B[0m",
      "\u001B[0;31mTypeError\u001B[0m                                 Traceback (most recent call last)",
      "Cell \u001B[0;32mIn[23], line 3\u001B[0m\n\u001B[1;32m      1\u001B[0m ansdocs \u001B[38;5;241m=\u001B[39m {}\n\u001B[1;32m      2\u001B[0m \u001B[38;5;28;01mfor\u001B[39;00m a \u001B[38;5;129;01min\u001B[39;00m answers:\n\u001B[0;32m----> 3\u001B[0m     \u001B[38;5;28;01mfor\u001B[39;00m result \u001B[38;5;129;01min\u001B[39;00m \u001B[43ma\u001B[49m\u001B[43m[\u001B[49m\u001B[38;5;124;43m'\u001B[39;49m\u001B[38;5;124;43mresults\u001B[39;49m\u001B[38;5;124;43m'\u001B[39;49m\u001B[43m]\u001B[49m:\n\u001B[1;32m      4\u001B[0m         ansdocs[result[\u001B[38;5;124m'\u001B[39m\u001B[38;5;124mdoc_id\u001B[39m\u001B[38;5;124m'\u001B[39m]] \u001B[38;5;241m=\u001B[39m \u001B[38;5;241m1\u001B[39m\n",
      "\u001B[0;31mTypeError\u001B[0m: list indices must be integers or slices, not str"
     ]
    }
   ],
   "execution_count": 23
  },
  {
   "metadata": {
    "ExecuteTime": {
     "end_time": "2025-02-15T06:00:46.067430Z",
     "start_time": "2025-02-15T06:00:46.061845Z"
    }
   },
   "cell_type": "code",
   "source": [
    "for a in answers[0]:\n",
    "    print(a)"
   ],
   "id": "450e78d3ea2f2ce2",
   "outputs": [
    {
     "data": {
      "text/plain": [
       "[<docuverse.engines.search_result.SearchResult at 0x7f9fc4f7a9e0>,\n",
       " <docuverse.engines.search_result.SearchResult at 0x7f9fc4f5ee30>,\n",
       " <docuverse.engines.search_result.SearchResult at 0x7f9fc53901f0>,\n",
       " <docuverse.engines.search_result.SearchResult at 0x7f9fc5391570>,\n",
       " <docuverse.engines.search_result.SearchResult at 0x7f9fc53928f0>,\n",
       " <docuverse.engines.search_result.SearchResult at 0x7f9fc5393c70>,\n",
       " <docuverse.engines.search_result.SearchResult at 0x7f9fc5239030>,\n",
       " <docuverse.engines.search_result.SearchResult at 0x7f9fc523a3b0>,\n",
       " <docuverse.engines.search_result.SearchResult at 0x7f9fc523b730>,\n",
       " <docuverse.engines.search_result.SearchResult at 0x7f9fc52d46a0>,\n",
       " <docuverse.engines.search_result.SearchResult at 0x7f9fc52d5a20>,\n",
       " <docuverse.engines.search_result.SearchResult at 0x7f9fc52d6da0>,\n",
       " <docuverse.engines.search_result.SearchResult at 0x7f9fc515c160>,\n",
       " <docuverse.engines.search_result.SearchResult at 0x7f9fc515d4e0>,\n",
       " <docuverse.engines.search_result.SearchResult at 0x7f9fc515e860>,\n",
       " <docuverse.engines.search_result.SearchResult at 0x7f9fc515fbe0>,\n",
       " <docuverse.engines.search_result.SearchResult at 0x7f9fc4ff2260>,\n",
       " <docuverse.engines.search_result.SearchResult at 0x7f9fc4ff35e0>,\n",
       " <docuverse.engines.search_result.SearchResult at 0x7f9fc5061c60>,\n",
       " <docuverse.engines.search_result.SearchResult at 0x7f9fc5062fe0>,\n",
       " <docuverse.engines.search_result.SearchResult at 0x7f9fc50d83a0>,\n",
       " <docuverse.engines.search_result.SearchResult at 0x7f9fc50d9720>,\n",
       " <docuverse.engines.search_result.SearchResult at 0x7f9fc50daaa0>,\n",
       " <docuverse.engines.search_result.SearchResult at 0x7f9fc50dbe20>,\n",
       " <docuverse.engines.search_result.SearchResult at 0x7f9fc01664a0>,\n",
       " <docuverse.engines.search_result.SearchResult at 0x7f9fc0167820>,\n",
       " <docuverse.engines.search_result.SearchResult at 0x7f9fb0108be0>,\n",
       " <docuverse.engines.search_result.SearchResult at 0x7f9fc4f5ca60>,\n",
       " <docuverse.engines.search_result.SearchResult at 0x7f9fd92b0bb0>,\n",
       " <docuverse.engines.search_result.SearchResult at 0x7f9fb010a5f0>,\n",
       " <docuverse.engines.search_result.SearchResult at 0x7f9fb010ba60>,\n",
       " <docuverse.engines.search_result.SearchResult at 0x7f9fb018ce20>,\n",
       " <docuverse.engines.search_result.SearchResult at 0x7f9fb018e1a0>,\n",
       " <docuverse.engines.search_result.SearchResult at 0x7f9fb018f520>,\n",
       " <docuverse.engines.search_result.SearchResult at 0x7f9fa83f48e0>,\n",
       " <docuverse.engines.search_result.SearchResult at 0x7f9fa83f5c60>,\n",
       " <docuverse.engines.search_result.SearchResult at 0x7f9fa84582e0>,\n",
       " <docuverse.engines.search_result.SearchResult at 0x7f9fa8459660>,\n",
       " <docuverse.engines.search_result.SearchResult at 0x7f9fa845a9e0>,\n",
       " <docuverse.engines.search_result.SearchResult at 0x7f9fa845bd60>,\n",
       " <docuverse.engines.search_result.SearchResult at 0x7f9fa82f5120>,\n",
       " <docuverse.engines.search_result.SearchResult at 0x7f9fa82f64a0>,\n",
       " <docuverse.engines.search_result.SearchResult at 0x7f9fa82f7820>,\n",
       " <docuverse.engines.search_result.SearchResult at 0x7f9fa81b0be0>,\n",
       " <docuverse.engines.search_result.SearchResult at 0x7f9fa81b1f60>,\n",
       " <docuverse.engines.search_result.SearchResult at 0x7f9fa81b32e0>,\n",
       " <docuverse.engines.search_result.SearchResult at 0x7f9fa82506a0>,\n",
       " <docuverse.engines.search_result.SearchResult at 0x7f9fa8252ce0>,\n",
       " <docuverse.engines.search_result.SearchResult at 0x7f9fa80c80a0>,\n",
       " <docuverse.engines.search_result.SearchResult at 0x7f9fa80c9420>,\n",
       " <docuverse.engines.search_result.SearchResult at 0x7f9fa80ca7a0>,\n",
       " <docuverse.engines.search_result.SearchResult at 0x7f9fa8148e20>,\n",
       " <docuverse.engines.search_result.SearchResult at 0x7f9fa814a1a0>,\n",
       " <docuverse.engines.search_result.SearchResult at 0x7f9fa814b520>,\n",
       " <docuverse.engines.search_result.SearchResult at 0x7f9f986b88e0>,\n",
       " <docuverse.engines.search_result.SearchResult at 0x7f9f986baf20>,\n",
       " <docuverse.engines.search_result.SearchResult at 0x7f9f987282e0>,\n",
       " <docuverse.engines.search_result.SearchResult at 0x7f9f98729660>,\n",
       " <docuverse.engines.search_result.SearchResult at 0x7f9f9872bca0>,\n",
       " <docuverse.engines.search_result.SearchResult at 0x7f9f98791060>,\n",
       " <docuverse.engines.search_result.SearchResult at 0x7f9f987923e0>,\n",
       " <docuverse.engines.search_result.SearchResult at 0x7f9f98793760>,\n",
       " <docuverse.engines.search_result.SearchResult at 0x7f9f98638b20>,\n",
       " <docuverse.engines.search_result.SearchResult at 0x7f9f98639ea0>,\n",
       " <docuverse.engines.search_result.SearchResult at 0x7f9f9863b220>,\n",
       " <docuverse.engines.search_result.SearchResult at 0x7f9f984e85e0>,\n",
       " <docuverse.engines.search_result.SearchResult at 0x7f9f984e9960>,\n",
       " <docuverse.engines.search_result.SearchResult at 0x7f9f984eace0>,\n",
       " <docuverse.engines.search_result.SearchResult at 0x7f9f983940a0>,\n",
       " <docuverse.engines.search_result.SearchResult at 0x7f9f98395420>,\n",
       " <docuverse.engines.search_result.SearchResult at 0x7f9f983967a0>,\n",
       " <docuverse.engines.search_result.SearchResult at 0x7f9f98397b20>,\n",
       " <docuverse.engines.search_result.SearchResult at 0x7f9f98438ee0>,\n",
       " <docuverse.engines.search_result.SearchResult at 0x7f9f9843a260>,\n",
       " <docuverse.engines.search_result.SearchResult at 0x7f9f9843b5e0>,\n",
       " <docuverse.engines.search_result.SearchResult at 0x7f9f982e89a0>,\n",
       " <docuverse.engines.search_result.SearchResult at 0x7f9f982e9d20>,\n",
       " <docuverse.engines.search_result.SearchResult at 0x7f9f982eb0a0>,\n",
       " <docuverse.engines.search_result.SearchResult at 0x7f9f98198460>,\n",
       " <docuverse.engines.search_result.SearchResult at 0x7f9f981997e0>,\n",
       " <docuverse.engines.search_result.SearchResult at 0x7f9f9819ab60>,\n",
       " <docuverse.engines.search_result.SearchResult at 0x7f9f9819bee0>,\n",
       " <docuverse.engines.search_result.SearchResult at 0x7f9f98246560>,\n",
       " <docuverse.engines.search_result.SearchResult at 0x7f9f982478e0>,\n",
       " <docuverse.engines.search_result.SearchResult at 0x7f9f980b4ca0>,\n",
       " <docuverse.engines.search_result.SearchResult at 0x7f9f980b72e0>,\n",
       " <docuverse.engines.search_result.SearchResult at 0x7f9f981286a0>,\n",
       " <docuverse.engines.search_result.SearchResult at 0x7f9f98129a20>,\n",
       " <docuverse.engines.search_result.SearchResult at 0x7f9f9812ada0>,\n",
       " <docuverse.engines.search_result.SearchResult at 0x7f9f8472c160>,\n",
       " <docuverse.engines.search_result.SearchResult at 0x7f9f8472e7a0>,\n",
       " <docuverse.engines.search_result.SearchResult at 0x7f9f8472fb20>,\n",
       " <docuverse.engines.search_result.SearchResult at 0x7f9f847a8ee0>,\n",
       " <docuverse.engines.search_result.SearchResult at 0x7f9f847aa260>,\n",
       " <docuverse.engines.search_result.SearchResult at 0x7f9f847ab5e0>,\n",
       " <docuverse.engines.search_result.SearchResult at 0x7f9f846449d0>,\n",
       " <docuverse.engines.search_result.SearchResult at 0x7f9f84645d50>,\n",
       " <docuverse.engines.search_result.SearchResult at 0x7f9f846470d0>,\n",
       " <docuverse.engines.search_result.SearchResult at 0x7f9f846d8490>,\n",
       " <docuverse.engines.search_result.SearchResult at 0x7f9f846d9810>,\n",
       " <docuverse.engines.search_result.SearchResult at 0x7f9f846dab90>,\n",
       " <docuverse.engines.search_result.SearchResult at 0x7f9f846dbf10>,\n",
       " <docuverse.engines.search_result.SearchResult at 0x7f9f845852d0>,\n",
       " <docuverse.engines.search_result.SearchResult at 0x7f9f84586650>,\n",
       " <docuverse.engines.search_result.SearchResult at 0x7f9f845879d0>,\n",
       " <docuverse.engines.search_result.SearchResult at 0x7f9f84422050>,\n",
       " <docuverse.engines.search_result.SearchResult at 0x7f9f844233d0>,\n",
       " <docuverse.engines.search_result.SearchResult at 0x7f9f84498790>,\n",
       " <docuverse.engines.search_result.SearchResult at 0x7f9f84499b10>,\n",
       " <docuverse.engines.search_result.SearchResult at 0x7f9f8449ae90>,\n",
       " <docuverse.engines.search_result.SearchResult at 0x7f9f84330250>,\n",
       " <docuverse.engines.search_result.SearchResult at 0x7f9f843315d0>,\n",
       " <docuverse.engines.search_result.SearchResult at 0x7f9f84332950>,\n",
       " <docuverse.engines.search_result.SearchResult at 0x7f9f843bcfd0>,\n",
       " <docuverse.engines.search_result.SearchResult at 0x7f9f843be350>,\n",
       " <docuverse.engines.search_result.SearchResult at 0x7f9f843bf6d0>,\n",
       " <docuverse.engines.search_result.SearchResult at 0x7f9f84241d50>,\n",
       " <docuverse.engines.search_result.SearchResult at 0x7f9f842430d0>,\n",
       " <docuverse.engines.search_result.SearchResult at 0x7f9f842b4490>,\n",
       " <docuverse.engines.search_result.SearchResult at 0x7f9f842b5810>,\n",
       " <docuverse.engines.search_result.SearchResult at 0x7f9f842b6b90>,\n",
       " <docuverse.engines.search_result.SearchResult at 0x7f9f842b7f10>,\n",
       " <docuverse.engines.search_result.SearchResult at 0x7f9f841652d0>,\n",
       " <docuverse.engines.search_result.SearchResult at 0x7f9f84166650>,\n",
       " <docuverse.engines.search_result.SearchResult at 0x7f9f50700cd0>,\n",
       " <docuverse.engines.search_result.SearchResult at 0x7f9f50702050>,\n",
       " <docuverse.engines.search_result.SearchResult at 0x7f9f507033d0>,\n",
       " <docuverse.engines.search_result.SearchResult at 0x7f9f50788790>,\n",
       " <docuverse.engines.search_result.SearchResult at 0x7f9f50789b10>,\n",
       " <docuverse.engines.search_result.SearchResult at 0x7f9f5078ae90>,\n",
       " <docuverse.engines.search_result.SearchResult at 0x7f9f5063c250>,\n",
       " <docuverse.engines.search_result.SearchResult at 0x7f9f5063d5d0>,\n",
       " <docuverse.engines.search_result.SearchResult at 0x7f9f5063e950>,\n",
       " <docuverse.engines.search_result.SearchResult at 0x7f9f5063fcd0>,\n",
       " <docuverse.engines.search_result.SearchResult at 0x7f9f506ea350>,\n",
       " <docuverse.engines.search_result.SearchResult at 0x7f9f506eb6d0>,\n",
       " <docuverse.engines.search_result.SearchResult at 0x7f9f5054dd50>,\n",
       " <docuverse.engines.search_result.SearchResult at 0x7f9f505a03d0>,\n",
       " <docuverse.engines.search_result.SearchResult at 0x7f9f505a1750>,\n",
       " <docuverse.engines.search_result.SearchResult at 0x7f9f505a2ad0>,\n",
       " <docuverse.engines.search_result.SearchResult at 0x7f9f5042d150>,\n",
       " <docuverse.engines.search_result.SearchResult at 0x7f9f5042e4d0>,\n",
       " <docuverse.engines.search_result.SearchResult at 0x7f9f5042f850>,\n",
       " <docuverse.engines.search_result.SearchResult at 0x7f9f504acc10>,\n",
       " <docuverse.engines.search_result.SearchResult at 0x7f9f504adf90>,\n",
       " <docuverse.engines.search_result.SearchResult at 0x7f9f504af310>,\n",
       " <docuverse.engines.search_result.SearchResult at 0x7f9f503606d0>,\n",
       " <docuverse.engines.search_result.SearchResult at 0x7f9f50361a50>,\n",
       " <docuverse.engines.search_result.SearchResult at 0x7f9f50362dd0>,\n",
       " <docuverse.engines.search_result.SearchResult at 0x7f9f50200190>,\n",
       " <docuverse.engines.search_result.SearchResult at 0x7f9f502027d0>,\n",
       " <docuverse.engines.search_result.SearchResult at 0x7f9f50203b50>,\n",
       " <docuverse.engines.search_result.SearchResult at 0x7f9f50274f10>,\n",
       " <docuverse.engines.search_result.SearchResult at 0x7f9f50276290>,\n",
       " <docuverse.engines.search_result.SearchResult at 0x7f9f50104910>,\n",
       " <docuverse.engines.search_result.SearchResult at 0x7f9f50106f50>,\n",
       " <docuverse.engines.search_result.SearchResult at 0x7f9f50178310>,\n",
       " <docuverse.engines.search_result.SearchResult at 0x7f9f50179690>,\n",
       " <docuverse.engines.search_result.SearchResult at 0x7f9f5017aa10>,\n",
       " <docuverse.engines.search_result.SearchResult at 0x7f9f5017bd90>,\n",
       " <docuverse.engines.search_result.SearchResult at 0x7f9ea8f1d150>,\n",
       " <docuverse.engines.search_result.SearchResult at 0x7f9ea8f1e4d0>,\n",
       " <docuverse.engines.search_result.SearchResult at 0x7f9ea8f1f850>,\n",
       " <docuverse.engines.search_result.SearchResult at 0x7f9ea8fb8c10>,\n",
       " <docuverse.engines.search_result.SearchResult at 0x7f9ea8fb9f90>,\n",
       " <docuverse.engines.search_result.SearchResult at 0x7f9ea8e3c610>,\n",
       " <docuverse.engines.search_result.SearchResult at 0x7f9ea8e3d990>,\n",
       " <docuverse.engines.search_result.SearchResult at 0x7f9ea8e3ed10>,\n",
       " <docuverse.engines.search_result.SearchResult at 0x7f9ea8ed00d0>,\n",
       " <docuverse.engines.search_result.SearchResult at 0x7f9ea8ed1450>,\n",
       " <docuverse.engines.search_result.SearchResult at 0x7f9ea8ed3a90>,\n",
       " <docuverse.engines.search_result.SearchResult at 0x7f9ea8d44e50>,\n",
       " <docuverse.engines.search_result.SearchResult at 0x7f9ea8d461d0>,\n",
       " <docuverse.engines.search_result.SearchResult at 0x7f9ea8db8850>,\n",
       " <docuverse.engines.search_result.SearchResult at 0x7f9ea8db9bd0>,\n",
       " <docuverse.engines.search_result.SearchResult at 0x7f9ea8dbaf50>,\n",
       " <docuverse.engines.search_result.SearchResult at 0x7f9ea8c5c310>,\n",
       " <docuverse.engines.search_result.SearchResult at 0x7f9ea8c5e950>,\n",
       " <docuverse.engines.search_result.SearchResult at 0x7f9ea8c5fcd0>,\n",
       " <docuverse.engines.search_result.SearchResult at 0x7f9ea8cd5090>,\n",
       " <docuverse.engines.search_result.SearchResult at 0x7f9ea8cd6410>,\n",
       " <docuverse.engines.search_result.SearchResult at 0x7f9ea8cd7790>,\n",
       " <docuverse.engines.search_result.SearchResult at 0x7f9ea8b74b50>,\n",
       " <docuverse.engines.search_result.SearchResult at 0x7f9ea8b75ed0>,\n",
       " <docuverse.engines.search_result.SearchResult at 0x7f9ea8b77250>,\n",
       " <docuverse.engines.search_result.SearchResult at 0x7f9ea89fd8d0>,\n",
       " <docuverse.engines.search_result.SearchResult at 0x7f9ea89fec50>,\n",
       " <docuverse.engines.search_result.SearchResult at 0x7f9ea89fffd0>,\n",
       " <docuverse.engines.search_result.SearchResult at 0x7f9ea8a8d390>,\n",
       " <docuverse.engines.search_result.SearchResult at 0x7f9ea8a8e710>,\n",
       " <docuverse.engines.search_result.SearchResult at 0x7f9ea8a8fa90>,\n",
       " <docuverse.engines.search_result.SearchResult at 0x7f9ea892ce50>,\n",
       " <docuverse.engines.search_result.SearchResult at 0x7f9ea892e1d0>,\n",
       " <docuverse.engines.search_result.SearchResult at 0x7f9ea892f550>,\n",
       " <docuverse.engines.search_result.SearchResult at 0x7f9ea89c8910>,\n",
       " <docuverse.engines.search_result.SearchResult at 0x7f9ea89c9c90>,\n",
       " <docuverse.engines.search_result.SearchResult at 0x7f9ea89cb010>,\n",
       " <docuverse.engines.search_result.SearchResult at 0x7f9ea88783d0>,\n",
       " <docuverse.engines.search_result.SearchResult at 0x7f9ea8879750>,\n",
       " <docuverse.engines.search_result.SearchResult at 0x7f9ea887aad0>,\n",
       " <docuverse.engines.search_result.SearchResult at 0x7f9ea86fd150>,\n",
       " <docuverse.engines.search_result.SearchResult at 0x7f9ea86fe4d0>,\n",
       " <docuverse.engines.search_result.SearchResult at 0x7f9ea86ff850>,\n",
       " <docuverse.engines.search_result.SearchResult at 0x7f9ea8789ed0>,\n",
       " <docuverse.engines.search_result.SearchResult at 0x7f9ea878b250>,\n",
       " <docuverse.engines.search_result.SearchResult at 0x7f9ea8624610>,\n",
       " <docuverse.engines.search_result.SearchResult at 0x7f9ea8625990>,\n",
       " <docuverse.engines.search_result.SearchResult at 0x7f9ea8626d10>,\n",
       " <docuverse.engines.search_result.SearchResult at 0x7f9ea86a5390>,\n",
       " <docuverse.engines.search_result.SearchResult at 0x7f9ea86a6710>,\n",
       " <docuverse.engines.search_result.SearchResult at 0x7f9ea8518d90>,\n",
       " <docuverse.engines.search_result.SearchResult at 0x7f9ea851a110>,\n",
       " <docuverse.engines.search_result.SearchResult at 0x7f9ea851b490>,\n",
       " <docuverse.engines.search_result.SearchResult at 0x7f9ea85b0850>,\n",
       " <docuverse.engines.search_result.SearchResult at 0x7f9ea85b1bd0>,\n",
       " <docuverse.engines.search_result.SearchResult at 0x7f9ea85b2f50>,\n",
       " <docuverse.engines.search_result.SearchResult at 0x7f9ea8470310>,\n",
       " <docuverse.engines.search_result.SearchResult at 0x7f9ea8471690>,\n",
       " <docuverse.engines.search_result.SearchResult at 0x7f9ea8473cd0>,\n",
       " <docuverse.engines.search_result.SearchResult at 0x7f9ea84e6350>,\n",
       " <docuverse.engines.search_result.SearchResult at 0x7f9ea84e76d0>,\n",
       " <docuverse.engines.search_result.SearchResult at 0x7f9ea835ca90>,\n",
       " <docuverse.engines.search_result.SearchResult at 0x7f9ea835de10>,\n",
       " <docuverse.engines.search_result.SearchResult at 0x7f9ea835f190>,\n",
       " <docuverse.engines.search_result.SearchResult at 0x7f9ea8204550>,\n",
       " <docuverse.engines.search_result.SearchResult at 0x7f9ea8206b90>,\n",
       " <docuverse.engines.search_result.SearchResult at 0x7f9ea825d210>,\n",
       " <docuverse.engines.search_result.SearchResult at 0x7f9ea825e590>,\n",
       " <docuverse.engines.search_result.SearchResult at 0x7f9ea825f910>,\n",
       " <docuverse.engines.search_result.SearchResult at 0x7f9ea8100cd0>,\n",
       " <docuverse.engines.search_result.SearchResult at 0x7f9ea8103310>,\n",
       " <docuverse.engines.search_result.SearchResult at 0x7f9ea81806d0>,\n",
       " <docuverse.engines.search_result.SearchResult at 0x7f9ea8182d10>,\n",
       " <docuverse.engines.search_result.SearchResult at 0x7f9ea81ec0d0>,\n",
       " <docuverse.engines.search_result.SearchResult at 0x7f9ea81ed450>,\n",
       " <docuverse.engines.search_result.SearchResult at 0x7f9ea81ee7d0>,\n",
       " <docuverse.engines.search_result.SearchResult at 0x7f9ea81efb50>,\n",
       " <docuverse.engines.search_result.SearchResult at 0x7f9e87f90f10>,\n",
       " <docuverse.engines.search_result.SearchResult at 0x7f9e87f93550>,\n",
       " <docuverse.engines.search_result.SearchResult at 0x7f9e87e04910>,\n",
       " <docuverse.engines.search_result.SearchResult at 0x7f9e87e05c90>,\n",
       " <docuverse.engines.search_result.SearchResult at 0x7f9e87e07010>,\n",
       " <docuverse.engines.search_result.SearchResult at 0x7f9e87e9c3d0>,\n",
       " <docuverse.engines.search_result.SearchResult at 0x7f9e87e9d750>,\n",
       " <docuverse.engines.search_result.SearchResult at 0x7f9e87e9ead0>,\n",
       " <docuverse.engines.search_result.SearchResult at 0x7f9e87e9fe50>,\n",
       " <docuverse.engines.search_result.SearchResult at 0x7f9e87d2d210>,\n",
       " <docuverse.engines.search_result.SearchResult at 0x7f9e87d2e590>,\n",
       " <docuverse.engines.search_result.SearchResult at 0x7f9e87d2f910>,\n",
       " <docuverse.engines.search_result.SearchResult at 0x7f9e87de0cd0>,\n",
       " <docuverse.engines.search_result.SearchResult at 0x7f9e87de2050>,\n",
       " <docuverse.engines.search_result.SearchResult at 0x7f9e87de33d0>,\n",
       " <docuverse.engines.search_result.SearchResult at 0x7f9e87c88790>,\n",
       " <docuverse.engines.search_result.SearchResult at 0x7f9e87c89b10>,\n",
       " <docuverse.engines.search_result.SearchResult at 0x7f9e87c8ae90>,\n",
       " <docuverse.engines.search_result.SearchResult at 0x7f9e87b34250>,\n",
       " <docuverse.engines.search_result.SearchResult at 0x7f9e87b355d0>,\n",
       " <docuverse.engines.search_result.SearchResult at 0x7f9e87b36950>,\n",
       " <docuverse.engines.search_result.SearchResult at 0x7f9e87b37cd0>,\n",
       " <docuverse.engines.search_result.SearchResult at 0x7f9e87be6350>,\n",
       " <docuverse.engines.search_result.SearchResult at 0x7f9e87be76d0>,\n",
       " <docuverse.engines.search_result.SearchResult at 0x7f9e87a50a90>,\n",
       " <docuverse.engines.search_result.SearchResult at 0x7f9e87a51e10>,\n",
       " <docuverse.engines.search_result.SearchResult at 0x7f9e87a53190>,\n",
       " <docuverse.engines.search_result.SearchResult at 0x7f9e87af0550>,\n",
       " <docuverse.engines.search_result.SearchResult at 0x7f9e87af18d0>,\n",
       " <docuverse.engines.search_result.SearchResult at 0x7f9e87af3f10>,\n",
       " <docuverse.engines.search_result.SearchResult at 0x7f9e879752d0>,\n",
       " <docuverse.engines.search_result.SearchResult at 0x7f9e87976650>,\n",
       " <docuverse.engines.search_result.SearchResult at 0x7f9e879779d0>,\n",
       " <docuverse.engines.search_result.SearchResult at 0x7f9e87820d90>,\n",
       " <docuverse.engines.search_result.SearchResult at 0x7f9e87822110>,\n",
       " <docuverse.engines.search_result.SearchResult at 0x7f9e87823490>,\n",
       " <docuverse.engines.search_result.SearchResult at 0x7f9e878c8850>,\n",
       " <docuverse.engines.search_result.SearchResult at 0x7f9e878c9bd0>,\n",
       " <docuverse.engines.search_result.SearchResult at 0x7f9e87740250>,\n",
       " <docuverse.engines.search_result.SearchResult at 0x7f9e877415d0>,\n",
       " <docuverse.engines.search_result.SearchResult at 0x7f9e87742950>,\n",
       " <docuverse.engines.search_result.SearchResult at 0x7f9e87743cd0>,\n",
       " <docuverse.engines.search_result.SearchResult at 0x7f9e877e1090>,\n",
       " <docuverse.engines.search_result.SearchResult at 0x7f9e877e2410>,\n",
       " <docuverse.engines.search_result.SearchResult at 0x7f9e877e3790>,\n",
       " <docuverse.engines.search_result.SearchResult at 0x7f9e87684b50>,\n",
       " <docuverse.engines.search_result.SearchResult at 0x7f9e87685ed0>,\n",
       " <docuverse.engines.search_result.SearchResult at 0x7f9e87687250>,\n",
       " <docuverse.engines.search_result.SearchResult at 0x7f9e87558610>,\n",
       " <docuverse.engines.search_result.SearchResult at 0x7f9e87559990>,\n",
       " <docuverse.engines.search_result.SearchResult at 0x7f9e8755ad10>,\n",
       " <docuverse.engines.search_result.SearchResult at 0x7f9e874100d0>,\n",
       " <docuverse.engines.search_result.SearchResult at 0x7f9e87411450>,\n",
       " <docuverse.engines.search_result.SearchResult at 0x7f9e87413a90>,\n",
       " <docuverse.engines.search_result.SearchResult at 0x7f9e8747ce50>,\n",
       " <docuverse.engines.search_result.SearchResult at 0x7f9e8747e1d0>,\n",
       " <docuverse.engines.search_result.SearchResult at 0x7f9e8747f550>,\n",
       " <docuverse.engines.search_result.SearchResult at 0x7f9e87328910>,\n",
       " <docuverse.engines.search_result.SearchResult at 0x7f9e87329b70>,\n",
       " <docuverse.engines.search_result.SearchResult at 0x7f9e8732aef0>,\n",
       " <docuverse.engines.search_result.SearchResult at 0x7f9e873e82b0>,\n",
       " <docuverse.engines.search_result.SearchResult at 0x7f9e873e9630>,\n",
       " <docuverse.engines.search_result.SearchResult at 0x7f9e873ea9b0>,\n",
       " <docuverse.engines.search_result.SearchResult at 0x7f9e87289030>,\n",
       " <docuverse.engines.search_result.SearchResult at 0x7f9e8728a3b0>,\n",
       " <docuverse.engines.search_result.SearchResult at 0x7f9e8728b730>,\n",
       " <docuverse.engines.search_result.SearchResult at 0x7f9e8711caf0>,\n",
       " <docuverse.engines.search_result.SearchResult at 0x7f9e8711de70>,\n",
       " <docuverse.engines.search_result.SearchResult at 0x7f9e8711f1f0>,\n",
       " <docuverse.engines.search_result.SearchResult at 0x7f9e871c05b0>,\n",
       " <docuverse.engines.search_result.SearchResult at 0x7f9e871c2bf0>,\n",
       " <docuverse.engines.search_result.SearchResult at 0x7f9e871c3f70>,\n",
       " <docuverse.engines.search_result.SearchResult at 0x7f9e87045330>,\n",
       " <docuverse.engines.search_result.SearchResult at 0x7f9e870466b0>,\n",
       " <docuverse.engines.search_result.SearchResult at 0x7f9e87047a30>,\n",
       " <docuverse.engines.search_result.SearchResult at 0x7f9e870e0df0>,\n",
       " <docuverse.engines.search_result.SearchResult at 0x7f9e870e2170>,\n",
       " <docuverse.engines.search_result.SearchResult at 0x7f9e870e34f0>,\n",
       " <docuverse.engines.search_result.SearchResult at 0x7f9e86f8c8b0>,\n",
       " <docuverse.engines.search_result.SearchResult at 0x7f9e86f8dc30>,\n",
       " <docuverse.engines.search_result.SearchResult at 0x7f9e86f8efb0>,\n",
       " <docuverse.engines.search_result.SearchResult at 0x7f9e86e40370>,\n",
       " <docuverse.engines.search_result.SearchResult at 0x7f9e86e416f0>,\n",
       " <docuverse.engines.search_result.SearchResult at 0x7f9e86e42a70>,\n",
       " <docuverse.engines.search_result.SearchResult at 0x7f9e86e43df0>,\n",
       " <docuverse.engines.search_result.SearchResult at 0x7f9e86ed6470>,\n",
       " <docuverse.engines.search_result.SearchResult at 0x7f9e86ed77f0>,\n",
       " <docuverse.engines.search_result.SearchResult at 0x7f9e86d54bb0>,\n",
       " <docuverse.engines.search_result.SearchResult at 0x7f9e86d55f30>,\n",
       " <docuverse.engines.search_result.SearchResult at 0x7f9e86d572b0>,\n",
       " <docuverse.engines.search_result.SearchResult at 0x7f9e86dfc670>,\n",
       " <docuverse.engines.search_result.SearchResult at 0x7f9e86dfd9f0>,\n",
       " <docuverse.engines.search_result.SearchResult at 0x7f9e86dfed70>,\n",
       " <docuverse.engines.search_result.SearchResult at 0x7f9e86ca0130>,\n",
       " <docuverse.engines.search_result.SearchResult at 0x7f9e86ca14b0>,\n",
       " <docuverse.engines.search_result.SearchResult at 0x7f9e86ca2830>,\n",
       " <docuverse.engines.search_result.SearchResult at 0x7f9e86ca3bb0>,\n",
       " <docuverse.engines.search_result.SearchResult at 0x7f9e86b40f70>,\n",
       " <docuverse.engines.search_result.SearchResult at 0x7f9e86b422f0>,\n",
       " <docuverse.engines.search_result.SearchResult at 0x7f9e86bb0970>,\n",
       " <docuverse.engines.search_result.SearchResult at 0x7f9e86bb2fb0>,\n",
       " <docuverse.engines.search_result.SearchResult at 0x7f9e86a14370>,\n",
       " <docuverse.engines.search_result.SearchResult at 0x7f9e86a156f0>,\n",
       " <docuverse.engines.search_result.SearchResult at 0x7f9e86a16a70>,\n",
       " <docuverse.engines.search_result.SearchResult at 0x7f9e86a990f0>,\n",
       " <docuverse.engines.search_result.SearchResult at 0x7f9e86a9a470>,\n",
       " <docuverse.engines.search_result.SearchResult at 0x7f9e86908af0>,\n",
       " <docuverse.engines.search_result.SearchResult at 0x7f9e86909e70>,\n",
       " <docuverse.engines.search_result.SearchResult at 0x7f9e8690b1f0>,\n",
       " <docuverse.engines.search_result.SearchResult at 0x7f9e869945b0>,\n",
       " <docuverse.engines.search_result.SearchResult at 0x7f9e86995930>,\n",
       " <docuverse.engines.search_result.SearchResult at 0x7f9e86996cb0>,\n",
       " <docuverse.engines.search_result.SearchResult at 0x7f9e8681d330>,\n",
       " <docuverse.engines.search_result.SearchResult at 0x7f9e8681e6b0>,\n",
       " <docuverse.engines.search_result.SearchResult at 0x7f9e8681fa30>,\n",
       " <docuverse.engines.search_result.SearchResult at 0x7f9e868b0df0>,\n",
       " <docuverse.engines.search_result.SearchResult at 0x7f9e868b2170>,\n",
       " <docuverse.engines.search_result.SearchResult at 0x7f9e868b34f0>,\n",
       " <docuverse.engines.search_result.SearchResult at 0x7f9e8675c8b0>,\n",
       " <docuverse.engines.search_result.SearchResult at 0x7f9e8675dc30>,\n",
       " <docuverse.engines.search_result.SearchResult at 0x7f9e8675efb0>,\n",
       " <docuverse.engines.search_result.SearchResult at 0x7f9e86604370>,\n",
       " <docuverse.engines.search_result.SearchResult at 0x7f9e866056f0>,\n",
       " <docuverse.engines.search_result.SearchResult at 0x7f9e86606a70>,\n",
       " <docuverse.engines.search_result.SearchResult at 0x7f9e86607df0>,\n",
       " <docuverse.engines.search_result.SearchResult at 0x7f9e8669d1b0>,\n",
       " <docuverse.engines.search_result.SearchResult at 0x7f9e8669e530>,\n",
       " <docuverse.engines.search_result.SearchResult at 0x7f9e8669f8b0>,\n",
       " <docuverse.engines.search_result.SearchResult at 0x7f9e86541f30>,\n",
       " <docuverse.engines.search_result.SearchResult at 0x7f9e865432b0>,\n",
       " <docuverse.engines.search_result.SearchResult at 0x7f9e865d0670>,\n",
       " <docuverse.engines.search_result.SearchResult at 0x7f9e865d19f0>,\n",
       " <docuverse.engines.search_result.SearchResult at 0x7f9e865d2d70>,\n",
       " <docuverse.engines.search_result.SearchResult at 0x7f9e86474130>,\n",
       " <docuverse.engines.search_result.SearchResult at 0x7f9e864754b0>,\n",
       " <docuverse.engines.search_result.SearchResult at 0x7f9e86476830>,\n",
       " <docuverse.engines.search_result.SearchResult at 0x7f9e86477bb0>,\n",
       " <docuverse.engines.search_result.SearchResult at 0x7f9e8631cf70>,\n",
       " <docuverse.engines.search_result.SearchResult at 0x7f9e8631f5b0>,\n",
       " <docuverse.engines.search_result.SearchResult at 0x7f9e8638c970>,\n",
       " <docuverse.engines.search_result.SearchResult at 0x7f9e8638dcf0>,\n",
       " <docuverse.engines.search_result.SearchResult at 0x7f9e8638f070>,\n",
       " <docuverse.engines.search_result.SearchResult at 0x7f9e86230430>,\n",
       " <docuverse.engines.search_result.SearchResult at 0x7f9e86232a70>,\n",
       " <docuverse.engines.search_result.SearchResult at 0x7f9e86233df0>,\n",
       " <docuverse.engines.search_result.SearchResult at 0x7f9e862a91b0>,\n",
       " <docuverse.engines.search_result.SearchResult at 0x7f9e862aa530>,\n",
       " <docuverse.engines.search_result.SearchResult at 0x7f9e862ab8b0>,\n",
       " <docuverse.engines.search_result.SearchResult at 0x7f9e86164c70>,\n",
       " <docuverse.engines.search_result.SearchResult at 0x7f9e86165ff0>,\n",
       " <docuverse.engines.search_result.SearchResult at 0x7f9e86167370>,\n",
       " <docuverse.engines.search_result.SearchResult at 0x7f9e86018730>,\n",
       " <docuverse.engines.search_result.SearchResult at 0x7f9e86019ab0>,\n",
       " <docuverse.engines.search_result.SearchResult at 0x7f9e8601ae30>,\n",
       " <docuverse.engines.search_result.SearchResult at 0x7f9e860bc1f0>,\n",
       " <docuverse.engines.search_result.SearchResult at 0x7f9e860bd570>,\n",
       " <docuverse.engines.search_result.SearchResult at 0x7f9e860be8f0>,\n",
       " <docuverse.engines.search_result.SearchResult at 0x7f9e860bfc70>,\n",
       " <docuverse.engines.search_result.SearchResult at 0x7f9e85f81030>,\n",
       " <docuverse.engines.search_result.SearchResult at 0x7f9e85f823b0>,\n",
       " <docuverse.engines.search_result.SearchResult at 0x7f9e85f83730>,\n",
       " <docuverse.engines.search_result.SearchResult at 0x7f9e85e29db0>,\n",
       " <docuverse.engines.search_result.SearchResult at 0x7f9e85e2b130>,\n",
       " <docuverse.engines.search_result.SearchResult at 0x7f9e85ea04f0>,\n",
       " <docuverse.engines.search_result.SearchResult at 0x7f9e85ea1870>]"
      ]
     },
     "execution_count": 24,
     "metadata": {},
     "output_type": "execute_result"
    }
   ],
   "execution_count": 24
  }
 ],
 "metadata": {
  "kernelspec": {
   "display_name": "Python 3",
   "language": "python",
   "name": "python3"
  },
  "language_info": {
   "codemirror_mode": {
    "name": "ipython",
    "version": 2
   },
   "file_extension": ".py",
   "mimetype": "text/x-python",
   "name": "python",
   "nbconvert_exporter": "python",
   "pygments_lexer": "ipython2",
   "version": "2.7.6"
  }
 },
 "nbformat": 4,
 "nbformat_minor": 5
}
