{
 "cells": [
  {
   "cell_type": "code",
   "execution_count": null,
   "id": "initial_id",
   "metadata": {
    "collapsed": true
   },
   "outputs": [],
   "source": [
    ""
   ]
  },
  {
   "metadata": {},
   "cell_type": "markdown",
   "source": [
    "# Create small difficult corpus\n",
    " Notebook to create a small, yet difficult corpus, for quick experimentation. In many cases, there are a lot of documents to search through, and indexing these documents with various methods can take a very long time. To avoid lenghty experiments, yet making sure that the corpus oen searches through is \"hard\", this notebook creates a small corpus (e.g. 10000 documents) that contain:\n",
    "  * all goldstandard documents\n",
    "  * top 100 documents per query (obtained with some method - could be the model itself, another model, or bm25)\n",
    "  * other random documents to pad to the desired size"
   ],
   "id": "81ff770b8fb12f30"
  },
  {
   "metadata": {
    "ExecuteTime": {
     "end_time": "2025-02-17T19:20:48.789237Z",
     "start_time": "2025-02-17T19:20:48.786804Z"
    }
   },
   "cell_type": "code",
   "source": [
    "from docuverse.utils import open_stream, read_config_file\n",
    "from docuverse.engines.search_engine import SearchEngine, SearchData\n",
    "import os\n",
    "import orjson\n",
    "from  tqdm import tqdm_notebook as tqdm"
   ],
   "id": "a5b5e20f984f889",
   "outputs": [],
   "execution_count": 45
  },
  {
   "metadata": {
    "ExecuteTime": {
     "end_time": "2025-02-17T19:56:42.408190Z",
     "start_time": "2025-02-17T19:56:42.405082Z"
    }
   },
   "cell_type": "code",
   "source": [
    "data_dir=\"/home/raduf/sandbox2/docuverse/benchmark/ibm_search\"\n",
    "query_file = os.path.join(data_dir, \"question_test_config.json\")\n",
    "corpus_file = os.path.join(data_dir, \"corpus.jsonl.bz2\")\n",
    "query_config = read_config_file(query_file)\n",
    "query_json = query_config['question_file']\n",
    "goldstandard = query_config['goldstandard_file']\n",
    "short_doc_output = os.path.join(data_dir, \"test_corpus_21k.jsonl\")"
   ],
   "id": "f8fcaf089b7d0265",
   "outputs": [],
   "execution_count": 67
  },
  {
   "metadata": {
    "ExecuteTime": {
     "end_time": "2025-02-17T19:02:31.182599Z",
     "start_time": "2025-02-17T19:02:18.950888Z"
    }
   },
   "cell_type": "code",
   "source": [
    "# config_file = os.path.join(\"/home/raduf/sandbox2/docuverse/experiments/unified_search/ibmsw_milvus_dense.snowlake-m.test.yaml\")\n",
    "config_file = os.path.join(\"/home/raduf/sandbox2/docuverse/experiments/unified_search/ibmsw_milvus_bm25.granite.test.yaml\")\n",
    "engine = SearchEngine(config_file)"
   ],
   "id": "939427f33b966659",
   "outputs": [],
   "execution_count": 4
  },
  {
   "metadata": {
    "ExecuteTime": {
     "end_time": "2025-02-17T19:03:03.096607Z",
     "start_time": "2025-02-17T19:03:03.077439Z"
    }
   },
   "cell_type": "code",
   "source": [
    "for i, line in enumerate(open_stream(corpus_file)):\n",
    "    # print(line)\n",
    "    print(orjson.loads(line))\n",
    "    if i==10:\n",
    "        break"
   ],
   "id": "c4facedbc364186b",
   "outputs": [
    {
     "name": "stdout",
     "output_type": "stream",
     "text": [
      "{'title': 'aclput Command', '_id': '1', 'text': 'aclput Command Purpose Sets the access control information of a file. Syntax aclput [ -i inAclFile ] [ -R ] [ -t acl_type ] [ -v ]FileObject Description The aclput command sets the access control information of the file object that is specified by the FileObject parameter. The command reads standard input for the access control information, unless you specify the -i flag. Note: If you are reading from standard input your entries must match the expected format of the access control information or you get an error message. Use the Ctrl-D key sequence to complete the session. Access Control List Access Control Lists form the core of protection for file system objects. Each file system object is uniquely associated with one piece of data, called ACL that defines the access rights to the object. ACL might consist of multiple Access Control Entries (ACEs), each defining one particular set of access rights for a user. Typically, ACE consists of information such as identification (to whom this ACE applies) and access rights (allow-read, deny-write). ACE might also capture information such as inheritance flags and alarm and audit flags. The format and enforcement of ACL data is entirely dependent on the ACL type in which they are defined. AIX® provides for existence of multiple ACL types on the operating system. The list of ACLs supported by a file system instance depends on the physical file system implementation for that file system instance. Flags Table 1. Flags Item Description -i inAclFile Specifies the input file for access control information. If the access control information in the file that is specified by the InAclFile parameter is not correct, when you try to apply it to a file, an error message that is preceded by an asterisk is added to the input file. Note: The size of the ACL information depends on the ACL type. -R Apply ACL to this directory and its children file system objects recursively. -t ACL_type Specifies the ACL type of the ACL information that is displayed. If option is not provided, the actual ACL data in its original ACL type is displayed. The supported ACL types are ACLX and NFS4. -v Verbose option. This option displays many comment lines as part of the ACL data display. This comment might help in understanding the details of complex ACL types. Security Access Control This command should be a standard user program and have the trusted computing base attribute. Auditing Events If the auditing subsystem is properly configured and is enabled, the aclput command generates the following audit record or event every time the command is run: Event Information FILE_WriteXacl Modification to access controls. RBAC users Attention RBAC users: This command can perform privileged operations. Only privileged users can run privileged operations. For more information about authorizations and privileges, see Privileged Command Database in Security. For a list of privileges and the authorizations that are associated with this command, see the lssecattr command or the getcmdattr subcommand. Examples To set the access control information for the status file with information from standard input, enter: aclput status attributes: SUID and then press the Ctrl-D sequence to exit the session. To set the access control information for the status file with information stored in the acldefs file, enter: aclput -i acldefs status To set the access control information for the status file with the same information used for the plans file, enter: aclget plans | aclput status To set the access control information for the status file with an edited version of the access control information for the plans file, you must enter two commands. First, enter: aclget -o acl plans This stores the access control information for the plans file in the acl file. Edit the information in the acl file by using your favorite editor. Then, enter: aclput -i acl status This second command takes the access control information in the acl file and puts it on the status file. Files Table 2. Files Item Description /usr/bin/aclput Contains the aclput command. Parent topic: a Related reference aclget Command auditpr Command Related information chmod Command Securing the network', 'metadata': {'url': 'https://www.ibm.com/docs/en/ssw_aix_73/a_commands/aclput.html', 'description': 'aclput Command Purpose Sets the access control information of a file. Syntax aclput [ -i inAclFile ] [ -R ] [ -t acl_type ] [ -v ]FileObject Description The aclput command sets the access control information of the file object that is specified by the FileObject parameter. The command reads standard input for the access control information, unless you specify the -i flag. Note: If you are reading ...', 'dcc': ['SSAUMY'], 'chunk_num': 1}}\n",
      "{'title': 'Uninitializing diskless and dataless machines', '_id': '2', 'text': 'Uninitializing diskless and dataless machines Diskless and dataless machines are uninitialized by performing the reset operation. The reset operation also provides the option to deallocate all resources for the machine. Deallocating all resources from the diskless or dataless machine removes all root data for the machine. Without deallocating resources, the uninitialize operation deallocates just the network boot image. Uninitializing diskless and dataless machines using SMIT Follow this procedure for uninitializing diskless and dataless machines using SMIT. Uninitializing diskless and dataless machines from the command line Follow this procedure for uninitializing diskless and dataless machines from the command line. Parent topic: Configuring NIM', 'metadata': {'url': 'https://www.ibm.com/docs/en/aix/7.3?topic=nim-uninitializing-diskless-dataless-machines', 'description': 'Uninitializing diskless and dataless machines Diskless and dataless machines are uninitialized by performing the reset operation. The reset operation also provides the option to deallocate all resources for the machine. Deallocating all resources from the diskless or dataless machine removes all root data for the machine. Without deallocating resources, the uninitialize operation deallocates just ...', 'dcc': ['SSAUMY'], 'chunk_num': 1}}\n",
      "{'title': 'Adding HMC management objects to the NIM environment', '_id': '3', 'text': 'Adding HMC management objects to the NIM environment Follow the instructions to add a Hardware Management Console management object. HMC object represents a Hardware Management Console (HMC) system. To add an HMC object, the operation requires the dsm.core fileset to be installed on the NIM master. To add an HMC object from the command line, follow these steps: Create an encrypted password file that contains the login ID and related password on the NIM master to access the HMC. It must be created using the dpasswd command from the dsm.core fileset. If you do not want the password displayed in clear text, exclude the -P parameter and the dpasswd command will prompt for the password. # dpasswd -f EncryptedPasswordFilePath -U hmcLogin -P hmcPassword Pass the encrypted password file in the passwd_file attribute by using the define command of the HMC. # nim -o define -t hmc -a passwd_file=EncryptedPasswordFilePath \\\\ -a if1=InterfaceDescription \\\\ -a net_definition=DefinitionName \\\\ HMCName If the network object that describes the network mask and the gateway used by HMC does not exist, use the net_definition attribute. After you remove the HMC objects, the file specified by the passwd_file attribute must be removed manually. Example To add an HMC object with the host name hmc1 that has the following configuration: host name=hmc1 password file path=/etc/ibm/sysmgt/dsm/config/hmc1 network type=ethernet subnet mask=255.255..240.0 default gateway=gw1 default gateway used by NIM master=gw_maste Enter the following command: # nim -o define -t hmc -a passwd_file=/etc/ibm/sysmgt/dsm/config/hmc1 \\\\ -a if1=\"find_net hmc1 0\" \\\\ -a net_definition=\"ent 255.255.240.0 gw1 gw_master\" hmc1 For additional information, see/opt/ibm/sysmgt/dsm/doc/dsm_tech_note.pdf of the dsm.core fileset. Parent topic: Adding a management object to the NIM environment', 'metadata': {'url': 'https://www.ibm.com/docs/en/aix/7.3?topic=environment-adding-hmc-management-objects-nim', 'description': 'Adding HMC management objects to the NIM environment Follow the instructions to add a Hardware Management Console management object. HMC object represents a Hardware Management Console (HMC) system. To add an HMC object, the operation requires the dsm.core fileset to be installed on the NIM master. To add an HMC object from the command line, follow these steps: Create an encrypted password file ...', 'dcc': ['SSAUMY'], 'chunk_num': 1}}\n",
      "{'title': 'Software licensing', '_id': '4', 'text': 'Software licensing The types of software licensing that can be implemented in the software purchase are run-time licensing and acceptance of software license agreements. Normally, software requiring run-time licenses is only selected for installation when you have a license to use that software. Although the System Management Interface Tool (SMIT) allow you to install licensed software even if you do not own a license, you might be prevented from using the newly installed software until you have obtained the appropriate license. Accepting software license agreements requires that the license agreement be accepted as part of the installation process. If software installed as part of your BOS installation requires accepting a software license agreement, you cannot exit the Configuration Assistant (or the Installation Assistant for non-graphics consoles) until the license agreement has been accepted. You can view as well as accept the license agreement. The BOS installation can be customized to automatically accept software licenses. For more information, refer to Customizing your installation . For optional software installation, you can preview the license agreements on the installation media using the smit license_on_media fast path or the installp -El command. During the installation process, you can use the menu item to accept the software license, or you can use the installp command with the -Y flag. To view accepted license agreements on a system, you can use the SMIT smit installed_license fast path or the lslpp -E command. When a product is uninstalled, the license agreement acceptance is changed to the inactive state. If the product is reinstalled, you will not be prompted to reaccept the license agreement. After completing the prerequisites in the next section, your next step is deciding whether to install software with SMIT. Descriptions of both applications are included in this chapter. Before you install optional software and service updates, refer to the specific instructions that accompany your installation media. If you ever need to reinstall your system, refer to the installation media instructions. > Note: For information about developing software products that are installed using the installp command, refer to > > Packaging Software for Installation > > in General Programming Concepts: Writing and Debugging Programs. Parent topic: Optional products and service updates', 'metadata': {'url': 'https://www.ibm.com/docs/en/aix/7.3?topic=updates-software-licensing', 'description': 'Software licensing The types of software licensing that can be implemented in the software purchase are run-time licensing and acceptance of software license agreements. Normally, software requiring run-time licenses is only selected for installation when you have a license to use that software. Although the System Management Interface Tool (SMIT) allow you to install licensed software even if ...', 'dcc': ['SSAUMY'], 'chunk_num': 1}}\n",
      "{'title': 'Using response files with NIM', '_id': '5', 'text': 'Using response files with NIM If you are using NIM to install an ISMP-packaged product on one or more NIM clients, you can create and use a separate response file for each client. Separate response files are useful when properties of the installation operation must be configured differently for each client. In order to install multiple clients, you must name each response file CLIENT_NAME.response. These response files must be located in the default location (the same location as the product installer files). For example, to install the MyProduct ISMP-packaged product located in an lpp_source resource in the /export/lpp_source/lpp_source1/ismp/ppc/MyProduct directory on the CLIENT1 and CLIENT2 clients, do the following: Create a CLIENT1.response and CLIENT2.response response file. Place the response files in the /export/lpp_source/lpp_source1/ismp/ppc/MyProduct directory. Create the correct responses for each client in the corresponding response file. When you run the NIM cust operation to install the MyProduct ISMP-packaged product on CLIENT1 and CLIENT2, the response files are used automatically and appropriately for each client. If you want to use the same response file for all clients, name the response file PRODUCT_NAME.response and place in the same default location as the ISMP-packaged product (the product location in the lpp_source resource). For example, create a response file called MyProduct.response in the /export/lpp_source/lpp_source1/ismp/ppc/MyProduct/ directory. If there are no client response files when you perform the NIM cust operation, the MyProduct.response file is used automatically. Parent topic: Using InstallShield MultiPlatform', 'metadata': {'url': 'https://www.ibm.com/docs/en/aix/7.3?topic=multiplatform-using-response-files-nim', 'description': 'Using response files with NIM If you are using NIM to install an ISMP-packaged product on one or more NIM clients, you can create and use a separate response file for each client. Separate response files are useful when properties of the installation operation must be configured differently for each client. In order to install multiple clients, you must name each response file ...', 'dcc': ['SSAUMY'], 'chunk_num': 1}}\n",
      "{'title': 'IAYAD0193E', '_id': '6', 'text': 'IAYAD0193E Failed to update security configuration. The root certificate is not part of the certificate chain in the certificate file. Explanation This specific error occurs on the Security page when security is enabled. It indicates that no root certificate is found in the uploaded .crt file. System actionThe IBM AD product might not work as expected. User response Follow Export the certificate and private key to run the export certificate command through the Command Prompt before you upload the certificate file. Parent topic: IBM AD Configuration Sever Messages', 'metadata': {'url': 'https://www.ibm.com/docs/en/addi/6.1.2?topic=messages-iayad0193e', 'description': 'IAYAD0193E Failed to update security configuration. The root certificate is not part of the certificate chain in the certificate file. Explanation This specific error occurs on the Security page when security is enabled. It indicates that no root certificate is found in the uploaded .crt file. System actionThe IBM AD product might not work as expected. User response Follow Export the certificate ...', 'dcc': ['SSRR9Q'], 'chunk_num': 1}}\n",
      "{'title': 'Safety and environmental notices', '_id': '7', 'text': 'Safety and environmental notices This section contains information about safety notices that are used in this guide and environmental notices for this product. Safety labels Safety notices This publication contains the safety notices for the IBM Systems products in English and other languages. The safety notices include danger and caution notices. Anyone who plans, installs, operates, or services the system must be familiar with and understand the safety notices. Read the related safety information before beginning work. Environmental notices This information contains all the required environmental notices for IBM Systems products in English and other languages. ESD procedures When you service this computer, always wear an electrostatic discharge (ESD) wrist strap that is properly connected to the rack frame or enclosure sheet metal. The strap prevents possible damage to the hardware, and decreases any possible impact to customer operations. How to attach the ESD wrist strap Follow these steps to attach an electrostatic discharge (ESD) wrist strap. Parent topic: Notices', 'metadata': {'url': 'https://www.ibm.com/docs/en/tssc?topic=notices-safety-environmental', 'description': 'Safety and environmental notices This section contains information about safety notices that are used in this guide and environmental notices for this product. Safety labels Safety notices This publication contains the safety notices for the IBM Systems products in English and other languages. The safety notices include danger and caution notices. Anyone who plans, installs, operates, or services ...', 'dcc': ['STQRQ9'], 'chunk_num': 1}}\n",
      "{'title': 'Log Settings', '_id': '8', 'text': 'Log Settings About this task Complete this task to download log files. Procedure From the System Console GUI, Select Console Settings > Log Settings. You see the figure as shown in the image below. Figure 1. LOG Settings screen To download any of the log files that are listed in the Log Files to Download area, select the file, then select Download Log Files. To view a select number of lines from a log file, in the Tail Log File area, select a file, then enter the number of lines, and click Tail. Parent topic: Accessing Console Settings', 'metadata': {'url': 'https://www.ibm.com/docs/en/tssc?topic=settings-log', 'description': 'Log Settings About this task Complete this task to download log files. Procedure From the System Console GUI, Select Console Settings > Log Settings. You see the figure as shown in the image below. Figure 1. LOG Settings screen To download any of the log files that are listed in the Log Files to Download area, select the file, then select Download Log Files. To view a select number of lines from ...', 'dcc': ['STQRQ9'], 'chunk_num': 1}}\n",
      "{'title': 'Remote Code Broadcast', '_id': '9', 'text': 'Remote Code Broadcast Before you begin Note: IBM service typically performs this operation and it is recommended that you do not make any changes. This function is deprecated and for TS7700, use MkSysb Broadcast. About this task You can use the web interface to copy control unit code from a source CD or USB that you place in the drive of the TSSC. You then can broadcast this code to another device. Procedure From System Console GUI, select Systems Tools > Remote Code Broadcast.... Select one of the media which has the code you wish to broadcast into the drive of the TSSC. Select Broadcast Code CD Do not overwrite existing controller code if already on this console Select this option if you previously broadcast code to a system using the media that you just inserted into the drive. This eliminates the time it takes to load code from the disc. Note: If the image copy failed, select View the Log File. Retry Broadcast Code after you determine the cause. Delete code images on attached machines to make room for broadcast image Select this option to choose which images you want to delete from the target system. A list displays. To add an image to the target system, ensure that the target system has no more than one image. Note: If you selected \"Delete code images on attached machines to make room for broadcast image\" the screen reloads and refreshes the list of images to delete. Select the images you want to delete. Type in the numbers of the images that you wish to delete. Separate the numbers by spaces (for example, \"0 1 4 5\"). Select Submit Choices. When the code copy completes, a message appears, and prompts you to select which system to broadcast the code image to. You see a box entitled \"Systems for Code Broadcast\" at the bottom of the screen. This box contains a list of the attached systems that can be broadcast to. Table 1 lists the possible status conditions you might anticipate. Select the systems to which you want to broadcast a code image. In the \"Systems for Code Broadcast\" column, type the numbers of the systems, separated by spaces. Leave this field blank if you do not want to broadcast a code image, or you can select the Cancel button. Click on Submit Choices. This can take as long as five minutes per system. The code broadcast will fail if the attached control units are “Unavailable.” If an error occurs, select View the Log File from Remote Code Broadcast screen to determine the failure. If the status is 2+ IMGS (which indicates \"2 or more images\") on the attached system you wish to broadcast to, the image will not broadcast unless you select the \"Delete … \" option depicted in Remote Code Broadcast screen, and you remove the images from the target system. You also can use the following additional options which are depicted in Remote Code Broadcast screen. Option 2: After you select the systems to broadcast and the page reloads, you see a status message at the top of the screen. Use option 2 View the Log File to see the details of the broadcast. This log lists the code that was successfully broadcast and the code that was successfully finalized. If an error occurred, the log file will specify where the load failed. Figure 1 shows you a sample of status in a log file.Figure 1. Remote Code Broadcast Log File Table 1. Code Load Status Messages - From Web Interface. See Figure 1 for an example of broadcast status. Status Meaning OK OK to copy code to attached system NO DIR No temporary directory exists on attached system to copy code into PREV VER The temporary directory on the attached system is not empty NO COMM Unable to communicate with attached system (possibly due to downlevel code on attached system or bad physical connection) NO SPACE Insufficient space on attached system for copying code NO SPC 1 Insufficient space on attached system\\'s gdc file system for copying code NO SPC 2 Insufficient space on attached system\\'s usr file system for copying code NO SPC 3 Insufficient space on attached system\\'s gdc and usr file systems for copying code 2+ IMGS There are two or more code images on the attached system (will not broadcast code unless you remove images by using the \"Delete code images … \" option. NOT OK Unspecified error condition has occurred Option 3, Clear the Log File, deletes the log file and clears this screen. Use this when the previous log file is irrelevant. Only use this option if you no longer need the old log file for reference to an error. Option 4, Eject the Disc, should be used when the disc is no longer in use or when you are attempting to copy the code from the disc for a second time. If the program reports that there is an error mounting the disc, remove and insert the disc again. Parent topic: Maintaining system tools', 'metadata': {'url': 'https://www.ibm.com/docs/en/tssc?topic=tools-remote-code-broadcast', 'description': 'Remote Code Broadcast Before you begin Note: IBM service typically performs this operation and it is recommended that you do not make any changes. This function is deprecated and for TS7700, use MkSysb Broadcast. About this task You can use the web interface to copy control unit code from a source CD or USB that you place in the drive of the TSSC. You then can broadcast this code to another ...', 'dcc': ['STQRQ9'], 'chunk_num': 1}}\n",
      "{'title': 'TSSC Quick Start Guide', '_id': '10', 'text': 'TSSC Quick Start Guide Quick Start Guide This guide is intended to help you install the TSSC and get you started with an initial configuration. Note: TSSC Licensed Materials - Property of IBM. © Copyright IBM Corp. 2023. U.S. Government Users Restricted Rights - Use, duplication or disclosure restricted by GSA ADP Schedule Contract with IBM Corp. IBM, the IBM logo, and ibm.com are trademarks or registered trademarks of International Business Machines Corp., registered in many jurisdictions worldwide. Other product and service names might be trademarks of IBM or other companies. A current list of IBM trademarks is available on the web at Copyright and trademark information ( www.ibm.com/legal/copytrade.shtml ). About this task Product overview The TSSC and the TS4500 integrated management console (IMC) can provide remote support for attached tape systems. Note: All normal service support representative safety practices apply. Ensure that you are aware of the Safety Guidelines and Safety Notices The figure below shows the part numbers and descriptions of the FRUs associated with the TS4500 Integrated Management Console (IMC). Figure 1. TS4500 Tape Library IMC FRUs Procedure Install the cables. For TSSC. (TS7770 comes with a TSSC already installed within the frame) Verify that all existing cable connections are attached, as shown in figure 2 .Figure 2. 7063-CR2 (p9) port locations and definitions . Connect the external cables as shown in figure 2 . (Call Home and optional AOTM) (Polywell only) Ensure that the TSSC tray assembly is fully extended at the front of the rack before routing the cables through the cable management arm. For TSSC (in TS4500). The IMC arrives from manufacturing with all cables connected. Verify that all existing cable connections are attached.Figure 3. Polywell For Diamondback. A rackmount 7063-CR2 (p9) based TSSC is provided with FC 2726. Install the 7063-CR2 (p9) TSSC in the customer provided rack. Verify all existing cable connections are attached, as shown in the 7063-CR2 (p9) port locations and definitions figure. Figure 4. 7063-CR2 (p9) port locations and definitions For IMC and TSSC ensure that the library power and the frame power are present respectively. TheTSSC only has power when the TS4500 is powered on. If the TS4500 is not powered on, complete the following steps to power on the library: Access the display panel on the base frame of the library and slide the plastic cover upwards that protects the power button. Press the power button and make-sure that the green power indicator turn on and stay on. If not, contact your IBM service representative. When you power on the library, it runs an initialization sequence for about 2 minutes. During that time the TS4500 management GUI is not available. When the TSSC completes the power on process the TS4500 management GUI is displayed on a web browser in kiosk mode on the side library monitor. Kiosk mode means that the menu bar, address bar, and stop and reload buttons of the browser are disabled. Switch from the TS4500 GUI to the TSSC GUI by closing the web browser. If the monitor presents the TSSC login screen at startup, this is an indication of a bad connection between the IMC and the library LCC. Note: This can happen if the library is not ready to communicate before the PC. To resolve the issue, power cycle the PC that uses the GUI. If it continues to fail to start the kiosk mode, this is an indication of a problem. Power on the TSSC/IMC Locate the power button for the TSSC/IMC. For Polywell, locate the power button 1 , use Figure 5 . Figure 5. Power button for Polywell Note: A pen or pencil can be used to press the power button. For 7063-CR2 (p9), locate the power button (6), use Figure 5. Figure 6. Power button for 7063-CR2 (p9) Note: The power button/green LED indicator (6) in Figure 5 indicates the power status of the 7063-CR2 (p9). The LED flashes when the BMC is on standby, and turns solid when the system is running. Power on the TSSC by pressing the power button. Log in to the system console Attention: A new Challenger/Response method for logging in to the system is used with 8.54.1.x. The Local Service access remains the same; however, all other login requires the use of the following servers to get a Response for the Challenge key: https://rsc1.tms.stglabs.ibm.com/ https://rsc2.tms.stglabs.ibm.com/ https://rsc3.tms.stglabs.ibm.com/ The system console is ready for user login when you see the System Console Login screen. In the Login field, type service and press Enter. In the Password field type service and press Enter. Perform the initial configuration. The first time that you log in to the system console, you are guided through an initial configuration to confirm or enter required settings. Note: Until this is performed, you will be unable to reach the Console Configuration Utility. Select either TS7700 First Time Install or Console Code Upgrade/TS4500 or Diamondback First Time Install. The Console Time page is displayed. Configure or confirm the settings on the Console Time page and click NEXT >>. Continue to configure or confirm the settings on each of the following pages and click NEXT >> to advance through each page. Note: The page titles might be different depending on code level. Time / Date / NTP IP Address Settings Attached Systems Machine Settings Call Home Settings Location Settings AOS Settings Remote Support Center ECuRep Settings Test ECC Connectivity Test CSP Connection Patch Installation Click the HERE hyperlink above the << PREV and NEXT >> buttons to end the initial configuration. Important: You must complete this step to successfully complete the initial configuration. Attention: For a TSSC in a TS7700, additional steps are needed to fully configure the TSSC. See TS7700 Installation roadmap. What to do next More information Table 1. FRU list FRU Part Number Units Description TSSC in TS4500 TSSC Rack Mount 02AT999 1 7063-CR2 (p9) TSSC (Mowgli) x 03JP037 1 UPG Monitor 18.5 w Keyboard & Integrated Mouse x 03GM955 1 Rail Kit x 39M5508 2 Pwr Cord x 02CE823 1 Bracket, left monitor x 02CE824 1 Bracket, right monitor x 39M5546 1 Pwr Cord 2.5 Meter C5-C14 x 40K8855 6 Clip x 40K8861 6 Screw, M6x16 x 46K4283 4 Screw, M6x x 74F1823 4 Nutclip M5 x 1622305 4 Washer, for square holed rack x 1622306 6 Washer, for square holed rack x 02XY898 1 TSSC v9.4 Code on USB x 03FP372 2 TSSC Power Supply x 03GM774 5 TSSC Fan x 78P7429 1 Optional USB Module x (7063-CR2 (p9) and Polywell) 01PL524 1 Cable, USB to 9pin Serial x x 12X4665 1 Cable, 3.2 Meter Ethernet x x 46K5108 1 Cable, Serial Dongal RJ45 x x 38L6344 1 Cable, Null Modem x x ( Polywell ) 02XX134 1 Polywell Model HM170L4 PC x x 02XW787 1 Polywell Model HM170L4 Power Brick x x 12X4666 3 Cable, 3.2 Meter Ethernet x x 2727450 3 Cable 18 in., extension USB 3.0 to USB 3.0 x 38L6965 1 Optical DVD Drive ( Worldwide - excluding UK ) x x 02XY836 1 Optical DVD Drive ( UK only ) x x 01EM943 1 Power cord C5-C14 2.5 meters ( Worldwide- excluding India ) x x 49Y4831 1 Cable Management Arm x 03JP037 1 UPG Monitor 18.5 w Keyboard & Integrated Mouse x 69Y5085 1 Slide set, Left-Right x 00VJ489 1 VGA 4ft Cable x 02XW194 1 IMC Keyboard x 02XX424 1 IMC Monitor, internal x 95P9290 2 Keyboard Tray Latch x 02CE454 2 USB Monitor Cable x 02PY478 1 Monitor Power Supply x For more information, see the following resources: IBM TSSC Service documentation: https://ibmdocs-test.dcs.ibm.com/docs/en/IBM_TSSC_Service_test IBM TSSC Customer documentation: https://www.ibm.com/docs/en/tssc IBM TS7700 Service documentation: https://ibmdocs-test.dcs.ibm.com/docs/en/TS7700_Service_Documentation_test IBM TS4500 Service documentation: https://www.ibm.com/docs/en/ts4500-tape-library IBM Diamondback documentation: https://www.ibm.com/docs/en/diamondback', 'metadata': {'url': 'https://www.ibm.com/docs/en/tssc?topic=tssc-quick-start-guide', 'description': 'TSSC Quick Start Guide Quick Start Guide This guide is intended to help you install the TSSC and get you started with an initial configuration. Note: TSSC Licensed Materials - Property of IBM. © Copyright IBM Corp. 2023. U.S. Government Users Restricted Rights - Use, duplication or disclosure restricted by GSA ADP Schedule Contract with IBM Corp. IBM, the IBM logo, and ibm.com are trademarks or ...', 'dcc': ['STQRQ9'], 'chunk_num': 1}}\n",
      "{'title': 'Managing IBM Documentation', '_id': '11', 'text': 'Managing IBM Documentation About this task Note: IBM service typically performs this operation and it is recommended that you do not make any changes. You can use the web interface to add the IBM Documentation, to launch the IBM Documentation, or to delete an IBM Documentation level from the system console. To access Manage IBM Documentation, from System Console GUI, select System Tools > Manage IBM Documents. Import IBM Documentation Click Import IBM Documents from CD or Import IBM Documentation from USB from the System Tools page based on the type of media you wish to import from. A terminal page appears and prompts you to insert the IBM Documentation media device. Insert the CD-ROM or USB for the desired product, and press Enter. You can now launch the IBM Documentation. Launching IBM Documentation Use this procedure to launch IBM Documentation after importing the media, see Import IBM Documentation to import IBM Documentation. Click Launch IBM Documents from System Tools page. A browser window appears. You can select your appropriate topic or use the search box to navigate through the information. Deleting IBM Documentation Use this procedure to delete an IBM Documentation level. Click Delete IBM Documents from System Tools page. A terminal screen appears displaying the different IBM Documentation levels that are installed. Select the IBM Documentation to delete by entering the number of the IBM Documentation displayed on the screen. Parent topic: Maintaining system tools', 'metadata': {'url': 'https://www.ibm.com/docs/en/tssc?topic=tools-managing-documentation', 'description': 'Managing IBM Documentation About this task Note: IBM service typically performs this operation and it is recommended that you do not make any changes. You can use the web interface to add the IBM Documentation, to launch the IBM Documentation, or to delete an IBM Documentation level from the system console. To access Manage IBM Documentation, from System Console GUI, select System Tools > Manage ...', 'dcc': ['STQRQ9'], 'chunk_num': 1}}\n"
     ]
    }
   ],
   "execution_count": 5
  },
  {
   "metadata": {
    "ExecuteTime": {
     "end_time": "2025-02-17T19:04:58.326475Z",
     "start_time": "2025-02-17T19:03:05.707867Z"
    }
   },
   "cell_type": "code",
   "source": "corpus = [orjson.loads(line) for line in tqdm(open_stream(corpus_file))]",
   "id": "d03f2486272d90c9",
   "outputs": [
    {
     "name": "stderr",
     "output_type": "stream",
     "text": [
      "/tmp/ipykernel_619333/116095110.py:1: TqdmDeprecationWarning: This function will be removed in tqdm==5.0.0\n",
      "Please use `tqdm.notebook.tqdm` instead of `tqdm.tqdm_notebook`\n",
      "  corpus = [orjson.loads(line) for line in tqdm(open_stream(corpus_file))]\n"
     ]
    },
    {
     "data": {
      "text/plain": [
       "0it [00:00, ?it/s]"
      ],
      "application/vnd.jupyter.widget-view+json": {
       "version_major": 2,
       "version_minor": 0,
       "model_id": "3e6082a8b0be4ddc8da1fb14d2eb2605"
      }
     },
     "metadata": {},
     "output_type": "display_data"
    }
   ],
   "execution_count": 6
  },
  {
   "metadata": {
    "ExecuteTime": {
     "end_time": "2025-02-17T19:05:50.561834Z",
     "start_time": "2025-02-17T19:05:50.034655Z"
    }
   },
   "cell_type": "code",
   "source": [
    "documents = {}\n",
    "for c in corpus:\n",
    "    documents[c['_id']] = c"
   ],
   "id": "c754c491edf7c73b",
   "outputs": [],
   "execution_count": 7
  },
  {
   "metadata": {
    "ExecuteTime": {
     "end_time": "2025-02-17T19:06:19.413233Z",
     "start_time": "2025-02-17T19:06:19.409816Z"
    }
   },
   "cell_type": "code",
   "source": "documents['1']",
   "id": "27c15e348545bf7c",
   "outputs": [
    {
     "data": {
      "text/plain": [
       "{'title': 'aclput Command',\n",
       " '_id': '1',\n",
       " 'text': 'aclput Command Purpose Sets the access control information of a file. Syntax aclput [ -i inAclFile ] [ -R ] [ -t acl_type ] [ -v ]FileObject Description The aclput command sets the access control information of the file object that is specified by the FileObject parameter. The command reads standard input for the access control information, unless you specify the -i flag. Note: If you are reading from standard input your entries must match the expected format of the access control information or you get an error message. Use the Ctrl-D key sequence to complete the session. Access Control List Access Control Lists form the core of protection for file system objects. Each file system object is uniquely associated with one piece of data, called ACL that defines the access rights to the object. ACL might consist of multiple Access Control Entries (ACEs), each defining one particular set of access rights for a user. Typically, ACE consists of information such as identification (to whom this ACE applies) and access rights (allow-read, deny-write). ACE might also capture information such as inheritance flags and alarm and audit flags. The format and enforcement of ACL data is entirely dependent on the ACL type in which they are defined. AIX® provides for existence of multiple ACL types on the operating system. The list of ACLs supported by a file system instance depends on the physical file system implementation for that file system instance. Flags Table 1. Flags Item Description -i inAclFile Specifies the input file for access control information. If the access control information in the file that is specified by the InAclFile parameter is not correct, when you try to apply it to a file, an error message that is preceded by an asterisk is added to the input file. Note: The size of the ACL information depends on the ACL type. -R Apply ACL to this directory and its children file system objects recursively. -t ACL_type Specifies the ACL type of the ACL information that is displayed. If option is not provided, the actual ACL data in its original ACL type is displayed. The supported ACL types are ACLX and NFS4. -v Verbose option. This option displays many comment lines as part of the ACL data display. This comment might help in understanding the details of complex ACL types. Security Access Control This command should be a standard user program and have the trusted computing base attribute. Auditing Events If the auditing subsystem is properly configured and is enabled, the aclput command generates the following audit record or event every time the command is run: Event Information FILE_WriteXacl Modification to access controls. RBAC users Attention RBAC users: This command can perform privileged operations. Only privileged users can run privileged operations. For more information about authorizations and privileges, see Privileged Command Database in Security. For a list of privileges and the authorizations that are associated with this command, see the lssecattr command or the getcmdattr subcommand. Examples To set the access control information for the status file with information from standard input, enter: aclput status attributes: SUID and then press the Ctrl-D sequence to exit the session. To set the access control information for the status file with information stored in the acldefs file, enter: aclput -i acldefs status To set the access control information for the status file with the same information used for the plans file, enter: aclget plans | aclput status To set the access control information for the status file with an edited version of the access control information for the plans file, you must enter two commands. First, enter: aclget -o acl plans This stores the access control information for the plans file in the acl file. Edit the information in the acl file by using your favorite editor. Then, enter: aclput -i acl status This second command takes the access control information in the acl file and puts it on the status file. Files Table 2. Files Item Description /usr/bin/aclput Contains the aclput command. Parent topic: a Related reference aclget Command auditpr Command Related information chmod Command Securing the network',\n",
       " 'metadata': {'url': 'https://www.ibm.com/docs/en/ssw_aix_73/a_commands/aclput.html',\n",
       "  'description': 'aclput Command Purpose Sets the access control information of a file. Syntax aclput [ -i inAclFile ] [ -R ] [ -t acl_type ] [ -v ]FileObject Description The aclput command sets the access control information of the file object that is specified by the FileObject parameter. The command reads standard input for the access control information, unless you specify the -i flag. Note: If you are reading ...',\n",
       "  'dcc': ['SSAUMY'],\n",
       "  'chunk_num': 1}}"
      ]
     },
     "execution_count": 8,
     "metadata": {},
     "output_type": "execute_result"
    }
   ],
   "execution_count": 8
  },
  {
   "metadata": {
    "ExecuteTime": {
     "end_time": "2025-02-17T19:07:37.746904Z",
     "start_time": "2025-02-17T19:07:37.734564Z"
    }
   },
   "cell_type": "code",
   "source": "queries = engine.read_questions(engine.config.input_queries)",
   "id": "ecaa09937a5161cd",
   "outputs": [
    {
     "name": "stderr",
     "output_type": "stream",
     "text": [
      "Reading benchmark/ibm_search/test-queries.jsonl:: 402it [00:00, 319641.75it/s]\n"
     ]
    }
   ],
   "execution_count": 10
  },
  {
   "metadata": {
    "ExecuteTime": {
     "end_time": "2025-02-17T19:07:43.558725Z",
     "start_time": "2025-02-17T19:07:43.555139Z"
    }
   },
   "cell_type": "code",
   "source": [
    "relevant = {}\n",
    "for q in queries:\n",
    "    for r in q['relevant']:\n",
    "        relevant[r] = 1"
   ],
   "id": "447e8711b28a981",
   "outputs": [],
   "execution_count": 11
  },
  {
   "metadata": {
    "ExecuteTime": {
     "end_time": "2025-02-17T19:17:25.717240Z",
     "start_time": "2025-02-17T19:17:20.375612Z"
    }
   },
   "cell_type": "code",
   "source": "answers = engine.read_cache_file(extension=\".retrieve.pkl.bz2\")[0]",
   "id": "40f20388f1ee6400",
   "outputs": [
    {
     "name": "stdout",
     "output_type": "stream",
     "text": [
      "File /home/raduf/sandbox2/docuverse/experiments/unified_search/cache/ibmsw-full-milvus-bm25-granite-512-100-574485.retrieve.pkl.bz2 exists, read?\n",
      "Reading cached search results from /home/raduf/sandbox2/docuverse/experiments/unified_search/cache/ibmsw-full-milvus-bm25-granite-512-100-574485.retrieve.pkl.bz2\n"
     ]
    }
   ],
   "execution_count": 39
  },
  {
   "metadata": {
    "ExecuteTime": {
     "end_time": "2025-02-17T19:45:50.173238Z",
     "start_time": "2025-02-17T19:45:50.139975Z"
    }
   },
   "cell_type": "code",
   "source": [
    "ansdocs = relevant\n",
    "for a in answers:\n",
    "    for result in a:\n",
    "        ansdocs[SearchData.get_orig_docid(result['id'])] = 1"
   ],
   "id": "5ac6d27d39bc9c67",
   "outputs": [],
   "execution_count": 50
  },
  {
   "metadata": {
    "ExecuteTime": {
     "end_time": "2025-02-17T19:46:00.324298Z",
     "start_time": "2025-02-17T19:46:00.321314Z"
    }
   },
   "cell_type": "code",
   "source": "len(ansdocs)",
   "id": "d5420168204a970b",
   "outputs": [
    {
     "data": {
      "text/plain": [
       "21247"
      ]
     },
     "execution_count": 52,
     "metadata": {},
     "output_type": "execute_result"
    }
   ],
   "execution_count": 52
  },
  {
   "metadata": {
    "ExecuteTime": {
     "end_time": "2025-02-17T19:46:57.748926Z",
     "start_time": "2025-02-17T19:46:57.739319Z"
    }
   },
   "cell_type": "code",
   "source": "list(sorted(ansdocs.keys()))[0]",
   "id": "450e78d3ea2f2ce2",
   "outputs": [
    {
     "data": {
      "text/plain": [
       "'10'"
      ]
     },
     "execution_count": 56,
     "metadata": {},
     "output_type": "execute_result"
    }
   ],
   "execution_count": 56
  },
  {
   "metadata": {
    "ExecuteTime": {
     "end_time": "2025-02-17T19:55:08.070727Z",
     "start_time": "2025-02-17T19:55:08.045021Z"
    }
   },
   "cell_type": "code",
   "source": [
    "import json\n",
    "with open_stream(short_doc_output, write=True) as g:\n",
    "    for docid in sorted(ansdocs.keys()):\n",
    "        print(json.dumps(documents[docid]), file=g)"
   ],
   "id": "a269e22e63fc5293",
   "outputs": [
    {
     "ename": "TypeError",
     "evalue": "memoryview: a bytes-like object is required, not 'str'",
     "output_type": "error",
     "traceback": [
      "\u001B[0;31m---------------------------------------------------------------------------\u001B[0m",
      "\u001B[0;31mTypeError\u001B[0m                                 Traceback (most recent call last)",
      "Cell \u001B[0;32mIn[66], line 4\u001B[0m\n\u001B[1;32m      2\u001B[0m \u001B[38;5;28;01mwith\u001B[39;00m open_stream(short_doc_output, write\u001B[38;5;241m=\u001B[39m\u001B[38;5;28;01mTrue\u001B[39;00m, binary\u001B[38;5;241m=\u001B[39m\u001B[38;5;28;01mTrue\u001B[39;00m) \u001B[38;5;28;01mas\u001B[39;00m g:\n\u001B[1;32m      3\u001B[0m     \u001B[38;5;28;01mfor\u001B[39;00m docid \u001B[38;5;129;01min\u001B[39;00m \u001B[38;5;28msorted\u001B[39m(ansdocs\u001B[38;5;241m.\u001B[39mkeys()):\n\u001B[0;32m----> 4\u001B[0m         \u001B[38;5;28;43mprint\u001B[39;49m\u001B[43m(\u001B[49m\u001B[43mjson\u001B[49m\u001B[38;5;241;43m.\u001B[39;49m\u001B[43mdumps\u001B[49m\u001B[43m(\u001B[49m\u001B[43mdocuments\u001B[49m\u001B[43m[\u001B[49m\u001B[43mdocid\u001B[49m\u001B[43m]\u001B[49m\u001B[43m)\u001B[49m\u001B[43m,\u001B[49m\u001B[43m \u001B[49m\u001B[43mfile\u001B[49m\u001B[38;5;241;43m=\u001B[39;49m\u001B[43mg\u001B[49m\u001B[43m)\u001B[49m\n",
      "File \u001B[0;32m~/miniforge3/envs/docuverse/lib/python3.10/bz2.py:227\u001B[0m, in \u001B[0;36mBZ2File.write\u001B[0;34m(self, data)\u001B[0m\n\u001B[1;32m    224\u001B[0m     length \u001B[38;5;241m=\u001B[39m \u001B[38;5;28mlen\u001B[39m(data)\n\u001B[1;32m    225\u001B[0m \u001B[38;5;28;01melse\u001B[39;00m:\n\u001B[1;32m    226\u001B[0m     \u001B[38;5;66;03m# accept any data that supports the buffer protocol\u001B[39;00m\n\u001B[0;32m--> 227\u001B[0m     data \u001B[38;5;241m=\u001B[39m \u001B[38;5;28;43mmemoryview\u001B[39;49m\u001B[43m(\u001B[49m\u001B[43mdata\u001B[49m\u001B[43m)\u001B[49m\n\u001B[1;32m    228\u001B[0m     length \u001B[38;5;241m=\u001B[39m data\u001B[38;5;241m.\u001B[39mnbytes\n\u001B[1;32m    230\u001B[0m compressed \u001B[38;5;241m=\u001B[39m \u001B[38;5;28mself\u001B[39m\u001B[38;5;241m.\u001B[39m_compressor\u001B[38;5;241m.\u001B[39mcompress(data)\n",
      "\u001B[0;31mTypeError\u001B[0m: memoryview: a bytes-like object is required, not 'str'"
     ]
    }
   ],
   "execution_count": 66
  },
  {
   "metadata": {},
   "cell_type": "code",
   "outputs": [],
   "execution_count": null,
   "source": "",
   "id": "f290617c008d1c0b"
  }
 ],
 "metadata": {
  "kernelspec": {
   "display_name": "Python 3",
   "language": "python",
   "name": "python3"
  },
  "language_info": {
   "codemirror_mode": {
    "name": "ipython",
    "version": 2
   },
   "file_extension": ".py",
   "mimetype": "text/x-python",
   "name": "python",
   "nbconvert_exporter": "python",
   "pygments_lexer": "ipython2",
   "version": "2.7.6"
  }
 },
 "nbformat": 4,
 "nbformat_minor": 5
}
