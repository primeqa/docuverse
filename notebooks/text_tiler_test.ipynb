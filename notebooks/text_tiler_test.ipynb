{
 "cells": [
  {
   "cell_type": "code",
   "id": "f513f4f0bbc79b25",
   "metadata": {
    "ExecuteTime": {
     "end_time": "2025-05-15T15:36:36.994087Z",
     "start_time": "2025-05-15T15:36:33.663061Z"
    }
   },
   "source": [
    "from sentence_transformers import SentenceTransformer\n",
    "from docuverse.utils import open_stream, read_config_file\n",
    "import pickle\n",
    "from tqdm.autonotebook import tqdm, trange\n",
    "from docuverse.utils.text_tiler import TextTiler\n",
    "from docuverse.engines.search_data import SearchData\n",
    "from docuverse.engines.data_template import DataTemplate\n",
    "import os"
   ],
   "outputs": [],
   "execution_count": 1
  },
  {
   "metadata": {
    "jupyter": {
     "is_executing": true
    },
    "ExecuteTime": {
     "start_time": "2025-05-15T15:37:59.574248Z"
    }
   },
   "cell_type": "code",
   "source": [
    "# model_name = \"thenlper/gte-small\"\n",
    "# model_name = \"/home/raduf/mnlp-models-rag/06302024/slate.30m.english.rtrvr\"\n",
    "model_name = \"ibm-granite/granite-embedding-30m-english\"\n",
    "model = SentenceTransformer(model_name)\n",
    "max_size = 400\n",
    "stride = 100\n",
    "tiler = TextTiler(max_doc_size=max_size, stride=stride, tokenizer=model.tokenizer, aligned_on_sentences=False, text_trim_to=400)"
   ],
   "id": "eab9fc0cb1a75545",
   "outputs": [
    {
     "name": "stdout",
     "output_type": "stream",
     "text": [
      "ERROR! Session/line number was not unique in database. History logging moved to new session 21\n"
     ]
    },
    {
     "name": "stderr",
     "output_type": "stream",
     "text": [
      "Traceback (most recent call last):\n",
      "  File \"/home/raduf/.local/share/JetBrains/Toolbox/apps/pycharm-professional/plugins/python-ce/helpers/pydev/_pydevd_bundle/pydevd_comm.py\", line 744, in make_thread_stack_str\n",
      "    if is_real_file(my_file) and not is_jup_cell:\n",
      "       ^^^^^^^^^^^^^^^^^^^^^\n",
      "  File \"/home/raduf/.local/share/JetBrains/Toolbox/apps/pycharm-professional/plugins/python-ce/helpers/pydev/pydevd_file_utils.py\", line 559, in is_real_file\n",
      "    return not _is_int(filename) and not filename.startswith(\"<ipython-input\")\n",
      "                                         ^^^^^^^^^^^^^^^^^^^\n",
      "AttributeError: 'tuple' object has no attribute 'startswith'\n"
     ]
    }
   ],
   "execution_count": null
  },
  {
   "metadata": {},
   "cell_type": "code",
   "source": [
    "\n",
    "# datadir=\"data/clapnq_small\"\n",
    "datadir=\"data/long_example\""
   ],
   "id": "7bd8afacca249937",
   "outputs": [],
   "execution_count": null
  },
  {
   "metadata": {},
   "cell_type": "code",
   "source": [
    "file = \"Long programmatic PDF.md\"\n",
    "if file == \"passages.tsv\":\n",
    "     import pandas as pd\n",
    "     data = pd.read_csv(os.path.join(datadir, \"passages.tsv\"), sep=\"\\t\")\n",
    "     sents = data['text']\n",
    "elif file == \"Long programmatic PDF.md\":\n",
    "    sents = [\"\".join(open_stream(os.path.join(datadir, \"Long programmatic PDF.md\")).readlines())]"
   ],
   "id": "1fc43649f9f01481",
   "outputs": [],
   "execution_count": null
  },
  {
   "metadata": {},
   "cell_type": "code",
   "source": "sents[0][:1000]",
   "id": "24d6cdde108e525",
   "outputs": [],
   "execution_count": null
  },
  {
   "metadata": {},
   "cell_type": "code",
   "source": "tiler.tokenizer.cls_token",
   "id": "ec8a605ec1225711",
   "outputs": [],
   "execution_count": null
  },
  {
   "metadata": {},
   "cell_type": "code",
   "source": "tiled_data = [tiler.create_tiles(i, txt, '', max_doc_size=512, stride=100, title_handling=\"none\") for i, txt in enumerate(sents)]",
   "id": "5cd5bf94ce691d6",
   "outputs": [],
   "execution_count": null
  },
  {
   "metadata": {},
   "cell_type": "code",
   "source": "tiled_data[0][:10]",
   "id": "b34e7db6efcedf29",
   "outputs": [],
   "execution_count": null
  },
  {
   "metadata": {},
   "cell_type": "markdown",
   "source": "# Run the tiler in parallel",
   "id": "a03833d6b51b00af"
  },
  {
   "metadata": {},
   "cell_type": "code",
   "source": [
    "from docuverse.utils import parallel_process\n",
    "\n",
    "def proc_text(item):\n",
    "     res = tiler.create_tiles(item['id'], item['text'], item['title'])\n",
    "     item['result'] = res\n",
    "     return item\n",
    "\n",
    "res = parallel_process(proc_text, [{'id': i, 'text': txt, 'title': f\"Title for item {i}\"} for i, txt in enumerate(sents[:100])], num_threads=10)"
   ],
   "id": "284c76e773746a13",
   "outputs": [],
   "execution_count": null
  },
  {
   "metadata": {},
   "cell_type": "code",
   "source": "res",
   "id": "b2c87bbd2be7615e",
   "outputs": [],
   "execution_count": null
  }
 ],
 "metadata": {
  "kernelspec": {
   "display_name": "Python 3",
   "language": "python",
   "name": "python3"
  },
  "language_info": {
   "codemirror_mode": {
    "name": "ipython",
    "version": 2
   },
   "file_extension": ".py",
   "mimetype": "text/x-python",
   "name": "python",
   "nbconvert_exporter": "python",
   "pygments_lexer": "ipython2",
   "version": "2.7.6"
  }
 },
 "nbformat": 4,
 "nbformat_minor": 5
}
