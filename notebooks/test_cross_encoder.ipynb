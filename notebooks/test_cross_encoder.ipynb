{
 "cells": [
  {
   "cell_type": "code",
   "id": "ad7c7d1fa60b3a15",
   "metadata": {
    "ExecuteTime": {
     "end_time": "2025-04-17T21:31:50.046269Z",
     "start_time": "2025-04-17T21:31:48.749859Z"
    }
   },
   "source": [
    "import torch\n",
    "torch.cuda.is_available()"
   ],
   "outputs": [
    {
     "data": {
      "text/plain": [
       "True"
      ]
     },
     "execution_count": 1,
     "metadata": {},
     "output_type": "execute_result"
    }
   ],
   "execution_count": 1
  },
  {
   "metadata": {
    "ExecuteTime": {
     "end_time": "2025-04-17T21:34:35.583471Z",
     "start_time": "2025-04-17T21:34:32.968072Z"
    }
   },
   "cell_type": "code",
   "source": [
    "from docuverse.engines.reranking.cross_encoder_reranker import CrossEncoderModel\n",
    "from sentence_transformers.cross_encoder import CrossEncoder\n",
    "# model = CrossEncoderModel(model_name_or_path=\"/home/raduf/sandbox2/docuverse/models/reranker_125m_16Apr25\", device=\"cuda\")\n",
    "model = CrossEncoder(model_name_or_path=\"/home/raduf/sandbox2/docuverse/models/reranker_125m_16Apr25\", device=\"cuda\", tokenizer_kwargs={'model_max_length': 512})"
   ],
   "id": "initial_id",
   "outputs": [],
   "execution_count": 1
  },
  {
   "metadata": {
    "ExecuteTime": {
     "end_time": "2025-04-17T21:34:40.987727Z",
     "start_time": "2025-04-17T21:34:40.985100Z"
    }
   },
   "cell_type": "code",
   "source": "texts = [\"This is a sentence\"]",
   "id": "e2816ed98c21320c",
   "outputs": [],
   "execution_count": 2
  },
  {
   "metadata": {
    "ExecuteTime": {
     "end_time": "2025-04-17T21:34:41.227036Z",
     "start_time": "2025-04-17T21:34:41.224484Z"
    }
   },
   "cell_type": "code",
   "source": [
    "docs = [\n",
    "    \"Artificial intelligence was founded as an academic discipline in 1956.\",\n",
    "    \"Alan Turing was the first person to conduct substantial research in AI.\",\n",
    "    \"Born in Maida Vale, London, Turing was raised in southern England.\",\n",
    "]\n",
    "queries = [\n",
    "      \"When was artificial intelligence founded\",\n",
    "      \"Where was Turing born?\"\n",
    "]"
   ],
   "id": "56f67f8faa1a314f",
   "outputs": [],
   "execution_count": 3
  },
  {
   "metadata": {
    "ExecuteTime": {
     "end_time": "2025-04-17T21:34:42.714621Z",
     "start_time": "2025-04-17T21:34:42.422531Z"
    }
   },
   "cell_type": "code",
   "source": "sim = [model.predict([[query, doc*200] for doc in docs]) for query in queries]",
   "id": "94f655072777d91c",
   "outputs": [],
   "execution_count": 4
  },
  {
   "metadata": {
    "ExecuteTime": {
     "end_time": "2025-04-17T21:06:37.506923Z",
     "start_time": "2025-04-17T21:06:37.471175Z"
    }
   },
   "cell_type": "code",
   "source": "sim",
   "id": "f69ad4c7c0f1bf2d",
   "outputs": [
    {
     "data": {
      "text/plain": [
       "[array([9.9748957e-01, 8.0264790e-04, 3.2529175e-02], dtype=float32),\n",
       " array([7.4715877e-04, 1.0492346e-03, 9.9720216e-01], dtype=float32)]"
      ]
     },
     "execution_count": 46,
     "metadata": {},
     "output_type": "execute_result"
    }
   ],
   "execution_count": 46
  },
  {
   "metadata": {},
   "cell_type": "code",
   "outputs": [],
   "execution_count": null,
   "source": "",
   "id": "e723fa0d73f5c48a"
  }
 ],
 "metadata": {
  "kernelspec": {
   "display_name": "Python 3",
   "language": "python",
   "name": "python3"
  },
  "language_info": {
   "codemirror_mode": {
    "name": "ipython",
    "version": 2
   },
   "file_extension": ".py",
   "mimetype": "text/x-python",
   "name": "python",
   "nbconvert_exporter": "python",
   "pygments_lexer": "ipython2",
   "version": "2.7.6"
  }
 },
 "nbformat": 4,
 "nbformat_minor": 5
}
