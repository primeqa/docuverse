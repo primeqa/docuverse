{
 "cells": [
  {
   "metadata": {},
   "cell_type": "code",
   "outputs": [],
   "execution_count": null,
   "source": [
    "import pandas as pd\n",
    "import random\n",
    "import os\n",
    "from tqdm.notebook import tqdm"
   ],
   "id": "580e1bb231eb0af3"
  },
  {
   "metadata": {},
   "cell_type": "code",
   "outputs": [],
   "execution_count": null,
   "source": [
    "dir=\"/local3/brave\"\n",
    "parquet_list=os.path.join(dir, \"parquet.fof\")"
   ],
   "id": "bb26bdeb83835a43"
  },
  {
   "metadata": {},
   "cell_type": "code",
   "outputs": [],
   "execution_count": null,
   "source": [
    "num_tries = 20\n",
    "files = [s.strip() for s in open(parquet_list).readlines()]"
   ],
   "id": "b05b591f8335cae1"
  },
  {
   "metadata": {},
   "cell_type": "code",
   "outputs": [],
   "execution_count": null,
   "source": [
    "def add_data(d):\n",
    "    list = []\n",
    "    for i, item in d[d['language']=='en'][d['page_text']!=\"\"].iterrows():\n",
    "        dct = {}\n",
    "        dct.update(item)\n",
    "        list.append(item)\n",
    "    return list\n"
   ],
   "id": "d5a9c06b4e995afa"
  },
  {
   "metadata": {},
   "cell_type": "code",
   "outputs": [],
   "execution_count": null,
   "source": [
    "seen_files = {}\n",
    "selected = []\n",
    "for i in tqdm(range(num_tries)):\n",
    "    while True:\n",
    "        file = files[random.randint(0,len(files)-1)]\n",
    "        if file not in seen_files:\n",
    "            seen_files[file] = file\n",
    "            break\n",
    "    dt = pd.read_parquet(os.path.join(dir, file))\n",
    "    selected.append(add_data(dt))"
   ],
   "id": "3b7a273f90e5c4cb"
  },
  {
   "metadata": {},
   "cell_type": "code",
   "outputs": [],
   "execution_count": null,
   "source": "len(selected)",
   "id": "3b0216dbea837017"
  },
  {
   "metadata": {},
   "cell_type": "code",
   "outputs": [],
   "execution_count": null,
   "source": "outd=pd.DataFrame(selected)",
   "id": "fadc680131fa185"
  },
  {
   "metadata": {},
   "cell_type": "code",
   "outputs": [],
   "execution_count": null,
   "source": [
    "s=[]\n",
    "for ss in selected:\n",
    "    s.extend(ss)"
   ],
   "id": "c59a3efc2d5c5f75"
  },
  {
   "metadata": {},
   "cell_type": "code",
   "outputs": [],
   "execution_count": null,
   "source": "len(s)",
   "id": "469f6a1bd1aab85a"
  },
  {
   "metadata": {},
   "cell_type": "code",
   "outputs": [],
   "execution_count": null,
   "source": "outd=pd.DataFrame(s)",
   "id": "f528b062c157e5e9"
  },
  {
   "metadata": {},
   "cell_type": "code",
   "outputs": [],
   "execution_count": null,
   "source": "len(outd)",
   "id": "7abdfd6355f8958d"
  },
  {
   "metadata": {},
   "cell_type": "code",
   "outputs": [],
   "execution_count": null,
   "source": "outd.keys()",
   "id": "493ffc36238955a8"
  },
  {
   "metadata": {},
   "cell_type": "code",
   "outputs": [],
   "execution_count": null,
   "source": "outd.to_parquet(os.path.join(dir, \"selected_en.parquet\"))",
   "id": "4521f6ee0fe403aa"
  },
  {
   "metadata": {},
   "cell_type": "code",
   "outputs": [],
   "execution_count": null,
   "source": "df=pd.read_parquet(os.path.join(dir, \"selected_en.parquet\"))",
   "id": "1e071320b3f9e857"
  },
  {
   "metadata": {},
   "cell_type": "code",
   "outputs": [],
   "execution_count": null,
   "source": "len(df)",
   "id": "58f5f2ff0090aa53"
  },
  {
   "metadata": {},
   "cell_type": "code",
   "outputs": [],
   "execution_count": null,
   "source": "",
   "id": "9a2eb554a576db0f"
  }
 ],
 "metadata": {},
 "nbformat": 4,
 "nbformat_minor": 5
}
